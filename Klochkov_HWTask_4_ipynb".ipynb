{
  "nbformat": 4,
  "nbformat_minor": 0,
  "metadata": {
    "kernelspec": {
      "display_name": "Python 3",
      "language": "python",
      "name": "python3"
    },
    "language_info": {
      "codemirror_mode": {
        "name": "ipython",
        "version": 3
      },
      "file_extension": ".py",
      "mimetype": "text/x-python",
      "name": "python",
      "nbconvert_exporter": "python",
      "pygments_lexer": "ipython3",
      "version": "3.7.3"
    },
    "colab": {
      "name": "Klochkov_HWTask 4.ipynb\"",
      "provenance": [],
      "collapsed_sections": [],
      "include_colab_link": true
    }
  },
  "cells": [
    {
      "cell_type": "markdown",
      "metadata": {
        "id": "view-in-github",
        "colab_type": "text"
      },
      "source": [
        "<a href=\"https://colab.research.google.com/github/Mikhail-Klochkov/ml_intro/blob/master/Klochkov_HWTask_4_ipynb%22.ipynb\" target=\"_parent\"><img src=\"https://colab.research.google.com/assets/colab-badge.svg\" alt=\"Open In Colab\"/></a>"
      ]
    },
    {
      "cell_type": "markdown",
      "metadata": {
        "id": "yTHmEbHJdETV"
      },
      "source": [
        "# Домашнее задание\n",
        "\n",
        "Всего у вас 2 домашних задания:\n",
        "\n",
        "### 1) Бинарная классификация на примере детекции фрода на кредитных картах (6 баллов)\n",
        "(в этом файле)\n",
        "\n",
        "### 2) Небинарная классификация на вашем датасете (6 баллов)\n",
        "(тоже в этом файле)\n",
        "\n",
        "# 1 - Бинарная классификация на примере детекции фрода на кредитных картах (суммарно 6 баллов)\n",
        "У вас есть информация о множесте транзакций. Вам нужно научиться предсказывать, какие из них мошеннические, а какие нет."
      ]
    },
    {
      "cell_type": "markdown",
      "metadata": {
        "id": "-ZoNXVkjdETg"
      },
      "source": [
        "### (1 балл) Считайте данные\n",
        "Сами считайте и предобработайте, если надо, данные из файла creditcard.csv"
      ]
    },
    {
      "cell_type": "code",
      "metadata": {
        "colab": {
          "base_uri": "https://localhost:8080/"
        },
        "id": "JI0ikaR68ozt",
        "outputId": "d8a50041-3ece-4f14-84c6-23ba11ef0a34"
      },
      "source": [
        "from google.colab import drive\n",
        "drive.mount('/content/drive')"
      ],
      "execution_count": null,
      "outputs": [
        {
          "output_type": "stream",
          "text": [
            "Drive already mounted at /content/drive; to attempt to forcibly remount, call drive.mount(\"/content/drive\", force_remount=True).\n"
          ],
          "name": "stdout"
        }
      ]
    },
    {
      "cell_type": "code",
      "metadata": {
        "colab": {
          "base_uri": "https://localhost:8080/"
        },
        "id": "RJj6XKQt5T9v",
        "outputId": "f4e9556c-57fe-4b53-be40-d8fbf9aa3a1f"
      },
      "source": [
        "! unzip '/content/drive/MyDrive/Colab_Notebooks/archive.zip' -d data\n"
      ],
      "execution_count": null,
      "outputs": [
        {
          "output_type": "stream",
          "text": [
            "Archive:  /content/drive/MyDrive/Colab_Notebooks/archive.zip\n",
            "replace data/creditcard.csv? [y]es, [n]o, [A]ll, [N]one, [r]ename: "
          ],
          "name": "stdout"
        }
      ]
    },
    {
      "cell_type": "code",
      "metadata": {
        "id": "_C1CUHsZ8usL"
      },
      "source": [
        "import numpy as np\n",
        "import pandas as pd\n",
        "import matplotlib.pyplot as plt\n",
        "import seaborn as sns\n",
        "\n",
        "from sklearn.model_selection import train_test_split, cross_val_score\n",
        "from sklearn.linear_model import LogisticRegression\n",
        "from sklearn.dummy import DummyClassifier\n",
        "from sklearn.metrics import accuracy_score, f1_score, confusion_matrix, recall_score\n",
        "from sklearn.model_selection import KFold, StratifiedKFold, RepeatedStratifiedKFold\n",
        "\n",
        "import warnings\n",
        "warnings.filterwarnings('ignore')"
      ],
      "execution_count": null,
      "outputs": []
    },
    {
      "cell_type": "code",
      "metadata": {
        "id": "028KUrji8Y3y"
      },
      "source": [
        "df = pd.read_csv('data/creditcard.csv')"
      ],
      "execution_count": null,
      "outputs": []
    },
    {
      "cell_type": "code",
      "metadata": {
        "colab": {
          "base_uri": "https://localhost:8080/",
          "height": 218
        },
        "id": "yDH-dtAv8tnO",
        "outputId": "5233be58-9f8a-4835-a7e3-f19e1f2b94d1"
      },
      "source": [
        "df.head()"
      ],
      "execution_count": null,
      "outputs": [
        {
          "output_type": "execute_result",
          "data": {
            "text/html": [
              "<div>\n",
              "<style scoped>\n",
              "    .dataframe tbody tr th:only-of-type {\n",
              "        vertical-align: middle;\n",
              "    }\n",
              "\n",
              "    .dataframe tbody tr th {\n",
              "        vertical-align: top;\n",
              "    }\n",
              "\n",
              "    .dataframe thead th {\n",
              "        text-align: right;\n",
              "    }\n",
              "</style>\n",
              "<table border=\"1\" class=\"dataframe\">\n",
              "  <thead>\n",
              "    <tr style=\"text-align: right;\">\n",
              "      <th></th>\n",
              "      <th>Time</th>\n",
              "      <th>V1</th>\n",
              "      <th>V2</th>\n",
              "      <th>V3</th>\n",
              "      <th>V4</th>\n",
              "      <th>V5</th>\n",
              "      <th>V6</th>\n",
              "      <th>V7</th>\n",
              "      <th>V8</th>\n",
              "      <th>V9</th>\n",
              "      <th>V10</th>\n",
              "      <th>V11</th>\n",
              "      <th>V12</th>\n",
              "      <th>V13</th>\n",
              "      <th>V14</th>\n",
              "      <th>V15</th>\n",
              "      <th>V16</th>\n",
              "      <th>V17</th>\n",
              "      <th>V18</th>\n",
              "      <th>V19</th>\n",
              "      <th>V20</th>\n",
              "      <th>V21</th>\n",
              "      <th>V22</th>\n",
              "      <th>V23</th>\n",
              "      <th>V24</th>\n",
              "      <th>V25</th>\n",
              "      <th>V26</th>\n",
              "      <th>V27</th>\n",
              "      <th>V28</th>\n",
              "      <th>Amount</th>\n",
              "      <th>Class</th>\n",
              "    </tr>\n",
              "  </thead>\n",
              "  <tbody>\n",
              "    <tr>\n",
              "      <th>0</th>\n",
              "      <td>0.0</td>\n",
              "      <td>-1.359807</td>\n",
              "      <td>-0.072781</td>\n",
              "      <td>2.536347</td>\n",
              "      <td>1.378155</td>\n",
              "      <td>-0.338321</td>\n",
              "      <td>0.462388</td>\n",
              "      <td>0.239599</td>\n",
              "      <td>0.098698</td>\n",
              "      <td>0.363787</td>\n",
              "      <td>0.090794</td>\n",
              "      <td>-0.551600</td>\n",
              "      <td>-0.617801</td>\n",
              "      <td>-0.991390</td>\n",
              "      <td>-0.311169</td>\n",
              "      <td>1.468177</td>\n",
              "      <td>-0.470401</td>\n",
              "      <td>0.207971</td>\n",
              "      <td>0.025791</td>\n",
              "      <td>0.403993</td>\n",
              "      <td>0.251412</td>\n",
              "      <td>-0.018307</td>\n",
              "      <td>0.277838</td>\n",
              "      <td>-0.110474</td>\n",
              "      <td>0.066928</td>\n",
              "      <td>0.128539</td>\n",
              "      <td>-0.189115</td>\n",
              "      <td>0.133558</td>\n",
              "      <td>-0.021053</td>\n",
              "      <td>149.62</td>\n",
              "      <td>0</td>\n",
              "    </tr>\n",
              "    <tr>\n",
              "      <th>1</th>\n",
              "      <td>0.0</td>\n",
              "      <td>1.191857</td>\n",
              "      <td>0.266151</td>\n",
              "      <td>0.166480</td>\n",
              "      <td>0.448154</td>\n",
              "      <td>0.060018</td>\n",
              "      <td>-0.082361</td>\n",
              "      <td>-0.078803</td>\n",
              "      <td>0.085102</td>\n",
              "      <td>-0.255425</td>\n",
              "      <td>-0.166974</td>\n",
              "      <td>1.612727</td>\n",
              "      <td>1.065235</td>\n",
              "      <td>0.489095</td>\n",
              "      <td>-0.143772</td>\n",
              "      <td>0.635558</td>\n",
              "      <td>0.463917</td>\n",
              "      <td>-0.114805</td>\n",
              "      <td>-0.183361</td>\n",
              "      <td>-0.145783</td>\n",
              "      <td>-0.069083</td>\n",
              "      <td>-0.225775</td>\n",
              "      <td>-0.638672</td>\n",
              "      <td>0.101288</td>\n",
              "      <td>-0.339846</td>\n",
              "      <td>0.167170</td>\n",
              "      <td>0.125895</td>\n",
              "      <td>-0.008983</td>\n",
              "      <td>0.014724</td>\n",
              "      <td>2.69</td>\n",
              "      <td>0</td>\n",
              "    </tr>\n",
              "    <tr>\n",
              "      <th>2</th>\n",
              "      <td>1.0</td>\n",
              "      <td>-1.358354</td>\n",
              "      <td>-1.340163</td>\n",
              "      <td>1.773209</td>\n",
              "      <td>0.379780</td>\n",
              "      <td>-0.503198</td>\n",
              "      <td>1.800499</td>\n",
              "      <td>0.791461</td>\n",
              "      <td>0.247676</td>\n",
              "      <td>-1.514654</td>\n",
              "      <td>0.207643</td>\n",
              "      <td>0.624501</td>\n",
              "      <td>0.066084</td>\n",
              "      <td>0.717293</td>\n",
              "      <td>-0.165946</td>\n",
              "      <td>2.345865</td>\n",
              "      <td>-2.890083</td>\n",
              "      <td>1.109969</td>\n",
              "      <td>-0.121359</td>\n",
              "      <td>-2.261857</td>\n",
              "      <td>0.524980</td>\n",
              "      <td>0.247998</td>\n",
              "      <td>0.771679</td>\n",
              "      <td>0.909412</td>\n",
              "      <td>-0.689281</td>\n",
              "      <td>-0.327642</td>\n",
              "      <td>-0.139097</td>\n",
              "      <td>-0.055353</td>\n",
              "      <td>-0.059752</td>\n",
              "      <td>378.66</td>\n",
              "      <td>0</td>\n",
              "    </tr>\n",
              "    <tr>\n",
              "      <th>3</th>\n",
              "      <td>1.0</td>\n",
              "      <td>-0.966272</td>\n",
              "      <td>-0.185226</td>\n",
              "      <td>1.792993</td>\n",
              "      <td>-0.863291</td>\n",
              "      <td>-0.010309</td>\n",
              "      <td>1.247203</td>\n",
              "      <td>0.237609</td>\n",
              "      <td>0.377436</td>\n",
              "      <td>-1.387024</td>\n",
              "      <td>-0.054952</td>\n",
              "      <td>-0.226487</td>\n",
              "      <td>0.178228</td>\n",
              "      <td>0.507757</td>\n",
              "      <td>-0.287924</td>\n",
              "      <td>-0.631418</td>\n",
              "      <td>-1.059647</td>\n",
              "      <td>-0.684093</td>\n",
              "      <td>1.965775</td>\n",
              "      <td>-1.232622</td>\n",
              "      <td>-0.208038</td>\n",
              "      <td>-0.108300</td>\n",
              "      <td>0.005274</td>\n",
              "      <td>-0.190321</td>\n",
              "      <td>-1.175575</td>\n",
              "      <td>0.647376</td>\n",
              "      <td>-0.221929</td>\n",
              "      <td>0.062723</td>\n",
              "      <td>0.061458</td>\n",
              "      <td>123.50</td>\n",
              "      <td>0</td>\n",
              "    </tr>\n",
              "    <tr>\n",
              "      <th>4</th>\n",
              "      <td>2.0</td>\n",
              "      <td>-1.158233</td>\n",
              "      <td>0.877737</td>\n",
              "      <td>1.548718</td>\n",
              "      <td>0.403034</td>\n",
              "      <td>-0.407193</td>\n",
              "      <td>0.095921</td>\n",
              "      <td>0.592941</td>\n",
              "      <td>-0.270533</td>\n",
              "      <td>0.817739</td>\n",
              "      <td>0.753074</td>\n",
              "      <td>-0.822843</td>\n",
              "      <td>0.538196</td>\n",
              "      <td>1.345852</td>\n",
              "      <td>-1.119670</td>\n",
              "      <td>0.175121</td>\n",
              "      <td>-0.451449</td>\n",
              "      <td>-0.237033</td>\n",
              "      <td>-0.038195</td>\n",
              "      <td>0.803487</td>\n",
              "      <td>0.408542</td>\n",
              "      <td>-0.009431</td>\n",
              "      <td>0.798278</td>\n",
              "      <td>-0.137458</td>\n",
              "      <td>0.141267</td>\n",
              "      <td>-0.206010</td>\n",
              "      <td>0.502292</td>\n",
              "      <td>0.219422</td>\n",
              "      <td>0.215153</td>\n",
              "      <td>69.99</td>\n",
              "      <td>0</td>\n",
              "    </tr>\n",
              "  </tbody>\n",
              "</table>\n",
              "</div>"
            ],
            "text/plain": [
              "   Time        V1        V2        V3  ...       V27       V28  Amount  Class\n",
              "0   0.0 -1.359807 -0.072781  2.536347  ...  0.133558 -0.021053  149.62      0\n",
              "1   0.0  1.191857  0.266151  0.166480  ... -0.008983  0.014724    2.69      0\n",
              "2   1.0 -1.358354 -1.340163  1.773209  ... -0.055353 -0.059752  378.66      0\n",
              "3   1.0 -0.966272 -0.185226  1.792993  ...  0.062723  0.061458  123.50      0\n",
              "4   2.0 -1.158233  0.877737  1.548718  ...  0.219422  0.215153   69.99      0\n",
              "\n",
              "[5 rows x 31 columns]"
            ]
          },
          "metadata": {
            "tags": []
          },
          "execution_count": 94
        }
      ]
    },
    {
      "cell_type": "code",
      "metadata": {
        "colab": {
          "base_uri": "https://localhost:8080/",
          "height": 218
        },
        "id": "-RDmQFcP9Gus",
        "outputId": "e7e2a90f-b8fb-47e6-e774-ebe3d5c29931"
      },
      "source": [
        "df.tail()"
      ],
      "execution_count": null,
      "outputs": [
        {
          "output_type": "execute_result",
          "data": {
            "text/html": [
              "<div>\n",
              "<style scoped>\n",
              "    .dataframe tbody tr th:only-of-type {\n",
              "        vertical-align: middle;\n",
              "    }\n",
              "\n",
              "    .dataframe tbody tr th {\n",
              "        vertical-align: top;\n",
              "    }\n",
              "\n",
              "    .dataframe thead th {\n",
              "        text-align: right;\n",
              "    }\n",
              "</style>\n",
              "<table border=\"1\" class=\"dataframe\">\n",
              "  <thead>\n",
              "    <tr style=\"text-align: right;\">\n",
              "      <th></th>\n",
              "      <th>Time</th>\n",
              "      <th>V1</th>\n",
              "      <th>V2</th>\n",
              "      <th>V3</th>\n",
              "      <th>V4</th>\n",
              "      <th>V5</th>\n",
              "      <th>V6</th>\n",
              "      <th>V7</th>\n",
              "      <th>V8</th>\n",
              "      <th>V9</th>\n",
              "      <th>V10</th>\n",
              "      <th>V11</th>\n",
              "      <th>V12</th>\n",
              "      <th>V13</th>\n",
              "      <th>V14</th>\n",
              "      <th>V15</th>\n",
              "      <th>V16</th>\n",
              "      <th>V17</th>\n",
              "      <th>V18</th>\n",
              "      <th>V19</th>\n",
              "      <th>V20</th>\n",
              "      <th>V21</th>\n",
              "      <th>V22</th>\n",
              "      <th>V23</th>\n",
              "      <th>V24</th>\n",
              "      <th>V25</th>\n",
              "      <th>V26</th>\n",
              "      <th>V27</th>\n",
              "      <th>V28</th>\n",
              "      <th>Amount</th>\n",
              "      <th>Class</th>\n",
              "    </tr>\n",
              "  </thead>\n",
              "  <tbody>\n",
              "    <tr>\n",
              "      <th>284802</th>\n",
              "      <td>172786.0</td>\n",
              "      <td>-11.881118</td>\n",
              "      <td>10.071785</td>\n",
              "      <td>-9.834783</td>\n",
              "      <td>-2.066656</td>\n",
              "      <td>-5.364473</td>\n",
              "      <td>-2.606837</td>\n",
              "      <td>-4.918215</td>\n",
              "      <td>7.305334</td>\n",
              "      <td>1.914428</td>\n",
              "      <td>4.356170</td>\n",
              "      <td>-1.593105</td>\n",
              "      <td>2.711941</td>\n",
              "      <td>-0.689256</td>\n",
              "      <td>4.626942</td>\n",
              "      <td>-0.924459</td>\n",
              "      <td>1.107641</td>\n",
              "      <td>1.991691</td>\n",
              "      <td>0.510632</td>\n",
              "      <td>-0.682920</td>\n",
              "      <td>1.475829</td>\n",
              "      <td>0.213454</td>\n",
              "      <td>0.111864</td>\n",
              "      <td>1.014480</td>\n",
              "      <td>-0.509348</td>\n",
              "      <td>1.436807</td>\n",
              "      <td>0.250034</td>\n",
              "      <td>0.943651</td>\n",
              "      <td>0.823731</td>\n",
              "      <td>0.77</td>\n",
              "      <td>0</td>\n",
              "    </tr>\n",
              "    <tr>\n",
              "      <th>284803</th>\n",
              "      <td>172787.0</td>\n",
              "      <td>-0.732789</td>\n",
              "      <td>-0.055080</td>\n",
              "      <td>2.035030</td>\n",
              "      <td>-0.738589</td>\n",
              "      <td>0.868229</td>\n",
              "      <td>1.058415</td>\n",
              "      <td>0.024330</td>\n",
              "      <td>0.294869</td>\n",
              "      <td>0.584800</td>\n",
              "      <td>-0.975926</td>\n",
              "      <td>-0.150189</td>\n",
              "      <td>0.915802</td>\n",
              "      <td>1.214756</td>\n",
              "      <td>-0.675143</td>\n",
              "      <td>1.164931</td>\n",
              "      <td>-0.711757</td>\n",
              "      <td>-0.025693</td>\n",
              "      <td>-1.221179</td>\n",
              "      <td>-1.545556</td>\n",
              "      <td>0.059616</td>\n",
              "      <td>0.214205</td>\n",
              "      <td>0.924384</td>\n",
              "      <td>0.012463</td>\n",
              "      <td>-1.016226</td>\n",
              "      <td>-0.606624</td>\n",
              "      <td>-0.395255</td>\n",
              "      <td>0.068472</td>\n",
              "      <td>-0.053527</td>\n",
              "      <td>24.79</td>\n",
              "      <td>0</td>\n",
              "    </tr>\n",
              "    <tr>\n",
              "      <th>284804</th>\n",
              "      <td>172788.0</td>\n",
              "      <td>1.919565</td>\n",
              "      <td>-0.301254</td>\n",
              "      <td>-3.249640</td>\n",
              "      <td>-0.557828</td>\n",
              "      <td>2.630515</td>\n",
              "      <td>3.031260</td>\n",
              "      <td>-0.296827</td>\n",
              "      <td>0.708417</td>\n",
              "      <td>0.432454</td>\n",
              "      <td>-0.484782</td>\n",
              "      <td>0.411614</td>\n",
              "      <td>0.063119</td>\n",
              "      <td>-0.183699</td>\n",
              "      <td>-0.510602</td>\n",
              "      <td>1.329284</td>\n",
              "      <td>0.140716</td>\n",
              "      <td>0.313502</td>\n",
              "      <td>0.395652</td>\n",
              "      <td>-0.577252</td>\n",
              "      <td>0.001396</td>\n",
              "      <td>0.232045</td>\n",
              "      <td>0.578229</td>\n",
              "      <td>-0.037501</td>\n",
              "      <td>0.640134</td>\n",
              "      <td>0.265745</td>\n",
              "      <td>-0.087371</td>\n",
              "      <td>0.004455</td>\n",
              "      <td>-0.026561</td>\n",
              "      <td>67.88</td>\n",
              "      <td>0</td>\n",
              "    </tr>\n",
              "    <tr>\n",
              "      <th>284805</th>\n",
              "      <td>172788.0</td>\n",
              "      <td>-0.240440</td>\n",
              "      <td>0.530483</td>\n",
              "      <td>0.702510</td>\n",
              "      <td>0.689799</td>\n",
              "      <td>-0.377961</td>\n",
              "      <td>0.623708</td>\n",
              "      <td>-0.686180</td>\n",
              "      <td>0.679145</td>\n",
              "      <td>0.392087</td>\n",
              "      <td>-0.399126</td>\n",
              "      <td>-1.933849</td>\n",
              "      <td>-0.962886</td>\n",
              "      <td>-1.042082</td>\n",
              "      <td>0.449624</td>\n",
              "      <td>1.962563</td>\n",
              "      <td>-0.608577</td>\n",
              "      <td>0.509928</td>\n",
              "      <td>1.113981</td>\n",
              "      <td>2.897849</td>\n",
              "      <td>0.127434</td>\n",
              "      <td>0.265245</td>\n",
              "      <td>0.800049</td>\n",
              "      <td>-0.163298</td>\n",
              "      <td>0.123205</td>\n",
              "      <td>-0.569159</td>\n",
              "      <td>0.546668</td>\n",
              "      <td>0.108821</td>\n",
              "      <td>0.104533</td>\n",
              "      <td>10.00</td>\n",
              "      <td>0</td>\n",
              "    </tr>\n",
              "    <tr>\n",
              "      <th>284806</th>\n",
              "      <td>172792.0</td>\n",
              "      <td>-0.533413</td>\n",
              "      <td>-0.189733</td>\n",
              "      <td>0.703337</td>\n",
              "      <td>-0.506271</td>\n",
              "      <td>-0.012546</td>\n",
              "      <td>-0.649617</td>\n",
              "      <td>1.577006</td>\n",
              "      <td>-0.414650</td>\n",
              "      <td>0.486180</td>\n",
              "      <td>-0.915427</td>\n",
              "      <td>-1.040458</td>\n",
              "      <td>-0.031513</td>\n",
              "      <td>-0.188093</td>\n",
              "      <td>-0.084316</td>\n",
              "      <td>0.041333</td>\n",
              "      <td>-0.302620</td>\n",
              "      <td>-0.660377</td>\n",
              "      <td>0.167430</td>\n",
              "      <td>-0.256117</td>\n",
              "      <td>0.382948</td>\n",
              "      <td>0.261057</td>\n",
              "      <td>0.643078</td>\n",
              "      <td>0.376777</td>\n",
              "      <td>0.008797</td>\n",
              "      <td>-0.473649</td>\n",
              "      <td>-0.818267</td>\n",
              "      <td>-0.002415</td>\n",
              "      <td>0.013649</td>\n",
              "      <td>217.00</td>\n",
              "      <td>0</td>\n",
              "    </tr>\n",
              "  </tbody>\n",
              "</table>\n",
              "</div>"
            ],
            "text/plain": [
              "            Time         V1         V2  ...       V28  Amount  Class\n",
              "284802  172786.0 -11.881118  10.071785  ...  0.823731    0.77      0\n",
              "284803  172787.0  -0.732789  -0.055080  ... -0.053527   24.79      0\n",
              "284804  172788.0   1.919565  -0.301254  ... -0.026561   67.88      0\n",
              "284805  172788.0  -0.240440   0.530483  ...  0.104533   10.00      0\n",
              "284806  172792.0  -0.533413  -0.189733  ...  0.013649  217.00      0\n",
              "\n",
              "[5 rows x 31 columns]"
            ]
          },
          "metadata": {
            "tags": []
          },
          "execution_count": 95
        }
      ]
    },
    {
      "cell_type": "markdown",
      "metadata": {
        "id": "_HleESd0dETl"
      },
      "source": [
        "### (2 балла) Обучите несколько моделей, посмотрите на метрики.\n",
        "Как модели точно возьмите LogisticRegression, KNN и константу, можете придумать еще какие-нибудь.\n",
        "\n",
        "Как метрики точно возьмите accuracy, precision, recall, f1, roc_auc. Постройте ROC-кривую."
      ]
    },
    {
      "cell_type": "code",
      "metadata": {
        "id": "ew_k9UrA-8WN"
      },
      "source": [
        "from sklearn.neighbors  import KNeighborsClassifier\n",
        "from functools import reduce"
      ],
      "execution_count": null,
      "outputs": []
    },
    {
      "cell_type": "markdown",
      "metadata": {
        "id": "b8c5laZLyOwB"
      },
      "source": [
        "Ниже функции для перерасчета времени в формат: дни, часы, минуты, секунды. В данном случае часы важнее, так как определённо должна быть периодичность определённая транзакций в дневное и ночное время.\n",
        "\n",
        "Это надо как-то использовать!"
      ]
    },
    {
      "cell_type": "code",
      "metadata": {
        "id": "vTOeVHnwdETl",
        "colab": {
          "base_uri": "https://localhost:8080/"
        },
        "outputId": "dcbccf31-5a0d-4826-a734-dec1bdd8bc3b"
      },
      "source": [
        "def time_represent(seconds, days = False):\n",
        "  # get seconds and transform to (h, m, s)\n",
        "  minutes_ = int(seconds//60)\n",
        "  seconds_ = int(seconds % 60)\n",
        "  hours_ = int(minutes_ // 60)\n",
        "  minutes_ = int(minutes_ % 60) \n",
        "\n",
        "  if (days):\n",
        "    days_ = int(hours_//24)\n",
        "    hours_ = int(hours_ % 24)\n",
        "    return days_, hours_, minutes_, seconds_\n",
        "  else:\n",
        "    return hours_, minutes_, seconds_\n",
        "\n",
        "def get_days(seconds):\n",
        "  return int(seconds // (60 * 60 * 24))\n",
        "\n",
        "\n",
        "class Time():\n",
        "\n",
        "  def __init__(self, seconds, days = False):\n",
        "    time_list = time_represent(seconds, days = days)\n",
        "    self._d, self._h, self._m, self._s = time_list\n",
        "  \n",
        "  def get_d(self):\n",
        "    return self._d\n",
        "\n",
        "  def get_h(self):\n",
        "    return self._h\n",
        "\n",
        "  def get_m(self):\n",
        "    return self._m\n",
        "\n",
        "  def get_s(self):\n",
        "    return self._s\n",
        " \n",
        "\n",
        "t = Time(time_last, days = True)\n",
        "time_represent(time_last, days = True)"
      ],
      "execution_count": null,
      "outputs": [
        {
          "output_type": "execute_result",
          "data": {
            "text/plain": [
              "(1, 23, 59, 52)"
            ]
          },
          "metadata": {
            "tags": []
          },
          "execution_count": 226
        }
      ]
    },
    {
      "cell_type": "code",
      "metadata": {
        "colab": {
          "base_uri": "https://localhost:8080/"
        },
        "id": "O5zqKaRmeC2c",
        "outputId": "46d64207-ca06-454b-b682-ecb607919b35"
      },
      "source": [
        "new_features = ['t_' + t for t in ['d', 'h', 'm', 's']]\n",
        "new_features"
      ],
      "execution_count": null,
      "outputs": [
        {
          "output_type": "execute_result",
          "data": {
            "text/plain": [
              "['t_d', 't_h', 't_m', 't_s']"
            ]
          },
          "metadata": {
            "tags": []
          },
          "execution_count": 98
        }
      ]
    },
    {
      "cell_type": "code",
      "metadata": {
        "id": "sgyvIULVhWrH"
      },
      "source": [
        "df_copy = df.copy(deep = True)"
      ],
      "execution_count": null,
      "outputs": []
    },
    {
      "cell_type": "code",
      "metadata": {
        "id": "cFIkPo-qeSGE"
      },
      "source": [
        "idx = 0\n",
        "def get_d(s):\n",
        "  t = Time(s, days = True)\n",
        "  return t.get_d()\n",
        "\n",
        "\n",
        "def get_h(s):\n",
        "  t = Time(s, days = True)\n",
        "  return t.get_h()\n",
        "\n",
        "  \n",
        "def get_m(s):\n",
        "  t = Time(s, days = True)\n",
        "  return t.get_m()\n",
        "\n",
        "\n",
        "def get_s(s):\n",
        "  t = Time(s, days = True)\n",
        "  return t.get_s()\n"
      ],
      "execution_count": null,
      "outputs": []
    },
    {
      "cell_type": "markdown",
      "metadata": {
        "id": "jvXWDcgfyruV"
      },
      "source": [
        "Добавляем новые фичи с временем: дни, часы, минуты, секунды с ммента первой транзакции."
      ]
    },
    {
      "cell_type": "code",
      "metadata": {
        "id": "w7BrK0q-jTqQ"
      },
      "source": [
        "idx = 0\n",
        "df[new_features[idx]] = df.Time.apply(lambda s: get_d(s))\n",
        "\n",
        "idx = 1\n",
        "df[new_features[idx]] = df.Time.apply(lambda s: get_h(s))\n",
        "\n",
        "idx = 2\n",
        "df[new_features[idx]] = df.Time.apply(lambda s: get_m(s))\n",
        "\n",
        "idx = 3\n",
        "df[new_features[idx]] = df.Time.apply(lambda s: get_s(s))"
      ],
      "execution_count": null,
      "outputs": []
    },
    {
      "cell_type": "code",
      "metadata": {
        "colab": {
          "base_uri": "https://localhost:8080/",
          "height": 218
        },
        "id": "SsnEPEbWAnHU",
        "outputId": "08fd8ff7-df04-47e6-eead-d75d85c2a7ac"
      },
      "source": [
        "# look at the Amount column\n",
        "df.head()"
      ],
      "execution_count": null,
      "outputs": [
        {
          "output_type": "execute_result",
          "data": {
            "text/html": [
              "<div>\n",
              "<style scoped>\n",
              "    .dataframe tbody tr th:only-of-type {\n",
              "        vertical-align: middle;\n",
              "    }\n",
              "\n",
              "    .dataframe tbody tr th {\n",
              "        vertical-align: top;\n",
              "    }\n",
              "\n",
              "    .dataframe thead th {\n",
              "        text-align: right;\n",
              "    }\n",
              "</style>\n",
              "<table border=\"1\" class=\"dataframe\">\n",
              "  <thead>\n",
              "    <tr style=\"text-align: right;\">\n",
              "      <th></th>\n",
              "      <th>Time</th>\n",
              "      <th>V1</th>\n",
              "      <th>V2</th>\n",
              "      <th>V3</th>\n",
              "      <th>V4</th>\n",
              "      <th>V5</th>\n",
              "      <th>V6</th>\n",
              "      <th>V7</th>\n",
              "      <th>V8</th>\n",
              "      <th>V9</th>\n",
              "      <th>V10</th>\n",
              "      <th>V11</th>\n",
              "      <th>V12</th>\n",
              "      <th>V13</th>\n",
              "      <th>V14</th>\n",
              "      <th>V15</th>\n",
              "      <th>V16</th>\n",
              "      <th>V17</th>\n",
              "      <th>V18</th>\n",
              "      <th>V19</th>\n",
              "      <th>V20</th>\n",
              "      <th>V21</th>\n",
              "      <th>V22</th>\n",
              "      <th>V23</th>\n",
              "      <th>V24</th>\n",
              "      <th>V25</th>\n",
              "      <th>V26</th>\n",
              "      <th>V27</th>\n",
              "      <th>V28</th>\n",
              "      <th>Amount</th>\n",
              "      <th>Class</th>\n",
              "      <th>t_d</th>\n",
              "      <th>t_h</th>\n",
              "      <th>t_m</th>\n",
              "      <th>t_s</th>\n",
              "    </tr>\n",
              "  </thead>\n",
              "  <tbody>\n",
              "    <tr>\n",
              "      <th>0</th>\n",
              "      <td>0.0</td>\n",
              "      <td>-1.359807</td>\n",
              "      <td>-0.072781</td>\n",
              "      <td>2.536347</td>\n",
              "      <td>1.378155</td>\n",
              "      <td>-0.338321</td>\n",
              "      <td>0.462388</td>\n",
              "      <td>0.239599</td>\n",
              "      <td>0.098698</td>\n",
              "      <td>0.363787</td>\n",
              "      <td>0.090794</td>\n",
              "      <td>-0.551600</td>\n",
              "      <td>-0.617801</td>\n",
              "      <td>-0.991390</td>\n",
              "      <td>-0.311169</td>\n",
              "      <td>1.468177</td>\n",
              "      <td>-0.470401</td>\n",
              "      <td>0.207971</td>\n",
              "      <td>0.025791</td>\n",
              "      <td>0.403993</td>\n",
              "      <td>0.251412</td>\n",
              "      <td>-0.018307</td>\n",
              "      <td>0.277838</td>\n",
              "      <td>-0.110474</td>\n",
              "      <td>0.066928</td>\n",
              "      <td>0.128539</td>\n",
              "      <td>-0.189115</td>\n",
              "      <td>0.133558</td>\n",
              "      <td>-0.021053</td>\n",
              "      <td>149.62</td>\n",
              "      <td>0</td>\n",
              "      <td>0</td>\n",
              "      <td>0</td>\n",
              "      <td>0</td>\n",
              "      <td>0</td>\n",
              "    </tr>\n",
              "    <tr>\n",
              "      <th>1</th>\n",
              "      <td>0.0</td>\n",
              "      <td>1.191857</td>\n",
              "      <td>0.266151</td>\n",
              "      <td>0.166480</td>\n",
              "      <td>0.448154</td>\n",
              "      <td>0.060018</td>\n",
              "      <td>-0.082361</td>\n",
              "      <td>-0.078803</td>\n",
              "      <td>0.085102</td>\n",
              "      <td>-0.255425</td>\n",
              "      <td>-0.166974</td>\n",
              "      <td>1.612727</td>\n",
              "      <td>1.065235</td>\n",
              "      <td>0.489095</td>\n",
              "      <td>-0.143772</td>\n",
              "      <td>0.635558</td>\n",
              "      <td>0.463917</td>\n",
              "      <td>-0.114805</td>\n",
              "      <td>-0.183361</td>\n",
              "      <td>-0.145783</td>\n",
              "      <td>-0.069083</td>\n",
              "      <td>-0.225775</td>\n",
              "      <td>-0.638672</td>\n",
              "      <td>0.101288</td>\n",
              "      <td>-0.339846</td>\n",
              "      <td>0.167170</td>\n",
              "      <td>0.125895</td>\n",
              "      <td>-0.008983</td>\n",
              "      <td>0.014724</td>\n",
              "      <td>2.69</td>\n",
              "      <td>0</td>\n",
              "      <td>0</td>\n",
              "      <td>0</td>\n",
              "      <td>0</td>\n",
              "      <td>0</td>\n",
              "    </tr>\n",
              "    <tr>\n",
              "      <th>2</th>\n",
              "      <td>1.0</td>\n",
              "      <td>-1.358354</td>\n",
              "      <td>-1.340163</td>\n",
              "      <td>1.773209</td>\n",
              "      <td>0.379780</td>\n",
              "      <td>-0.503198</td>\n",
              "      <td>1.800499</td>\n",
              "      <td>0.791461</td>\n",
              "      <td>0.247676</td>\n",
              "      <td>-1.514654</td>\n",
              "      <td>0.207643</td>\n",
              "      <td>0.624501</td>\n",
              "      <td>0.066084</td>\n",
              "      <td>0.717293</td>\n",
              "      <td>-0.165946</td>\n",
              "      <td>2.345865</td>\n",
              "      <td>-2.890083</td>\n",
              "      <td>1.109969</td>\n",
              "      <td>-0.121359</td>\n",
              "      <td>-2.261857</td>\n",
              "      <td>0.524980</td>\n",
              "      <td>0.247998</td>\n",
              "      <td>0.771679</td>\n",
              "      <td>0.909412</td>\n",
              "      <td>-0.689281</td>\n",
              "      <td>-0.327642</td>\n",
              "      <td>-0.139097</td>\n",
              "      <td>-0.055353</td>\n",
              "      <td>-0.059752</td>\n",
              "      <td>378.66</td>\n",
              "      <td>0</td>\n",
              "      <td>0</td>\n",
              "      <td>0</td>\n",
              "      <td>0</td>\n",
              "      <td>1</td>\n",
              "    </tr>\n",
              "    <tr>\n",
              "      <th>3</th>\n",
              "      <td>1.0</td>\n",
              "      <td>-0.966272</td>\n",
              "      <td>-0.185226</td>\n",
              "      <td>1.792993</td>\n",
              "      <td>-0.863291</td>\n",
              "      <td>-0.010309</td>\n",
              "      <td>1.247203</td>\n",
              "      <td>0.237609</td>\n",
              "      <td>0.377436</td>\n",
              "      <td>-1.387024</td>\n",
              "      <td>-0.054952</td>\n",
              "      <td>-0.226487</td>\n",
              "      <td>0.178228</td>\n",
              "      <td>0.507757</td>\n",
              "      <td>-0.287924</td>\n",
              "      <td>-0.631418</td>\n",
              "      <td>-1.059647</td>\n",
              "      <td>-0.684093</td>\n",
              "      <td>1.965775</td>\n",
              "      <td>-1.232622</td>\n",
              "      <td>-0.208038</td>\n",
              "      <td>-0.108300</td>\n",
              "      <td>0.005274</td>\n",
              "      <td>-0.190321</td>\n",
              "      <td>-1.175575</td>\n",
              "      <td>0.647376</td>\n",
              "      <td>-0.221929</td>\n",
              "      <td>0.062723</td>\n",
              "      <td>0.061458</td>\n",
              "      <td>123.50</td>\n",
              "      <td>0</td>\n",
              "      <td>0</td>\n",
              "      <td>0</td>\n",
              "      <td>0</td>\n",
              "      <td>1</td>\n",
              "    </tr>\n",
              "    <tr>\n",
              "      <th>4</th>\n",
              "      <td>2.0</td>\n",
              "      <td>-1.158233</td>\n",
              "      <td>0.877737</td>\n",
              "      <td>1.548718</td>\n",
              "      <td>0.403034</td>\n",
              "      <td>-0.407193</td>\n",
              "      <td>0.095921</td>\n",
              "      <td>0.592941</td>\n",
              "      <td>-0.270533</td>\n",
              "      <td>0.817739</td>\n",
              "      <td>0.753074</td>\n",
              "      <td>-0.822843</td>\n",
              "      <td>0.538196</td>\n",
              "      <td>1.345852</td>\n",
              "      <td>-1.119670</td>\n",
              "      <td>0.175121</td>\n",
              "      <td>-0.451449</td>\n",
              "      <td>-0.237033</td>\n",
              "      <td>-0.038195</td>\n",
              "      <td>0.803487</td>\n",
              "      <td>0.408542</td>\n",
              "      <td>-0.009431</td>\n",
              "      <td>0.798278</td>\n",
              "      <td>-0.137458</td>\n",
              "      <td>0.141267</td>\n",
              "      <td>-0.206010</td>\n",
              "      <td>0.502292</td>\n",
              "      <td>0.219422</td>\n",
              "      <td>0.215153</td>\n",
              "      <td>69.99</td>\n",
              "      <td>0</td>\n",
              "      <td>0</td>\n",
              "      <td>0</td>\n",
              "      <td>0</td>\n",
              "      <td>2</td>\n",
              "    </tr>\n",
              "  </tbody>\n",
              "</table>\n",
              "</div>"
            ],
            "text/plain": [
              "   Time        V1        V2        V3        V4  ...  Class  t_d  t_h  t_m  t_s\n",
              "0   0.0 -1.359807 -0.072781  2.536347  1.378155  ...      0    0    0    0    0\n",
              "1   0.0  1.191857  0.266151  0.166480  0.448154  ...      0    0    0    0    0\n",
              "2   1.0 -1.358354 -1.340163  1.773209  0.379780  ...      0    0    0    0    1\n",
              "3   1.0 -0.966272 -0.185226  1.792993 -0.863291  ...      0    0    0    0    1\n",
              "4   2.0 -1.158233  0.877737  1.548718  0.403034  ...      0    0    0    0    2\n",
              "\n",
              "[5 rows x 35 columns]"
            ]
          },
          "metadata": {
            "tags": []
          },
          "execution_count": 103
        }
      ]
    },
    {
      "cell_type": "code",
      "metadata": {
        "id": "Y7Kak3A8dETm",
        "colab": {
          "base_uri": "https://localhost:8080/",
          "height": 308
        },
        "outputId": "1ef35443-96f4-4fbf-8c7d-0471db4e4172"
      },
      "source": [
        "df.describe()"
      ],
      "execution_count": null,
      "outputs": [
        {
          "output_type": "execute_result",
          "data": {
            "text/html": [
              "<div>\n",
              "<style scoped>\n",
              "    .dataframe tbody tr th:only-of-type {\n",
              "        vertical-align: middle;\n",
              "    }\n",
              "\n",
              "    .dataframe tbody tr th {\n",
              "        vertical-align: top;\n",
              "    }\n",
              "\n",
              "    .dataframe thead th {\n",
              "        text-align: right;\n",
              "    }\n",
              "</style>\n",
              "<table border=\"1\" class=\"dataframe\">\n",
              "  <thead>\n",
              "    <tr style=\"text-align: right;\">\n",
              "      <th></th>\n",
              "      <th>Time</th>\n",
              "      <th>V1</th>\n",
              "      <th>V2</th>\n",
              "      <th>V3</th>\n",
              "      <th>V4</th>\n",
              "      <th>V5</th>\n",
              "      <th>V6</th>\n",
              "      <th>V7</th>\n",
              "      <th>V8</th>\n",
              "      <th>V9</th>\n",
              "      <th>V10</th>\n",
              "      <th>V11</th>\n",
              "      <th>V12</th>\n",
              "      <th>V13</th>\n",
              "      <th>V14</th>\n",
              "      <th>V15</th>\n",
              "      <th>V16</th>\n",
              "      <th>V17</th>\n",
              "      <th>V18</th>\n",
              "      <th>V19</th>\n",
              "      <th>V20</th>\n",
              "      <th>V21</th>\n",
              "      <th>V22</th>\n",
              "      <th>V23</th>\n",
              "      <th>V24</th>\n",
              "      <th>V25</th>\n",
              "      <th>V26</th>\n",
              "      <th>V27</th>\n",
              "      <th>V28</th>\n",
              "      <th>Amount</th>\n",
              "      <th>Class</th>\n",
              "      <th>t_d</th>\n",
              "      <th>t_h</th>\n",
              "      <th>t_m</th>\n",
              "      <th>t_s</th>\n",
              "    </tr>\n",
              "  </thead>\n",
              "  <tbody>\n",
              "    <tr>\n",
              "      <th>count</th>\n",
              "      <td>284807.000000</td>\n",
              "      <td>2.848070e+05</td>\n",
              "      <td>2.848070e+05</td>\n",
              "      <td>2.848070e+05</td>\n",
              "      <td>2.848070e+05</td>\n",
              "      <td>2.848070e+05</td>\n",
              "      <td>2.848070e+05</td>\n",
              "      <td>2.848070e+05</td>\n",
              "      <td>2.848070e+05</td>\n",
              "      <td>2.848070e+05</td>\n",
              "      <td>2.848070e+05</td>\n",
              "      <td>2.848070e+05</td>\n",
              "      <td>2.848070e+05</td>\n",
              "      <td>2.848070e+05</td>\n",
              "      <td>2.848070e+05</td>\n",
              "      <td>2.848070e+05</td>\n",
              "      <td>2.848070e+05</td>\n",
              "      <td>2.848070e+05</td>\n",
              "      <td>2.848070e+05</td>\n",
              "      <td>2.848070e+05</td>\n",
              "      <td>2.848070e+05</td>\n",
              "      <td>2.848070e+05</td>\n",
              "      <td>2.848070e+05</td>\n",
              "      <td>2.848070e+05</td>\n",
              "      <td>2.848070e+05</td>\n",
              "      <td>2.848070e+05</td>\n",
              "      <td>2.848070e+05</td>\n",
              "      <td>2.848070e+05</td>\n",
              "      <td>2.848070e+05</td>\n",
              "      <td>284807.000000</td>\n",
              "      <td>284807.000000</td>\n",
              "      <td>284807.000000</td>\n",
              "      <td>284807.000000</td>\n",
              "      <td>284807.000000</td>\n",
              "      <td>284807.000000</td>\n",
              "    </tr>\n",
              "    <tr>\n",
              "      <th>mean</th>\n",
              "      <td>94813.859575</td>\n",
              "      <td>3.919560e-15</td>\n",
              "      <td>5.688174e-16</td>\n",
              "      <td>-8.769071e-15</td>\n",
              "      <td>2.782312e-15</td>\n",
              "      <td>-1.552563e-15</td>\n",
              "      <td>2.010663e-15</td>\n",
              "      <td>-1.694249e-15</td>\n",
              "      <td>-1.927028e-16</td>\n",
              "      <td>-3.137024e-15</td>\n",
              "      <td>1.768627e-15</td>\n",
              "      <td>9.170318e-16</td>\n",
              "      <td>-1.810658e-15</td>\n",
              "      <td>1.693438e-15</td>\n",
              "      <td>1.479045e-15</td>\n",
              "      <td>3.482336e-15</td>\n",
              "      <td>1.392007e-15</td>\n",
              "      <td>-7.528491e-16</td>\n",
              "      <td>4.328772e-16</td>\n",
              "      <td>9.049732e-16</td>\n",
              "      <td>5.085503e-16</td>\n",
              "      <td>1.537294e-16</td>\n",
              "      <td>7.959909e-16</td>\n",
              "      <td>5.367590e-16</td>\n",
              "      <td>4.458112e-15</td>\n",
              "      <td>1.453003e-15</td>\n",
              "      <td>1.699104e-15</td>\n",
              "      <td>-3.660161e-16</td>\n",
              "      <td>-1.206049e-16</td>\n",
              "      <td>88.349619</td>\n",
              "      <td>0.001727</td>\n",
              "      <td>0.491635</td>\n",
              "      <td>14.046470</td>\n",
              "      <td>28.997044</td>\n",
              "      <td>29.507856</td>\n",
              "    </tr>\n",
              "    <tr>\n",
              "      <th>std</th>\n",
              "      <td>47488.145955</td>\n",
              "      <td>1.958696e+00</td>\n",
              "      <td>1.651309e+00</td>\n",
              "      <td>1.516255e+00</td>\n",
              "      <td>1.415869e+00</td>\n",
              "      <td>1.380247e+00</td>\n",
              "      <td>1.332271e+00</td>\n",
              "      <td>1.237094e+00</td>\n",
              "      <td>1.194353e+00</td>\n",
              "      <td>1.098632e+00</td>\n",
              "      <td>1.088850e+00</td>\n",
              "      <td>1.020713e+00</td>\n",
              "      <td>9.992014e-01</td>\n",
              "      <td>9.952742e-01</td>\n",
              "      <td>9.585956e-01</td>\n",
              "      <td>9.153160e-01</td>\n",
              "      <td>8.762529e-01</td>\n",
              "      <td>8.493371e-01</td>\n",
              "      <td>8.381762e-01</td>\n",
              "      <td>8.140405e-01</td>\n",
              "      <td>7.709250e-01</td>\n",
              "      <td>7.345240e-01</td>\n",
              "      <td>7.257016e-01</td>\n",
              "      <td>6.244603e-01</td>\n",
              "      <td>6.056471e-01</td>\n",
              "      <td>5.212781e-01</td>\n",
              "      <td>4.822270e-01</td>\n",
              "      <td>4.036325e-01</td>\n",
              "      <td>3.300833e-01</td>\n",
              "      <td>250.120109</td>\n",
              "      <td>0.041527</td>\n",
              "      <td>0.499931</td>\n",
              "      <td>5.835854</td>\n",
              "      <td>17.427849</td>\n",
              "      <td>17.282889</td>\n",
              "    </tr>\n",
              "    <tr>\n",
              "      <th>min</th>\n",
              "      <td>0.000000</td>\n",
              "      <td>-5.640751e+01</td>\n",
              "      <td>-7.271573e+01</td>\n",
              "      <td>-4.832559e+01</td>\n",
              "      <td>-5.683171e+00</td>\n",
              "      <td>-1.137433e+02</td>\n",
              "      <td>-2.616051e+01</td>\n",
              "      <td>-4.355724e+01</td>\n",
              "      <td>-7.321672e+01</td>\n",
              "      <td>-1.343407e+01</td>\n",
              "      <td>-2.458826e+01</td>\n",
              "      <td>-4.797473e+00</td>\n",
              "      <td>-1.868371e+01</td>\n",
              "      <td>-5.791881e+00</td>\n",
              "      <td>-1.921433e+01</td>\n",
              "      <td>-4.498945e+00</td>\n",
              "      <td>-1.412985e+01</td>\n",
              "      <td>-2.516280e+01</td>\n",
              "      <td>-9.498746e+00</td>\n",
              "      <td>-7.213527e+00</td>\n",
              "      <td>-5.449772e+01</td>\n",
              "      <td>-3.483038e+01</td>\n",
              "      <td>-1.093314e+01</td>\n",
              "      <td>-4.480774e+01</td>\n",
              "      <td>-2.836627e+00</td>\n",
              "      <td>-1.029540e+01</td>\n",
              "      <td>-2.604551e+00</td>\n",
              "      <td>-2.256568e+01</td>\n",
              "      <td>-1.543008e+01</td>\n",
              "      <td>0.000000</td>\n",
              "      <td>0.000000</td>\n",
              "      <td>0.000000</td>\n",
              "      <td>0.000000</td>\n",
              "      <td>0.000000</td>\n",
              "      <td>0.000000</td>\n",
              "    </tr>\n",
              "    <tr>\n",
              "      <th>25%</th>\n",
              "      <td>54201.500000</td>\n",
              "      <td>-9.203734e-01</td>\n",
              "      <td>-5.985499e-01</td>\n",
              "      <td>-8.903648e-01</td>\n",
              "      <td>-8.486401e-01</td>\n",
              "      <td>-6.915971e-01</td>\n",
              "      <td>-7.682956e-01</td>\n",
              "      <td>-5.540759e-01</td>\n",
              "      <td>-2.086297e-01</td>\n",
              "      <td>-6.430976e-01</td>\n",
              "      <td>-5.354257e-01</td>\n",
              "      <td>-7.624942e-01</td>\n",
              "      <td>-4.055715e-01</td>\n",
              "      <td>-6.485393e-01</td>\n",
              "      <td>-4.255740e-01</td>\n",
              "      <td>-5.828843e-01</td>\n",
              "      <td>-4.680368e-01</td>\n",
              "      <td>-4.837483e-01</td>\n",
              "      <td>-4.988498e-01</td>\n",
              "      <td>-4.562989e-01</td>\n",
              "      <td>-2.117214e-01</td>\n",
              "      <td>-2.283949e-01</td>\n",
              "      <td>-5.423504e-01</td>\n",
              "      <td>-1.618463e-01</td>\n",
              "      <td>-3.545861e-01</td>\n",
              "      <td>-3.171451e-01</td>\n",
              "      <td>-3.269839e-01</td>\n",
              "      <td>-7.083953e-02</td>\n",
              "      <td>-5.295979e-02</td>\n",
              "      <td>5.600000</td>\n",
              "      <td>0.000000</td>\n",
              "      <td>0.000000</td>\n",
              "      <td>10.000000</td>\n",
              "      <td>14.000000</td>\n",
              "      <td>15.000000</td>\n",
              "    </tr>\n",
              "    <tr>\n",
              "      <th>50%</th>\n",
              "      <td>84692.000000</td>\n",
              "      <td>1.810880e-02</td>\n",
              "      <td>6.548556e-02</td>\n",
              "      <td>1.798463e-01</td>\n",
              "      <td>-1.984653e-02</td>\n",
              "      <td>-5.433583e-02</td>\n",
              "      <td>-2.741871e-01</td>\n",
              "      <td>4.010308e-02</td>\n",
              "      <td>2.235804e-02</td>\n",
              "      <td>-5.142873e-02</td>\n",
              "      <td>-9.291738e-02</td>\n",
              "      <td>-3.275735e-02</td>\n",
              "      <td>1.400326e-01</td>\n",
              "      <td>-1.356806e-02</td>\n",
              "      <td>5.060132e-02</td>\n",
              "      <td>4.807155e-02</td>\n",
              "      <td>6.641332e-02</td>\n",
              "      <td>-6.567575e-02</td>\n",
              "      <td>-3.636312e-03</td>\n",
              "      <td>3.734823e-03</td>\n",
              "      <td>-6.248109e-02</td>\n",
              "      <td>-2.945017e-02</td>\n",
              "      <td>6.781943e-03</td>\n",
              "      <td>-1.119293e-02</td>\n",
              "      <td>4.097606e-02</td>\n",
              "      <td>1.659350e-02</td>\n",
              "      <td>-5.213911e-02</td>\n",
              "      <td>1.342146e-03</td>\n",
              "      <td>1.124383e-02</td>\n",
              "      <td>22.000000</td>\n",
              "      <td>0.000000</td>\n",
              "      <td>0.000000</td>\n",
              "      <td>15.000000</td>\n",
              "      <td>29.000000</td>\n",
              "      <td>30.000000</td>\n",
              "    </tr>\n",
              "    <tr>\n",
              "      <th>75%</th>\n",
              "      <td>139320.500000</td>\n",
              "      <td>1.315642e+00</td>\n",
              "      <td>8.037239e-01</td>\n",
              "      <td>1.027196e+00</td>\n",
              "      <td>7.433413e-01</td>\n",
              "      <td>6.119264e-01</td>\n",
              "      <td>3.985649e-01</td>\n",
              "      <td>5.704361e-01</td>\n",
              "      <td>3.273459e-01</td>\n",
              "      <td>5.971390e-01</td>\n",
              "      <td>4.539234e-01</td>\n",
              "      <td>7.395934e-01</td>\n",
              "      <td>6.182380e-01</td>\n",
              "      <td>6.625050e-01</td>\n",
              "      <td>4.931498e-01</td>\n",
              "      <td>6.488208e-01</td>\n",
              "      <td>5.232963e-01</td>\n",
              "      <td>3.996750e-01</td>\n",
              "      <td>5.008067e-01</td>\n",
              "      <td>4.589494e-01</td>\n",
              "      <td>1.330408e-01</td>\n",
              "      <td>1.863772e-01</td>\n",
              "      <td>5.285536e-01</td>\n",
              "      <td>1.476421e-01</td>\n",
              "      <td>4.395266e-01</td>\n",
              "      <td>3.507156e-01</td>\n",
              "      <td>2.409522e-01</td>\n",
              "      <td>9.104512e-02</td>\n",
              "      <td>7.827995e-02</td>\n",
              "      <td>77.165000</td>\n",
              "      <td>0.000000</td>\n",
              "      <td>1.000000</td>\n",
              "      <td>19.000000</td>\n",
              "      <td>44.000000</td>\n",
              "      <td>44.000000</td>\n",
              "    </tr>\n",
              "    <tr>\n",
              "      <th>max</th>\n",
              "      <td>172792.000000</td>\n",
              "      <td>2.454930e+00</td>\n",
              "      <td>2.205773e+01</td>\n",
              "      <td>9.382558e+00</td>\n",
              "      <td>1.687534e+01</td>\n",
              "      <td>3.480167e+01</td>\n",
              "      <td>7.330163e+01</td>\n",
              "      <td>1.205895e+02</td>\n",
              "      <td>2.000721e+01</td>\n",
              "      <td>1.559499e+01</td>\n",
              "      <td>2.374514e+01</td>\n",
              "      <td>1.201891e+01</td>\n",
              "      <td>7.848392e+00</td>\n",
              "      <td>7.126883e+00</td>\n",
              "      <td>1.052677e+01</td>\n",
              "      <td>8.877742e+00</td>\n",
              "      <td>1.731511e+01</td>\n",
              "      <td>9.253526e+00</td>\n",
              "      <td>5.041069e+00</td>\n",
              "      <td>5.591971e+00</td>\n",
              "      <td>3.942090e+01</td>\n",
              "      <td>2.720284e+01</td>\n",
              "      <td>1.050309e+01</td>\n",
              "      <td>2.252841e+01</td>\n",
              "      <td>4.584549e+00</td>\n",
              "      <td>7.519589e+00</td>\n",
              "      <td>3.517346e+00</td>\n",
              "      <td>3.161220e+01</td>\n",
              "      <td>3.384781e+01</td>\n",
              "      <td>25691.160000</td>\n",
              "      <td>1.000000</td>\n",
              "      <td>1.000000</td>\n",
              "      <td>23.000000</td>\n",
              "      <td>59.000000</td>\n",
              "      <td>59.000000</td>\n",
              "    </tr>\n",
              "  </tbody>\n",
              "</table>\n",
              "</div>"
            ],
            "text/plain": [
              "                Time            V1  ...            t_m            t_s\n",
              "count  284807.000000  2.848070e+05  ...  284807.000000  284807.000000\n",
              "mean    94813.859575  3.919560e-15  ...      28.997044      29.507856\n",
              "std     47488.145955  1.958696e+00  ...      17.427849      17.282889\n",
              "min         0.000000 -5.640751e+01  ...       0.000000       0.000000\n",
              "25%     54201.500000 -9.203734e-01  ...      14.000000      15.000000\n",
              "50%     84692.000000  1.810880e-02  ...      29.000000      30.000000\n",
              "75%    139320.500000  1.315642e+00  ...      44.000000      44.000000\n",
              "max    172792.000000  2.454930e+00  ...      59.000000      59.000000\n",
              "\n",
              "[8 rows x 35 columns]"
            ]
          },
          "metadata": {
            "tags": []
          },
          "execution_count": 104
        }
      ]
    },
    {
      "cell_type": "code",
      "metadata": {
        "colab": {
          "base_uri": "https://localhost:8080/"
        },
        "id": "Mtaoj04SBHFw",
        "outputId": "6f5c8523-e082-4864-8b3b-9d0cbf117c12"
      },
      "source": [
        "df.groupby(by = ['Class'])['Class'].count().sum() == df.shape[0]"
      ],
      "execution_count": null,
      "outputs": [
        {
          "output_type": "execute_result",
          "data": {
            "text/plain": [
              "True"
            ]
          },
          "metadata": {
            "tags": []
          },
          "execution_count": 105
        }
      ]
    },
    {
      "cell_type": "code",
      "metadata": {
        "colab": {
          "base_uri": "https://localhost:8080/"
        },
        "id": "1RfvVNORBsCp",
        "outputId": "c13e59be-9e44-4956-950e-ee3774882274"
      },
      "source": [
        "df.isna().sum()"
      ],
      "execution_count": null,
      "outputs": [
        {
          "output_type": "execute_result",
          "data": {
            "text/plain": [
              "Time      0\n",
              "V1        0\n",
              "V2        0\n",
              "V3        0\n",
              "V4        0\n",
              "V5        0\n",
              "V6        0\n",
              "V7        0\n",
              "V8        0\n",
              "V9        0\n",
              "V10       0\n",
              "V11       0\n",
              "V12       0\n",
              "V13       0\n",
              "V14       0\n",
              "V15       0\n",
              "V16       0\n",
              "V17       0\n",
              "V18       0\n",
              "V19       0\n",
              "V20       0\n",
              "V21       0\n",
              "V22       0\n",
              "V23       0\n",
              "V24       0\n",
              "V25       0\n",
              "V26       0\n",
              "V27       0\n",
              "V28       0\n",
              "Amount    0\n",
              "Class     0\n",
              "t_d       0\n",
              "t_h       0\n",
              "t_m       0\n",
              "t_s       0\n",
              "dtype: int64"
            ]
          },
          "metadata": {
            "tags": []
          },
          "execution_count": 106
        }
      ]
    },
    {
      "cell_type": "markdown",
      "metadata": {
        "id": "Wmz3EaYxy3_n"
      },
      "source": [
        "Видим огромный дисбаланс классов. Хмм, какие же стратегии использовать для построения модели с огромным диссбалансом? Ovesampling, Downsampling или просто в logisticregression передать параметр weighted = 'balanced'."
      ]
    },
    {
      "cell_type": "code",
      "metadata": {
        "colab": {
          "base_uri": "https://localhost:8080/"
        },
        "id": "vmKc0Y_FBvDt",
        "outputId": "75d56935-5c70-45ef-a399-0c3626b2eb59"
      },
      "source": [
        "# disbalance very very biiig (How to work with unbalanced classes, для нас очень важно различать мошеничество)\n",
        "df.groupby(by = ['Class'])['Class'].count()*100./df.shape[0]"
      ],
      "execution_count": null,
      "outputs": [
        {
          "output_type": "execute_result",
          "data": {
            "text/plain": [
              "Class\n",
              "0    99.827251\n",
              "1     0.172749\n",
              "Name: Class, dtype: float64"
            ]
          },
          "metadata": {
            "tags": []
          },
          "execution_count": 107
        }
      ]
    },
    {
      "cell_type": "markdown",
      "metadata": {
        "id": "0EC_SqEFzX_j"
      },
      "source": [
        "Видим сильно смешенные данные Amount - (вероятно много выбросов). "
      ]
    },
    {
      "cell_type": "code",
      "metadata": {
        "colab": {
          "base_uri": "https://localhost:8080/",
          "height": 459
        },
        "id": "lf3uRtXWCITh",
        "outputId": "763015de-888c-4f05-9db5-690edd27fb46"
      },
      "source": [
        "\n",
        "Classes = [0, 1]\n",
        "fig, ax = plt.subplots(1, 2, figsize = (8, 7))\n",
        "plt.subplots_adjust()\n",
        "colors = ['#e74c3c', '#2ecc71']\n",
        "\n",
        "#for idx, cls in enumerate(Classes):\n",
        "sns.distplot(df[df.Class == 0].Amount, label = 'Class ' + str(0), \n",
        "                hist = True, color = colors[0], ax = ax[0], bins = 25)\n",
        "\n",
        "sns.distplot(df[df.Class == 1].Amount, label = 'Class ' + str(1), \n",
        "                hist = True, color = colors[1], ax = ax[1], bins = 25)\n",
        "\n",
        "ax[0].legend(loc = 'upper right', prop = {'size': 20})\n",
        "ax[1].legend(loc = 'upper right', prop = {'size': 20})"
      ],
      "execution_count": null,
      "outputs": [
        {
          "output_type": "execute_result",
          "data": {
            "text/plain": [
              "<matplotlib.legend.Legend at 0x7fb6d5eb7ed0>"
            ]
          },
          "metadata": {
            "tags": []
          },
          "execution_count": 108
        },
        {
          "output_type": "display_data",
          "data": {
            "image/png": "[encoded data removed]",
            "text/plain": [
              "<Figure size 576x504 with 2 Axes>"
            ]
          },
          "metadata": {
            "tags": [],
            "needs_background": "light"
          }
        }
      ]
    },
    {
      "cell_type": "code",
      "metadata": {
        "id": "9Dbh94JdtgRJ"
      },
      "source": [
        "import scipy.stats as stats\n"
      ],
      "execution_count": null,
      "outputs": []
    },
    {
      "cell_type": "markdown",
      "metadata": {
        "id": "tQ1Wm5m6zplP"
      },
      "source": [
        "Будем опираться на главную метрику ROC_AUC. Но также будем смотреть на ROC_AUC."
      ]
    },
    {
      "cell_type": "code",
      "metadata": {
        "colab": {
          "base_uri": "https://localhost:8080/",
          "height": 108
        },
        "id": "0yfI4gcXTrzG",
        "outputId": "47f2cb9c-dc50-44e7-8eee-beb5c6812ab7"
      },
      "source": [
        "\n",
        "y_test, y_pred = np.random.randint(0, 2, size = 10),  np.random.randint(0, 2, size = 10)\n",
        "# Расчёт матрицы ошибок\n",
        "def confusion_matrix_my(y_pred, y):\n",
        "  # we have 0-1 labels\n",
        "  # TP FP\n",
        "  # FN TN\n",
        "  TP = ((y == y_pred) & (y == 0)).astype(int).sum()\n",
        "  FP = ((y != y_pred) & (y == 1)).astype(int).sum()\n",
        "  FN = ((y != y_pred) & (y == 0)).astype(int).sum()\n",
        "  TN = ((y == y_pred) & (y == 1)).astype(int).sum()\n",
        "  conf_m = np.array([[TP, FP], [FN, TN]])\n",
        "  return pd.DataFrame(data = conf_m, columns = ['true 0', 'true 1'], index = ['a 0', 'a 1'])\n",
        "  \n",
        "confusion_matrix_my(y_pred, y_test)"
      ],
      "execution_count": null,
      "outputs": [
        {
          "output_type": "execute_result",
          "data": {
            "text/html": [
              "<div>\n",
              "<style scoped>\n",
              "    .dataframe tbody tr th:only-of-type {\n",
              "        vertical-align: middle;\n",
              "    }\n",
              "\n",
              "    .dataframe tbody tr th {\n",
              "        vertical-align: top;\n",
              "    }\n",
              "\n",
              "    .dataframe thead th {\n",
              "        text-align: right;\n",
              "    }\n",
              "</style>\n",
              "<table border=\"1\" class=\"dataframe\">\n",
              "  <thead>\n",
              "    <tr style=\"text-align: right;\">\n",
              "      <th></th>\n",
              "      <th>true 0</th>\n",
              "      <th>true 1</th>\n",
              "    </tr>\n",
              "  </thead>\n",
              "  <tbody>\n",
              "    <tr>\n",
              "      <th>a 0</th>\n",
              "      <td>2</td>\n",
              "      <td>2</td>\n",
              "    </tr>\n",
              "    <tr>\n",
              "      <th>a 1</th>\n",
              "      <td>1</td>\n",
              "      <td>5</td>\n",
              "    </tr>\n",
              "  </tbody>\n",
              "</table>\n",
              "</div>"
            ],
            "text/plain": [
              "     true 0  true 1\n",
              "a 0       2       2\n",
              "a 1       1       5"
            ]
          },
          "metadata": {
            "tags": []
          },
          "execution_count": 110
        }
      ]
    },
    {
      "cell_type": "code",
      "metadata": {
        "colab": {
          "base_uri": "https://localhost:8080/"
        },
        "id": "FXX0DMK_Wy_q",
        "outputId": "d9714a15-1b08-442c-8e09-6ee2ad7ac1f6"
      },
      "source": [
        "# amount величина транзакции, давайте посмотрим какие стоимости имеют подобные транзакции?\n",
        "df[df.Class == 1].Amount.describe()\n",
        "df[df.Class == 1].Amount.describe()"
      ],
      "execution_count": null,
      "outputs": [
        {
          "output_type": "execute_result",
          "data": {
            "text/plain": [
              "count     492.000000\n",
              "mean      122.211321\n",
              "std       256.683288\n",
              "min         0.000000\n",
              "25%         1.000000\n",
              "50%         9.250000\n",
              "75%       105.890000\n",
              "max      2125.870000\n",
              "Name: Amount, dtype: float64"
            ]
          },
          "metadata": {
            "tags": []
          },
          "execution_count": 111
        }
      ]
    },
    {
      "cell_type": "code",
      "metadata": {
        "id": "cpGAGSTokZwm"
      },
      "source": [
        "from sklearn.metrics import recall_score, precision_score"
      ],
      "execution_count": null,
      "outputs": []
    },
    {
      "cell_type": "code",
      "metadata": {
        "colab": {
          "base_uri": "https://localhost:8080/"
        },
        "id": "4-1yzoSxnLLO",
        "outputId": "211194c6-bc2c-478f-a258-67b09d43eadf"
      },
      "source": [
        "non_known_cols = [col for col in df.columns if col[0] == 'V']\n",
        "non_known_cols"
      ],
      "execution_count": null,
      "outputs": [
        {
          "output_type": "execute_result",
          "data": {
            "text/plain": [
              "['V1',\n",
              " 'V2',\n",
              " 'V3',\n",
              " 'V4',\n",
              " 'V5',\n",
              " 'V6',\n",
              " 'V7',\n",
              " 'V8',\n",
              " 'V9',\n",
              " 'V10',\n",
              " 'V11',\n",
              " 'V12',\n",
              " 'V13',\n",
              " 'V14',\n",
              " 'V15',\n",
              " 'V16',\n",
              " 'V17',\n",
              " 'V18',\n",
              " 'V19',\n",
              " 'V20',\n",
              " 'V21',\n",
              " 'V22',\n",
              " 'V23',\n",
              " 'V24',\n",
              " 'V25',\n",
              " 'V26',\n",
              " 'V27',\n",
              " 'V28']"
            ]
          },
          "metadata": {
            "tags": []
          },
          "execution_count": 113
        }
      ]
    },
    {
      "cell_type": "markdown",
      "metadata": {
        "id": "2bipWis8z8a0"
      },
      "source": [
        "Построим величину стандартного отклонения неизвестных колонок. \n",
        "Среднее будет 0."
      ]
    },
    {
      "cell_type": "code",
      "metadata": {
        "colab": {
          "base_uri": "https://localhost:8080/",
          "height": 334
        },
        "id": "fNBM1E4Bnadn",
        "outputId": "119503ae-6fad-4f09-d29d-bb96e9ceb024"
      },
      "source": [
        "mean_std_V = df_copy[non_known_cols].describe().loc[['mean', 'std'], :]\n",
        "# У всех среднее 0, а вот стандартное отклонения будет не 1 у всех\n",
        "fig, ax = plt.subplots(figsize = (12, 5))\n",
        "sns.barplot(x = list(mean_std_V.columns), y = mean_std_V.loc['std', : ], \n",
        "            ax = ax)\n",
        "\n",
        "ax.set_xlabel('columns')\n",
        "ax.set_ylabel('std of columns');\n"
      ],
      "execution_count": null,
      "outputs": [
        {
          "output_type": "display_data",
          "data": {
            "image/png": "[encoded data removed]",
            "text/plain": [
              "<Figure size 864x360 with 1 Axes>"
            ]
          },
          "metadata": {
            "tags": [],
            "needs_background": "light"
          }
        }
      ]
    },
    {
      "cell_type": "code",
      "metadata": {
        "colab": {
          "base_uri": "https://localhost:8080/",
          "height": 350
        },
        "id": "4lqwz8boo3Ac",
        "outputId": "0bbaf51e-50de-462b-9add-48e6a9b43b2f"
      },
      "source": [
        "# Попробуем понять, была ли упорядоченность по времени транзакций мошеннических?\n",
        "# Можно просто взять и посмотреть по дням, выделить, возможно есть периодизация?\n",
        "# Ниже периодизация ложных транзакций по часам\n",
        "fig, ax = plt.subplots(figsize = (10, 5))\n",
        "days = df[df.Class == 1].groupby(['t_d'])['t_d'].count()\n",
        "hours = df[df.Class == 1].groupby(['t_h'])['t_h'].count()\n",
        "sns.barplot(x = list(hours.index), y = hours.values, ax = ax)\n",
        "ax.grid()\n",
        "ax.set_title('Distributions Fraud Trans. by hour')\n",
        "ax.set_xlabel('hour');\n",
        "ax.set_ylabel('Counts');"
      ],
      "execution_count": null,
      "outputs": [
        {
          "output_type": "display_data",
          "data": {
            "image/png": "[encoded data removed]",
            "text/plain": [
              "<Figure size 720x360 with 1 Axes>"
            ]
          },
          "metadata": {
            "tags": [],
            "needs_background": "light"
          }
        }
      ]
    },
    {
      "cell_type": "code",
      "metadata": {
        "colab": {
          "base_uri": "https://localhost:8080/",
          "height": 350
        },
        "id": "CD6AE1eUq6xd",
        "outputId": "e74d2fad-2852-4faf-add1-070e61dcace9"
      },
      "source": [
        "fig, ax = plt.subplots(figsize = (10, 5))\n",
        "hours = df[df.Class == 0].groupby(['t_h'])['t_h'].count()\n",
        "sns.barplot(x = list(hours.index), y = hours.values, ax = ax)\n",
        "ax.grid()\n",
        "ax.set_title('Distributions non-Fraud Trans. by hour')\n",
        "ax.set_xlabel('hour');\n",
        "ax.set_ylabel('Count');\n",
        "# Ниже нормальные транзакции, видно, что есть серьезное отличие в виде нашей зависимости\n",
        "# Есть перид (ночь), когда их очень мало"
      ],
      "execution_count": null,
      "outputs": [
        {
          "output_type": "display_data",
          "data": {
            "image/png": "[encoded data removed]",
            "text/plain": [
              "<Figure size 720x360 with 1 Axes>"
            ]
          },
          "metadata": {
            "tags": [],
            "needs_background": "light"
          }
        }
      ]
    },
    {
      "cell_type": "code",
      "metadata": {
        "colab": {
          "base_uri": "https://localhost:8080/",
          "height": 350
        },
        "id": "1LnGwUajrYE1",
        "outputId": "b668ab2d-cab8-42ef-c87b-578a255545e2"
      },
      "source": [
        "# В качестве дополнительного исследования можно посмотреть, \n",
        "# как будут зависеть средняя стоимость транзакции в определенный час \n",
        "fig, ax = plt.subplots(figsize = (10, 5))\n",
        "hours = df[df.Class == 0].groupby(['t_h'])['Amount'].mean()\n",
        "sns.barplot(x = list(hours.index), y = hours.values, ax = ax)\n",
        "ax.grid()\n",
        "ax.set_title('Распределение среднего Amount обычных транзакций по часам')\n",
        "ax.set_ylabel('Среднее Amount')\n",
        "ax.set_xlabel('Hours');\n"
      ],
      "execution_count": null,
      "outputs": [
        {
          "output_type": "display_data",
          "data": {
            "image/png": "[encoded data removed]",
            "text/plain": [
              "<Figure size 720x360 with 1 Axes>"
            ]
          },
          "metadata": {
            "tags": [],
            "needs_background": "light"
          }
        }
      ]
    },
    {
      "cell_type": "code",
      "metadata": {
        "colab": {
          "base_uri": "https://localhost:8080/",
          "height": 350
        },
        "id": "44mGdi7usMid",
        "outputId": "942a0ec6-199a-4846-b866-a584e22874c9"
      },
      "source": [
        "fig, ax = plt.subplots(figsize = (10, 5))\n",
        "\n",
        "hours = df[df.Class == 1].groupby(['t_h'])['Amount'].median()\n",
        "sns.barplot(x = list(hours.index), y = hours.values, ax = ax)\n",
        "ax.grid()\n",
        "ax.set_title('Зависимость медианные значения Amount ложных транзакций по часам')\n",
        "ax.set_xlabel('Часы')\n",
        "ax.set_ylabel('Медиана');\n",
        "\n"
      ],
      "execution_count": null,
      "outputs": [
        {
          "output_type": "display_data",
          "data": {
            "image/png": "[encoded data removed]",
            "text/plain": [
              "<Figure size 720x360 with 1 Axes>"
            ]
          },
          "metadata": {
            "tags": [],
            "needs_background": "light"
          }
        }
      ]
    },
    {
      "cell_type": "code",
      "metadata": {
        "colab": {
          "base_uri": "https://localhost:8080/",
          "height": 350
        },
        "id": "xnVD7eqLsBcK",
        "outputId": "43acf030-9a5c-4b93-a23c-205017a6e946"
      },
      "source": [
        "fig, ax = plt.subplots(figsize = (10, 5))\n",
        "#days = df[df.Class == 0].groupby(['t_d'])['t_d'].count()\n",
        "hours = df[df.Class == 1].groupby(['t_h'])['Amount'].mean()\n",
        "sns.barplot(x = list(hours.index), y = hours.values, ax = ax)\n",
        "ax.grid()\n",
        "\n",
        "ax.set_title('Зависимость средних значений Amount ложных транзакций по часам')\n",
        "ax.set_xlabel('Часы')\n",
        "ax.set_ylabel('Среднее');"
      ],
      "execution_count": null,
      "outputs": [
        {
          "output_type": "display_data",
          "data": {
            "image/png": "[encoded data removed]",
            "text/plain": [
              "<Figure size 720x360 with 1 Axes>"
            ]
          },
          "metadata": {
            "tags": [],
            "needs_background": "light"
          }
        }
      ]
    },
    {
      "cell_type": "code",
      "metadata": {
        "colab": {
          "base_uri": "https://localhost:8080/"
        },
        "id": "Y0NHfmAosdqB",
        "outputId": "f65878ff-e3c9-4095-bae2-2aa4b698cddb"
      },
      "source": [
        "number_of_zero_trans_f = (df[df.Class == 1].Amount == 0).sum()\n",
        "number_of_zero_trans_n = (df[df.Class == 0].Amount == 0).sum()\n",
        "print('ratio of zero amount fraud: {}\\nratio of zero amount norm: {}'.format( \n",
        "        number_of_zero_trans_f * 100./df[df.Class == 1].shape[0], \n",
        "        number_of_zero_trans_n * 100./df[df.Class == 0].shape[0])\n",
        "        )\n",
        "\n",
        "# Доля транзакций с 0 будет в 10 раз меньше, чем у обычных транзакций, надо бы это учесть"
      ],
      "execution_count": null,
      "outputs": [
        {
          "output_type": "stream",
          "text": [
            "ratio of zero amount fraud: 5.487804878048781\n",
            "ratio of zero amount norm: 0.6323971651161564\n"
          ],
          "name": "stdout"
        }
      ]
    },
    {
      "cell_type": "code",
      "metadata": {
        "id": "h_7LPSCPohDR"
      },
      "source": [
        "# Интеренсно, что стандартные отклонения у данных признаков упорядочены по убыванию, чтобы это могло значить?"
      ],
      "execution_count": null,
      "outputs": []
    },
    {
      "cell_type": "code",
      "metadata": {
        "colab": {
          "base_uri": "https://localhost:8080/"
        },
        "id": "6j6WASng9a89",
        "outputId": "b100054f-52d8-4b33-9fb1-1980ef5cd05f"
      },
      "source": [
        "from sklearn.model_selection import StratifiedShuffleSplit\n",
        "X = df.drop(columns = ['Class', 't_m', 't_s', 't_d', 't_h'])\n",
        "y = df['Class']\n",
        "X_train, X_test, y_train, y_test = train_test_split(X.values, y.values, test_size = 0.2)\n",
        "print((y_train == 1).sum()/(y == 1).sum(),(y_test == 1).sum()/(y == 1).sum())\n",
        "lg = LogisticRegression()\n",
        "lg.fit(X_train, y_train)"
      ],
      "execution_count": null,
      "outputs": [
        {
          "output_type": "stream",
          "text": [
            "0.7967479674796748 0.2032520325203252\n"
          ],
          "name": "stdout"
        },
        {
          "output_type": "execute_result",
          "data": {
            "text/plain": [
              "LogisticRegression(C=1.0, class_weight=None, dual=False, fit_intercept=True,\n",
              "                   intercept_scaling=1, l1_ratio=None, max_iter=100,\n",
              "                   multi_class='auto', n_jobs=None, penalty='l2',\n",
              "                   random_state=None, solver='lbfgs', tol=0.0001, verbose=0,\n",
              "                   warm_start=False)"
            ]
          },
          "metadata": {
            "tags": []
          },
          "execution_count": 122
        }
      ]
    },
    {
      "cell_type": "code",
      "metadata": {
        "id": "DpxHY94--gOp"
      },
      "source": [
        "y_pred = lg.predict(X_test)\n",
        "y_pred_proba = lg.predict_proba(X_test)\n"
      ],
      "execution_count": null,
      "outputs": []
    },
    {
      "cell_type": "code",
      "metadata": {
        "id": "K7jcOLuu-mzJ"
      },
      "source": [
        "indeces_sort = y_pred_proba[:, 1].argsort()[::-1]\n",
        "y_test_ordered = y_test[indeces_sort]\n",
        "m, n = (y_test_ordered == 1).sum(), (y_test_ordered == 0).sum()\n",
        "fpr, tpr = [0], [0]\n",
        "trex = 1./m\n",
        "trey = 1./n \n",
        "for idx, y in enumerate(y_test_ordered):\n",
        "  if(y == 0):\n",
        "    fpr.append(fpr[-1] + 1)\n",
        "    tpr.append(tpr[-1])\n",
        "  else:\n",
        "    tpr.append(tpr[-1] + 1)\n",
        "    fpr.append(fpr[-1])\n",
        "\n",
        "\n"
      ],
      "execution_count": null,
      "outputs": []
    },
    {
      "cell_type": "code",
      "metadata": {
        "id": "G5CSEO-fKsT4"
      },
      "source": [
        "def built_roc_auc(y_test, y_pred_proba):\n",
        "  fpr_s, tpr_s, _  = roc_curve(y_test, y_pred_proba[:, 1])\n",
        "  #plt.plot(fpr/n, tpr/m, c = 'r')\n",
        "  plt.plot(fpr_s, tpr_s, c = 'b', label = 'logistic regression')\n",
        "  plt.plot(np.linspace(0, 1, 100), np.linspace(0, 1, 100), c = 'g', linestyle = '--')\n",
        "  plt.plot(np.linspace(0, 1, 100), [1] * 100, c = 'y', linestyle = '--')\n",
        "  plt.plot([1] * 100,np.linspace(0, 1, 100) , c = 'y', linestyle = '--')\n",
        "  plt.plot(np.linspace(0, 1, 100), [0] * 100 , c = 'y', linestyle = '--')\n",
        "  plt.plot([0] * 100, np.linspace(0, 1,100), c = 'y', linestyle = '--')\n",
        "  plt.legend()\n",
        "  plt.show()\n",
        "  return fpr_s, tpr_s"
      ],
      "execution_count": null,
      "outputs": []
    },
    {
      "cell_type": "code",
      "metadata": {
        "colab": {
          "base_uri": "https://localhost:8080/",
          "height": 265
        },
        "id": "lIh5GAxwBXC9",
        "outputId": "ab4bbdb1-b4a1-4d23-bf83-1ce172ee1981"
      },
      "source": [
        "from sklearn.metrics import roc_curve\n",
        "from sklearn.metrics import auc\n",
        "\n",
        "fpr_s, tpr_s, _  = roc_curve(y_test, y_pred_proba[:, 1])\n",
        "plt.plot(fpr/n, tpr/m, c = 'r')\n",
        "plt.plot(fpr_s, tpr_s, c = 'b', label = 'logistic regression')\n",
        "plt.plot(np.linspace(0, 1, 100), np.linspace(0, 1, 100), c = 'g', linestyle = '--')\n",
        "plt.plot(np.linspace(0, 1, 100), [1] * 100, c = 'y', linestyle = '--')\n",
        "plt.plot([1] * 100,np.linspace(0, 1, 100) , c = 'y', linestyle = '--')\n",
        "plt.plot(np.linspace(0, 1, 100), [0] * 100 , c = 'y', linestyle = '--')\n",
        "plt.plot([0] * 100, np.linspace(0, 1,100), c = 'y', linestyle = '--')\n",
        "plt.legend()\n",
        "plt.show()\n"
      ],
      "execution_count": null,
      "outputs": [
        {
          "output_type": "display_data",
          "data": {
            "image/png": "[encoded data removed]",
            "text/plain": [
              "<Figure size 432x288 with 1 Axes>"
            ]
          },
          "metadata": {
            "tags": [],
            "needs_background": "light"
          }
        }
      ]
    },
    {
      "cell_type": "code",
      "metadata": {
        "colab": {
          "base_uri": "https://localhost:8080/"
        },
        "id": "zBz0giLuH3K-",
        "outputId": "40168799-da36-49d6-c4f1-3c3a19c81328"
      },
      "source": [
        "auc_score_default = auc(fpr/m, tpr/n)\n",
        "print('auc with default LogRegr, without engeneering: {:.4f}'.format(auc_score_default))"
      ],
      "execution_count": null,
      "outputs": [
        {
          "output_type": "stream",
          "text": [
            "auc with default LogRegr, without engeneering: 0.8882\n"
          ],
          "name": "stdout"
        }
      ]
    },
    {
      "cell_type": "code",
      "metadata": {
        "colab": {
          "base_uri": "https://localhost:8080/",
          "height": 108
        },
        "id": "z8ryO3U6IR-w",
        "outputId": "6f332c8c-6f1a-4712-e2c9-57c34996979d"
      },
      "source": [
        "my_conf_m = confusion_matrix_my(y_pred, y_test)\n",
        "my_conf_m"
      ],
      "execution_count": null,
      "outputs": [
        {
          "output_type": "execute_result",
          "data": {
            "text/html": [
              "<div>\n",
              "<style scoped>\n",
              "    .dataframe tbody tr th:only-of-type {\n",
              "        vertical-align: middle;\n",
              "    }\n",
              "\n",
              "    .dataframe tbody tr th {\n",
              "        vertical-align: top;\n",
              "    }\n",
              "\n",
              "    .dataframe thead th {\n",
              "        text-align: right;\n",
              "    }\n",
              "</style>\n",
              "<table border=\"1\" class=\"dataframe\">\n",
              "  <thead>\n",
              "    <tr style=\"text-align: right;\">\n",
              "      <th></th>\n",
              "      <th>true 0</th>\n",
              "      <th>true 1</th>\n",
              "    </tr>\n",
              "  </thead>\n",
              "  <tbody>\n",
              "    <tr>\n",
              "      <th>a 0</th>\n",
              "      <td>56839</td>\n",
              "      <td>37</td>\n",
              "    </tr>\n",
              "    <tr>\n",
              "      <th>a 1</th>\n",
              "      <td>23</td>\n",
              "      <td>63</td>\n",
              "    </tr>\n",
              "  </tbody>\n",
              "</table>\n",
              "</div>"
            ],
            "text/plain": [
              "     true 0  true 1\n",
              "a 0   56839      37\n",
              "a 1      23      63"
            ]
          },
          "metadata": {
            "tags": []
          },
          "execution_count": 128
        }
      ]
    },
    {
      "cell_type": "code",
      "metadata": {
        "colab": {
          "base_uri": "https://localhost:8080/",
          "height": 282
        },
        "id": "DHyWhxqPI7Yd",
        "outputId": "bc77f496-f4f1-46dd-c8ff-ac475680addf"
      },
      "source": [
        "sns.heatmap(confusion_matrix(y_test, y_pred), square = True,\n",
        "            xticklabels = my_conf_m.columns, yticklabels = my_conf_m.index, \n",
        "            annot = True)"
      ],
      "execution_count": null,
      "outputs": [
        {
          "output_type": "execute_result",
          "data": {
            "text/plain": [
              "<matplotlib.axes._subplots.AxesSubplot at 0x7fb6d650e250>"
            ]
          },
          "metadata": {
            "tags": []
          },
          "execution_count": 129
        },
        {
          "output_type": "display_data",
          "data": {
            "image/png": "[encoded data removed]",
            "text/plain": [
              "<Figure size 432x288 with 2 Axes>"
            ]
          },
          "metadata": {
            "tags": [],
            "needs_background": "light"
          }
        }
      ]
    },
    {
      "cell_type": "code",
      "metadata": {
        "id": "3vfHeztVKI6x"
      },
      "source": [
        "# Надо сделать ошибку на мошенниках как можно меньше, так как нам важно уметь предсказывать её лучше"
      ],
      "execution_count": null,
      "outputs": []
    },
    {
      "cell_type": "code",
      "metadata": {
        "id": "kDAcrOqwKTeD"
      },
      "source": [
        "def built_conf_matr(y_test, y_pred):\n",
        "  matr = confusion_matrix_my(y_pred, y_test)\n",
        "  sns.heatmap(confusion_matrix(y_test, y_pred), square = True,\n",
        "            xticklabels = my_conf_m.T.columns, yticklabels = my_conf_m.T.index, \n",
        "            annot = True)\n",
        "  plt.show()\n",
        "  return matr\n",
        "\n"
      ],
      "execution_count": null,
      "outputs": []
    },
    {
      "cell_type": "markdown",
      "metadata": {
        "id": "kQ8kfgQeC0jK"
      },
      "source": [
        "Просто дефолтно без каких либо модернизаций"
      ]
    },
    {
      "cell_type": "code",
      "metadata": {
        "id": "sshrp_QJLjSX"
      },
      "source": [
        "X = df.drop(columns = ['Class', 't_m', 't_s', 't_d', 't_h'])\n",
        "y = df['Class']\n",
        "cv = StratifiedKFold(5, shuffle = True)\n",
        "n_scores = cross_val_score(lg, X, y, scoring = 'roc_auc', cv = cv)"
      ],
      "execution_count": null,
      "outputs": []
    },
    {
      "cell_type": "code",
      "metadata": {
        "colab": {
          "base_uri": "https://localhost:8080/"
        },
        "id": "RXuxH-S5NQn-",
        "outputId": "bbee15a9-48b0-4150-eb3a-fca541063c0a"
      },
      "source": [
        "print('cross_val_score auc: {:.3f} +- {:.3f} '.format(n_scores.mean(),\n",
        "                                                    n_scores.std()))"
      ],
      "execution_count": null,
      "outputs": [
        {
          "output_type": "stream",
          "text": [
            "cross_val_score auc: 0.914 +- 0.024 \n"
          ],
          "name": "stdout"
        }
      ]
    },
    {
      "cell_type": "markdown",
      "metadata": {
        "id": "70DmgsIqC9aD"
      },
      "source": [
        "Если нормировать "
      ]
    },
    {
      "cell_type": "code",
      "metadata": {
        "id": "yezyaL8CPoqV"
      },
      "source": [
        "cv = StratifiedKFold(5, shuffle = True)\n",
        "n_scores = cross_val_score(lg, (X - X.mean(axis = 0))/X.std(axis = 0), y,\n",
        "                           scoring = 'roc_auc', cv = cv)"
      ],
      "execution_count": null,
      "outputs": []
    },
    {
      "cell_type": "code",
      "metadata": {
        "colab": {
          "base_uri": "https://localhost:8080/"
        },
        "id": "vyqKduU7P0TE",
        "outputId": "da7f1eab-54b7-40f9-c03e-51991db8208f"
      },
      "source": [
        "print('cross_val_score (standartizize) auc: {:.3f} +- {:.3f} '.format(n_scores.mean(),\n",
        "                                                    n_scores.std()))"
      ],
      "execution_count": null,
      "outputs": [
        {
          "output_type": "stream",
          "text": [
            "cross_val_score (standartizize) auc: 0.976 +- 0.010 \n"
          ],
          "name": "stdout"
        }
      ]
    },
    {
      "cell_type": "code",
      "metadata": {
        "id": "4sI9EZVbTaU8"
      },
      "source": [
        "def cross_val_score_my(model, X, y, cv = 5, scoring = 'roc_auc', text = '', return_scores = False):\n",
        "  assert(X.shape[0] == y.shape[0])\n",
        "  cv = StratifiedKFold(n_splits = cv, shuffle = True)\n",
        "  n_scores = cross_val_score(model, X, y, cv = cv, scoring = scoring)\n",
        "\n",
        "  print('cross_val_score {} auc: {:.3f} +- {:.3f} '.format(text, n_scores.mean(),\n",
        "                                                    n_scores.std()))\n",
        "  \n",
        "  if(return_scores):\n",
        "    return n_scores\n",
        "\n",
        "    \n",
        "  "
      ],
      "execution_count": null,
      "outputs": []
    },
    {
      "cell_type": "code",
      "metadata": {
        "id": "sAKrEbSyQcEt"
      },
      "source": [
        "from sklearn.preprocessing import StandardScaler\n",
        "from sklearn.pipeline import Pipeline, make_pipeline\n",
        "from sklearn.model_selection import GridSearchCV"
      ],
      "execution_count": null,
      "outputs": []
    },
    {
      "cell_type": "code",
      "metadata": {
        "colab": {
          "base_uri": "https://localhost:8080/"
        },
        "id": "b3fIOun9P6Ss",
        "outputId": "e5dd8fdf-a1c4-4a93-c887-d72bd44463d9"
      },
      "source": [
        "lg_stand = LogisticRegression()\n",
        "X_train, X_test, y_train, y_test = train_test_split(X, y, test_size = 0.2)\n",
        "tuned_parameters = {'logisticregression__C': [1.0, 2.0, 3.0]}\n",
        "pipe = make_pipeline(\n",
        "    StandardScaler(),\n",
        "    LogisticRegression(class_weight = 'balanced')\n",
        ")\n",
        "cv = StratifiedKFold(n_splits=5, shuffle = True)\n",
        "grid = GridSearchCV(pipe, param_grid = tuned_parameters, cv = cv, scoring = 'roc_auc')\n",
        "grid.fit(X_train, y_train)\n"
      ],
      "execution_count": null,
      "outputs": [
        {
          "output_type": "execute_result",
          "data": {
            "text/plain": [
              "GridSearchCV(cv=StratifiedKFold(n_splits=5, random_state=None, shuffle=True),\n",
              "             error_score=nan,\n",
              "             estimator=Pipeline(memory=None,\n",
              "                                steps=[('standardscaler',\n",
              "                                        StandardScaler(copy=True,\n",
              "                                                       with_mean=True,\n",
              "                                                       with_std=True)),\n",
              "                                       ('logisticregression',\n",
              "                                        LogisticRegression(C=1.0,\n",
              "                                                           class_weight='balanced',\n",
              "                                                           dual=False,\n",
              "                                                           fit_intercept=True,\n",
              "                                                           intercept_scaling=1,\n",
              "                                                           l1_ratio=None,\n",
              "                                                           max_iter=100,\n",
              "                                                           multi_class='auto',\n",
              "                                                           n_jobs=None,\n",
              "                                                           penalty='l2',\n",
              "                                                           random_state=None,\n",
              "                                                           solver='lbfgs',\n",
              "                                                           tol=0.0001,\n",
              "                                                           verbose=0,\n",
              "                                                           warm_start=False))],\n",
              "                                verbose=False),\n",
              "             iid='deprecated', n_jobs=None,\n",
              "             param_grid={'logisticregression__C': [1.0, 2.0, 3.0]},\n",
              "             pre_dispatch='2*n_jobs', refit=True, return_train_score=False,\n",
              "             scoring='roc_auc', verbose=0)"
            ]
          },
          "metadata": {
            "tags": []
          },
          "execution_count": 138
        }
      ]
    },
    {
      "cell_type": "code",
      "metadata": {
        "colab": {
          "base_uri": "https://localhost:8080/"
        },
        "id": "-WdV8jR1Rzot",
        "outputId": "8143dbb1-9be8-4630-d130-021246b78070"
      },
      "source": [
        "grid.best_estimator_.get_params"
      ],
      "execution_count": null,
      "outputs": [
        {
          "output_type": "execute_result",
          "data": {
            "text/plain": [
              "<bound method Pipeline.get_params of Pipeline(memory=None,\n",
              "         steps=[('standardscaler',\n",
              "                 StandardScaler(copy=True, with_mean=True, with_std=True)),\n",
              "                ('logisticregression',\n",
              "                 LogisticRegression(C=3.0, class_weight='balanced', dual=False,\n",
              "                                    fit_intercept=True, intercept_scaling=1,\n",
              "                                    l1_ratio=None, max_iter=100,\n",
              "                                    multi_class='auto', n_jobs=None,\n",
              "                                    penalty='l2', random_state=None,\n",
              "                                    solver='lbfgs', tol=0.0001, verbose=0,\n",
              "                                    warm_start=False))],\n",
              "         verbose=False)>"
            ]
          },
          "metadata": {
            "tags": []
          },
          "execution_count": 139
        }
      ]
    },
    {
      "cell_type": "code",
      "metadata": {
        "id": "wc4UyfZtSah_"
      },
      "source": [
        "y_pred_proba = grid.best_estimator_.predict_proba(X_test)\n",
        "y_pred = grid.best_estimator_.predict(X_test)"
      ],
      "execution_count": null,
      "outputs": []
    },
    {
      "cell_type": "markdown",
      "metadata": {
        "id": "2aJWm6E6Nwp5"
      },
      "source": [
        "С подбором некоторого параметра."
      ]
    },
    {
      "cell_type": "code",
      "metadata": {
        "colab": {
          "base_uri": "https://localhost:8080/",
          "height": 356
        },
        "id": "bJU5MSzxSnk7",
        "outputId": "9a2c0052-235a-40b1-f9a6-3d163d765b71"
      },
      "source": [
        "built_conf_matr(y_test, y_pred)"
      ],
      "execution_count": null,
      "outputs": [
        {
          "output_type": "display_data",
          "data": {
            "image/png": "[encoded data removed]",
            "text/plain": [
              "<Figure size 432x288 with 2 Axes>"
            ]
          },
          "metadata": {
            "tags": [],
            "needs_background": "light"
          }
        },
        {
          "output_type": "execute_result",
          "data": {
            "text/html": [
              "<div>\n",
              "<style scoped>\n",
              "    .dataframe tbody tr th:only-of-type {\n",
              "        vertical-align: middle;\n",
              "    }\n",
              "\n",
              "    .dataframe tbody tr th {\n",
              "        vertical-align: top;\n",
              "    }\n",
              "\n",
              "    .dataframe thead th {\n",
              "        text-align: right;\n",
              "    }\n",
              "</style>\n",
              "<table border=\"1\" class=\"dataframe\">\n",
              "  <thead>\n",
              "    <tr style=\"text-align: right;\">\n",
              "      <th></th>\n",
              "      <th>true 0</th>\n",
              "      <th>true 1</th>\n",
              "    </tr>\n",
              "  </thead>\n",
              "  <tbody>\n",
              "    <tr>\n",
              "      <th>a 0</th>\n",
              "      <td>55544</td>\n",
              "      <td>8</td>\n",
              "    </tr>\n",
              "    <tr>\n",
              "      <th>a 1</th>\n",
              "      <td>1318</td>\n",
              "      <td>92</td>\n",
              "    </tr>\n",
              "  </tbody>\n",
              "</table>\n",
              "</div>"
            ],
            "text/plain": [
              "     true 0  true 1\n",
              "a 0   55544       8\n",
              "a 1    1318      92"
            ]
          },
          "metadata": {
            "tags": []
          },
          "execution_count": 141
        }
      ]
    },
    {
      "cell_type": "code",
      "metadata": {
        "colab": {
          "base_uri": "https://localhost:8080/",
          "height": 282
        },
        "id": "YSnUBMnBSsBf",
        "outputId": "49f53cc1-c5a8-4e1d-b02c-11126ca61c3c"
      },
      "source": [
        "fpr_, tpr_ = built_roc_auc(y_test, y_pred_proba)\n",
        "print('roc_auc after normalization:',  auc(fpr_, tpr_))"
      ],
      "execution_count": null,
      "outputs": [
        {
          "output_type": "display_data",
          "data": {
            "image/png": "[encoded data removed]",
            "text/plain": [
              "<Figure size 432x288 with 1 Axes>"
            ]
          },
          "metadata": {
            "tags": [],
            "needs_background": "light"
          }
        },
        {
          "output_type": "stream",
          "text": [
            "roc_auc after normalization: 0.9863186310717175\n"
          ],
          "name": "stdout"
        }
      ]
    },
    {
      "cell_type": "code",
      "metadata": {
        "colab": {
          "base_uri": "https://localhost:8080/"
        },
        "id": "HuocCbOaTVOF",
        "outputId": "2f9a429e-7a53-4b06-d4f2-5ee5a6c8654e"
      },
      "source": [
        "cross_val_score_my(grid.best_estimator_, X, y)"
      ],
      "execution_count": null,
      "outputs": [
        {
          "output_type": "stream",
          "text": [
            "cross_val_score  auc: 0.980 +- 0.007 \n"
          ],
          "name": "stdout"
        }
      ]
    },
    {
      "cell_type": "code",
      "metadata": {
        "colab": {
          "base_uri": "https://localhost:8080/",
          "height": 265
        },
        "id": "_t8hcdDJT-r_",
        "outputId": "57a47500-460b-4ab3-8f88-622b5625f5ab"
      },
      "source": [
        "cfm = built_conf_matr(y_test, y_pred)"
      ],
      "execution_count": null,
      "outputs": [
        {
          "output_type": "display_data",
          "data": {
            "image/png": "[encoded data removed]",
            "text/plain": [
              "<Figure size 432x288 with 2 Axes>"
            ]
          },
          "metadata": {
            "tags": [],
            "needs_background": "light"
          }
        }
      ]
    },
    {
      "cell_type": "code",
      "metadata": {
        "colab": {
          "base_uri": "https://localhost:8080/"
        },
        "id": "7ba2czbLUa2h",
        "outputId": "f4943a98-b7c3-4c5d-e319-55ba3a114b3c"
      },
      "source": [
        "print((y_test == 1).sum(), (y_test == 0).sum())\n",
        "cfm.sum(axis = 0)"
      ],
      "execution_count": null,
      "outputs": [
        {
          "output_type": "stream",
          "text": [
            "100 56862\n"
          ],
          "name": "stdout"
        },
        {
          "output_type": "execute_result",
          "data": {
            "text/plain": [
              "true 0    56862\n",
              "true 1      100\n",
              "dtype: int64"
            ]
          },
          "metadata": {
            "tags": []
          },
          "execution_count": 145
        }
      ]
    },
    {
      "cell_type": "markdown",
      "metadata": {
        "id": "VaxHGIpFA_d1"
      },
      "source": [
        "#### Мы тут небольшой фича-инжениринг сделали, добавили индикатор ночи( Меньше 10 часов). И индикатор 0-я транзакций для доля мошеннических транзакций велика, по сравнению с обычными. "
      ]
    },
    {
      "cell_type": "code",
      "metadata": {
        "colab": {
          "base_uri": "https://localhost:8080/"
        },
        "id": "H0CEEmK8WS5w",
        "outputId": "e0331657-f78c-4f92-c505-a1b660edf929"
      },
      "source": [
        "\n",
        "X_new = df.drop(columns = ['t_s', 't_m', 't_d','Class'])\n",
        "X_new['night'] = X_new['t_h'].apply(lambda h: int(h <= 10))\n",
        "X_new['zero_amount'] = X_new['Amount'].apply(lambda a: int(a == 0)) \n",
        "\n",
        "numeric_cols = [col for col in X_new.columns if col[0] == 'V']\n",
        "numeric_cols = numeric_cols + ['Amount'] + ['Time']\n",
        "\n",
        "X_new = X_new.drop(columns = ['t_h'])\n",
        "X_new.head(5), numeric_cols"
      ],
      "execution_count": null,
      "outputs": [
        {
          "output_type": "execute_result",
          "data": {
            "text/plain": [
              "(   Time        V1        V2        V3  ...       V28  Amount  night  zero_amount\n",
              " 0   0.0 -1.359807 -0.072781  2.536347  ... -0.021053  149.62      1            0\n",
              " 1   0.0  1.191857  0.266151  0.166480  ...  0.014724    2.69      1            0\n",
              " 2   1.0 -1.358354 -1.340163  1.773209  ... -0.059752  378.66      1            0\n",
              " 3   1.0 -0.966272 -0.185226  1.792993  ...  0.061458  123.50      1            0\n",
              " 4   2.0 -1.158233  0.877737  1.548718  ...  0.215153   69.99      1            0\n",
              " \n",
              " [5 rows x 32 columns],\n",
              " ['V1',\n",
              "  'V2',\n",
              "  'V3',\n",
              "  'V4',\n",
              "  'V5',\n",
              "  'V6',\n",
              "  'V7',\n",
              "  'V8',\n",
              "  'V9',\n",
              "  'V10',\n",
              "  'V11',\n",
              "  'V12',\n",
              "  'V13',\n",
              "  'V14',\n",
              "  'V15',\n",
              "  'V16',\n",
              "  'V17',\n",
              "  'V18',\n",
              "  'V19',\n",
              "  'V20',\n",
              "  'V21',\n",
              "  'V22',\n",
              "  'V23',\n",
              "  'V24',\n",
              "  'V25',\n",
              "  'V26',\n",
              "  'V27',\n",
              "  'V28',\n",
              "  'Amount',\n",
              "  'Time'])"
            ]
          },
          "metadata": {
            "tags": []
          },
          "execution_count": 146
        }
      ]
    },
    {
      "cell_type": "markdown",
      "metadata": {
        "id": "Al_7sjHYBczl"
      },
      "source": [
        "Сделаем box-cox преобразование для сильно skew дата. "
      ]
    },
    {
      "cell_type": "code",
      "metadata": {
        "colab": {
          "base_uri": "https://localhost:8080/",
          "height": 443
        },
        "id": "wHPxkmgTicE6",
        "outputId": "4b7afade-1e56-4768-fce4-8e8b1475a0e5"
      },
      "source": [
        "from scipy.stats import boxcox\n",
        "\n",
        "fig, ax = plt.subplots(figsize = (10, 7))\n",
        "\n",
        "amount_positive = X_new.Amount.copy(deep = True)\n",
        "idxs = np.where(X_new.Amount == 0)[0]\n",
        "amount_positive[idxs] = 0.001\n",
        "\n",
        "X_new['box_cox_amount'], _ = boxcox(amount_positive)\n",
        "sns.distplot(a = X_new.box_cox_amount, bins = 30, hist = True, ax = ax)\n",
        "X_new =  X_new.drop(columns = ['Amount'])"
      ],
      "execution_count": null,
      "outputs": [
        {
          "output_type": "display_data",
          "data": {
            "image/png": "[encoded data removed]",
            "text/plain": [
              "<Figure size 720x504 with 1 Axes>"
            ]
          },
          "metadata": {
            "tags": [],
            "needs_background": "light"
          }
        }
      ]
    },
    {
      "cell_type": "code",
      "metadata": {
        "colab": {
          "base_uri": "https://localhost:8080/",
          "height": 218
        },
        "id": "MmvgwCjLCESg",
        "outputId": "8eef8295-2ebd-4bb6-b99f-c0e703dfd542"
      },
      "source": [
        "X_new.head()"
      ],
      "execution_count": null,
      "outputs": [
        {
          "output_type": "execute_result",
          "data": {
            "text/html": [
              "<div>\n",
              "<style scoped>\n",
              "    .dataframe tbody tr th:only-of-type {\n",
              "        vertical-align: middle;\n",
              "    }\n",
              "\n",
              "    .dataframe tbody tr th {\n",
              "        vertical-align: top;\n",
              "    }\n",
              "\n",
              "    .dataframe thead th {\n",
              "        text-align: right;\n",
              "    }\n",
              "</style>\n",
              "<table border=\"1\" class=\"dataframe\">\n",
              "  <thead>\n",
              "    <tr style=\"text-align: right;\">\n",
              "      <th></th>\n",
              "      <th>Time</th>\n",
              "      <th>V1</th>\n",
              "      <th>V2</th>\n",
              "      <th>V3</th>\n",
              "      <th>V4</th>\n",
              "      <th>V5</th>\n",
              "      <th>V6</th>\n",
              "      <th>V7</th>\n",
              "      <th>V8</th>\n",
              "      <th>V9</th>\n",
              "      <th>V10</th>\n",
              "      <th>V11</th>\n",
              "      <th>V12</th>\n",
              "      <th>V13</th>\n",
              "      <th>V14</th>\n",
              "      <th>V15</th>\n",
              "      <th>V16</th>\n",
              "      <th>V17</th>\n",
              "      <th>V18</th>\n",
              "      <th>V19</th>\n",
              "      <th>V20</th>\n",
              "      <th>V21</th>\n",
              "      <th>V22</th>\n",
              "      <th>V23</th>\n",
              "      <th>V24</th>\n",
              "      <th>V25</th>\n",
              "      <th>V26</th>\n",
              "      <th>V27</th>\n",
              "      <th>V28</th>\n",
              "      <th>night</th>\n",
              "      <th>zero_amount</th>\n",
              "      <th>box_cox_amount</th>\n",
              "    </tr>\n",
              "  </thead>\n",
              "  <tbody>\n",
              "    <tr>\n",
              "      <th>0</th>\n",
              "      <td>0.0</td>\n",
              "      <td>-1.359807</td>\n",
              "      <td>-0.072781</td>\n",
              "      <td>2.536347</td>\n",
              "      <td>1.378155</td>\n",
              "      <td>-0.338321</td>\n",
              "      <td>0.462388</td>\n",
              "      <td>0.239599</td>\n",
              "      <td>0.098698</td>\n",
              "      <td>0.363787</td>\n",
              "      <td>0.090794</td>\n",
              "      <td>-0.551600</td>\n",
              "      <td>-0.617801</td>\n",
              "      <td>-0.991390</td>\n",
              "      <td>-0.311169</td>\n",
              "      <td>1.468177</td>\n",
              "      <td>-0.470401</td>\n",
              "      <td>0.207971</td>\n",
              "      <td>0.025791</td>\n",
              "      <td>0.403993</td>\n",
              "      <td>0.251412</td>\n",
              "      <td>-0.018307</td>\n",
              "      <td>0.277838</td>\n",
              "      <td>-0.110474</td>\n",
              "      <td>0.066928</td>\n",
              "      <td>0.128539</td>\n",
              "      <td>-0.189115</td>\n",
              "      <td>0.133558</td>\n",
              "      <td>-0.021053</td>\n",
              "      <td>1</td>\n",
              "      <td>0</td>\n",
              "      <td>6.401464</td>\n",
              "    </tr>\n",
              "    <tr>\n",
              "      <th>1</th>\n",
              "      <td>0.0</td>\n",
              "      <td>1.191857</td>\n",
              "      <td>0.266151</td>\n",
              "      <td>0.166480</td>\n",
              "      <td>0.448154</td>\n",
              "      <td>0.060018</td>\n",
              "      <td>-0.082361</td>\n",
              "      <td>-0.078803</td>\n",
              "      <td>0.085102</td>\n",
              "      <td>-0.255425</td>\n",
              "      <td>-0.166974</td>\n",
              "      <td>1.612727</td>\n",
              "      <td>1.065235</td>\n",
              "      <td>0.489095</td>\n",
              "      <td>-0.143772</td>\n",
              "      <td>0.635558</td>\n",
              "      <td>0.463917</td>\n",
              "      <td>-0.114805</td>\n",
              "      <td>-0.183361</td>\n",
              "      <td>-0.145783</td>\n",
              "      <td>-0.069083</td>\n",
              "      <td>-0.225775</td>\n",
              "      <td>-0.638672</td>\n",
              "      <td>0.101288</td>\n",
              "      <td>-0.339846</td>\n",
              "      <td>0.167170</td>\n",
              "      <td>0.125895</td>\n",
              "      <td>-0.008983</td>\n",
              "      <td>0.014724</td>\n",
              "      <td>1</td>\n",
              "      <td>0</td>\n",
              "      <td>1.037192</td>\n",
              "    </tr>\n",
              "    <tr>\n",
              "      <th>2</th>\n",
              "      <td>1.0</td>\n",
              "      <td>-1.358354</td>\n",
              "      <td>-1.340163</td>\n",
              "      <td>1.773209</td>\n",
              "      <td>0.379780</td>\n",
              "      <td>-0.503198</td>\n",
              "      <td>1.800499</td>\n",
              "      <td>0.791461</td>\n",
              "      <td>0.247676</td>\n",
              "      <td>-1.514654</td>\n",
              "      <td>0.207643</td>\n",
              "      <td>0.624501</td>\n",
              "      <td>0.066084</td>\n",
              "      <td>0.717293</td>\n",
              "      <td>-0.165946</td>\n",
              "      <td>2.345865</td>\n",
              "      <td>-2.890083</td>\n",
              "      <td>1.109969</td>\n",
              "      <td>-0.121359</td>\n",
              "      <td>-2.261857</td>\n",
              "      <td>0.524980</td>\n",
              "      <td>0.247998</td>\n",
              "      <td>0.771679</td>\n",
              "      <td>0.909412</td>\n",
              "      <td>-0.689281</td>\n",
              "      <td>-0.327642</td>\n",
              "      <td>-0.139097</td>\n",
              "      <td>-0.055353</td>\n",
              "      <td>-0.059752</td>\n",
              "      <td>1</td>\n",
              "      <td>0</td>\n",
              "      <td>7.957824</td>\n",
              "    </tr>\n",
              "    <tr>\n",
              "      <th>3</th>\n",
              "      <td>1.0</td>\n",
              "      <td>-0.966272</td>\n",
              "      <td>-0.185226</td>\n",
              "      <td>1.792993</td>\n",
              "      <td>-0.863291</td>\n",
              "      <td>-0.010309</td>\n",
              "      <td>1.247203</td>\n",
              "      <td>0.237609</td>\n",
              "      <td>0.377436</td>\n",
              "      <td>-1.387024</td>\n",
              "      <td>-0.054952</td>\n",
              "      <td>-0.226487</td>\n",
              "      <td>0.178228</td>\n",
              "      <td>0.507757</td>\n",
              "      <td>-0.287924</td>\n",
              "      <td>-0.631418</td>\n",
              "      <td>-1.059647</td>\n",
              "      <td>-0.684093</td>\n",
              "      <td>1.965775</td>\n",
              "      <td>-1.232622</td>\n",
              "      <td>-0.208038</td>\n",
              "      <td>-0.108300</td>\n",
              "      <td>0.005274</td>\n",
              "      <td>-0.190321</td>\n",
              "      <td>-1.175575</td>\n",
              "      <td>0.647376</td>\n",
              "      <td>-0.221929</td>\n",
              "      <td>0.062723</td>\n",
              "      <td>0.061458</td>\n",
              "      <td>1</td>\n",
              "      <td>0</td>\n",
              "      <td>6.096529</td>\n",
              "    </tr>\n",
              "    <tr>\n",
              "      <th>4</th>\n",
              "      <td>2.0</td>\n",
              "      <td>-1.158233</td>\n",
              "      <td>0.877737</td>\n",
              "      <td>1.548718</td>\n",
              "      <td>0.403034</td>\n",
              "      <td>-0.407193</td>\n",
              "      <td>0.095921</td>\n",
              "      <td>0.592941</td>\n",
              "      <td>-0.270533</td>\n",
              "      <td>0.817739</td>\n",
              "      <td>0.753074</td>\n",
              "      <td>-0.822843</td>\n",
              "      <td>0.538196</td>\n",
              "      <td>1.345852</td>\n",
              "      <td>-1.119670</td>\n",
              "      <td>0.175121</td>\n",
              "      <td>-0.451449</td>\n",
              "      <td>-0.237033</td>\n",
              "      <td>-0.038195</td>\n",
              "      <td>0.803487</td>\n",
              "      <td>0.408542</td>\n",
              "      <td>-0.009431</td>\n",
              "      <td>0.798278</td>\n",
              "      <td>-0.137458</td>\n",
              "      <td>0.141267</td>\n",
              "      <td>-0.206010</td>\n",
              "      <td>0.502292</td>\n",
              "      <td>0.219422</td>\n",
              "      <td>0.215153</td>\n",
              "      <td>1</td>\n",
              "      <td>0</td>\n",
              "      <td>5.225613</td>\n",
              "    </tr>\n",
              "  </tbody>\n",
              "</table>\n",
              "</div>"
            ],
            "text/plain": [
              "   Time        V1        V2  ...  night  zero_amount  box_cox_amount\n",
              "0   0.0 -1.359807 -0.072781  ...      1            0        6.401464\n",
              "1   0.0  1.191857  0.266151  ...      1            0        1.037192\n",
              "2   1.0 -1.358354 -1.340163  ...      1            0        7.957824\n",
              "3   1.0 -0.966272 -0.185226  ...      1            0        6.096529\n",
              "4   2.0 -1.158233  0.877737  ...      1            0        5.225613\n",
              "\n",
              "[5 rows x 32 columns]"
            ]
          },
          "metadata": {
            "tags": []
          },
          "execution_count": 148
        }
      ]
    },
    {
      "cell_type": "code",
      "metadata": {
        "id": "6-G-aMKMYxhe"
      },
      "source": [
        "from sklearn.base import BaseEstimator, TransformerMixin, RegressorMixin, ClassifierMixin\n",
        "class StandardScaler_my(BaseEstimator, TransformerMixin):\n",
        "\n",
        "    def __init__(self, cols = None):\n",
        "      super().__init__()\n",
        "      self._cols = cols\n",
        "      return None\n",
        "\n",
        "    def fit(self, X, y = None):\n",
        "      # X - should be a pandas\n",
        "      self._mean = X.loc[:, self._cols if self._cols is not None else X.columns].mean(axis = 0)\n",
        "      self._std = X.loc[:, self._cols if self._cols is not None else X.columns].std(axis = 0)\n",
        "      return self\n",
        "\n",
        "    def transform(self, X):\n",
        "      return (X.loc[:, self._cols if self._cols is not None else X.columns] - self._mean)/self._std\n",
        "\n",
        "      "
      ],
      "execution_count": null,
      "outputs": []
    },
    {
      "cell_type": "code",
      "metadata": {
        "colab": {
          "base_uri": "https://localhost:8080/"
        },
        "id": "iur8efvKckn3",
        "outputId": "ee97e56e-842f-49b5-8f99-12d5ee212979"
      },
      "source": [
        "X_train, X_test, y_train, y_test = train_test_split(X_new, y, test_size = 0.2)\n",
        "pipe = make_pipeline(\n",
        "    StandardScaler_my(),\n",
        "    LogisticRegression(class_weight = 'balanced')\n",
        ")\n",
        "pipe.fit(X_train, y_train)\n"
      ],
      "execution_count": null,
      "outputs": [
        {
          "output_type": "execute_result",
          "data": {
            "text/plain": [
              "Pipeline(memory=None,\n",
              "         steps=[('standardscaler_my', StandardScaler_my(cols=None)),\n",
              "                ('logisticregression',\n",
              "                 LogisticRegression(C=1.0, class_weight='balanced', dual=False,\n",
              "                                    fit_intercept=True, intercept_scaling=1,\n",
              "                                    l1_ratio=None, max_iter=100,\n",
              "                                    multi_class='auto', n_jobs=None,\n",
              "                                    penalty='l2', random_state=None,\n",
              "                                    solver='lbfgs', tol=0.0001, verbose=0,\n",
              "                                    warm_start=False))],\n",
              "         verbose=False)"
            ]
          },
          "metadata": {
            "tags": []
          },
          "execution_count": 150
        }
      ]
    },
    {
      "cell_type": "code",
      "metadata": {
        "id": "80W-pXMHdevU"
      },
      "source": [
        "y_pred = pipe.predict(X_test)\n",
        "y_pred_prob = pipe.predict_proba(X_test)"
      ],
      "execution_count": null,
      "outputs": []
    },
    {
      "cell_type": "code",
      "metadata": {
        "id": "RdqVAXULAU0X"
      },
      "source": [
        "# Категоризация часов, потому что индикатор ночи влияет \n",
        "# на частоту транзакций и он немного отличается от того, что для класса 1 и класса 0\n",
        "# Тут ещё ввел индикатор того, что транзакция имела значение Amount 0. Доля таких транзакций для класса 1 больше, чем для класса 0"
      ],
      "execution_count": null,
      "outputs": []
    },
    {
      "cell_type": "code",
      "metadata": {
        "colab": {
          "base_uri": "https://localhost:8080/"
        },
        "id": "CVQP7LmucvuK",
        "outputId": "4e14181b-1fc1-40ff-d0a4-882f3ae9b6c0"
      },
      "source": [
        "cross_val_score_my(pipe, X_new, y, cv = 5, text = 'categorize_hours')"
      ],
      "execution_count": null,
      "outputs": [
        {
          "output_type": "stream",
          "text": [
            "cross_val_score categorize_hours auc: 0.980 +- 0.006 \n"
          ],
          "name": "stdout"
        }
      ]
    },
    {
      "cell_type": "code",
      "metadata": {
        "colab": {
          "base_uri": "https://localhost:8080/",
          "height": 356
        },
        "id": "ZXCPMX6WdNzH",
        "outputId": "3734cd82-96da-4387-b7c7-d25ffc95e561"
      },
      "source": [
        "built_conf_matr(y_test, y_pred)"
      ],
      "execution_count": null,
      "outputs": [
        {
          "output_type": "display_data",
          "data": {
            "image/png": "[encoded data removed]",
            "text/plain": [
              "<Figure size 432x288 with 2 Axes>"
            ]
          },
          "metadata": {
            "tags": [],
            "needs_background": "light"
          }
        },
        {
          "output_type": "execute_result",
          "data": {
            "text/html": [
              "<div>\n",
              "<style scoped>\n",
              "    .dataframe tbody tr th:only-of-type {\n",
              "        vertical-align: middle;\n",
              "    }\n",
              "\n",
              "    .dataframe tbody tr th {\n",
              "        vertical-align: top;\n",
              "    }\n",
              "\n",
              "    .dataframe thead th {\n",
              "        text-align: right;\n",
              "    }\n",
              "</style>\n",
              "<table border=\"1\" class=\"dataframe\">\n",
              "  <thead>\n",
              "    <tr style=\"text-align: right;\">\n",
              "      <th></th>\n",
              "      <th>true 0</th>\n",
              "      <th>true 1</th>\n",
              "    </tr>\n",
              "  </thead>\n",
              "  <tbody>\n",
              "    <tr>\n",
              "      <th>a 0</th>\n",
              "      <td>55547</td>\n",
              "      <td>13</td>\n",
              "    </tr>\n",
              "    <tr>\n",
              "      <th>a 1</th>\n",
              "      <td>1313</td>\n",
              "      <td>89</td>\n",
              "    </tr>\n",
              "  </tbody>\n",
              "</table>\n",
              "</div>"
            ],
            "text/plain": [
              "     true 0  true 1\n",
              "a 0   55547      13\n",
              "a 1    1313      89"
            ]
          },
          "metadata": {
            "tags": []
          },
          "execution_count": 154
        }
      ]
    },
    {
      "cell_type": "code",
      "metadata": {
        "colab": {
          "base_uri": "https://localhost:8080/",
          "height": 282
        },
        "id": "Gbem5RCyd9J4",
        "outputId": "29d408b1-c096-44a8-fd90-7d5431340c1d"
      },
      "source": [
        "fpr_, tpr_ = built_roc_auc(y_test, y_pred_prob);\n",
        "print('have some modification: {:.3f}'.format(auc(fpr_, tpr_)))"
      ],
      "execution_count": null,
      "outputs": [
        {
          "output_type": "display_data",
          "data": {
            "image/png": "[encoded data removed]",
            "text/plain": [
              "<Figure size 432x288 with 1 Axes>"
            ]
          },
          "metadata": {
            "tags": [],
            "needs_background": "light"
          }
        },
        {
          "output_type": "stream",
          "text": [
            "have some modification: 0.974\n"
          ],
          "name": "stdout"
        }
      ]
    },
    {
      "cell_type": "code",
      "metadata": {
        "colab": {
          "base_uri": "https://localhost:8080/",
          "height": 577
        },
        "id": "axycVqYpg_K7",
        "outputId": "f9927c08-cfec-4884-b81c-0e15766b62f2"
      },
      "source": [
        "\n",
        "fig, ax = plt.subplots(figsize = (12, 8))\n",
        "sns.heatmap(X_new.corr(), ax = ax)"
      ],
      "execution_count": null,
      "outputs": [
        {
          "output_type": "execute_result",
          "data": {
            "text/plain": [
              "<matplotlib.axes._subplots.AxesSubplot at 0x7fb6d688c050>"
            ]
          },
          "metadata": {
            "tags": []
          },
          "execution_count": 158
        },
        {
          "output_type": "display_data",
          "data": {
            "image/png": "[encoded data removed]",
            "text/plain": [
              "<Figure size 864x576 with 2 Axes>"
            ]
          },
          "metadata": {
            "tags": [],
            "needs_background": "light"
          }
        }
      ]
    },
    {
      "cell_type": "code",
      "metadata": {
        "id": "djeMjGbcoYp9"
      },
      "source": [
        "X_train, X_test, y_train, y_test = train_test_split(X_new, y, test_size = 0.2)"
      ],
      "execution_count": null,
      "outputs": []
    },
    {
      "cell_type": "markdown",
      "metadata": {
        "id": "qZwNOfTDOM9L"
      },
      "source": [
        "#### подбор по GridSearch."
      ]
    },
    {
      "cell_type": "code",
      "metadata": {
        "colab": {
          "base_uri": "https://localhost:8080/"
        },
        "id": "X4Bt38VBnmhS",
        "outputId": "208697fb-c8ea-4a04-841a-3fc968bb4cf7"
      },
      "source": [
        "C = np.arange(0.1, 10, 10)\n",
        "hyperparam_grid = {\n",
        "                  \"logisticregression__penalty\": [\"l1\", \"l2\"],\n",
        "                   \"logisticregression__C\": C, \n",
        "                   \"logisticregression__fit_intercept\": [True, False],\n",
        "                   }\n",
        "\n",
        "pipe = make_pipeline(\n",
        "    StandardScaler_my(),\n",
        "    LogisticRegression(class_weight = 'balanced'),\n",
        ")\n",
        "cv = StratifiedKFold(5, shuffle = True)\n",
        "grid = GridSearchCV(pipe,param_grid= hyperparam_grid, cv = cv, scoring = 'roc_auc')\n",
        "grid.fit(X_train, y_train)"
      ],
      "execution_count": null,
      "outputs": [
        {
          "output_type": "execute_result",
          "data": {
            "text/plain": [
              "GridSearchCV(cv=StratifiedKFold(n_splits=5, random_state=None, shuffle=True),\n",
              "             error_score=nan,\n",
              "             estimator=Pipeline(memory=None,\n",
              "                                steps=[('standardscaler_my',\n",
              "                                        StandardScaler_my(cols=None)),\n",
              "                                       ('logisticregression',\n",
              "                                        LogisticRegression(C=1.0,\n",
              "                                                           class_weight='balanced',\n",
              "                                                           dual=False,\n",
              "                                                           fit_intercept=True,\n",
              "                                                           intercept_scaling=1,\n",
              "                                                           l1_ratio=None,\n",
              "                                                           max_iter=100,\n",
              "                                                           multi_class='auto',\n",
              "                                                           n_j...\n",
              "                                                           penalty='l2',\n",
              "                                                           random_state=None,\n",
              "                                                           solver='lbfgs',\n",
              "                                                           tol=0.0001,\n",
              "                                                           verbose=0,\n",
              "                                                           warm_start=False))],\n",
              "                                verbose=False),\n",
              "             iid='deprecated', n_jobs=None,\n",
              "             param_grid={'logisticregression__C': array([0.1]),\n",
              "                         'logisticregression__fit_intercept': [True, False],\n",
              "                         'logisticregression__penalty': ['l1', 'l2']},\n",
              "             pre_dispatch='2*n_jobs', refit=True, return_train_score=False,\n",
              "             scoring='roc_auc', verbose=0)"
            ]
          },
          "metadata": {
            "tags": []
          },
          "execution_count": 160
        }
      ]
    },
    {
      "cell_type": "code",
      "metadata": {
        "colab": {
          "base_uri": "https://localhost:8080/"
        },
        "id": "7bvvqsxopOwb",
        "outputId": "894fdaa0-a626-42ba-b71f-3664a17b61d9"
      },
      "source": [
        "grid.best_estimator_.get_params()"
      ],
      "execution_count": null,
      "outputs": [
        {
          "output_type": "execute_result",
          "data": {
            "text/plain": [
              "{'logisticregression': LogisticRegression(C=0.1, class_weight='balanced', dual=False,\n",
              "                    fit_intercept=False, intercept_scaling=1, l1_ratio=None,\n",
              "                    max_iter=100, multi_class='auto', n_jobs=None, penalty='l2',\n",
              "                    random_state=None, solver='lbfgs', tol=0.0001, verbose=0,\n",
              "                    warm_start=False),\n",
              " 'logisticregression__C': 0.1,\n",
              " 'logisticregression__class_weight': 'balanced',\n",
              " 'logisticregression__dual': False,\n",
              " 'logisticregression__fit_intercept': False,\n",
              " 'logisticregression__intercept_scaling': 1,\n",
              " 'logisticregression__l1_ratio': None,\n",
              " 'logisticregression__max_iter': 100,\n",
              " 'logisticregression__multi_class': 'auto',\n",
              " 'logisticregression__n_jobs': None,\n",
              " 'logisticregression__penalty': 'l2',\n",
              " 'logisticregression__random_state': None,\n",
              " 'logisticregression__solver': 'lbfgs',\n",
              " 'logisticregression__tol': 0.0001,\n",
              " 'logisticregression__verbose': 0,\n",
              " 'logisticregression__warm_start': False,\n",
              " 'memory': None,\n",
              " 'standardscaler_my': StandardScaler_my(cols=None),\n",
              " 'standardscaler_my__cols': None,\n",
              " 'steps': [('standardscaler_my', StandardScaler_my(cols=None)),\n",
              "  ('logisticregression',\n",
              "   LogisticRegression(C=0.1, class_weight='balanced', dual=False,\n",
              "                      fit_intercept=False, intercept_scaling=1, l1_ratio=None,\n",
              "                      max_iter=100, multi_class='auto', n_jobs=None, penalty='l2',\n",
              "                      random_state=None, solver='lbfgs', tol=0.0001, verbose=0,\n",
              "                      warm_start=False))],\n",
              " 'verbose': False}"
            ]
          },
          "metadata": {
            "tags": []
          },
          "execution_count": 161
        }
      ]
    },
    {
      "cell_type": "code",
      "metadata": {
        "id": "Q-IWHqMBBOvh"
      },
      "source": [
        "# С подбором некотрых параметров"
      ],
      "execution_count": null,
      "outputs": []
    },
    {
      "cell_type": "markdown",
      "metadata": {
        "id": "vxFNjjt8Cl5c"
      },
      "source": [
        "Некоторый итог. На кросс-валидации.\n",
        "\n"
      ]
    },
    {
      "cell_type": "code",
      "metadata": {
        "colab": {
          "base_uri": "https://localhost:8080/"
        },
        "id": "UFB-xQdAqFhd",
        "outputId": "7245036d-464f-4a31-b302-a0cb9ba36109"
      },
      "source": [
        "cross_val_score_my(grid.best_estimator_, X, y, cv = 5, scoring = 'roc_auc')"
      ],
      "execution_count": null,
      "outputs": [
        {
          "output_type": "stream",
          "text": [
            "cross_val_score  auc: 0.984 +- 0.005 \n"
          ],
          "name": "stdout"
        }
      ]
    },
    {
      "cell_type": "code",
      "metadata": {
        "colab": {
          "base_uri": "https://localhost:8080/"
        },
        "id": "789LoURzqiPW",
        "outputId": "705fc084-c30a-4a8f-d826-bf053cd09dc3"
      },
      "source": [
        "grid.best_estimator_.fit(X_train, y_train)"
      ],
      "execution_count": null,
      "outputs": [
        {
          "output_type": "execute_result",
          "data": {
            "text/plain": [
              "Pipeline(memory=None,\n",
              "         steps=[('standardscaler_my', StandardScaler_my(cols=None)),\n",
              "                ('logisticregression',\n",
              "                 LogisticRegression(C=0.1, class_weight='balanced', dual=False,\n",
              "                                    fit_intercept=False, intercept_scaling=1,\n",
              "                                    l1_ratio=None, max_iter=100,\n",
              "                                    multi_class='auto', n_jobs=None,\n",
              "                                    penalty='l2', random_state=None,\n",
              "                                    solver='lbfgs', tol=0.0001, verbose=0,\n",
              "                                    warm_start=False))],\n",
              "         verbose=False)"
            ]
          },
          "metadata": {
            "tags": []
          },
          "execution_count": 164
        }
      ]
    },
    {
      "cell_type": "code",
      "metadata": {
        "id": "I5rYg2xVqmeX"
      },
      "source": [
        "y_pred = grid.best_estimator_.predict(X_test)\n",
        "y_pred_prob = grid.best_estimator_.predict_proba(X_test)"
      ],
      "execution_count": null,
      "outputs": []
    },
    {
      "cell_type": "code",
      "metadata": {
        "colab": {
          "base_uri": "https://localhost:8080/",
          "height": 356
        },
        "id": "YBvzxcnpqNVp",
        "outputId": "14bd1fff-8a38-4e77-a78b-5aa4db5e302a"
      },
      "source": [
        "built_conf_matr(y_test, y_pred)"
      ],
      "execution_count": null,
      "outputs": [
        {
          "output_type": "display_data",
          "data": {
            "image/png": "[encoded data removed]",
            "text/plain": [
              "<Figure size 432x288 with 2 Axes>"
            ]
          },
          "metadata": {
            "tags": [],
            "needs_background": "light"
          }
        },
        {
          "output_type": "execute_result",
          "data": {
            "text/html": [
              "<div>\n",
              "<style scoped>\n",
              "    .dataframe tbody tr th:only-of-type {\n",
              "        vertical-align: middle;\n",
              "    }\n",
              "\n",
              "    .dataframe tbody tr th {\n",
              "        vertical-align: top;\n",
              "    }\n",
              "\n",
              "    .dataframe thead th {\n",
              "        text-align: right;\n",
              "    }\n",
              "</style>\n",
              "<table border=\"1\" class=\"dataframe\">\n",
              "  <thead>\n",
              "    <tr style=\"text-align: right;\">\n",
              "      <th></th>\n",
              "      <th>true 0</th>\n",
              "      <th>true 1</th>\n",
              "    </tr>\n",
              "  </thead>\n",
              "  <tbody>\n",
              "    <tr>\n",
              "      <th>a 0</th>\n",
              "      <td>53569</td>\n",
              "      <td>5</td>\n",
              "    </tr>\n",
              "    <tr>\n",
              "      <th>a 1</th>\n",
              "      <td>3313</td>\n",
              "      <td>75</td>\n",
              "    </tr>\n",
              "  </tbody>\n",
              "</table>\n",
              "</div>"
            ],
            "text/plain": [
              "     true 0  true 1\n",
              "a 0   53569       5\n",
              "a 1    3313      75"
            ]
          },
          "metadata": {
            "tags": []
          },
          "execution_count": 166
        }
      ]
    },
    {
      "cell_type": "code",
      "metadata": {
        "colab": {
          "base_uri": "https://localhost:8080/",
          "height": 282
        },
        "id": "wKwQuKYjqUJy",
        "outputId": "c32315bd-5e8d-4214-888f-6c0c3ee7c259"
      },
      "source": [
        "fpr_, tpr_ = built_roc_auc(y_test, y_pred_prob);\n",
        "auc(fpr_, tpr_)"
      ],
      "execution_count": null,
      "outputs": [
        {
          "output_type": "display_data",
          "data": {
            "image/png": "[encoded data removed]",
            "text/plain": [
              "<Figure size 432x288 with 1 Axes>"
            ]
          },
          "metadata": {
            "tags": [],
            "needs_background": "light"
          }
        },
        {
          "output_type": "execute_result",
          "data": {
            "text/plain": [
              "0.9787540434583877"
            ]
          },
          "metadata": {
            "tags": []
          },
          "execution_count": 167
        }
      ]
    },
    {
      "cell_type": "code",
      "metadata": {
        "id": "aj3iEd-8EKfn"
      },
      "source": [
        "from sklearn.metrics import SCORERS\n",
        "keys = set(SCORERS.keys())\n",
        "scorings = ['f1', 'recall', 'precision', 'roc_auc', 'accuracy']\n",
        "for scor in scorings:\n",
        "  if(scor not in keys):\n",
        "    print(scor, ' not exsist!')\n"
      ],
      "execution_count": null,
      "outputs": []
    },
    {
      "cell_type": "code",
      "metadata": {
        "colab": {
          "base_uri": "https://localhost:8080/"
        },
        "id": "oNwEAGWy_U2t",
        "outputId": "11821bf7-f2fa-42ad-fdb9-673b5cb8cc18"
      },
      "source": [
        "# Рассмотрим для нашего алгоритма все метрики precision, recall, accuracy, f1, roc_auc\n",
        "model_best = grid.best_estimator_\n",
        "values_metric = {}\n",
        "for idx, scor in enumerate(scorings):\n",
        "  n_scores = cross_val_score_my(model_best, X_new, y, cv = 7, \n",
        "                                scoring = scor, text = scor + ' ', return_scores = True)\n",
        "  values_metric[scor] = n_scores.mean()\n",
        "\n"
      ],
      "execution_count": null,
      "outputs": [
        {
          "output_type": "stream",
          "text": [
            "cross_val_score f1  auc: 0.059 +- 0.005 \n",
            "cross_val_score recall  auc: 0.931 +- 0.028 \n",
            "cross_val_score precision  auc: 0.031 +- 0.002 \n",
            "cross_val_score roc_auc  auc: 0.982 +- 0.006 \n",
            "cross_val_score accuracy  auc: 0.948 +- 0.004 \n"
          ],
          "name": "stdout"
        }
      ]
    },
    {
      "cell_type": "code",
      "metadata": {
        "id": "5jLcz6VJFF8O"
      },
      "source": [
        "# Матрица ошибок confusion matrix"
      ],
      "execution_count": null,
      "outputs": []
    },
    {
      "cell_type": "markdown",
      "metadata": {
        "id": "oW2Z8AkcD8wC"
      },
      "source": [
        "Мы постарались сделать так, чтобы класс мошеннических лучше различался. НАМ ВАЖНО ВЫЛАВЛИВАТЬ ИХ!"
      ]
    },
    {
      "cell_type": "code",
      "metadata": {
        "colab": {
          "base_uri": "https://localhost:8080/",
          "height": 356
        },
        "id": "q1vu_qo226kO",
        "outputId": "9c700a4d-582a-4c6d-9248-bb06a8b2d233"
      },
      "source": [
        "# надо по другому раскрасить \n",
        "built_conf_matr(y_test, y_pred)"
      ],
      "execution_count": null,
      "outputs": [
        {
          "output_type": "display_data",
          "data": {
            "image/png": "[encoded data removed]",
            "text/plain": [
              "<Figure size 432x288 with 2 Axes>"
            ]
          },
          "metadata": {
            "tags": [],
            "needs_background": "light"
          }
        },
        {
          "output_type": "execute_result",
          "data": {
            "text/html": [
              "<div>\n",
              "<style scoped>\n",
              "    .dataframe tbody tr th:only-of-type {\n",
              "        vertical-align: middle;\n",
              "    }\n",
              "\n",
              "    .dataframe tbody tr th {\n",
              "        vertical-align: top;\n",
              "    }\n",
              "\n",
              "    .dataframe thead th {\n",
              "        text-align: right;\n",
              "    }\n",
              "</style>\n",
              "<table border=\"1\" class=\"dataframe\">\n",
              "  <thead>\n",
              "    <tr style=\"text-align: right;\">\n",
              "      <th></th>\n",
              "      <th>true 0</th>\n",
              "      <th>true 1</th>\n",
              "    </tr>\n",
              "  </thead>\n",
              "  <tbody>\n",
              "    <tr>\n",
              "      <th>a 0</th>\n",
              "      <td>53569</td>\n",
              "      <td>5</td>\n",
              "    </tr>\n",
              "    <tr>\n",
              "      <th>a 1</th>\n",
              "      <td>3313</td>\n",
              "      <td>75</td>\n",
              "    </tr>\n",
              "  </tbody>\n",
              "</table>\n",
              "</div>"
            ],
            "text/plain": [
              "     true 0  true 1\n",
              "a 0   53569       5\n",
              "a 1    3313      75"
            ]
          },
          "metadata": {
            "tags": []
          },
          "execution_count": 171
        }
      ]
    },
    {
      "cell_type": "code",
      "metadata": {
        "colab": {
          "base_uri": "https://localhost:8080/",
          "height": 351
        },
        "id": "gRUxIXq4q0IF",
        "outputId": "13d8a67f-4d4f-40c8-8139-d4e822b2845b"
      },
      "source": [
        "fig, ax  = plt.subplots(figsize = (8, 5))\n",
        "Time = df.Time\n",
        "sns.distplot(a = Time, bins = 50, hist = True, color = 'b', ax = ax)\n",
        "ax.set_title('Distribution of Time', fontsize = 14)\n",
        "ax.set_xlim(left = Time.values.min(), right = Time.values.max())\n",
        "plt.show()"
      ],
      "execution_count": null,
      "outputs": [
        {
          "output_type": "display_data",
          "data": {
            "image/png": "[encoded data removed]",
            "text/plain": [
              "<Figure size 576x360 with 1 Axes>"
            ]
          },
          "metadata": {
            "tags": [],
            "needs_background": "light"
          }
        }
      ]
    },
    {
      "cell_type": "markdown",
      "metadata": {
        "id": "cfovEXR3DpB8"
      },
      "source": [
        "### Поробуем сделать DownSampling до уровня отношения классов 50/50. Довольно опрометчиво удалять столько данных. Но попробуем!"
      ]
    },
    {
      "cell_type": "code",
      "metadata": {
        "id": "w4sagw8z2AP5"
      },
      "source": [
        "from sklearn.preprocessing import StandardScaler, RobustScaler\n",
        "\n",
        "std_scale = StandardScaler()\n",
        "rob_scale = RobustScaler()\n",
        "\n",
        "df['scaled_Amount'] = rob_scale.fit_transform(df.Amount.values[:, None])\n",
        "df['scaled_Time'] = rob_scale.fit_transform(df.Time.values[:, None])\n",
        "\n",
        "df = df.drop(['Time', 'Amount'], axis = 1)"
      ],
      "execution_count": null,
      "outputs": []
    },
    {
      "cell_type": "code",
      "metadata": {
        "id": "P3bG5nnk3l0c"
      },
      "source": [
        "# for insert first columns\n",
        "scaled_Amount = df['scaled_Amount']\n",
        "scaled_Time = df['scaled_Time']\n",
        "\n",
        "df = df.drop(columns = ['scaled_Amount', 'scaled_Time'], axis = 1)\n",
        "df.insert(0, 'scaled_Amount', scaled_Amount)\n",
        "df.insert(1, 'scaled_Time', scaled_Time)\n"
      ],
      "execution_count": null,
      "outputs": []
    },
    {
      "cell_type": "code",
      "metadata": {
        "colab": {
          "base_uri": "https://localhost:8080/",
          "height": 218
        },
        "id": "XGKdVQUG4VbJ",
        "outputId": "e2ddaaef-121f-4be4-bff6-ff3224856e5f"
      },
      "source": [
        "df.head()"
      ],
      "execution_count": null,
      "outputs": [
        {
          "output_type": "execute_result",
          "data": {
            "text/html": [
              "<div>\n",
              "<style scoped>\n",
              "    .dataframe tbody tr th:only-of-type {\n",
              "        vertical-align: middle;\n",
              "    }\n",
              "\n",
              "    .dataframe tbody tr th {\n",
              "        vertical-align: top;\n",
              "    }\n",
              "\n",
              "    .dataframe thead th {\n",
              "        text-align: right;\n",
              "    }\n",
              "</style>\n",
              "<table border=\"1\" class=\"dataframe\">\n",
              "  <thead>\n",
              "    <tr style=\"text-align: right;\">\n",
              "      <th></th>\n",
              "      <th>scaled_Amount</th>\n",
              "      <th>scaled_Time</th>\n",
              "      <th>V1</th>\n",
              "      <th>V2</th>\n",
              "      <th>V3</th>\n",
              "      <th>V4</th>\n",
              "      <th>V5</th>\n",
              "      <th>V6</th>\n",
              "      <th>V7</th>\n",
              "      <th>V8</th>\n",
              "      <th>V9</th>\n",
              "      <th>V10</th>\n",
              "      <th>V11</th>\n",
              "      <th>V12</th>\n",
              "      <th>V13</th>\n",
              "      <th>V14</th>\n",
              "      <th>V15</th>\n",
              "      <th>V16</th>\n",
              "      <th>V17</th>\n",
              "      <th>V18</th>\n",
              "      <th>V19</th>\n",
              "      <th>V20</th>\n",
              "      <th>V21</th>\n",
              "      <th>V22</th>\n",
              "      <th>V23</th>\n",
              "      <th>V24</th>\n",
              "      <th>V25</th>\n",
              "      <th>V26</th>\n",
              "      <th>V27</th>\n",
              "      <th>V28</th>\n",
              "      <th>Class</th>\n",
              "      <th>t_d</th>\n",
              "      <th>t_h</th>\n",
              "      <th>t_m</th>\n",
              "      <th>t_s</th>\n",
              "    </tr>\n",
              "  </thead>\n",
              "  <tbody>\n",
              "    <tr>\n",
              "      <th>0</th>\n",
              "      <td>1.783274</td>\n",
              "      <td>-0.994983</td>\n",
              "      <td>-1.359807</td>\n",
              "      <td>-0.072781</td>\n",
              "      <td>2.536347</td>\n",
              "      <td>1.378155</td>\n",
              "      <td>-0.338321</td>\n",
              "      <td>0.462388</td>\n",
              "      <td>0.239599</td>\n",
              "      <td>0.098698</td>\n",
              "      <td>0.363787</td>\n",
              "      <td>0.090794</td>\n",
              "      <td>-0.551600</td>\n",
              "      <td>-0.617801</td>\n",
              "      <td>-0.991390</td>\n",
              "      <td>-0.311169</td>\n",
              "      <td>1.468177</td>\n",
              "      <td>-0.470401</td>\n",
              "      <td>0.207971</td>\n",
              "      <td>0.025791</td>\n",
              "      <td>0.403993</td>\n",
              "      <td>0.251412</td>\n",
              "      <td>-0.018307</td>\n",
              "      <td>0.277838</td>\n",
              "      <td>-0.110474</td>\n",
              "      <td>0.066928</td>\n",
              "      <td>0.128539</td>\n",
              "      <td>-0.189115</td>\n",
              "      <td>0.133558</td>\n",
              "      <td>-0.021053</td>\n",
              "      <td>0</td>\n",
              "      <td>0</td>\n",
              "      <td>0</td>\n",
              "      <td>0</td>\n",
              "      <td>0</td>\n",
              "    </tr>\n",
              "    <tr>\n",
              "      <th>1</th>\n",
              "      <td>-0.269825</td>\n",
              "      <td>-0.994983</td>\n",
              "      <td>1.191857</td>\n",
              "      <td>0.266151</td>\n",
              "      <td>0.166480</td>\n",
              "      <td>0.448154</td>\n",
              "      <td>0.060018</td>\n",
              "      <td>-0.082361</td>\n",
              "      <td>-0.078803</td>\n",
              "      <td>0.085102</td>\n",
              "      <td>-0.255425</td>\n",
              "      <td>-0.166974</td>\n",
              "      <td>1.612727</td>\n",
              "      <td>1.065235</td>\n",
              "      <td>0.489095</td>\n",
              "      <td>-0.143772</td>\n",
              "      <td>0.635558</td>\n",
              "      <td>0.463917</td>\n",
              "      <td>-0.114805</td>\n",
              "      <td>-0.183361</td>\n",
              "      <td>-0.145783</td>\n",
              "      <td>-0.069083</td>\n",
              "      <td>-0.225775</td>\n",
              "      <td>-0.638672</td>\n",
              "      <td>0.101288</td>\n",
              "      <td>-0.339846</td>\n",
              "      <td>0.167170</td>\n",
              "      <td>0.125895</td>\n",
              "      <td>-0.008983</td>\n",
              "      <td>0.014724</td>\n",
              "      <td>0</td>\n",
              "      <td>0</td>\n",
              "      <td>0</td>\n",
              "      <td>0</td>\n",
              "      <td>0</td>\n",
              "    </tr>\n",
              "    <tr>\n",
              "      <th>2</th>\n",
              "      <td>4.983721</td>\n",
              "      <td>-0.994972</td>\n",
              "      <td>-1.358354</td>\n",
              "      <td>-1.340163</td>\n",
              "      <td>1.773209</td>\n",
              "      <td>0.379780</td>\n",
              "      <td>-0.503198</td>\n",
              "      <td>1.800499</td>\n",
              "      <td>0.791461</td>\n",
              "      <td>0.247676</td>\n",
              "      <td>-1.514654</td>\n",
              "      <td>0.207643</td>\n",
              "      <td>0.624501</td>\n",
              "      <td>0.066084</td>\n",
              "      <td>0.717293</td>\n",
              "      <td>-0.165946</td>\n",
              "      <td>2.345865</td>\n",
              "      <td>-2.890083</td>\n",
              "      <td>1.109969</td>\n",
              "      <td>-0.121359</td>\n",
              "      <td>-2.261857</td>\n",
              "      <td>0.524980</td>\n",
              "      <td>0.247998</td>\n",
              "      <td>0.771679</td>\n",
              "      <td>0.909412</td>\n",
              "      <td>-0.689281</td>\n",
              "      <td>-0.327642</td>\n",
              "      <td>-0.139097</td>\n",
              "      <td>-0.055353</td>\n",
              "      <td>-0.059752</td>\n",
              "      <td>0</td>\n",
              "      <td>0</td>\n",
              "      <td>0</td>\n",
              "      <td>0</td>\n",
              "      <td>1</td>\n",
              "    </tr>\n",
              "    <tr>\n",
              "      <th>3</th>\n",
              "      <td>1.418291</td>\n",
              "      <td>-0.994972</td>\n",
              "      <td>-0.966272</td>\n",
              "      <td>-0.185226</td>\n",
              "      <td>1.792993</td>\n",
              "      <td>-0.863291</td>\n",
              "      <td>-0.010309</td>\n",
              "      <td>1.247203</td>\n",
              "      <td>0.237609</td>\n",
              "      <td>0.377436</td>\n",
              "      <td>-1.387024</td>\n",
              "      <td>-0.054952</td>\n",
              "      <td>-0.226487</td>\n",
              "      <td>0.178228</td>\n",
              "      <td>0.507757</td>\n",
              "      <td>-0.287924</td>\n",
              "      <td>-0.631418</td>\n",
              "      <td>-1.059647</td>\n",
              "      <td>-0.684093</td>\n",
              "      <td>1.965775</td>\n",
              "      <td>-1.232622</td>\n",
              "      <td>-0.208038</td>\n",
              "      <td>-0.108300</td>\n",
              "      <td>0.005274</td>\n",
              "      <td>-0.190321</td>\n",
              "      <td>-1.175575</td>\n",
              "      <td>0.647376</td>\n",
              "      <td>-0.221929</td>\n",
              "      <td>0.062723</td>\n",
              "      <td>0.061458</td>\n",
              "      <td>0</td>\n",
              "      <td>0</td>\n",
              "      <td>0</td>\n",
              "      <td>0</td>\n",
              "      <td>1</td>\n",
              "    </tr>\n",
              "    <tr>\n",
              "      <th>4</th>\n",
              "      <td>0.670579</td>\n",
              "      <td>-0.994960</td>\n",
              "      <td>-1.158233</td>\n",
              "      <td>0.877737</td>\n",
              "      <td>1.548718</td>\n",
              "      <td>0.403034</td>\n",
              "      <td>-0.407193</td>\n",
              "      <td>0.095921</td>\n",
              "      <td>0.592941</td>\n",
              "      <td>-0.270533</td>\n",
              "      <td>0.817739</td>\n",
              "      <td>0.753074</td>\n",
              "      <td>-0.822843</td>\n",
              "      <td>0.538196</td>\n",
              "      <td>1.345852</td>\n",
              "      <td>-1.119670</td>\n",
              "      <td>0.175121</td>\n",
              "      <td>-0.451449</td>\n",
              "      <td>-0.237033</td>\n",
              "      <td>-0.038195</td>\n",
              "      <td>0.803487</td>\n",
              "      <td>0.408542</td>\n",
              "      <td>-0.009431</td>\n",
              "      <td>0.798278</td>\n",
              "      <td>-0.137458</td>\n",
              "      <td>0.141267</td>\n",
              "      <td>-0.206010</td>\n",
              "      <td>0.502292</td>\n",
              "      <td>0.219422</td>\n",
              "      <td>0.215153</td>\n",
              "      <td>0</td>\n",
              "      <td>0</td>\n",
              "      <td>0</td>\n",
              "      <td>0</td>\n",
              "      <td>2</td>\n",
              "    </tr>\n",
              "  </tbody>\n",
              "</table>\n",
              "</div>"
            ],
            "text/plain": [
              "   scaled_Amount  scaled_Time        V1        V2  ...  t_d  t_h  t_m  t_s\n",
              "0       1.783274    -0.994983 -1.359807 -0.072781  ...    0    0    0    0\n",
              "1      -0.269825    -0.994983  1.191857  0.266151  ...    0    0    0    0\n",
              "2       4.983721    -0.994972 -1.358354 -1.340163  ...    0    0    0    1\n",
              "3       1.418291    -0.994972 -0.966272 -0.185226  ...    0    0    0    1\n",
              "4       0.670579    -0.994960 -1.158233  0.877737  ...    0    0    0    2\n",
              "\n",
              "[5 rows x 35 columns]"
            ]
          },
          "metadata": {
            "tags": []
          },
          "execution_count": 175
        }
      ]
    },
    {
      "cell_type": "code",
      "metadata": {
        "id": "81vlB_2z4YA-"
      },
      "source": [
        "from sklearn.model_selection import StratifiedShuffleSplit\n"
      ],
      "execution_count": null,
      "outputs": []
    },
    {
      "cell_type": "code",
      "metadata": {
        "colab": {
          "base_uri": "https://localhost:8080/",
          "height": 218
        },
        "id": "ttdSgFxY6DDY",
        "outputId": "22c6ebdd-5af2-4118-d4e5-2db66d46f5ff"
      },
      "source": [
        "df = df.sample(frac = 1) # shuffle random\n",
        "df.head()"
      ],
      "execution_count": null,
      "outputs": [
        {
          "output_type": "execute_result",
          "data": {
            "text/html": [
              "<div>\n",
              "<style scoped>\n",
              "    .dataframe tbody tr th:only-of-type {\n",
              "        vertical-align: middle;\n",
              "    }\n",
              "\n",
              "    .dataframe tbody tr th {\n",
              "        vertical-align: top;\n",
              "    }\n",
              "\n",
              "    .dataframe thead th {\n",
              "        text-align: right;\n",
              "    }\n",
              "</style>\n",
              "<table border=\"1\" class=\"dataframe\">\n",
              "  <thead>\n",
              "    <tr style=\"text-align: right;\">\n",
              "      <th></th>\n",
              "      <th>scaled_Amount</th>\n",
              "      <th>scaled_Time</th>\n",
              "      <th>V1</th>\n",
              "      <th>V2</th>\n",
              "      <th>V3</th>\n",
              "      <th>V4</th>\n",
              "      <th>V5</th>\n",
              "      <th>V6</th>\n",
              "      <th>V7</th>\n",
              "      <th>V8</th>\n",
              "      <th>V9</th>\n",
              "      <th>V10</th>\n",
              "      <th>V11</th>\n",
              "      <th>V12</th>\n",
              "      <th>V13</th>\n",
              "      <th>V14</th>\n",
              "      <th>V15</th>\n",
              "      <th>V16</th>\n",
              "      <th>V17</th>\n",
              "      <th>V18</th>\n",
              "      <th>V19</th>\n",
              "      <th>V20</th>\n",
              "      <th>V21</th>\n",
              "      <th>V22</th>\n",
              "      <th>V23</th>\n",
              "      <th>V24</th>\n",
              "      <th>V25</th>\n",
              "      <th>V26</th>\n",
              "      <th>V27</th>\n",
              "      <th>V28</th>\n",
              "      <th>Class</th>\n",
              "      <th>t_d</th>\n",
              "      <th>t_h</th>\n",
              "      <th>t_m</th>\n",
              "      <th>t_s</th>\n",
              "    </tr>\n",
              "  </thead>\n",
              "  <tbody>\n",
              "    <tr>\n",
              "      <th>166834</th>\n",
              "      <td>-0.296653</td>\n",
              "      <td>0.395247</td>\n",
              "      <td>-0.043924</td>\n",
              "      <td>0.784120</td>\n",
              "      <td>-2.177953</td>\n",
              "      <td>-2.164026</td>\n",
              "      <td>3.634861</td>\n",
              "      <td>2.735047</td>\n",
              "      <td>1.052504</td>\n",
              "      <td>0.611482</td>\n",
              "      <td>-0.551229</td>\n",
              "      <td>-0.455099</td>\n",
              "      <td>-0.147097</td>\n",
              "      <td>-0.116272</td>\n",
              "      <td>-0.470909</td>\n",
              "      <td>0.927224</td>\n",
              "      <td>0.243337</td>\n",
              "      <td>-0.739134</td>\n",
              "      <td>-0.483489</td>\n",
              "      <td>-0.502455</td>\n",
              "      <td>-0.259043</td>\n",
              "      <td>-0.001219</td>\n",
              "      <td>0.244370</td>\n",
              "      <td>0.796976</td>\n",
              "      <td>-0.211096</td>\n",
              "      <td>0.755243</td>\n",
              "      <td>-0.272899</td>\n",
              "      <td>0.109119</td>\n",
              "      <td>0.414498</td>\n",
              "      <td>0.262515</td>\n",
              "      <td>0</td>\n",
              "      <td>1</td>\n",
              "      <td>8</td>\n",
              "      <td>52</td>\n",
              "      <td>15</td>\n",
              "    </tr>\n",
              "    <tr>\n",
              "      <th>80514</th>\n",
              "      <td>-0.167819</td>\n",
              "      <td>-0.307452</td>\n",
              "      <td>1.297184</td>\n",
              "      <td>-0.551582</td>\n",
              "      <td>0.646926</td>\n",
              "      <td>-1.062745</td>\n",
              "      <td>-1.051244</td>\n",
              "      <td>-0.298708</td>\n",
              "      <td>-0.903773</td>\n",
              "      <td>0.147967</td>\n",
              "      <td>2.099393</td>\n",
              "      <td>-0.960419</td>\n",
              "      <td>-1.423779</td>\n",
              "      <td>-0.608760</td>\n",
              "      <td>-1.255642</td>\n",
              "      <td>0.163962</td>\n",
              "      <td>2.493076</td>\n",
              "      <td>0.417400</td>\n",
              "      <td>-0.790542</td>\n",
              "      <td>1.269639</td>\n",
              "      <td>0.506992</td>\n",
              "      <td>-0.151678</td>\n",
              "      <td>0.186049</td>\n",
              "      <td>0.618529</td>\n",
              "      <td>-0.223804</td>\n",
              "      <td>-0.637871</td>\n",
              "      <td>0.566435</td>\n",
              "      <td>-0.483958</td>\n",
              "      <td>0.091752</td>\n",
              "      <td>0.028439</td>\n",
              "      <td>0</td>\n",
              "      <td>0</td>\n",
              "      <td>16</td>\n",
              "      <td>15</td>\n",
              "      <td>22</td>\n",
              "    </tr>\n",
              "    <tr>\n",
              "      <th>63811</th>\n",
              "      <td>0.229721</td>\n",
              "      <td>-0.397267</td>\n",
              "      <td>-0.769268</td>\n",
              "      <td>-0.098799</td>\n",
              "      <td>1.454134</td>\n",
              "      <td>-1.437819</td>\n",
              "      <td>-0.653387</td>\n",
              "      <td>-0.657554</td>\n",
              "      <td>0.208390</td>\n",
              "      <td>-0.581698</td>\n",
              "      <td>-2.572966</td>\n",
              "      <td>1.893131</td>\n",
              "      <td>0.397709</td>\n",
              "      <td>-0.583830</td>\n",
              "      <td>1.316319</td>\n",
              "      <td>-0.674333</td>\n",
              "      <td>0.940855</td>\n",
              "      <td>-1.624659</td>\n",
              "      <td>1.187352</td>\n",
              "      <td>-1.037113</td>\n",
              "      <td>0.730144</td>\n",
              "      <td>-0.205170</td>\n",
              "      <td>-0.527144</td>\n",
              "      <td>-0.750525</td>\n",
              "      <td>-0.186008</td>\n",
              "      <td>0.385138</td>\n",
              "      <td>-0.527233</td>\n",
              "      <td>-0.520798</td>\n",
              "      <td>-0.750139</td>\n",
              "      <td>-0.755792</td>\n",
              "      <td>0</td>\n",
              "      <td>0</td>\n",
              "      <td>14</td>\n",
              "      <td>7</td>\n",
              "      <td>57</td>\n",
              "    </tr>\n",
              "    <tr>\n",
              "      <th>21388</th>\n",
              "      <td>-0.289387</td>\n",
              "      <td>-0.623327</td>\n",
              "      <td>-0.377589</td>\n",
              "      <td>1.079612</td>\n",
              "      <td>1.264757</td>\n",
              "      <td>0.011935</td>\n",
              "      <td>0.197176</td>\n",
              "      <td>-0.518399</td>\n",
              "      <td>0.617737</td>\n",
              "      <td>0.076917</td>\n",
              "      <td>-0.367920</td>\n",
              "      <td>-0.548519</td>\n",
              "      <td>-0.024360</td>\n",
              "      <td>-0.101300</td>\n",
              "      <td>-0.104651</td>\n",
              "      <td>-0.361154</td>\n",
              "      <td>1.167572</td>\n",
              "      <td>0.099152</td>\n",
              "      <td>0.298553</td>\n",
              "      <td>-0.563832</td>\n",
              "      <td>-0.447770</td>\n",
              "      <td>0.063415</td>\n",
              "      <td>-0.240028</td>\n",
              "      <td>-0.590847</td>\n",
              "      <td>0.011537</td>\n",
              "      <td>0.017534</td>\n",
              "      <td>-0.241337</td>\n",
              "      <td>0.102306</td>\n",
              "      <td>0.261677</td>\n",
              "      <td>0.094200</td>\n",
              "      <td>0</td>\n",
              "      <td>0</td>\n",
              "      <td>8</td>\n",
              "      <td>47</td>\n",
              "      <td>15</td>\n",
              "    </tr>\n",
              "    <tr>\n",
              "      <th>91098</th>\n",
              "      <td>10.172570</td>\n",
              "      <td>-0.251166</td>\n",
              "      <td>-3.101846</td>\n",
              "      <td>-3.801429</td>\n",
              "      <td>1.085071</td>\n",
              "      <td>-1.592506</td>\n",
              "      <td>-0.937389</td>\n",
              "      <td>0.926463</td>\n",
              "      <td>1.275678</td>\n",
              "      <td>0.440136</td>\n",
              "      <td>1.594326</td>\n",
              "      <td>-2.483126</td>\n",
              "      <td>-0.186595</td>\n",
              "      <td>0.377933</td>\n",
              "      <td>-1.482531</td>\n",
              "      <td>-0.220087</td>\n",
              "      <td>-0.962927</td>\n",
              "      <td>-0.645369</td>\n",
              "      <td>0.043020</td>\n",
              "      <td>0.730530</td>\n",
              "      <td>0.761879</td>\n",
              "      <td>1.861755</td>\n",
              "      <td>0.623524</td>\n",
              "      <td>0.340360</td>\n",
              "      <td>1.517725</td>\n",
              "      <td>-0.852347</td>\n",
              "      <td>0.987434</td>\n",
              "      <td>0.131608</td>\n",
              "      <td>-0.238667</td>\n",
              "      <td>0.121087</td>\n",
              "      <td>0</td>\n",
              "      <td>0</td>\n",
              "      <td>17</td>\n",
              "      <td>35</td>\n",
              "      <td>13</td>\n",
              "    </tr>\n",
              "  </tbody>\n",
              "</table>\n",
              "</div>"
            ],
            "text/plain": [
              "        scaled_Amount  scaled_Time        V1        V2  ...  t_d  t_h  t_m  t_s\n",
              "166834      -0.296653     0.395247 -0.043924  0.784120  ...    1    8   52   15\n",
              "80514       -0.167819    -0.307452  1.297184 -0.551582  ...    0   16   15   22\n",
              "63811        0.229721    -0.397267 -0.769268 -0.098799  ...    0   14    7   57\n",
              "21388       -0.289387    -0.623327 -0.377589  1.079612  ...    0    8   47   15\n",
              "91098       10.172570    -0.251166 -3.101846 -3.801429  ...    0   17   35   13\n",
              "\n",
              "[5 rows x 35 columns]"
            ]
          },
          "metadata": {
            "tags": []
          },
          "execution_count": 177
        }
      ]
    },
    {
      "cell_type": "code",
      "metadata": {
        "id": "kaG6EmbO6K0H"
      },
      "source": [
        "df_fraud = df[df.Class == 1]\n",
        "df_non_fraud = df[df.Class == 0].iloc[:len(df_fraud)]\n"
      ],
      "execution_count": null,
      "outputs": []
    },
    {
      "cell_type": "code",
      "metadata": {
        "colab": {
          "base_uri": "https://localhost:8080/"
        },
        "id": "8MYL9oP96xLT",
        "outputId": "62fd5281-a386-4cce-a5ac-d36d371bcf88"
      },
      "source": [
        "df_fraud.shape, df_non_fraud.shape"
      ],
      "execution_count": null,
      "outputs": [
        {
          "output_type": "execute_result",
          "data": {
            "text/plain": [
              "((492, 35), (492, 35))"
            ]
          },
          "metadata": {
            "tags": []
          },
          "execution_count": 179
        }
      ]
    },
    {
      "cell_type": "code",
      "metadata": {
        "id": "D0flEqMR7DUU"
      },
      "source": [
        "small_df = pd.concat([df_fraud, df_non_fraud])\n",
        "# we can shuffle also our data after shuffle"
      ],
      "execution_count": null,
      "outputs": []
    },
    {
      "cell_type": "code",
      "metadata": {
        "colab": {
          "base_uri": "https://localhost:8080/",
          "height": 428
        },
        "id": "zTbRI3av7TmZ",
        "outputId": "735cf438-4cc8-4ff3-9e52-c74d8831a36f"
      },
      "source": [
        "small_df_shuffled = small_df.sample(frac = 1, random_state = 42) # we can set our rs\n",
        "small_df_shuffled"
      ],
      "execution_count": null,
      "outputs": [
        {
          "output_type": "execute_result",
          "data": {
            "text/html": [
              "<div>\n",
              "<style scoped>\n",
              "    .dataframe tbody tr th:only-of-type {\n",
              "        vertical-align: middle;\n",
              "    }\n",
              "\n",
              "    .dataframe tbody tr th {\n",
              "        vertical-align: top;\n",
              "    }\n",
              "\n",
              "    .dataframe thead th {\n",
              "        text-align: right;\n",
              "    }\n",
              "</style>\n",
              "<table border=\"1\" class=\"dataframe\">\n",
              "  <thead>\n",
              "    <tr style=\"text-align: right;\">\n",
              "      <th></th>\n",
              "      <th>scaled_Amount</th>\n",
              "      <th>scaled_Time</th>\n",
              "      <th>V1</th>\n",
              "      <th>V2</th>\n",
              "      <th>V3</th>\n",
              "      <th>V4</th>\n",
              "      <th>V5</th>\n",
              "      <th>V6</th>\n",
              "      <th>V7</th>\n",
              "      <th>V8</th>\n",
              "      <th>V9</th>\n",
              "      <th>V10</th>\n",
              "      <th>V11</th>\n",
              "      <th>V12</th>\n",
              "      <th>V13</th>\n",
              "      <th>V14</th>\n",
              "      <th>V15</th>\n",
              "      <th>V16</th>\n",
              "      <th>V17</th>\n",
              "      <th>V18</th>\n",
              "      <th>V19</th>\n",
              "      <th>V20</th>\n",
              "      <th>V21</th>\n",
              "      <th>V22</th>\n",
              "      <th>V23</th>\n",
              "      <th>V24</th>\n",
              "      <th>V25</th>\n",
              "      <th>V26</th>\n",
              "      <th>V27</th>\n",
              "      <th>V28</th>\n",
              "      <th>Class</th>\n",
              "      <th>t_d</th>\n",
              "      <th>t_h</th>\n",
              "      <th>t_m</th>\n",
              "      <th>t_s</th>\n",
              "    </tr>\n",
              "  </thead>\n",
              "  <tbody>\n",
              "    <tr>\n",
              "      <th>153986</th>\n",
              "      <td>-0.098512</td>\n",
              "      <td>0.189687</td>\n",
              "      <td>1.980175</td>\n",
              "      <td>-0.478366</td>\n",
              "      <td>-0.192920</td>\n",
              "      <td>0.149892</td>\n",
              "      <td>-0.257576</td>\n",
              "      <td>0.826421</td>\n",
              "      <td>-1.127818</td>\n",
              "      <td>0.232001</td>\n",
              "      <td>2.374915</td>\n",
              "      <td>-0.251164</td>\n",
              "      <td>1.178705</td>\n",
              "      <td>-1.490726</td>\n",
              "      <td>2.402010</td>\n",
              "      <td>1.151760</td>\n",
              "      <td>-0.576052</td>\n",
              "      <td>1.005750</td>\n",
              "      <td>-0.435790</td>\n",
              "      <td>0.937806</td>\n",
              "      <td>0.007959</td>\n",
              "      <td>-0.116699</td>\n",
              "      <td>-0.107887</td>\n",
              "      <td>0.041129</td>\n",
              "      <td>0.253215</td>\n",
              "      <td>-0.135803</td>\n",
              "      <td>-0.527763</td>\n",
              "      <td>0.441116</td>\n",
              "      <td>-0.043332</td>\n",
              "      <td>-0.053801</td>\n",
              "      <td>0</td>\n",
              "      <td>1</td>\n",
              "      <td>4</td>\n",
              "      <td>0</td>\n",
              "      <td>38</td>\n",
              "    </tr>\n",
              "    <tr>\n",
              "      <th>151196</th>\n",
              "      <td>7.678055</td>\n",
              "      <td>0.120537</td>\n",
              "      <td>0.842025</td>\n",
              "      <td>-0.365518</td>\n",
              "      <td>-2.464063</td>\n",
              "      <td>4.820886</td>\n",
              "      <td>0.775505</td>\n",
              "      <td>-0.614785</td>\n",
              "      <td>1.368024</td>\n",
              "      <td>-0.526262</td>\n",
              "      <td>-0.121356</td>\n",
              "      <td>-0.357616</td>\n",
              "      <td>0.637767</td>\n",
              "      <td>-2.818882</td>\n",
              "      <td>2.360595</td>\n",
              "      <td>-1.108699</td>\n",
              "      <td>-1.449951</td>\n",
              "      <td>1.573740</td>\n",
              "      <td>2.202652</td>\n",
              "      <td>0.800471</td>\n",
              "      <td>-2.103583</td>\n",
              "      <td>0.944915</td>\n",
              "      <td>-0.110622</td>\n",
              "      <td>-1.257800</td>\n",
              "      <td>-0.324418</td>\n",
              "      <td>-0.420020</td>\n",
              "      <td>-0.219501</td>\n",
              "      <td>-0.268873</td>\n",
              "      <td>-0.144582</td>\n",
              "      <td>0.104464</td>\n",
              "      <td>1</td>\n",
              "      <td>1</td>\n",
              "      <td>2</td>\n",
              "      <td>22</td>\n",
              "      <td>32</td>\n",
              "    </tr>\n",
              "    <tr>\n",
              "      <th>2056</th>\n",
              "      <td>0.748271</td>\n",
              "      <td>-0.976292</td>\n",
              "      <td>-1.155913</td>\n",
              "      <td>0.180536</td>\n",
              "      <td>2.441583</td>\n",
              "      <td>1.832878</td>\n",
              "      <td>0.442081</td>\n",
              "      <td>2.590979</td>\n",
              "      <td>-0.182684</td>\n",
              "      <td>0.889331</td>\n",
              "      <td>0.369543</td>\n",
              "      <td>-0.447403</td>\n",
              "      <td>-0.912215</td>\n",
              "      <td>0.461599</td>\n",
              "      <td>-0.779121</td>\n",
              "      <td>-0.924797</td>\n",
              "      <td>-1.801081</td>\n",
              "      <td>-1.283382</td>\n",
              "      <td>1.193684</td>\n",
              "      <td>-2.553688</td>\n",
              "      <td>-2.314471</td>\n",
              "      <td>-0.458310</td>\n",
              "      <td>-0.074146</td>\n",
              "      <td>0.272516</td>\n",
              "      <td>0.073757</td>\n",
              "      <td>-0.960253</td>\n",
              "      <td>-0.726349</td>\n",
              "      <td>-0.168511</td>\n",
              "      <td>0.192803</td>\n",
              "      <td>0.113872</td>\n",
              "      <td>0</td>\n",
              "      <td>0</td>\n",
              "      <td>0</td>\n",
              "      <td>26</td>\n",
              "      <td>31</td>\n",
              "    </tr>\n",
              "    <tr>\n",
              "      <th>150697</th>\n",
              "      <td>1.047998</td>\n",
              "      <td>0.108413</td>\n",
              "      <td>-12.381048</td>\n",
              "      <td>8.213022</td>\n",
              "      <td>-16.962530</td>\n",
              "      <td>7.116091</td>\n",
              "      <td>-9.772826</td>\n",
              "      <td>-3.666836</td>\n",
              "      <td>-16.147363</td>\n",
              "      <td>2.078706</td>\n",
              "      <td>-4.250657</td>\n",
              "      <td>-16.746044</td>\n",
              "      <td>7.425801</td>\n",
              "      <td>-15.564838</td>\n",
              "      <td>-0.426338</td>\n",
              "      <td>-14.029538</td>\n",
              "      <td>-1.681889</td>\n",
              "      <td>-11.133761</td>\n",
              "      <td>-15.833589</td>\n",
              "      <td>-5.748533</td>\n",
              "      <td>2.271082</td>\n",
              "      <td>0.537795</td>\n",
              "      <td>0.167703</td>\n",
              "      <td>1.503413</td>\n",
              "      <td>-0.767755</td>\n",
              "      <td>0.371951</td>\n",
              "      <td>-1.415639</td>\n",
              "      <td>-0.517022</td>\n",
              "      <td>-0.434621</td>\n",
              "      <td>0.292721</td>\n",
              "      <td>1</td>\n",
              "      <td>1</td>\n",
              "      <td>2</td>\n",
              "      <td>5</td>\n",
              "      <td>20</td>\n",
              "    </tr>\n",
              "    <tr>\n",
              "      <th>153823</th>\n",
              "      <td>-0.275554</td>\n",
              "      <td>0.182462</td>\n",
              "      <td>-19.641857</td>\n",
              "      <td>14.706335</td>\n",
              "      <td>-22.801238</td>\n",
              "      <td>12.114672</td>\n",
              "      <td>-14.898113</td>\n",
              "      <td>0.840778</td>\n",
              "      <td>-28.011293</td>\n",
              "      <td>-11.919639</td>\n",
              "      <td>-8.960922</td>\n",
              "      <td>-18.913243</td>\n",
              "      <td>4.971249</td>\n",
              "      <td>-12.686308</td>\n",
              "      <td>-1.071443</td>\n",
              "      <td>-7.383370</td>\n",
              "      <td>-2.992430</td>\n",
              "      <td>-8.582309</td>\n",
              "      <td>-13.806568</td>\n",
              "      <td>-6.000359</td>\n",
              "      <td>1.422632</td>\n",
              "      <td>3.834649</td>\n",
              "      <td>-8.228874</td>\n",
              "      <td>3.318178</td>\n",
              "      <td>2.585212</td>\n",
              "      <td>0.195009</td>\n",
              "      <td>-1.194803</td>\n",
              "      <td>0.038423</td>\n",
              "      <td>-4.126746</td>\n",
              "      <td>-0.645329</td>\n",
              "      <td>1</td>\n",
              "      <td>1</td>\n",
              "      <td>3</td>\n",
              "      <td>50</td>\n",
              "      <td>23</td>\n",
              "    </tr>\n",
              "    <tr>\n",
              "      <th>...</th>\n",
              "      <td>...</td>\n",
              "      <td>...</td>\n",
              "      <td>...</td>\n",
              "      <td>...</td>\n",
              "      <td>...</td>\n",
              "      <td>...</td>\n",
              "      <td>...</td>\n",
              "      <td>...</td>\n",
              "      <td>...</td>\n",
              "      <td>...</td>\n",
              "      <td>...</td>\n",
              "      <td>...</td>\n",
              "      <td>...</td>\n",
              "      <td>...</td>\n",
              "      <td>...</td>\n",
              "      <td>...</td>\n",
              "      <td>...</td>\n",
              "      <td>...</td>\n",
              "      <td>...</td>\n",
              "      <td>...</td>\n",
              "      <td>...</td>\n",
              "      <td>...</td>\n",
              "      <td>...</td>\n",
              "      <td>...</td>\n",
              "      <td>...</td>\n",
              "      <td>...</td>\n",
              "      <td>...</td>\n",
              "      <td>...</td>\n",
              "      <td>...</td>\n",
              "      <td>...</td>\n",
              "      <td>...</td>\n",
              "      <td>...</td>\n",
              "      <td>...</td>\n",
              "      <td>...</td>\n",
              "      <td>...</td>\n",
              "    </tr>\n",
              "    <tr>\n",
              "      <th>150661</th>\n",
              "      <td>0.319989</td>\n",
              "      <td>0.107626</td>\n",
              "      <td>-6.185857</td>\n",
              "      <td>7.102985</td>\n",
              "      <td>-13.030455</td>\n",
              "      <td>8.010823</td>\n",
              "      <td>-7.885237</td>\n",
              "      <td>-3.974550</td>\n",
              "      <td>-12.229608</td>\n",
              "      <td>4.971232</td>\n",
              "      <td>-4.248307</td>\n",
              "      <td>-12.965481</td>\n",
              "      <td>8.688308</td>\n",
              "      <td>-17.182918</td>\n",
              "      <td>0.069577</td>\n",
              "      <td>-14.116156</td>\n",
              "      <td>0.959032</td>\n",
              "      <td>-12.375334</td>\n",
              "      <td>-18.716765</td>\n",
              "      <td>-6.522015</td>\n",
              "      <td>3.517955</td>\n",
              "      <td>0.483930</td>\n",
              "      <td>2.502772</td>\n",
              "      <td>0.481691</td>\n",
              "      <td>0.480958</td>\n",
              "      <td>0.360319</td>\n",
              "      <td>-0.293354</td>\n",
              "      <td>-0.199193</td>\n",
              "      <td>-0.203917</td>\n",
              "      <td>0.398927</td>\n",
              "      <td>1</td>\n",
              "      <td>1</td>\n",
              "      <td>2</td>\n",
              "      <td>4</td>\n",
              "      <td>13</td>\n",
              "    </tr>\n",
              "    <tr>\n",
              "      <th>241445</th>\n",
              "      <td>-0.157898</td>\n",
              "      <td>0.779344</td>\n",
              "      <td>-3.818214</td>\n",
              "      <td>2.551338</td>\n",
              "      <td>-4.759158</td>\n",
              "      <td>1.636967</td>\n",
              "      <td>-1.167900</td>\n",
              "      <td>-1.678413</td>\n",
              "      <td>-3.144732</td>\n",
              "      <td>1.245106</td>\n",
              "      <td>-1.692541</td>\n",
              "      <td>-4.759931</td>\n",
              "      <td>3.642257</td>\n",
              "      <td>-4.165202</td>\n",
              "      <td>0.703070</td>\n",
              "      <td>-7.624316</td>\n",
              "      <td>-1.498012</td>\n",
              "      <td>-4.079992</td>\n",
              "      <td>-6.717177</td>\n",
              "      <td>-1.887550</td>\n",
              "      <td>1.356748</td>\n",
              "      <td>0.164453</td>\n",
              "      <td>0.837685</td>\n",
              "      <td>0.761712</td>\n",
              "      <td>-0.417694</td>\n",
              "      <td>-0.469712</td>\n",
              "      <td>-0.225934</td>\n",
              "      <td>0.586415</td>\n",
              "      <td>-0.348107</td>\n",
              "      <td>0.087777</td>\n",
              "      <td>1</td>\n",
              "      <td>1</td>\n",
              "      <td>17</td>\n",
              "      <td>57</td>\n",
              "      <td>9</td>\n",
              "    </tr>\n",
              "    <tr>\n",
              "      <th>6918</th>\n",
              "      <td>-0.136938</td>\n",
              "      <td>-0.889778</td>\n",
              "      <td>1.279036</td>\n",
              "      <td>0.537575</td>\n",
              "      <td>0.050885</td>\n",
              "      <td>1.207763</td>\n",
              "      <td>0.220163</td>\n",
              "      <td>-0.731886</td>\n",
              "      <td>0.322883</td>\n",
              "      <td>-0.367562</td>\n",
              "      <td>1.108796</td>\n",
              "      <td>-0.365924</td>\n",
              "      <td>0.207054</td>\n",
              "      <td>-2.199142</td>\n",
              "      <td>2.192374</td>\n",
              "      <td>1.781408</td>\n",
              "      <td>0.021220</td>\n",
              "      <td>0.011561</td>\n",
              "      <td>0.165235</td>\n",
              "      <td>0.070181</td>\n",
              "      <td>-0.303758</td>\n",
              "      <td>-0.128869</td>\n",
              "      <td>-0.202155</td>\n",
              "      <td>-0.280724</td>\n",
              "      <td>-0.157239</td>\n",
              "      <td>-0.165584</td>\n",
              "      <td>0.785452</td>\n",
              "      <td>-0.367942</td>\n",
              "      <td>-0.022122</td>\n",
              "      <td>0.007692</td>\n",
              "      <td>0</td>\n",
              "      <td>0</td>\n",
              "      <td>2</td>\n",
              "      <td>29</td>\n",
              "      <td>15</td>\n",
              "    </tr>\n",
              "    <tr>\n",
              "      <th>214662</th>\n",
              "      <td>1.376930</td>\n",
              "      <td>0.647035</td>\n",
              "      <td>0.467992</td>\n",
              "      <td>1.100118</td>\n",
              "      <td>-5.607145</td>\n",
              "      <td>2.204714</td>\n",
              "      <td>-0.578539</td>\n",
              "      <td>-0.174200</td>\n",
              "      <td>-3.454201</td>\n",
              "      <td>1.102823</td>\n",
              "      <td>-1.065016</td>\n",
              "      <td>-5.416037</td>\n",
              "      <td>4.497929</td>\n",
              "      <td>-5.019610</td>\n",
              "      <td>-1.019691</td>\n",
              "      <td>-7.914989</td>\n",
              "      <td>0.669648</td>\n",
              "      <td>-4.472014</td>\n",
              "      <td>-5.856998</td>\n",
              "      <td>-2.243178</td>\n",
              "      <td>-0.173814</td>\n",
              "      <td>0.589575</td>\n",
              "      <td>0.983481</td>\n",
              "      <td>0.899876</td>\n",
              "      <td>-0.285103</td>\n",
              "      <td>-1.929717</td>\n",
              "      <td>0.319869</td>\n",
              "      <td>0.170636</td>\n",
              "      <td>0.851798</td>\n",
              "      <td>0.372098</td>\n",
              "      <td>1</td>\n",
              "      <td>1</td>\n",
              "      <td>14</td>\n",
              "      <td>49</td>\n",
              "      <td>27</td>\n",
              "    </tr>\n",
              "    <tr>\n",
              "      <th>223366</th>\n",
              "      <td>-0.293440</td>\n",
              "      <td>0.689176</td>\n",
              "      <td>1.118331</td>\n",
              "      <td>2.074439</td>\n",
              "      <td>-3.837518</td>\n",
              "      <td>5.448060</td>\n",
              "      <td>0.071816</td>\n",
              "      <td>-1.020509</td>\n",
              "      <td>-1.808574</td>\n",
              "      <td>0.521744</td>\n",
              "      <td>-2.032638</td>\n",
              "      <td>-2.732792</td>\n",
              "      <td>3.274075</td>\n",
              "      <td>-3.541687</td>\n",
              "      <td>-0.946820</td>\n",
              "      <td>-7.555729</td>\n",
              "      <td>-1.767005</td>\n",
              "      <td>-0.642333</td>\n",
              "      <td>-2.114429</td>\n",
              "      <td>0.183327</td>\n",
              "      <td>-1.177793</td>\n",
              "      <td>0.163513</td>\n",
              "      <td>0.289861</td>\n",
              "      <td>-0.172718</td>\n",
              "      <td>-0.021910</td>\n",
              "      <td>-0.376560</td>\n",
              "      <td>0.192817</td>\n",
              "      <td>0.114107</td>\n",
              "      <td>0.500996</td>\n",
              "      <td>0.259533</td>\n",
              "      <td>1</td>\n",
              "      <td>1</td>\n",
              "      <td>15</td>\n",
              "      <td>49</td>\n",
              "      <td>14</td>\n",
              "    </tr>\n",
              "  </tbody>\n",
              "</table>\n",
              "<p>984 rows × 35 columns</p>\n",
              "</div>"
            ],
            "text/plain": [
              "        scaled_Amount  scaled_Time         V1         V2  ...  t_d  t_h  t_m  t_s\n",
              "153986      -0.098512     0.189687   1.980175  -0.478366  ...    1    4    0   38\n",
              "151196       7.678055     0.120537   0.842025  -0.365518  ...    1    2   22   32\n",
              "2056         0.748271    -0.976292  -1.155913   0.180536  ...    0    0   26   31\n",
              "150697       1.047998     0.108413 -12.381048   8.213022  ...    1    2    5   20\n",
              "153823      -0.275554     0.182462 -19.641857  14.706335  ...    1    3   50   23\n",
              "...               ...          ...        ...        ...  ...  ...  ...  ...  ...\n",
              "150661       0.319989     0.107626  -6.185857   7.102985  ...    1    2    4   13\n",
              "241445      -0.157898     0.779344  -3.818214   2.551338  ...    1   17   57    9\n",
              "6918        -0.136938    -0.889778   1.279036   0.537575  ...    0    2   29   15\n",
              "214662       1.376930     0.647035   0.467992   1.100118  ...    1   14   49   27\n",
              "223366      -0.293440     0.689176   1.118331   2.074439  ...    1   15   49   14\n",
              "\n",
              "[984 rows x 35 columns]"
            ]
          },
          "metadata": {
            "tags": []
          },
          "execution_count": 181
        }
      ]
    },
    {
      "cell_type": "code",
      "metadata": {
        "id": "sOuT8iWr7ihf"
      },
      "source": [
        "\n",
        "idx = small_df_shuffled[small_df_shuffled.Class == 1].index\n",
        "idx_non = small_df_shuffled[small_df_shuffled.Class == 0].index\n"
      ],
      "execution_count": null,
      "outputs": []
    },
    {
      "cell_type": "code",
      "metadata": {
        "colab": {
          "base_uri": "https://localhost:8080/"
        },
        "id": "JzgDdh428RHh",
        "outputId": "40e294c3-1fc5-42c8-8ba1-a8fa4cb4290c"
      },
      "source": [
        "# check\n",
        "print('part of 0 : {:.2f}, part of 1: {:.2f}'.format((small_df_shuffled.Class == 0).sum()/len(small_df_shuffled), \n",
        "                                                     (small_df_shuffled.Class == 1).sum()/len(small_df_shuffled)))"
      ],
      "execution_count": null,
      "outputs": [
        {
          "output_type": "stream",
          "text": [
            "part of 0 : 0.50, part of 1: 0.50\n"
          ],
          "name": "stdout"
        }
      ]
    },
    {
      "cell_type": "markdown",
      "metadata": {
        "id": "fG02iwgWEQ_6"
      },
      "source": [
        "Если построить данные для корреляций, при несбалансированном случае и сбалансированном, отличается сильно!!!\n"
      ]
    },
    {
      "cell_type": "code",
      "metadata": {
        "colab": {
          "base_uri": "https://localhost:8080/",
          "height": 1000
        },
        "id": "bcpNLvWd8sc2",
        "outputId": "b6e92fa0-f474-4393-8bb4-78c60cec9828"
      },
      "source": [
        "fig, ax = plt.subplots(2, 1, figsize = (15, 20))\n",
        "sns.heatmap(df.corr(), annot = False, ax = ax[0], cmap = 'coolwarm_r')\n",
        "sns.heatmap(small_df_shuffled.corr(), annot = False, cmap = 'coolwarm_r', ax = ax[1])\n",
        "ax[0].set_title('Imbalance case')\n",
        "ax[1].set_title('balanced case')\n",
        "\n",
        "\n"
      ],
      "execution_count": null,
      "outputs": [
        {
          "output_type": "execute_result",
          "data": {
            "text/plain": [
              "Text(0.5, 1.0, 'balanced case')"
            ]
          },
          "metadata": {
            "tags": []
          },
          "execution_count": 184
        },
        {
          "output_type": "display_data",
          "data": {
            "image/png": "[encoded data removed]",
            "text/plain": [
              "<Figure size 1080x1440 with 4 Axes>"
            ]
          },
          "metadata": {
            "tags": [],
            "needs_background": "light"
          }
        }
      ]
    },
    {
      "cell_type": "code",
      "metadata": {
        "colab": {
          "base_uri": "https://localhost:8080/",
          "height": 218
        },
        "id": "eT5CuZBV9jC6",
        "outputId": "c9c56fb8-0b79-4196-8509-5c7404fc1fb1"
      },
      "source": [
        "# positive correlations (на картинку посмотрели)\n",
        "cols_pos_corr = ['V11', 'V4', 'V2', 'V19']\n",
        "cols_neg_corr = ['V17', 'V14', 'V12', 'V10']\n",
        "\n",
        "small_df_shuffled.head()"
      ],
      "execution_count": null,
      "outputs": [
        {
          "output_type": "execute_result",
          "data": {
            "text/html": [
              "<div>\n",
              "<style scoped>\n",
              "    .dataframe tbody tr th:only-of-type {\n",
              "        vertical-align: middle;\n",
              "    }\n",
              "\n",
              "    .dataframe tbody tr th {\n",
              "        vertical-align: top;\n",
              "    }\n",
              "\n",
              "    .dataframe thead th {\n",
              "        text-align: right;\n",
              "    }\n",
              "</style>\n",
              "<table border=\"1\" class=\"dataframe\">\n",
              "  <thead>\n",
              "    <tr style=\"text-align: right;\">\n",
              "      <th></th>\n",
              "      <th>scaled_Amount</th>\n",
              "      <th>scaled_Time</th>\n",
              "      <th>V1</th>\n",
              "      <th>V2</th>\n",
              "      <th>V3</th>\n",
              "      <th>V4</th>\n",
              "      <th>V5</th>\n",
              "      <th>V6</th>\n",
              "      <th>V7</th>\n",
              "      <th>V8</th>\n",
              "      <th>V9</th>\n",
              "      <th>V10</th>\n",
              "      <th>V11</th>\n",
              "      <th>V12</th>\n",
              "      <th>V13</th>\n",
              "      <th>V14</th>\n",
              "      <th>V15</th>\n",
              "      <th>V16</th>\n",
              "      <th>V17</th>\n",
              "      <th>V18</th>\n",
              "      <th>V19</th>\n",
              "      <th>V20</th>\n",
              "      <th>V21</th>\n",
              "      <th>V22</th>\n",
              "      <th>V23</th>\n",
              "      <th>V24</th>\n",
              "      <th>V25</th>\n",
              "      <th>V26</th>\n",
              "      <th>V27</th>\n",
              "      <th>V28</th>\n",
              "      <th>Class</th>\n",
              "      <th>t_d</th>\n",
              "      <th>t_h</th>\n",
              "      <th>t_m</th>\n",
              "      <th>t_s</th>\n",
              "    </tr>\n",
              "  </thead>\n",
              "  <tbody>\n",
              "    <tr>\n",
              "      <th>153986</th>\n",
              "      <td>-0.098512</td>\n",
              "      <td>0.189687</td>\n",
              "      <td>1.980175</td>\n",
              "      <td>-0.478366</td>\n",
              "      <td>-0.192920</td>\n",
              "      <td>0.149892</td>\n",
              "      <td>-0.257576</td>\n",
              "      <td>0.826421</td>\n",
              "      <td>-1.127818</td>\n",
              "      <td>0.232001</td>\n",
              "      <td>2.374915</td>\n",
              "      <td>-0.251164</td>\n",
              "      <td>1.178705</td>\n",
              "      <td>-1.490726</td>\n",
              "      <td>2.402010</td>\n",
              "      <td>1.151760</td>\n",
              "      <td>-0.576052</td>\n",
              "      <td>1.005750</td>\n",
              "      <td>-0.435790</td>\n",
              "      <td>0.937806</td>\n",
              "      <td>0.007959</td>\n",
              "      <td>-0.116699</td>\n",
              "      <td>-0.107887</td>\n",
              "      <td>0.041129</td>\n",
              "      <td>0.253215</td>\n",
              "      <td>-0.135803</td>\n",
              "      <td>-0.527763</td>\n",
              "      <td>0.441116</td>\n",
              "      <td>-0.043332</td>\n",
              "      <td>-0.053801</td>\n",
              "      <td>0</td>\n",
              "      <td>1</td>\n",
              "      <td>4</td>\n",
              "      <td>0</td>\n",
              "      <td>38</td>\n",
              "    </tr>\n",
              "    <tr>\n",
              "      <th>151196</th>\n",
              "      <td>7.678055</td>\n",
              "      <td>0.120537</td>\n",
              "      <td>0.842025</td>\n",
              "      <td>-0.365518</td>\n",
              "      <td>-2.464063</td>\n",
              "      <td>4.820886</td>\n",
              "      <td>0.775505</td>\n",
              "      <td>-0.614785</td>\n",
              "      <td>1.368024</td>\n",
              "      <td>-0.526262</td>\n",
              "      <td>-0.121356</td>\n",
              "      <td>-0.357616</td>\n",
              "      <td>0.637767</td>\n",
              "      <td>-2.818882</td>\n",
              "      <td>2.360595</td>\n",
              "      <td>-1.108699</td>\n",
              "      <td>-1.449951</td>\n",
              "      <td>1.573740</td>\n",
              "      <td>2.202652</td>\n",
              "      <td>0.800471</td>\n",
              "      <td>-2.103583</td>\n",
              "      <td>0.944915</td>\n",
              "      <td>-0.110622</td>\n",
              "      <td>-1.257800</td>\n",
              "      <td>-0.324418</td>\n",
              "      <td>-0.420020</td>\n",
              "      <td>-0.219501</td>\n",
              "      <td>-0.268873</td>\n",
              "      <td>-0.144582</td>\n",
              "      <td>0.104464</td>\n",
              "      <td>1</td>\n",
              "      <td>1</td>\n",
              "      <td>2</td>\n",
              "      <td>22</td>\n",
              "      <td>32</td>\n",
              "    </tr>\n",
              "    <tr>\n",
              "      <th>2056</th>\n",
              "      <td>0.748271</td>\n",
              "      <td>-0.976292</td>\n",
              "      <td>-1.155913</td>\n",
              "      <td>0.180536</td>\n",
              "      <td>2.441583</td>\n",
              "      <td>1.832878</td>\n",
              "      <td>0.442081</td>\n",
              "      <td>2.590979</td>\n",
              "      <td>-0.182684</td>\n",
              "      <td>0.889331</td>\n",
              "      <td>0.369543</td>\n",
              "      <td>-0.447403</td>\n",
              "      <td>-0.912215</td>\n",
              "      <td>0.461599</td>\n",
              "      <td>-0.779121</td>\n",
              "      <td>-0.924797</td>\n",
              "      <td>-1.801081</td>\n",
              "      <td>-1.283382</td>\n",
              "      <td>1.193684</td>\n",
              "      <td>-2.553688</td>\n",
              "      <td>-2.314471</td>\n",
              "      <td>-0.458310</td>\n",
              "      <td>-0.074146</td>\n",
              "      <td>0.272516</td>\n",
              "      <td>0.073757</td>\n",
              "      <td>-0.960253</td>\n",
              "      <td>-0.726349</td>\n",
              "      <td>-0.168511</td>\n",
              "      <td>0.192803</td>\n",
              "      <td>0.113872</td>\n",
              "      <td>0</td>\n",
              "      <td>0</td>\n",
              "      <td>0</td>\n",
              "      <td>26</td>\n",
              "      <td>31</td>\n",
              "    </tr>\n",
              "    <tr>\n",
              "      <th>150697</th>\n",
              "      <td>1.047998</td>\n",
              "      <td>0.108413</td>\n",
              "      <td>-12.381048</td>\n",
              "      <td>8.213022</td>\n",
              "      <td>-16.962530</td>\n",
              "      <td>7.116091</td>\n",
              "      <td>-9.772826</td>\n",
              "      <td>-3.666836</td>\n",
              "      <td>-16.147363</td>\n",
              "      <td>2.078706</td>\n",
              "      <td>-4.250657</td>\n",
              "      <td>-16.746044</td>\n",
              "      <td>7.425801</td>\n",
              "      <td>-15.564838</td>\n",
              "      <td>-0.426338</td>\n",
              "      <td>-14.029538</td>\n",
              "      <td>-1.681889</td>\n",
              "      <td>-11.133761</td>\n",
              "      <td>-15.833589</td>\n",
              "      <td>-5.748533</td>\n",
              "      <td>2.271082</td>\n",
              "      <td>0.537795</td>\n",
              "      <td>0.167703</td>\n",
              "      <td>1.503413</td>\n",
              "      <td>-0.767755</td>\n",
              "      <td>0.371951</td>\n",
              "      <td>-1.415639</td>\n",
              "      <td>-0.517022</td>\n",
              "      <td>-0.434621</td>\n",
              "      <td>0.292721</td>\n",
              "      <td>1</td>\n",
              "      <td>1</td>\n",
              "      <td>2</td>\n",
              "      <td>5</td>\n",
              "      <td>20</td>\n",
              "    </tr>\n",
              "    <tr>\n",
              "      <th>153823</th>\n",
              "      <td>-0.275554</td>\n",
              "      <td>0.182462</td>\n",
              "      <td>-19.641857</td>\n",
              "      <td>14.706335</td>\n",
              "      <td>-22.801238</td>\n",
              "      <td>12.114672</td>\n",
              "      <td>-14.898113</td>\n",
              "      <td>0.840778</td>\n",
              "      <td>-28.011293</td>\n",
              "      <td>-11.919639</td>\n",
              "      <td>-8.960922</td>\n",
              "      <td>-18.913243</td>\n",
              "      <td>4.971249</td>\n",
              "      <td>-12.686308</td>\n",
              "      <td>-1.071443</td>\n",
              "      <td>-7.383370</td>\n",
              "      <td>-2.992430</td>\n",
              "      <td>-8.582309</td>\n",
              "      <td>-13.806568</td>\n",
              "      <td>-6.000359</td>\n",
              "      <td>1.422632</td>\n",
              "      <td>3.834649</td>\n",
              "      <td>-8.228874</td>\n",
              "      <td>3.318178</td>\n",
              "      <td>2.585212</td>\n",
              "      <td>0.195009</td>\n",
              "      <td>-1.194803</td>\n",
              "      <td>0.038423</td>\n",
              "      <td>-4.126746</td>\n",
              "      <td>-0.645329</td>\n",
              "      <td>1</td>\n",
              "      <td>1</td>\n",
              "      <td>3</td>\n",
              "      <td>50</td>\n",
              "      <td>23</td>\n",
              "    </tr>\n",
              "  </tbody>\n",
              "</table>\n",
              "</div>"
            ],
            "text/plain": [
              "        scaled_Amount  scaled_Time         V1         V2  ...  t_d  t_h  t_m  t_s\n",
              "153986      -0.098512     0.189687   1.980175  -0.478366  ...    1    4    0   38\n",
              "151196       7.678055     0.120537   0.842025  -0.365518  ...    1    2   22   32\n",
              "2056         0.748271    -0.976292  -1.155913   0.180536  ...    0    0   26   31\n",
              "150697       1.047998     0.108413 -12.381048   8.213022  ...    1    2    5   20\n",
              "153823      -0.275554     0.182462 -19.641857  14.706335  ...    1    3   50   23\n",
              "\n",
              "[5 rows x 35 columns]"
            ]
          },
          "metadata": {
            "tags": []
          },
          "execution_count": 204
        }
      ]
    },
    {
      "cell_type": "markdown",
      "metadata": {
        "id": "DRhQUfwsEaae"
      },
      "source": [
        "Построим матрицу корреляции и между признаками."
      ]
    },
    {
      "cell_type": "code",
      "metadata": {
        "colab": {
          "base_uri": "https://localhost:8080/",
          "height": 408
        },
        "id": "rKTBOyKG_gr9",
        "outputId": "a5689f37-b879-4a8a-c199-d9763f378e25"
      },
      "source": [
        "corr_matr = small_df_shuffled.corr()\n",
        "corr_matr = corr_matr.unstack().sort_values(ascending = False).reset_index()\n",
        "corr_matr = corr_matr.drop(index = corr_matr.iloc[1::2].index)\n",
        "corr_matr.rename(columns = {'level_0' : 'f_1', 'level_1': 'f_2', 0: 'corr'}, inplace = True)\n",
        "corr_matr.drop(index = corr_matr[corr_matr['corr'] == 1].index, inplace = True)\n",
        "corr_matr"
      ],
      "execution_count": null,
      "outputs": [
        {
          "output_type": "execute_result",
          "data": {
            "text/html": [
              "<div>\n",
              "<style scoped>\n",
              "    .dataframe tbody tr th:only-of-type {\n",
              "        vertical-align: middle;\n",
              "    }\n",
              "\n",
              "    .dataframe tbody tr th {\n",
              "        vertical-align: top;\n",
              "    }\n",
              "\n",
              "    .dataframe thead th {\n",
              "        text-align: right;\n",
              "    }\n",
              "</style>\n",
              "<table border=\"1\" class=\"dataframe\">\n",
              "  <thead>\n",
              "    <tr style=\"text-align: right;\">\n",
              "      <th></th>\n",
              "      <th>f_1</th>\n",
              "      <th>f_2</th>\n",
              "      <th>corr</th>\n",
              "    </tr>\n",
              "  </thead>\n",
              "  <tbody>\n",
              "    <tr>\n",
              "      <th>36</th>\n",
              "      <td>V17</td>\n",
              "      <td>V16</td>\n",
              "      <td>0.951062</td>\n",
              "    </tr>\n",
              "    <tr>\n",
              "      <th>38</th>\n",
              "      <td>V18</td>\n",
              "      <td>V17</td>\n",
              "      <td>0.943056</td>\n",
              "    </tr>\n",
              "    <tr>\n",
              "      <th>40</th>\n",
              "      <td>V16</td>\n",
              "      <td>V18</td>\n",
              "      <td>0.907465</td>\n",
              "    </tr>\n",
              "    <tr>\n",
              "      <th>42</th>\n",
              "      <td>V16</td>\n",
              "      <td>V12</td>\n",
              "      <td>0.901660</td>\n",
              "    </tr>\n",
              "    <tr>\n",
              "      <th>44</th>\n",
              "      <td>V3</td>\n",
              "      <td>V7</td>\n",
              "      <td>0.891079</td>\n",
              "    </tr>\n",
              "    <tr>\n",
              "      <th>...</th>\n",
              "      <td>...</td>\n",
              "      <td>...</td>\n",
              "      <td>...</td>\n",
              "    </tr>\n",
              "    <tr>\n",
              "      <th>1216</th>\n",
              "      <td>V12</td>\n",
              "      <td>V4</td>\n",
              "      <td>-0.839310</td>\n",
              "    </tr>\n",
              "    <tr>\n",
              "      <th>1218</th>\n",
              "      <td>V7</td>\n",
              "      <td>V2</td>\n",
              "      <td>-0.845231</td>\n",
              "    </tr>\n",
              "    <tr>\n",
              "      <th>1220</th>\n",
              "      <td>V2</td>\n",
              "      <td>V3</td>\n",
              "      <td>-0.858726</td>\n",
              "    </tr>\n",
              "    <tr>\n",
              "      <th>1222</th>\n",
              "      <td>V14</td>\n",
              "      <td>V11</td>\n",
              "      <td>-0.898779</td>\n",
              "    </tr>\n",
              "    <tr>\n",
              "      <th>1224</th>\n",
              "      <td>V11</td>\n",
              "      <td>V12</td>\n",
              "      <td>-0.903624</td>\n",
              "    </tr>\n",
              "  </tbody>\n",
              "</table>\n",
              "<p>595 rows × 3 columns</p>\n",
              "</div>"
            ],
            "text/plain": [
              "      f_1  f_2      corr\n",
              "36    V17  V16  0.951062\n",
              "38    V18  V17  0.943056\n",
              "40    V16  V18  0.907465\n",
              "42    V16  V12  0.901660\n",
              "44     V3   V7  0.891079\n",
              "...   ...  ...       ...\n",
              "1216  V12   V4 -0.839310\n",
              "1218   V7   V2 -0.845231\n",
              "1220   V2   V3 -0.858726\n",
              "1222  V14  V11 -0.898779\n",
              "1224  V11  V12 -0.903624\n",
              "\n",
              "[595 rows x 3 columns]"
            ]
          },
          "metadata": {
            "tags": []
          },
          "execution_count": 206
        }
      ]
    },
    {
      "cell_type": "code",
      "metadata": {
        "id": "fSHTv1fdDIam"
      },
      "source": [
        "class_mask = ((corr_matr.f_1 == 'Class') | (corr_matr.f_2 == 'Class'))\n",
        "corr_class = corr_matr[class_mask]\n",
        "positive_high_corr = corr_class[corr_class['corr'] > 0.2]\n",
        "negative_high_corr = corr_class[corr_class['corr'] < -0.6]"
      ],
      "execution_count": null,
      "outputs": []
    },
    {
      "cell_type": "code",
      "metadata": {
        "colab": {
          "base_uri": "https://localhost:8080/",
          "height": 168
        },
        "id": "o1SoN0Y1E5hF",
        "outputId": "f9067706-7a13-40a4-c183-1827273c3b23"
      },
      "source": [
        "positive_high_corr"
      ],
      "execution_count": null,
      "outputs": [
        {
          "output_type": "execute_result",
          "data": {
            "text/html": [
              "<div>\n",
              "<style scoped>\n",
              "    .dataframe tbody tr th:only-of-type {\n",
              "        vertical-align: middle;\n",
              "    }\n",
              "\n",
              "    .dataframe tbody tr th {\n",
              "        vertical-align: top;\n",
              "    }\n",
              "\n",
              "    .dataframe thead th {\n",
              "        text-align: right;\n",
              "    }\n",
              "</style>\n",
              "<table border=\"1\" class=\"dataframe\">\n",
              "  <thead>\n",
              "    <tr style=\"text-align: right;\">\n",
              "      <th></th>\n",
              "      <th>f_1</th>\n",
              "      <th>f_2</th>\n",
              "      <th>corr</th>\n",
              "    </tr>\n",
              "  </thead>\n",
              "  <tbody>\n",
              "    <tr>\n",
              "      <th>118</th>\n",
              "      <td>Class</td>\n",
              "      <td>V4</td>\n",
              "      <td>0.711718</td>\n",
              "    </tr>\n",
              "    <tr>\n",
              "      <th>126</th>\n",
              "      <td>Class</td>\n",
              "      <td>V11</td>\n",
              "      <td>0.685438</td>\n",
              "    </tr>\n",
              "    <tr>\n",
              "      <th>160</th>\n",
              "      <td>V2</td>\n",
              "      <td>Class</td>\n",
              "      <td>0.465616</td>\n",
              "    </tr>\n",
              "    <tr>\n",
              "      <th>226</th>\n",
              "      <td>V19</td>\n",
              "      <td>Class</td>\n",
              "      <td>0.249086</td>\n",
              "    </tr>\n",
              "  </tbody>\n",
              "</table>\n",
              "</div>"
            ],
            "text/plain": [
              "       f_1    f_2      corr\n",
              "118  Class     V4  0.711718\n",
              "126  Class    V11  0.685438\n",
              "160     V2  Class  0.465616\n",
              "226    V19  Class  0.249086"
            ]
          },
          "metadata": {
            "tags": []
          },
          "execution_count": 208
        }
      ]
    },
    {
      "cell_type": "code",
      "metadata": {
        "colab": {
          "base_uri": "https://localhost:8080/",
          "height": 138
        },
        "id": "NMFKteTRE6dD",
        "outputId": "7c05b51a-0b86-48c1-c1a9-f3f01f59404a"
      },
      "source": [
        "negative_high_corr"
      ],
      "execution_count": null,
      "outputs": [
        {
          "output_type": "execute_result",
          "data": {
            "text/html": [
              "<div>\n",
              "<style scoped>\n",
              "    .dataframe tbody tr th:only-of-type {\n",
              "        vertical-align: middle;\n",
              "    }\n",
              "\n",
              "    .dataframe tbody tr th {\n",
              "        vertical-align: top;\n",
              "    }\n",
              "\n",
              "    .dataframe thead th {\n",
              "        text-align: right;\n",
              "    }\n",
              "</style>\n",
              "<table border=\"1\" class=\"dataframe\">\n",
              "  <thead>\n",
              "    <tr style=\"text-align: right;\">\n",
              "      <th></th>\n",
              "      <th>f_1</th>\n",
              "      <th>f_2</th>\n",
              "      <th>corr</th>\n",
              "    </tr>\n",
              "  </thead>\n",
              "  <tbody>\n",
              "    <tr>\n",
              "      <th>1166</th>\n",
              "      <td>Class</td>\n",
              "      <td>V10</td>\n",
              "      <td>-0.624105</td>\n",
              "    </tr>\n",
              "    <tr>\n",
              "      <th>1178</th>\n",
              "      <td>V12</td>\n",
              "      <td>Class</td>\n",
              "      <td>-0.684439</td>\n",
              "    </tr>\n",
              "    <tr>\n",
              "      <th>1194</th>\n",
              "      <td>V14</td>\n",
              "      <td>Class</td>\n",
              "      <td>-0.749225</td>\n",
              "    </tr>\n",
              "  </tbody>\n",
              "</table>\n",
              "</div>"
            ],
            "text/plain": [
              "        f_1    f_2      corr\n",
              "1166  Class    V10 -0.624105\n",
              "1178    V12  Class -0.684439\n",
              "1194    V14  Class -0.749225"
            ]
          },
          "metadata": {
            "tags": []
          },
          "execution_count": 209
        }
      ]
    },
    {
      "cell_type": "code",
      "metadata": {
        "colab": {
          "base_uri": "https://localhost:8080/",
          "height": 350
        },
        "id": "RlyBGaU1-a8n",
        "outputId": "e63342d6-0b9c-40d8-c2ce-86c48bb60cec"
      },
      "source": [
        "fig, ax = plt.subplots(1, 4, figsize = (15, 5))\n",
        "for idx in range(4):\n",
        "  sns.boxplot(x = 'Class', y = cols_pos_corr[idx],\n",
        "              data = small_df_shuffled, palette = ['r', 'g'], ax = ax[idx])\n",
        "  \n",
        "  ax[idx].set_title('columns: {}'.format(cols_pos_corr[idx]))\n"
      ],
      "execution_count": null,
      "outputs": [
        {
          "output_type": "display_data",
          "data": {
            "image/png": "[encoded data removed]",
            "text/plain": [
              "<Figure size 1080x360 with 4 Axes>"
            ]
          },
          "metadata": {
            "tags": [],
            "needs_background": "light"
          }
        }
      ]
    },
    {
      "cell_type": "code",
      "metadata": {
        "colab": {
          "base_uri": "https://localhost:8080/",
          "height": 350
        },
        "id": "VmVKr-KT_MdK",
        "outputId": "2d39aa2e-9b36-42c0-dcf4-772e0fd4233a"
      },
      "source": [
        "fig, ax = plt.subplots(1, 4, figsize = (15, 5))\n",
        "for idx in range(4):\n",
        "  sns.boxplot(x = 'Class', y = cols_neg_corr[idx],\n",
        "              data = small_df_shuffled, palette = ['r', 'g'], ax = ax[idx])\n",
        "  \n",
        "  ax[idx].set_title('columns: {}'.format(cols_neg_corr[idx]))\n"
      ],
      "execution_count": null,
      "outputs": [
        {
          "output_type": "display_data",
          "data": {
            "image/png": "[encoded data removed]",
            "text/plain": [
              "<Figure size 1080x360 with 4 Axes>"
            ]
          },
          "metadata": {
            "tags": [],
            "needs_background": "light"
          }
        }
      ]
    },
    {
      "cell_type": "markdown",
      "metadata": {
        "id": "Rk3d94zrEyN-"
      },
      "source": [
        "Частая практика в том, чтобы убирать из заметно скоррелированных признаков outliers\n",
        "Можно по разному определять выбросы, один из способов это просто интерквантильный метод\n",
        "Но обычно стоит выбрасывать экстремально большие выбросы, а не средние выбросы, так как это может (особенно на маленьких данных) повлиять сильно\n",
        "можно варьировать значение тресхолда и смотреть, как это влияет на точность (мб другая метрика) предсказаний."
      ]
    },
    {
      "cell_type": "markdown",
      "metadata": {
        "id": "WFGEvfXuE4gP"
      },
      "source": [
        "Построим признаки вышенайденные!"
      ]
    },
    {
      "cell_type": "code",
      "metadata": {
        "colab": {
          "base_uri": "https://localhost:8080/",
          "height": 641
        },
        "id": "6B2S3TgRF9UF",
        "outputId": "f12d0670-1a82-42d9-e2ff-12d105de1c4b"
      },
      "source": [
        "from scipy.stats import norm\n",
        "fig, ax = plt.subplots(2, 4, figsize = (20, 10))\n",
        "for idx in range(4):\n",
        "  sns.distplot(a = small_df_shuffled[small_df_shuffled.Class == 0][cols_neg_corr[idx]],\n",
        "                  fit = norm, ax = ax[0][idx], label = 'not fraud', color = '#FB8861')\n",
        "  sns.distplot(a = small_df_shuffled[small_df_shuffled.Class == 1][cols_neg_corr[idx]],\n",
        "                  fit = norm, ax = ax[0][idx], label = 'fraud', color = '#56F9BB')\n",
        "  \n",
        "  sns.distplot(a = small_df_shuffled[small_df_shuffled.Class == 0][cols_pos_corr[idx]],\n",
        "                  fit = norm, ax = ax[1][idx], label = 'not fraud', color = '#FB8861')\n",
        "  sns.distplot(a = small_df_shuffled[small_df_shuffled.Class == 1][cols_pos_corr[idx]],\n",
        "                  fit = norm, ax = ax[1][idx], label = 'fraud', color = '#56F9BB')\n",
        "  \n",
        "  ax[0][idx].legend()\n",
        "  ax[0][idx].set_title('fF : {}'.format(cols_neg_corr[idx]))\n",
        "  \n",
        "  ax[1][idx].legend()\n",
        "  ax[1][idx].set_title('fF : {}'.format(cols_pos_corr[idx]))\n",
        "\n",
        "    \n"
      ],
      "execution_count": null,
      "outputs": [
        {
          "output_type": "display_data",
          "data": {
            "image/png": "[encoded data removed]",
            "text/plain": [
              "<Figure size 1440x720 with 8 Axes>"
            ]
          },
          "metadata": {
            "tags": [],
            "needs_background": "light"
          }
        }
      ]
    },
    {
      "cell_type": "markdown",
      "metadata": {
        "id": "b_Sfdgk_FClM"
      },
      "source": [
        "Видно, что некоторые немного отличаются от нормального распределения, попробуем выделить выбросы (*1.5)\n",
        "А также выбрасывать выбросы стоит только по каждому классу отдельно, так как видно, что распределения отличаются тут (мошеннические более сконцентрированны в 0) меньше дисперсия у них."
      ]
    },
    {
      "cell_type": "code",
      "metadata": {
        "colab": {
          "base_uri": "https://localhost:8080/"
        },
        "id": "7tNpZXD0KQw5",
        "outputId": "eca2c8e0-825d-4ce0-cfdd-8d7a324f44a8"
      },
      "source": [
        "def remove_outliers(data, col, Class = 0, k = 1.5):\n",
        "  assert(isinstance(col, str))\n",
        "  v = data[data.Class == Class][col].values\n",
        "  p1, p3 = np.percentile(v, 25), np.percentile(v, 75) \n",
        "  irq = (p3-p1)\n",
        "  val_lower = p1 - irq * k \n",
        "  val_higher = p3 + irq * k \n",
        "  outliers = [x for x in v if x < val_lower or x > val_higher]\n",
        "  print('lower : {:.2f}, upper: {:.2f}'.format(val_lower, val_higher))\n",
        "  print('outliers in {} number: {}'.format(col, len(outliers)))\n",
        "  m = data.Class == Class\n",
        "  new_data = data.drop(index = data[(data[col] > val_higher) | (data[col] < val_lower)].index) \n",
        "  return new_data\n",
        "\n",
        "\n",
        "small_df_c = small_df_shuffled.copy(deep = True)\n",
        "for idx, col in enumerate(cols_neg_corr + cols_pos_corr):\n",
        "  small_df_c = remove_outliers(small_df_c, col, Class = 1)\n",
        "\n",
        "small_df_c.shape"
      ],
      "execution_count": null,
      "outputs": [
        {
          "output_type": "stream",
          "text": [
            "lower : -27.85, upper: 14.56\n",
            "outliers in V17 number: 0\n",
            "lower : -17.81, upper: 3.83\n",
            "outliers in V14 number: 4\n",
            "lower : -17.34, upper: 5.78\n",
            "outliers in V12 number: 4\n",
            "lower : -14.90, upper: 4.92\n",
            "outliers in V10 number: 27\n",
            "lower : -2.62, upper: 9.45\n",
            "outliers in V11 number: 13\n",
            "lower : -3.28, upper: 11.34\n",
            "outliers in V4 number: 2\n",
            "lower : -3.09, upper: 8.13\n",
            "outliers in V2 number: 44\n",
            "lower : -3.90, upper: 5.09\n",
            "outliers in V19 number: 1\n"
          ],
          "name": "stdout"
        },
        {
          "output_type": "execute_result",
          "data": {
            "text/plain": [
              "(871, 35)"
            ]
          },
          "metadata": {
            "tags": []
          },
          "execution_count": 195
        }
      ]
    },
    {
      "cell_type": "code",
      "metadata": {
        "colab": {
          "base_uri": "https://localhost:8080/",
          "height": 350
        },
        "id": "ejr6p0OvQ0XW",
        "outputId": "7ed6618a-60c4-4c9c-f900-dee23b4ee4e2"
      },
      "source": [
        "fig, ax = plt.subplots(1, 4, figsize = (15, 5))\n",
        "for idx in range(4):\n",
        "  sns.boxplot(x = 'Class', y = cols_pos_corr[idx],\n",
        "              data = small_df_c, palette = ['r', 'g'], ax = ax[idx])\n",
        "  \n",
        "  ax[idx].set_title('columns: {}'.format(cols_pos_corr[idx]))"
      ],
      "execution_count": null,
      "outputs": [
        {
          "output_type": "display_data",
          "data": {
            "image/png": "[encoded data removed]",
            "text/plain": [
              "<Figure size 1080x360 with 4 Axes>"
            ]
          },
          "metadata": {
            "tags": [],
            "needs_background": "light"
          }
        }
      ]
    },
    {
      "cell_type": "code",
      "metadata": {
        "colab": {
          "base_uri": "https://localhost:8080/",
          "height": 350
        },
        "id": "TQOUT1aWQ6Gj",
        "outputId": "3b087c7d-047a-427b-f10a-0b2c20798b70"
      },
      "source": [
        "fig, ax = plt.subplots(1, 4, figsize = (15, 5))\n",
        "for idx in range(4):\n",
        "  sns.boxplot(x = 'Class', y = cols_neg_corr[idx],\n",
        "              data = small_df_c, palette = ['r', 'g'], ax = ax[idx])\n",
        "  \n",
        "  ax[idx].set_title('columns: {}'.format(cols_neg_corr[idx]))\n"
      ],
      "execution_count": null,
      "outputs": [
        {
          "output_type": "display_data",
          "data": {
            "image/png": "[encoded data removed]",
            "text/plain": [
              "<Figure size 1080x360 with 4 Axes>"
            ]
          },
          "metadata": {
            "tags": [],
            "needs_background": "light"
          }
        }
      ]
    },
    {
      "cell_type": "code",
      "metadata": {
        "id": "YnpVagkLRfTQ"
      },
      "source": [
        "# Обучим модель с учетом того, как мы убрали выбросы для маленького датасета методом Downsampling"
      ],
      "execution_count": null,
      "outputs": []
    },
    {
      "cell_type": "code",
      "metadata": {
        "id": "czCE3sWgBzsT"
      },
      "source": [
        "X = small_df_c.drop(columns = ['Class'])\n",
        "y = small_df_c['Class']\n"
      ],
      "execution_count": null,
      "outputs": []
    },
    {
      "cell_type": "markdown",
      "metadata": {
        "id": "j_m9oqhkFP9j"
      },
      "source": [
        "Делать разделение данных уже после произведения downsampling является ли корректным? \n",
        "По идее, это можно делать только на train  после разделения выборки."
      ]
    },
    {
      "cell_type": "code",
      "metadata": {
        "id": "qLS_VO12B6Hi"
      },
      "source": [
        "X_train, X_test, y_train, y_test = train_test_split(X, y, test_size = 0.2, random_state = 0)\n"
      ],
      "execution_count": null,
      "outputs": []
    },
    {
      "cell_type": "code",
      "metadata": {
        "id": "81tBo1FWCG76"
      },
      "source": [
        "# преобразуем в numpy\n",
        "X_train, X_test, y_train, y_test = X_train.values, X_test.values, y_train.values, y_test.values\n"
      ],
      "execution_count": null,
      "outputs": []
    },
    {
      "cell_type": "markdown",
      "metadata": {
        "id": "RxUKxAWZFVEp"
      },
      "source": [
        "Построим простые решения на Knearest, и logisticregression."
      ]
    },
    {
      "cell_type": "code",
      "metadata": {
        "colab": {
          "base_uri": "https://localhost:8080/"
        },
        "id": "Hdzk-SpSCXhS",
        "outputId": "390586cf-bbeb-4698-ad21-6d28d4e10425"
      },
      "source": [
        "classifiers = {\n",
        "    \"LogisiticRegression\": LogisticRegression(),\n",
        "    \"KNearest\": KNeighborsClassifier(),\n",
        "}\n",
        "scores = []\n",
        "for key, classifier in classifiers.items():\n",
        "  classifier.fit(X_train, y_train)\n",
        "  n_scores = cross_val_score(classifier, X_train, y_train, cv = 5, scoring = 'roc_auc')\n",
        "  print('Classifier: {} train score: {:.3f} %'.format(classifier.__class__.__name__, \n",
        "                                                    n_scores.mean() * 100.))\n",
        "  \n"
      ],
      "execution_count": null,
      "outputs": [
        {
          "output_type": "stream",
          "text": [
            "Classifier: LogisticRegression train score: 97.152 %\n",
            "Classifier: KNeighborsClassifier train score: 90.110 %\n"
          ],
          "name": "stdout"
        }
      ]
    },
    {
      "cell_type": "code",
      "metadata": {
        "id": "k5gdhamtdETp"
      },
      "source": [
        ""
      ],
      "execution_count": null,
      "outputs": []
    },
    {
      "cell_type": "markdown",
      "metadata": {
        "id": "2E9SO6cvdETp"
      },
      "source": [
        "# 2 - Небинарная классификация на вашем датасете (суммарно 6 баллов)"
      ]
    },
    {
      "cell_type": "markdown",
      "metadata": {
        "id": "Iv4xRlcKdETp"
      },
      "source": [
        "### (2 балла) Выберите какой-нибудь интересный вам датасет, скачайте его и считайте данные\n",
        "\n",
        "Творческое задание - найти в интернете (или собрать свой даже) датасет, сохранить его в файл, и загрузить сюда.\n",
        "\n",
        "Требования:\n",
        "\n",
        "- он должен быть немаленький (хотя бы 500 объектов, лучше больше)\n",
        "- он должен быть интересный\n",
        "- таргет должен быть небинарным классом\n",
        "\n",
        "Минус балл, если ваш датасет с кем-нибудь повторится."
      ]
    },
    {
      "cell_type": "code",
      "metadata": {
        "id": "dmdbzdiadETu"
      },
      "source": [
        ""
      ],
      "execution_count": 226,
      "outputs": []
    },
    {
      "cell_type": "markdown",
      "metadata": {
        "id": "jrRuAylaOucN"
      },
      "source": [
        "## Fashion MNIST. Classification."
      ]
    },
    {
      "cell_type": "code",
      "metadata": {
        "id": "kQW9S5REA0fO"
      },
      "source": [
        "from sklearn.model_selection import train_test_split, GridSearchCV, StratifiedKFold, KFold\n",
        " "
      ],
      "execution_count": null,
      "outputs": []
    },
    {
      "cell_type": "code",
      "metadata": {
        "colab": {
          "base_uri": "https://localhost:8080/"
        },
        "id": "GwXhiCgFA_Uw",
        "outputId": "19376eca-5331-48a8-f087-0f16f831ab0d"
      },
      "source": [
        "! unzip '/content/drive/MyDrive/Colab_Notebooks/train-images-idx3-ubyte.gz' -d data_fashion"
      ],
      "execution_count": null,
      "outputs": [
        {
          "output_type": "stream",
          "text": [
            "Archive:  /content/drive/MyDrive/Colab_Notebooks/train-images-idx3-ubyte.gz\n",
            "  End-of-central-directory signature not found.  Either this file is not\n",
            "  a zipfile, or it constitutes one disk of a multi-part archive.  In the\n",
            "  latter case the central directory and zipfile comment will be found on\n",
            "  the last disk(s) of this archive.\n",
            "unzip:  cannot find zipfile directory in one of /content/drive/MyDrive/Colab_Notebooks/train-images-idx3-ubyte.gz or\n",
            "        /content/drive/MyDrive/Colab_Notebooks/train-images-idx3-ubyte.gz.zip, and cannot find /content/drive/MyDrive/Colab_Notebooks/train-images-idx3-ubyte.gz.ZIP, period.\n"
          ],
          "name": "stdout"
        }
      ]
    },
    {
      "cell_type": "code",
      "metadata": {
        "id": "0ERGSrJWBNbx"
      },
      "source": [
        "# TensorFlow and tf.keras\n",
        "import tensorflow as tf\n",
        "\n",
        "# Helper libraries\n",
        "import numpy as np\n",
        "import matplotlib.pyplot as plt"
      ],
      "execution_count": null,
      "outputs": []
    },
    {
      "cell_type": "markdown",
      "metadata": {
        "id": "98qOX2k4sswf"
      },
      "source": [
        "Импортирую данный теже самые, что и из ссылки на соревнование."
      ]
    },
    {
      "cell_type": "code",
      "metadata": {
        "id": "pHxqJxFtEWtw",
        "colab": {
          "base_uri": "https://localhost:8080/"
        },
        "outputId": "787612aa-c04b-482c-a3a1-6a54bb32e4e6"
      },
      "source": [
        "fashion_mnist = tf.keras.datasets.fashion_mnist\n",
        "\n",
        "(train_images, train_labels), (test_images, test_labels) = fashion_mnist.load_data()"
      ],
      "execution_count": null,
      "outputs": [
        {
          "output_type": "stream",
          "text": [
            "Downloading data from https://storage.googleapis.com/tensorflow/tf-keras-datasets/train-labels-idx1-ubyte.gz\n",
            "32768/29515 [=================================] - 0s 0us/step\n",
            "Downloading data from https://storage.googleapis.com/tensorflow/tf-keras-datasets/train-images-idx3-ubyte.gz\n",
            "26427392/26421880 [==============================] - 0s 0us/step\n",
            "Downloading data from https://storage.googleapis.com/tensorflow/tf-keras-datasets/t10k-labels-idx1-ubyte.gz\n",
            "8192/5148 [===============================================] - 0s 0us/step\n",
            "Downloading data from https://storage.googleapis.com/tensorflow/tf-keras-datasets/t10k-images-idx3-ubyte.gz\n",
            "4423680/4422102 [==============================] - 0s 0us/step\n"
          ],
          "name": "stdout"
        }
      ]
    },
    {
      "cell_type": "markdown",
      "metadata": {
        "id": "TOPMO1oKFMtu"
      },
      "source": [
        ""
      ]
    },
    {
      "cell_type": "markdown",
      "metadata": {
        "id": "zE_ZZC6rEelX"
      },
      "source": [
        "####  Мы скачали наши данные для дальнейшей работы! Далее мы попробуем произвести логитическую регрессию, многоклассовую с помощью инструментов Pytorch, так как будет удобнее работать именно с ним. Сравним некоторые типы метрик (для оценки многоклассовой классификации)!"
      ]
    },
    {
      "cell_type": "code",
      "metadata": {
        "colab": {
          "base_uri": "https://localhost:8080/"
        },
        "id": "F7s2pWP-EaUd",
        "outputId": "5617994b-16b5-400a-d53d-1c62d5787ec4"
      },
      "source": [
        "print('nums of train data {}\\nsize if images: {}'.format(train_images.shape[0], \n",
        "                                                          train_images.shape[1:]))\n",
        "\n",
        "print('---------------------------------------')\n",
        "print('nums of test n data {}\\nsize if images: {}'.format(test_images.shape[0], \n",
        "                                                          test_images.shape[1:]))"
      ],
      "execution_count": null,
      "outputs": [
        {
          "output_type": "stream",
          "text": [
            "nums of train data 60000\n",
            "size if images: (28, 28)\n",
            "---------------------------------------\n",
            "nums of test n data 10000\n",
            "size if images: (28, 28)\n"
          ],
          "name": "stdout"
        }
      ]
    },
    {
      "cell_type": "markdown",
      "metadata": {
        "id": "MqmL3MEls2r4"
      },
      "source": [
        "Данные специально для нас предоставили уже сбалансированные."
      ]
    },
    {
      "cell_type": "code",
      "metadata": {
        "colab": {
          "base_uri": "https://localhost:8080/",
          "height": 442
        },
        "id": "UDJHbEBqFqBH",
        "outputId": "0a81d3e2-d89f-424d-d02e-1d364c0fb785"
      },
      "source": [
        "# Рассмотрим доли предложенных нам объектов:\n",
        "import seaborn as sns\n",
        "import pandas as pd\n",
        "\n",
        "unique, counts = np.unique(train_labels, return_counts = True)\n",
        "unique, counts\n",
        "train_labels_series = pd.Series(train_labels)\n",
        "test_labels_series = pd.Series(test_labels)\n",
        "\n",
        "fig, ax = plt.subplots(1, 2, figsize = (10, 5))\n",
        "sns.countplot(train_labels_series, ax = ax[0])\n",
        "sns.countplot(test_labels_series, ax = ax[1])\n",
        "\n",
        "ax[0].set_title('train labels')\n",
        "ax[1].set_title('train labels')\n",
        "\n"
      ],
      "execution_count": null,
      "outputs": [
        {
          "output_type": "stream",
          "text": [
            "/usr/local/lib/python3.7/dist-packages/seaborn/_decorators.py:43: FutureWarning: Pass the following variable as a keyword arg: x. From version 0.12, the only valid positional argument will be `data`, and passing other arguments without an explicit keyword will result in an error or misinterpretation.\n",
            "  FutureWarning\n",
            "/usr/local/lib/python3.7/dist-packages/seaborn/_decorators.py:43: FutureWarning: Pass the following variable as a keyword arg: x. From version 0.12, the only valid positional argument will be `data`, and passing other arguments without an explicit keyword will result in an error or misinterpretation.\n",
            "  FutureWarning\n"
          ],
          "name": "stderr"
        },
        {
          "output_type": "execute_result",
          "data": {
            "text/plain": [
              "Text(0.5, 1.0, 'train labels')"
            ]
          },
          "metadata": {
            "tags": []
          },
          "execution_count": 10
        },
        {
          "output_type": "display_data",
          "data": {
            "image/png": "[encoded data removed]",
            "text/plain": [
              "<Figure size 720x360 with 2 Axes>"
            ]
          },
          "metadata": {
            "tags": [],
            "needs_background": "light"
          }
        }
      ]
    },
    {
      "cell_type": "code",
      "metadata": {
        "id": "L9yhfyeJGKw-"
      },
      "source": [
        "# Видно, что четко сбалансированны данные нам не надо думать о балансировке"
      ],
      "execution_count": null,
      "outputs": []
    },
    {
      "cell_type": "code",
      "metadata": {
        "id": "DVPlYEFwHeH4"
      },
      "source": [
        "import torch\n",
        "import torch.nn as nn\n",
        "import torch.nn.functional as F\n",
        "\n",
        "\n",
        "from torch.utils.data import Dataset, DataLoader\n",
        "from torchvision import transforms\n",
        "\n",
        "from tqdm import tqdm"
      ],
      "execution_count": null,
      "outputs": []
    },
    {
      "cell_type": "markdown",
      "metadata": {
        "id": "OeTtwLYMs8B4"
      },
      "source": [
        "Ниже я пытался написать свой генератор батчей. Но это не очень удобно, наиболее просто это сделать с помощью DataLoader."
      ]
    },
    {
      "cell_type": "code",
      "metadata": {
        "id": "3_YaC1lYM117"
      },
      "source": [
        "val_size = 0.3\n",
        "train_images, val_images, train_labels, val_labels =  train_test_split(train_images, \n",
        "                                                                       train_labels,\n",
        "                                                                       test_size = val_size, \n",
        "                                                                       random_state = 42)\n",
        "\n",
        "def loader_generator(X, y, batch_size = 100, shuffle = True):\n",
        "  \"\"\"\n",
        "  This should returned tensors torch.float32\n",
        "  \"\"\"\n",
        "  assert(X.shape[0] == y.shape[0])\n",
        "  indeces = np.arange(X.shape[0])\n",
        "  if shuffle:\n",
        "    np.random.shuffle(indeces)  \n",
        "    #assert(indeces[0] != 0)\n",
        "  for idx in range(0, len(indeces), batch_size):\n",
        "    X_torch = torch.Tensor(X[indeces[idx: idx + batch_size]])\n",
        "    y_torch = torch.Tensor(y[indeces[idx: idx + batch_size]])\n",
        "    yield X_torch, y_torch\n",
        "\n",
        "\n",
        "metrics_names = ['accuracy', 'precision', 'recall', 'f1']\n"
      ],
      "execution_count": null,
      "outputs": []
    },
    {
      "cell_type": "markdown",
      "metadata": {
        "id": "pck0guxMtHtA"
      },
      "source": [
        "### Перегруженный класс для формирования объекта Dataset"
      ]
    },
    {
      "cell_type": "code",
      "metadata": {
        "colab": {
          "base_uri": "https://localhost:8080/"
        },
        "id": "CcPPgcDQX_QV",
        "outputId": "9717592f-6e14-4c2b-9255-1bf5cc46ef77"
      },
      "source": [
        "class Datasetfashion(Dataset):\n",
        "\n",
        "  def __init__(self, images, labels, \n",
        "               transforms = transforms.Compose([transforms.ToTensor()])):\n",
        "    \n",
        "    super().__init__()\n",
        "    self._images = images\n",
        "    self._labels = labels\n",
        "    self._transform = transforms\n",
        "\n",
        "  def __len__(self):\n",
        "    return len(self._images)\n",
        "\n",
        "  def __getitem__(self, idx):\n",
        "    try:\n",
        "      img = self._images[idx]\n",
        "      label = self._labels[idx]\n",
        "    except:\n",
        "      idx = np.random.randint(0, self.__len__(), size = 1)\n",
        "      img = self._images[idx]\n",
        "      label = self._labels[idx]\n",
        "\n",
        "    img_transf = self._transform(img)\n",
        "    return img_transf, label\n",
        "\n",
        "\n",
        "data_ = Datasetfashion(train_images, train_labels)\n",
        "loader_example = DataLoader(data_, batch_size = 10, shuffle = True, )\n",
        "for x, y in loader_example:\n",
        "  print(x.shape, y.shape)\n",
        "  break"
      ],
      "execution_count": null,
      "outputs": [
        {
          "output_type": "stream",
          "text": [
            "torch.Size([10, 1, 28, 28]) torch.Size([10])\n"
          ],
          "name": "stdout"
        }
      ]
    },
    {
      "cell_type": "markdown",
      "metadata": {
        "id": "p51e54BRtPxZ"
      },
      "source": [
        "### Сама модель."
      ]
    },
    {
      "cell_type": "markdown",
      "metadata": {
        "id": "kvVpmkgRtSVe"
      },
      "source": [
        "Тут я решил просто сделать один слой, где признаками являются множество пикселей 28*28 = 784. И архиетктура представляет собой multiclassregression с минимизацией cross_entropy_loss. "
      ]
    },
    {
      "cell_type": "code",
      "metadata": {
        "colab": {
          "base_uri": "https://localhost:8080/"
        },
        "id": "0no9s3-S2-YL",
        "outputId": "3985adb9-1eda-42fe-af2f-92dd260153e3"
      },
      "source": [
        "class FMnistFashion(nn.Module):\n",
        "\n",
        "  def __init__(self, in_s, out_s):\n",
        "    super().__init__()\n",
        "    self._layers = nn.Sequential(\n",
        "        nn.Flatten(),\n",
        "        nn.Linear(in_s, out_s),\n",
        "    )\n",
        "    #self._logsoftmax = nn.LogSoftmax(dim = 1)\n",
        "\n",
        "  def forward(self, input):\n",
        "    out = self._layers(input)\n",
        "    #out  = self._logsoftmax(out)\n",
        "    return out\n",
        "\n",
        "m = FMnistFashion(28 * 28, 10)\n",
        "for x, y, in loader_generator(train_images, train_labels):\n",
        "  out = m(x)\n",
        "  print(out.shape)\n",
        "  break"
      ],
      "execution_count": null,
      "outputs": [
        {
          "output_type": "stream",
          "text": [
            "torch.Size([100, 10])\n"
          ],
          "name": "stdout"
        }
      ]
    },
    {
      "cell_type": "markdown",
      "metadata": {
        "id": "7LyDX9m4t49p"
      },
      "source": [
        "#### Обучение\n"
      ]
    },
    {
      "cell_type": "markdown",
      "metadata": {
        "id": "apEpD6kLt8VO"
      },
      "source": [
        "Данная функция проводит обучение с подсчётом функции потерь, а также рассчитывает на каждом шаге metric качества, такие как f1, accuracy, recall, precision. А также на валидации, для отслеживания. Ниже будут приведены графики соответствующих метрик для валидации для в зависимости от эпох. Для удобства есть возможность менять параметр average для 'micro'/'macro' стратегии расчёта вышеупомянутых метрик."
      ]
    },
    {
      "cell_type": "code",
      "metadata": {
        "colab": {
          "base_uri": "https://localhost:8080/"
        },
        "id": "PQV1wMQ545oz",
        "outputId": "a0720986-0da9-45c9-c13c-7d307a807daf"
      },
      "source": [
        "from sklearn.metrics import f1_score, recall_score, precision_score, accuracy_score\n",
        "def accuracy_new(outputs, labels):\n",
        "  pred = outputs.argmax(dim = 1)\n",
        "  return (pred == labels).sum()/labels.shape[0]\n",
        "\n",
        "\n",
        "def fit_new(epochs, lr, model, \n",
        "            train_images, val_images,\n",
        "            train_labels, val_labels,\n",
        "            opt_func = torch.optim.SGD,\n",
        "            batch_size = 50,\n",
        "            metric: str = 'accuracy',\n",
        "            mode = 'macro',\n",
        "            return_train_scores = False):\n",
        "  \n",
        "  stack_metrics = [accuracy_score, precision_score, recall_score, f1_score]\n",
        "  dict_metrics_stack = {name: metric for name, metric in zip(metrics_names, stack_metrics)}\n",
        "  criterion = nn.CrossEntropyLoss()\n",
        "  \n",
        "  losses_batch = []\n",
        "  metric_scores_batch = []\n",
        "  acc_arr = []\n",
        "  val_scores = []\n",
        "\n",
        "  optimizer = torch.optim.SGD(model.parameters(), lr = lr)\n",
        "  data_train = Datasetfashion(train_images, train_labels)\n",
        "  data_val = Datasetfashion(val_images, val_labels)\n",
        "  train_loader = DataLoader(data_train, batch_size, shuffle = True)\n",
        "  val_loader = DataLoader(data_val, batch_size, shuffle = True)\n",
        "\n",
        "  for epoch in tqdm(range(epochs)):\n",
        "    \n",
        "    losses_by_batch = []\n",
        "    metrics_by_batch = []\n",
        "\n",
        "    for x, y in train_loader:\n",
        "\n",
        "      optimizer.zero_grad()\n",
        "      out = model(x)\n",
        "      loss = criterion(out, y.long())\n",
        "      loss.backward()\n",
        "      optimizer.step()\n",
        "\n",
        "      with torch.no_grad():\n",
        "        losses_by_batch.append(loss.item())\n",
        "        dict_scores = {}\n",
        "        for m_name, m in zip(metrics_names, stack_metrics):\n",
        "          out_pred = out.argmax(dim = 1)\n",
        "          if(m_name.find('acc') == 0):\n",
        "            score = m(y.detach().numpy(), \n",
        "                      out_pred.detach().numpy(), \n",
        "                      )\n",
        "            \n",
        "          else:\n",
        "            score = m(y.detach().numpy(), \n",
        "                      out_pred.detach().numpy(), \n",
        "                      average = mode)\n",
        "            \n",
        "          dict_scores[m_name] = score\n",
        "        \n",
        "        metrics_by_batch.append(dict_scores) \n",
        "\n",
        "    # calculate mean of batch\n",
        "    mean_scores_by_batch = np.zeros((len(metrics_names)))\n",
        "    for idx in range(batch_size):\n",
        "      for jdx, name_metric in enumerate(metrics_names, 0):\n",
        "        mean_scores_by_batch[jdx] += metrics_by_batch[idx][name_metric]\n",
        "\n",
        "    mean_scores_by_batch = mean_scores_by_batch/batch_size\n",
        "    metric_scores_batch.append({name: score for name, score in zip(metrics_names, mean_scores_by_batch)})\n",
        "\n",
        "    # acc on validation set                                                          \n",
        "    VAL_SCORE = 0\n",
        "    times = 0\n",
        "    for i, batch in enumerate(val_loader, 1):\n",
        "      times += 1\n",
        "      x, y = batch\n",
        "      out = model(x)\n",
        "      out = out.argmax(dim = 1)\n",
        "      if(metric.find('acc') == 0): # for accuracy we don't need use average sklearn\n",
        "        VAL_SCORE += dict_metrics_stack[metric](out.detach().numpy(), y.detach().numpy())\n",
        "      else:\n",
        "        VAL_SCORE += dict_metrics_stack[metric](out.detach().numpy(), \n",
        "                                                y.detach().numpy(),\n",
        "                                                average = mode,\n",
        "                                                )\n",
        "\n",
        "    #print('-'*50)\n",
        "    #print('\\n {} on validation: {:.4f}'.format(metric[0].upper() + metric[1:], VAL_SCORE/times))\n",
        "    val_scores.append(VAL_SCORE/times)\n",
        "\n",
        "  if(return_train_scores):\n",
        "    return [losses_batch, val_scores, metric_scores_batch]\n",
        "  else:\n",
        "    return [losses_batch, val_scores]\n",
        "    \n",
        "        \n",
        "\n",
        "\n",
        "epochs = 30\n",
        "lr = 0.01\n",
        "      \n",
        "model_new = FMnistFashion(in_s = 28*28, out_s = 10)\n",
        "losses_history, metrics_history = fit_new(epochs,\n",
        "                                          lr, \n",
        "                                          model_new,\n",
        "                                          train_images, \n",
        "                                          val_images, \n",
        "                                          train_labels,\n",
        "                                          val_labels,\n",
        "                                          batch_size = 50,\n",
        "                                          metric = 'f1',\n",
        "                                          mode = 'micro')\n",
        " "
      ],
      "execution_count": null,
      "outputs": [
        {
          "output_type": "stream",
          "text": [
            "100%|██████████| 30/30 [00:22<00:00,  1.36it/s]\n"
          ],
          "name": "stderr"
        }
      ]
    },
    {
      "cell_type": "code",
      "metadata": {
        "colab": {
          "base_uri": "https://localhost:8080/",
          "height": 404
        },
        "id": "aXvaWP87in4s",
        "outputId": "518aad41-8a03-4ec0-9eec-baaff5e4cfc4"
      },
      "source": [
        "name_metric = 'f1'\n",
        "fig, ax = plt.subplots(figsize = (7, 6))\n",
        "ax.plot(metrics_history, '-x')\n",
        "ax.set_xlabel('epoch')\n",
        "ax.set_ylabel('{}'.format(name_metric))\n",
        "ax.set_title('{} vs. No. of epochs'.format(name_metric));"
      ],
      "execution_count": null,
      "outputs": [
        {
          "output_type": "display_data",
          "data": {
            "image/png": "[encoded data removed]",
            "text/plain": [
              "<Figure size 504x432 with 1 Axes>"
            ]
          },
          "metadata": {
            "tags": [],
            "needs_background": "light"
          }
        }
      ]
    },
    {
      "cell_type": "code",
      "metadata": {
        "colab": {
          "base_uri": "https://localhost:8080/"
        },
        "id": "2uKOlgmGmCoE",
        "outputId": "1a3d2270-8592-4d90-83fe-7a84786f6273"
      },
      "source": [
        "model_new = FMnistFashion(in_s = 28*28, out_s = 10)\n",
        "losses_history, metrics_history = fit_new(epochs,\n",
        "                                          lr, \n",
        "                                          model_new,\n",
        "                                          train_images, \n",
        "                                          val_images, \n",
        "                                          train_labels,\n",
        "                                          val_labels,\n",
        "                                          batch_size = 50,\n",
        "                                          metric = 'accuracy',\n",
        "                                          mode = 'micro')"
      ],
      "execution_count": null,
      "outputs": [
        {
          "output_type": "stream",
          "text": [
            "100%|██████████| 30/30 [00:20<00:00,  1.43it/s]\n"
          ],
          "name": "stderr"
        }
      ]
    },
    {
      "cell_type": "code",
      "metadata": {
        "colab": {
          "base_uri": "https://localhost:8080/",
          "height": 404
        },
        "id": "xm-PXbX8mHzP",
        "outputId": "781a30a8-3307-4bc6-da9f-547d56327edb"
      },
      "source": [
        "name_metric = 'accuracy'\n",
        "fig, ax = plt.subplots(figsize = (7, 6))\n",
        "ax.plot(metrics_history, '-x')\n",
        "ax.set_xlabel('epoch')\n",
        "ax.set_ylabel('{}'.format(name_metric))\n",
        "ax.set_title('{} vs. No. of epochs'.format(name_metric));"
      ],
      "execution_count": null,
      "outputs": [
        {
          "output_type": "display_data",
          "data": {
            "image/png": "[encoded data removed]",
            "text/plain": [
              "<Figure size 504x432 with 1 Axes>"
            ]
          },
          "metadata": {
            "tags": [],
            "needs_background": "light"
          }
        }
      ]
    },
    {
      "cell_type": "code",
      "metadata": {
        "colab": {
          "base_uri": "https://localhost:8080/"
        },
        "id": "3STd8uQKmOv_",
        "outputId": "afc6a4bd-5146-4146-b9c2-13a16215db56"
      },
      "source": [
        "model_new = FMnistFashion(in_s = 28*28, out_s = 10)\n",
        "losses_history, metrics_history = fit_new(epochs,\n",
        "                                          lr, \n",
        "                                          model_new,\n",
        "                                          train_images, \n",
        "                                          val_images, \n",
        "                                          train_labels,\n",
        "                                          val_labels,\n",
        "                                          batch_size = 50,\n",
        "                                          metric = 'precision',\n",
        "                                          mode = 'micro')"
      ],
      "execution_count": null,
      "outputs": [
        {
          "output_type": "stream",
          "text": [
            "100%|██████████| 30/30 [00:22<00:00,  1.36it/s]\n"
          ],
          "name": "stderr"
        }
      ]
    },
    {
      "cell_type": "code",
      "metadata": {
        "colab": {
          "base_uri": "https://localhost:8080/"
        },
        "id": "_qazYqIWmbRY",
        "outputId": "4a844db3-1949-4395-f144-275ef1272469"
      },
      "source": [
        "model_new = FMnistFashion(in_s = 28*28, out_s = 10)\n",
        "losses_history, metrics_history = fit_new(epochs,\n",
        "                                          lr, \n",
        "                                          model_new,\n",
        "                                          train_images, \n",
        "                                          val_images, \n",
        "                                          train_labels,\n",
        "                                          val_labels,\n",
        "                                          batch_size = 50,\n",
        "                                          metric = 'recall',\n",
        "                                          mode = 'micro')"
      ],
      "execution_count": null,
      "outputs": [
        {
          "output_type": "stream",
          "text": [
            "100%|██████████| 30/30 [00:21<00:00,  1.36it/s]\n"
          ],
          "name": "stderr"
        }
      ]
    },
    {
      "cell_type": "code",
      "metadata": {
        "colab": {
          "base_uri": "https://localhost:8080/",
          "height": 404
        },
        "id": "K-fJdHTSmdHw",
        "outputId": "08865603-2f2b-4974-dbc0-cee162340694"
      },
      "source": [
        "name_metric = 'recall'\n",
        "fig, ax = plt.subplots(figsize = (7, 6))\n",
        "ax.plot(metrics_history, '-x')\n",
        "ax.set_xlabel('epoch')\n",
        "ax.set_ylabel('{}'.format(name_metric))\n",
        "ax.set_title('{} vs. No. of epochs'.format(name_metric));"
      ],
      "execution_count": null,
      "outputs": [
        {
          "output_type": "display_data",
          "data": {
            "image/png": "[encoded data removed]",
            "text/plain": [
              "<Figure size 504x432 with 1 Axes>"
            ]
          },
          "metadata": {
            "tags": [],
            "needs_background": "light"
          }
        }
      ]
    },
    {
      "cell_type": "code",
      "metadata": {
        "colab": {
          "base_uri": "https://localhost:8080/",
          "height": 404
        },
        "id": "N6Tqu6L4mS8m",
        "outputId": "8424b612-be4e-4e74-a590-3d4a7fe7d47c"
      },
      "source": [
        "name_metric = 'precision'\n",
        "fig, ax = plt.subplots(figsize = (7, 6))\n",
        "ax.plot(metrics_history, '-x')\n",
        "ax.set_xlabel('epoch')\n",
        "ax.set_ylabel('{}'.format(name_metric))\n",
        "ax.set_title('{} vs. No. of epochs'.format(name_metric));"
      ],
      "execution_count": null,
      "outputs": [
        {
          "output_type": "display_data",
          "data": {
            "image/png": "[encoded data removed]",
            "text/plain": [
              "<Figure size 504x432 with 1 Axes>"
            ]
          },
          "metadata": {
            "tags": [],
            "needs_background": "light"
          }
        }
      ]
    },
    {
      "cell_type": "code",
      "metadata": {
        "id": "HXHVur4hmXbY"
      },
      "source": [
        ""
      ],
      "execution_count": null,
      "outputs": []
    }
  ]
}