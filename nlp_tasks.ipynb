{
  "nbformat": 4,
  "nbformat_minor": 0,
  "metadata": {
    "colab": {
      "name": "nlp_tasks.ipynb",
      "provenance": [],
      "collapsed_sections": [],
      "authorship_tag": "ABX9TyMdyq4YY1aZ9ADiqF015Qj/",
      "include_colab_link": true
    },
    "kernelspec": {
      "name": "python3",
      "display_name": "Python 3"
    },
    "language_info": {
      "name": "python"
    }
  },
  "cells": [
    {
      "cell_type": "markdown",
      "metadata": {
        "id": "view-in-github",
        "colab_type": "text"
      },
      "source": [
        "<a href=\"https://colab.research.google.com/github/Mikhail-Klochkov/ml_intro/blob/master/nlp_tasks.ipynb\" target=\"_parent\"><img src=\"https://colab.research.google.com/assets/colab-badge.svg\" alt=\"Open In Colab\"/></a>"
      ]
    },
    {
      "cell_type": "code",
      "metadata": {
        "id": "Nowl4h9nXxnS",
        "colab": {
          "base_uri": "https://localhost:8080/"
        },
        "outputId": "5374dbde-6ed6-4ca0-d6ad-ec35e075bff8"
      },
      "source": [
        "import re\n",
        "import string\n",
        "import operator\n",
        "\n",
        "from collections import defaultdict\n",
        "\n",
        "import numpy as np\n",
        "import pandas as pd\n",
        "pd.set_option('display.max_rows', 500)\n",
        "pd.set_option('display.max_columns', 500)\n",
        "pd.set_option('display.width', 1000)\n",
        "\n",
        "import matplotlib.pyplot as plt\n",
        "import seaborn as sns\n",
        "import nltk\n",
        "from wordcloud import STOPWORDS\n",
        "\n",
        "from sklearn.model_selection import StratifiedKFold, StratifiedShuffleSplit\n",
        "from sklearn.metrics import precision_score, recall_score, f1_score\n",
        "\n",
        "\n",
        "from scipy.sparse import hstack\n",
        "from sklearn.linear_model import Ridge, SGDRegressor, Lasso, LinearRegression,SGDClassifier, LogisticRegression\n",
        "\n",
        "import nltk \n",
        "from nltk.tokenize import word_tokenize, sent_tokenize\n",
        "from nltk.tokenize import RegexpTokenizer\n",
        "from nltk.stem import WordNetLemmatizer,PorterStemmer\n",
        "from nltk.corpus import stopwords\n",
        "from collections import Counter\n",
        "from nltk.stem import WordNetLemmatizer\n",
        "import re\n",
        "\n",
        "from numpy.linalg import norm\n",
        "from sklearn.feature_extraction.text import TfidfTransformer, TfidfVectorizer\n",
        "from sklearn.model_selection import train_test_split\n",
        "\n",
        "from sklearn.preprocessing import StandardScaler, MinMaxScaler, RobustScaler\n",
        "from sklearn.feature_extraction.text import CountVectorizer\n",
        "\n",
        "from sklearn.preprocessing import LabelEncoder, OneHotEncoder\n",
        "from sklearn.ensemble import RandomForestClassifier, RandomTreesEmbedding\n",
        "\n",
        "nltk.download('stopwords')\n",
        "nltk.download('punkt')\n",
        "nltk.download('wordnet')\n",
        "stopwords_ = set(stopwords.words('english'))\n",
        "punctuations_letters = string.punctuation\n",
        "topk = 10"
      ],
      "execution_count": 45,
      "outputs": [
        {
          "output_type": "stream",
          "text": [
            "[nltk_data] Downloading package stopwords to /root/nltk_data...\n",
            "[nltk_data]   Package stopwords is already up-to-date!\n",
            "[nltk_data] Downloading package punkt to /root/nltk_data...\n",
            "[nltk_data]   Package punkt is already up-to-date!\n",
            "[nltk_data] Downloading package wordnet to /root/nltk_data...\n",
            "[nltk_data]   Package wordnet is already up-to-date!\n"
          ],
          "name": "stdout"
        }
      ]
    },
    {
      "cell_type": "code",
      "metadata": {
        "colab": {
          "base_uri": "https://localhost:8080/"
        },
        "id": "Xo_7fc8LYkDA",
        "outputId": "1b802e81-c915-4ae0-bc3c-ef298bb91343"
      },
      "source": [
        "from google.colab import drive\n",
        "drive.mount('/content/drive')"
      ],
      "execution_count": 2,
      "outputs": [
        {
          "output_type": "stream",
          "text": [
            "Mounted at /content/drive\n"
          ],
          "name": "stdout"
        }
      ]
    },
    {
      "cell_type": "code",
      "metadata": {
        "colab": {
          "base_uri": "https://localhost:8080/"
        },
        "id": "5KxcppfiY_wr",
        "outputId": "cd9e768e-5e71-45e5-e6f2-26afca43db85"
      },
      "source": [
        "!unzip '/content/drive/MyDrive/Colab_Notebooks/nlp.zip' -d data\n"
      ],
      "execution_count": 3,
      "outputs": [
        {
          "output_type": "stream",
          "text": [
            "Archive:  /content/drive/MyDrive/Colab_Notebooks/nlp.zip\n",
            "   creating: data/nlp/\n",
            "  inflating: data/__MACOSX/._nlp     \n",
            "  inflating: data/nlp/positive-words.txt  \n",
            "  inflating: data/__MACOSX/nlp/._positive-words.txt  \n",
            "  inflating: data/nlp/sample submission.csv  \n",
            "  inflating: data/__MACOSX/nlp/._sample submission.csv  \n",
            "  inflating: data/nlp/SentiWordNet.txt  \n",
            "  inflating: data/__MACOSX/nlp/._SentiWordNet.txt  \n",
            "  inflating: data/nlp/test.csv       \n",
            "  inflating: data/__MACOSX/nlp/._test.csv  \n",
            "  inflating: data/nlp/train.csv      \n",
            "  inflating: data/__MACOSX/nlp/._train.csv  \n",
            "  inflating: data/nlp/negative-words.txt  \n",
            "  inflating: data/__MACOSX/nlp/._negative-words.txt  \n"
          ],
          "name": "stdout"
        }
      ]
    },
    {
      "cell_type": "code",
      "metadata": {
        "id": "xeJWpF5EZObn"
      },
      "source": [
        "df = pd.read_csv(\"/content/data/nlp/train.csv\", encoding='ISO-8859-1')\n",
        "df_new = df.copy(deep = True)"
      ],
      "execution_count": 4,
      "outputs": []
    },
    {
      "cell_type": "code",
      "metadata": {
        "colab": {
          "base_uri": "https://localhost:8080/"
        },
        "id": "-1VwborsZrEZ",
        "outputId": "b854f49b-2427-45f4-edcd-6eb3601ceec9"
      },
      "source": [
        "df.info()"
      ],
      "execution_count": 5,
      "outputs": [
        {
          "output_type": "stream",
          "text": [
            "<class 'pandas.core.frame.DataFrame'>\n",
            "RangeIndex: 2351 entries, 0 to 2350\n",
            "Data columns (total 5 columns):\n",
            " #   Column        Non-Null Count  Dtype  \n",
            "---  ------        --------------  -----  \n",
            " 0   Id            2351 non-null   int64  \n",
            " 1   Hotel_name    2351 non-null   object \n",
            " 2   Review_Title  2136 non-null   object \n",
            " 3   Review_Text   2351 non-null   object \n",
            " 4   Rating        2351 non-null   float64\n",
            "dtypes: float64(1), int64(1), object(3)\n",
            "memory usage: 92.0+ KB\n"
          ],
          "name": "stdout"
        }
      ]
    },
    {
      "cell_type": "code",
      "metadata": {
        "id": "vIxq-BvMovCI"
      },
      "source": [
        "if('Id' in set(df.columns)):\n",
        "  df.drop(columns= ['Id'], inplace = True)"
      ],
      "execution_count": 6,
      "outputs": []
    },
    {
      "cell_type": "markdown",
      "metadata": {
        "id": "fnWz-3o_awXZ"
      },
      "source": [
        "Пропущенные значения у Review_Title"
      ]
    },
    {
      "cell_type": "code",
      "metadata": {
        "colab": {
          "base_uri": "https://localhost:8080/"
        },
        "id": "iwopNqdaakx_",
        "outputId": "cf3c927a-43fa-4ed1-bdad-d9272525595f"
      },
      "source": [
        "df.isna().sum(axis = 0)"
      ],
      "execution_count": null,
      "outputs": [
        {
          "output_type": "execute_result",
          "data": {
            "text/plain": [
              "Hotel_name        0\n",
              "Review_Title    215\n",
              "Review_Text       0\n",
              "Rating            0\n",
              "dtype: int64"
            ]
          },
          "metadata": {
            "tags": []
          },
          "execution_count": 7
        }
      ]
    },
    {
      "cell_type": "markdown",
      "metadata": {
        "id": "WuxMW906DiFf"
      },
      "source": [
        "График рейтингов пользователей."
      ]
    },
    {
      "cell_type": "code",
      "metadata": {
        "colab": {
          "base_uri": "https://localhost:8080/",
          "height": 513
        },
        "id": "OtgktrLxavUq",
        "outputId": "db1a76f4-a9b6-41ae-c4c5-241e6b29e2c4"
      },
      "source": [
        "fig, ax = plt.subplots(figsize = (5, 7))\n",
        "sns.distplot(a = df.Rating, \n",
        "             bins = 30, \n",
        "             hist = True, \n",
        "             ax = ax,\n",
        "             label = 'Rating')\n",
        "ax.set_title('Rating distributions')\n",
        "ax.grid()"
      ],
      "execution_count": 7,
      "outputs": [
        {
          "output_type": "stream",
          "text": [
            "/usr/local/lib/python3.7/dist-packages/seaborn/distributions.py:2557: FutureWarning: `distplot` is a deprecated function and will be removed in a future version. Please adapt your code to use either `displot` (a figure-level function with similar flexibility) or `histplot` (an axes-level function for histograms).\n",
            "  warnings.warn(msg, FutureWarning)\n"
          ],
          "name": "stderr"
        },
        {
          "output_type": "display_data",
          "data": {
            "image/png": "[encoded data removed]",
            "text/plain": [
              "<Figure size 360x504 with 1 Axes>"
            ]
          },
          "metadata": {
            "tags": [],
            "needs_background": "light"
          }
        }
      ]
    },
    {
      "cell_type": "markdown",
      "metadata": {
        "id": "4URtv1v5Dnw7"
      },
      "source": [
        "Можно заметить, что вообще говоря конечное множество ответов мы видим."
      ]
    },
    {
      "cell_type": "code",
      "metadata": {
        "colab": {
          "base_uri": "https://localhost:8080/"
        },
        "id": "3R-y2rDzbOFU",
        "outputId": "d81ef2b9-a727-4616-82d3-c1fb435c7dd5"
      },
      "source": [
        "\n",
        "print('We have several levels of rating : {}\\nsize of unique values: {}'.format(df.Rating.unique(),\n",
        "                                                                                 df.Rating.unique().__len__()))"
      ],
      "execution_count": 8,
      "outputs": [
        {
          "output_type": "stream",
          "text": [
            "We have several levels of rating : [ 80. 100.  71.  86.  40.  57.  43.  20.  60.  65.  29.]\n",
            "size of unique values: 11\n"
          ],
          "name": "stdout"
        }
      ]
    },
    {
      "cell_type": "markdown",
      "metadata": {
        "id": "QvQoBjXNDt3K"
      },
      "source": [
        "Частоты каждого (класса) рейтинга."
      ]
    },
    {
      "cell_type": "code",
      "metadata": {
        "colab": {
          "base_uri": "https://localhost:8080/"
        },
        "id": "dX7CheOi2SrW",
        "outputId": "1505592e-d25c-4d03-f70e-f467a723a18a"
      },
      "source": [
        "# -- По сути то, что мы наблюдаем -- #\n",
        "df.Rating.value_counts()/df.shape[0]"
      ],
      "execution_count": 10,
      "outputs": [
        {
          "output_type": "execute_result",
          "data": {
            "text/plain": [
              "86.0     0.197788\n",
              "100.0    0.187580\n",
              "71.0     0.139090\n",
              "80.0     0.130583\n",
              "60.0     0.073160\n",
              "65.0     0.069332\n",
              "57.0     0.061251\n",
              "20.0     0.037431\n",
              "40.0     0.037431\n",
              "43.0     0.037006\n",
              "29.0     0.029349\n",
              "Name: Rating, dtype: float64"
            ]
          },
          "metadata": {
            "tags": []
          },
          "execution_count": 10
        }
      ]
    },
    {
      "cell_type": "markdown",
      "metadata": {
        "id": "CJI2z_b0bzLP"
      },
      "source": [
        "Видно, что значения рейтинга принимают конечное множество значений. Всего 11.\n"
      ]
    },
    {
      "cell_type": "code",
      "metadata": {
        "colab": {
          "base_uri": "https://localhost:8080/",
          "height": 350
        },
        "id": "yRv45ozbbotW",
        "outputId": "1a0ebbbb-f991-40e0-c5ab-92acd7bdf800"
      },
      "source": [
        "fig, ax = plt.subplots(figsize = (5, 5))\n",
        "sns.countplot(data = df, x = 'Rating',\n",
        "              ax = ax,\n",
        "              label = 'counts')\n",
        "\n",
        "ax.set_title('Distribution of ratings')\n",
        "ax.grid(True)"
      ],
      "execution_count": 11,
      "outputs": [
        {
          "output_type": "display_data",
          "data": {
            "image/png": "[encoded data removed]",
            "text/plain": [
              "<Figure size 360x360 with 1 Axes>"
            ]
          },
          "metadata": {
            "tags": [],
            "needs_background": "light"
          }
        }
      ]
    },
    {
      "cell_type": "markdown",
      "metadata": {
        "id": "VGtUedroD3hu"
      },
      "source": [
        "Поучему - то захотелось посмотреть на график длин title-ов."
      ]
    },
    {
      "cell_type": "code",
      "metadata": {
        "colab": {
          "base_uri": "https://localhost:8080/",
          "height": 405
        },
        "id": "KSnprvqocQzP",
        "outputId": "ce04121d-413c-4ae2-9432-dbc8df1ebe8c"
      },
      "source": [
        "# -- maybe the better use Review_title and text together -- #\n",
        "from scipy.stats import norm\n",
        "length_of_titles = df.Review_Title.apply(lambda x: 0 if x is np.nan else len(x))\n",
        "fig, ax = plt.subplots(1, 2, figsize = (10, 5))\n",
        "sns.distplot(a = length_of_titles,\n",
        "             hist = True,\n",
        "             ax = ax[0],\n",
        "             label = 'Distribution of len Title',\n",
        "             fit = norm,   \n",
        "             color = '#BBB140'          \n",
        "             )\n",
        "ax[0].legend()\n",
        "ax[0].grid()\n",
        "sns.boxplot(x = length_of_titles, \n",
        "            color = '#AAA140', ax= ax[1],\n",
        "            whis = 2.)\n",
        "\n",
        "ax[1].set_title('boxplot for lenght_of_titles')\n",
        "\n",
        "plt.show()"
      ],
      "execution_count": 13,
      "outputs": [
        {
          "output_type": "stream",
          "text": [
            "/usr/local/lib/python3.7/dist-packages/seaborn/distributions.py:2557: FutureWarning: `distplot` is a deprecated function and will be removed in a future version. Please adapt your code to use either `displot` (a figure-level function with similar flexibility) or `histplot` (an axes-level function for histograms).\n",
            "  warnings.warn(msg, FutureWarning)\n"
          ],
          "name": "stderr"
        },
        {
          "output_type": "display_data",
          "data": {
            "image/png": "[encoded data removed]",
            "text/plain": [
              "<Figure size 720x360 with 2 Axes>"
            ]
          },
          "metadata": {
            "tags": [],
            "needs_background": "light"
          }
        }
      ]
    },
    {
      "cell_type": "markdown",
      "metadata": {
        "id": "QLq_enq4lqqx"
      },
      "source": [
        "Первая попытка Feature extractions из нашего текста. Тут пока выделил ряд новых признаков по отдельности для title и для text. Признаки по типу длинна текста, колличество больших символов, отношения количества заглавных к количеству всех символов, количество (\"!\", \"?\"), пунктуационных символов, количество слов и количество уникальных слов, и их отношения между собой. \n",
        "\n",
        "Как окажется ниже не очень хорошо использовать прям все эти признаки в линейных моделей, так как проанализировав их взаимные корреляции видно, что очень много выделенных признаков сильно скоррелированы между собой.\n"
      ]
    },
    {
      "cell_type": "code",
      "metadata": {
        "id": "Qq_HZ2TWd52R"
      },
      "source": [
        "# -- Информация об отсутствии title возможно необходима -- #\n",
        "\n",
        "# -- len -- #\n",
        "df['total_length_title'] = df.Review_Title.apply(lambda x: 0 if x is np.nan else len(x))\n",
        "df['total_length_text'] = df.Review_Text.apply(lambda x: 0 if x is np.nan else len(x))\n",
        "\n",
        "# -- Number of capitalize -- #\n",
        "\n",
        "# -- Before work with nan object for Title -- #\n",
        "#df.Review_Title[df.Review_Title.isna()] = df.Review_Title[df.Review_Title.isna()].apply(lambda title: ' ')\n",
        "\n",
        "df.Review_Title.apply(lambda x: type(x))\n",
        "df['num_of_capitals_title'] = df.Review_Title.apply(lambda title: \n",
        "                                                    sum(1 for char in title if char.isupper()) if (title is not np.nan) else 0)\n",
        "\n",
        "df['num_of_capitals_text'] = df.Review_Text.apply(lambda text: sum([1 for char in text if char.isupper()]))\n",
        "\n",
        "\n",
        "# -- enter some new features -- #\n",
        "eps = 0.1\n",
        "df['caps_vs_length'] = df.apply(lambda row: float(row['num_of_capitals_title'])/float(row['total_length_title'] + eps), axis = 1)\n",
        "# -- Вопрос. и воскл. знаки и препинания -- #\n",
        "df['num_exclamation_marks_title'] = df.Review_Title.apply(lambda title: title.count('!') if title is not np.nan else 0)\n",
        "df['num_exclamation_marks_text'] = df.Review_Text.apply(lambda text: text.count('!'))\n",
        "\n",
        "df['num_quest_marks_title'] = df.Review_Title.apply(lambda title: title.count('?') if title is not np.nan else 0)\n",
        "df['num_quest_marks_text'] = df.Review_Text.apply(lambda text: text.count('?'))\n",
        "\n",
        "df['num_punctuation_title'] = df.Review_Title.apply(lambda title: sum(title.count(w) for w in '.,;:') if title is not np.nan else 0)\n",
        "df['num_punctuation_text'] = df.Review_Text.apply(lambda text: sum(text.count(w) for w in '.,;:'))\n",
        "\n",
        "# -- num words, num_unique words(locally) -- #\n",
        "df['num_words_title'] = df.Review_Title.apply(lambda title: len(title.split()) if title is not np.nan else 0)\n",
        "df['num_words_text'] = df.Review_Text.apply(lambda text: len(text.split()))\n",
        "\n",
        "df['num_unique_words_title'] = df.Review_Title.apply(lambda title: len(set(w for w in title.split())) if title is not np.nan else 0)\n",
        "df['num_unique_words_text'] = df.Review_Text.apply(lambda text: len(set(w for w in text.split())))\n",
        "\n",
        "df['words_vs_unique_title'] = df['num_words_title']/(df['num_unique_words_title'] + eps)\n",
        "df['words_vs_unique_text'] = df.apply(lambda row: float(row['num_words_text'])/(row['num_unique_words_text'] + eps), axis = 1)\n",
        "\n",
        "# -- only text -- #\n",
        "df['num_smilies'] = df.Review_Text.apply(lambda text: sum(text.count(w) for w in (':-)', ':)', ';-)', ';)')))"
      ],
      "execution_count": 14,
      "outputs": []
    },
    {
      "cell_type": "markdown",
      "metadata": {
        "id": "qTfrSulpE9DY"
      },
      "source": [
        "Посмотрим на скоррелированность данных признаков. "
      ]
    },
    {
      "cell_type": "code",
      "metadata": {
        "colab": {
          "base_uri": "https://localhost:8080/",
          "height": 571
        },
        "id": "ORE_1zBfiC6l",
        "outputId": "48d73c2e-8c83-4b9e-b7ff-e1a562b663b4"
      },
      "source": [
        "# -- lets see on correleations between new features -- #\n",
        "\n",
        "fig, ax = plt.subplots(figsize = (10, 7))\n",
        "correlations_matrix = df.drop(columns = [col for col in df.columns if col.find('Review') != -1]).corr()\n",
        "ax = sns.heatmap(correlations_matrix, \n",
        "                 vmin = -1, \n",
        "                 vmax = 1, \n",
        "                 center = 0.)\n",
        "plt.show()\n"
      ],
      "execution_count": 15,
      "outputs": [
        {
          "output_type": "display_data",
          "data": {
            "image/png": "[encoded data removed]",
            "text/plain": [
              "<Figure size 720x504 with 2 Axes>"
            ]
          },
          "metadata": {
            "tags": [],
            "needs_background": "light"
          }
        }
      ]
    },
    {
      "cell_type": "markdown",
      "metadata": {
        "id": "yLwLj6lgpkO_"
      },
      "source": [
        "Видно, что считать отдельно вышеописанные признаки как для title части, так и для text неправильно, очень много корреляций. Стоит убрать ряд признаков. Например количество слов и количество уникальных слов - сильно скоррелированные признаки. \n",
        "\n",
        "Для простоты взаимодействия с данными было решено объеденить Review_title and Review_Text в один текст. Наверное, это может привести к тому, что некоторые информативные признаки, которые можно выделить только из Review_Title будут утерянны, но так будет проще взаимодействовать с данными (делать нормализацию только для одного текста). "
      ]
    },
    {
      "cell_type": "code",
      "metadata": {
        "id": "8LBv51NnpcZe"
      },
      "source": [
        "\n",
        "#lengths_of_names = df_new.Hotel_name.apply(lambda x: len(x.split(' '))).value_counts()\n",
        "# -- remove Id -- #\n",
        "if('ID' in set(df_new.columns)):\n",
        "  df_new = df_new.drop(columns  = ['Id'])\n",
        "\n",
        "# -- concat together Review_Title and Review_Text -- #\n",
        "def concatTitleText(title, text):\n",
        "  if(title is np.nan):\n",
        "    return text\n",
        "  else:\n",
        "    return text + title\n",
        "\n",
        "df_new['allText'] = df_new.apply(lambda r: concatTitleText(r['Review_Title'], r['Review_Text']), axis = 1)\n",
        "# -- some check Titles with lower case -- #\n",
        "\n",
        "#not_nan = df_new.Review_Title.isna().values.astype(bool)\n",
        "#mask_lower_case = df_new.Review_Title[~not_nan].str[0].apply(lambda x: x.islower())\n"
      ],
      "execution_count": 17,
      "outputs": []
    },
    {
      "cell_type": "markdown",
      "metadata": {
        "id": "M5DrfPCXGhR9"
      },
      "source": [
        "**Тут мы пишем функцию, которая выделяет из вышеописанных признаков только: суммарную длинну текста (всего вместе с title and text), количество заглавных символов, отношение заглавных символов к всей длинне, Количество (\"?\", \"!\", \"punctuations\"), количество уникальных слов, просто слов, и их отношение и количество смайликов**  "
      ]
    },
    {
      "cell_type": "code",
      "metadata": {
        "id": "OtbbBHkhc6uS"
      },
      "source": [
        "# -- the same preprocessing -- #\n",
        "def AddFeaturesText(df_not_change, text_column :str):\n",
        "  \"\"\"\n",
        "  get dataframe df_not_change and after we returned a new DataFrame of added Dataset \n",
        "  \"\"\"\n",
        "  # -- len -- #\n",
        "  df = df_not_change.copy(deep = True)\n",
        "  df['total_length_text'] = df[text_column].apply(lambda x: 0 if x is np.nan else len(x))\n",
        "  # -- Number of capitalize -- #\n",
        "  \n",
        "  df['num_of_capitals_text'] = df[text_column].apply(lambda text: sum([1 for char in text if char.isupper()]))\n",
        "  # -- enter some new features -- #\n",
        "  \n",
        "  eps = 0.1\n",
        "  df['caps_vs_length'] = df.apply(lambda row: float(row['num_of_capitals_text'])/float(row['total_length_text'] + eps), axis = 1)\n",
        "  # -- Вопрос. и воскл. знаки и препинания -- #\n",
        "\n",
        "  df['num_exclamation_marks_text'] = df[text_column].apply(lambda text: text.count('!'))\n",
        "  df['num_quest_marks_text'] = df[text_column].apply(lambda text: text.count('?'))\n",
        "  df['num_punctuation_text'] = df[text_column].apply(lambda text: sum(text.count(w) for w in '.,;:'))\n",
        "\n",
        "  # -- num words, num_unique words(locally) -- #\n",
        "  df['num_words_text'] = df[text_column].apply(lambda text: len(text.split()))\n",
        "  df['num_unique_words_text'] = df[text_column].apply(lambda text: len(set(w for w in text.split())))\n",
        "  df['words_vs_unique_text'] = df.apply(lambda row: float(row['num_words_text'])/(row['num_unique_words_text'] + eps), axis = 1)\n",
        "\n",
        "  # -- only text -- #\n",
        "  df['num_smilies'] = df[text_column].apply(lambda text: sum(text.count(w) for w in (':-)', ':)', ';-)', ';)')))\n",
        "  return df\n",
        "\n",
        "df_new_add = AddFeaturesText(df_new, 'allText')"
      ],
      "execution_count": 18,
      "outputs": []
    },
    {
      "cell_type": "code",
      "metadata": {
        "id": "KEIDuHX07jae"
      },
      "source": [
        "def removepunctuations(text):\n",
        "  return text.translate(str.maketrans('', '', punctuations_letters))\n",
        "\n",
        "def removespecialletterscomplex(text):\n",
        "  \"\"\"\n",
        "  We need not concat in place of special symbols \n",
        "  \"\"\"\n",
        "  for word in text.split(\" \"):\n",
        "    for char in word:\n",
        "      if not char.isalpha():\n",
        "        print([word], ' ', [char])\n",
        "\n",
        "def removePunctSpecial(text):\n",
        "  \"\"\"\n",
        "  remove Punctuations and Other character \n",
        "  \"\"\"\n",
        "  tokens = word_tokenize(text)\n",
        "  words = [word for word in tokens if word.isalpha()]\n",
        "  return \" \".join(words)\n",
        "\n",
        "def removespecialletters(text):\n",
        "  \"\"\"\n",
        "  remove special letters from text \n",
        "  we just remove our \\n and concatenete words together \n",
        "  \"\"\"\n",
        "  words = text.split(\" \")\n",
        "  return ' '.join([''.join([char for char in word if char.isalpha()]) for word in words])\n",
        "\n",
        "def removingstopwords(text):\n",
        "  \"\"\"\n",
        "  remove from text all stopwords of English language\n",
        "  \"\"\"\n",
        "  if(stopwords_ is None):\n",
        "    print('We need download stopwords of English language')\n",
        "  words = text.split(\" \")\n",
        "  return \" \".join([word for word in words if word not in set(stopwords_)])\n",
        "\n",
        "def returnFrequentList(df, col_name_text):\n",
        "  \"\"\"\n",
        "  return Counter of all words in dataset frequent vocabulary\n",
        "  \"\"\"\n",
        "  cnt = Counter()\n",
        "  for row in df.itertuples(index = True, name = 'Pandas'):\n",
        "    text_current = getattr(row, col_name_text) \n",
        "    tokenize = word_tokenize(text_current)\n",
        "    for word in tokenize:\n",
        "      cnt[word] += 1\n",
        "  return cnt \n",
        "\n",
        "# -- the better made lemmatization -- # \n",
        "# -- it's more complex and stable for noise data -- #\n",
        "def stemmedtext(text):\n",
        "  \"\"\"\n",
        "  stemming \n",
        "  \"\"\"\n",
        "  porter = PorterStemmer()\n",
        "  tokens = word_tokenize(text)\n",
        "  stemmed = [porter.stem(word) for word in tokens]\n",
        "  return ' '.join(stemmed)\n",
        "\n",
        "lemmatizer = WordNetLemmatizer()\n",
        "\n",
        "def lemmatizationMy(text):\n",
        "  \"\"\"\n",
        "  lematization our text\n",
        "  \"\"\"\n",
        "  return \" \".join([lemmatizer.lemmatize(word) for word in text.split()])\n",
        "\n",
        "def deletefrequentwords(text, topk = topk):\n",
        "  \"\"\"\n",
        "  delete topk frequent words \n",
        "  \"\"\"\n",
        "  return ' '.join([w for w in str(text).split(' ') if w not in FREQWORDS])\n",
        "\n",
        "def deleterarewords(text, topk = topk):\n",
        "  \"\"\"\n",
        "  delete downtopk rare words \n",
        "  \"\"\"\n",
        "  return ' '.join([w for w in str(text).split(' ') if w not in RAREWORDS])\n",
        "\n",
        "\n",
        "def dropColumns(df, columns: list):\n",
        "  for col in columns:\n",
        "    if col in set(df.columns):\n",
        "      df.drop(columns = [col], inplace = True)\n",
        "  return df\n",
        "\n",
        "def preprocessingStandartText(df, \n",
        "                              text_column, \n",
        "                              stemming = True, \n",
        "                              deletewords = False):\n",
        "  \"\"\"\n",
        "  get DataFrame and made simple text Preprocessing (removal punctuations,\n",
        "  lower case, remove rare words and etc)\n",
        "  return a new dataset with preprocessed Text representetion\n",
        "  \"\"\"\n",
        "  df_copy = df.copy(deep = True)\n",
        "  # -- lower -- #\n",
        "  df_copy[text_column] = df_copy[text_column].str.lower()\n",
        "  # -- remove punctuations and special cases -- #\n",
        "  df_copy[text_column] = df_copy[text_column].apply(lambda text: removePunctSpecial(text))\n",
        "  # -- remove stop words -- #\n",
        "  df_copy[text_column] = df_copy[text_column].apply(lambda text: removingstopwords(text))\n",
        "  # -- stemming -- #\n",
        "  if stemming:\n",
        "    df_copy[text_column] = df_copy[text_column].apply(lambda text: stemmedtext(text))\n",
        "  else:\n",
        "    df_copy[text_column] = df_copy[text_column].apply(lambda text: lemmatizationMy(text))\n",
        "  # -- lemmatization -- #\n",
        "\n",
        "  # -- remove rare and very frequent words -- #\n",
        "  if deletewords:\n",
        "    # -- delete freq words -- #\n",
        "    df_copy[text_column] = df_copy[text_column].apply(lambda text: deletefrequentwords(text, topk = topk))\n",
        "    # -- delete rare words -- #\n",
        "    df_copy[text_column] = df_copy[text_column].apply(lambda text: deleterarewords(text, topk = downtopk))\n",
        "\n",
        "  return df_copy\n",
        "\n"
      ],
      "execution_count": 29,
      "outputs": []
    },
    {
      "cell_type": "markdown",
      "metadata": {
        "id": "sO2pYjCPGCVP"
      },
      "source": [
        "Если посмотреть детальнее, то если проводить preprocessing, которые описан выше, то мы получим достаточно хорошо нормализованный текст, но будет ряд слипшихся слов (2-3 слова), которые алгоритм будет распознавать как одно отдельное слово с определённым смыслом, это связанно с тем, что в первичных данных присутствовало много слипшихся слов, а также некоторых очень длинных слов пор-ка 10-20 с длинной больше 50 символов по типу: \"goooooooddseeerrviiicceee\" или что-то в таком духе. Всё это вносит некоторый шум в данные. По хорошему нужно как - то в ручную данные конструкции (слипшиеся слова или очень длинные как написано выше заменять на эквивалентные - нормальные слова, но на это уйдет очень много сил, поэтому попробуем сдлеать бэйзлайн для частично нормализованных данных)!!!\n"
      ]
    },
    {
      "cell_type": "markdown",
      "metadata": {
        "id": "wAjwb3acKGfI"
      },
      "source": [
        "**Также я заметил, что не так много отелей во всей выборке, поэтому можно попробовать сгруппировать данные для каждого взятого отеля, с целью выделить некоторые статистические данные, например медианный рейтинг для каждого отеля, но перед этим, необходимо провезти разделение выборки данных на train - test.** Считаю, что это очень сильный признак!!!  "
      ]
    },
    {
      "cell_type": "code",
      "metadata": {
        "id": "7IOQmAjPyxLz"
      },
      "source": [
        "# -- Функция, которая возвращает медианный рейтинг для каждого отдельного отеля -- #\n",
        "\n",
        "def fillMedianRaiting(row, \n",
        "                      hotelStatsRating, \n",
        "                      isTest = False):\n",
        "  try:\n",
        "    if isTest:\n",
        "      # -- in dataset -- #\n",
        "      if(hotelStatsRating.to_dict()['median'].get(str(row['Hotel_name'])) != -1):\n",
        "        return hotelStatsRating.to_dict()['median'][str(row['Hotel_name'])]\n",
        "      else:\n",
        "      # -- not in dataset -- #\n",
        "        return np.nan\n",
        "    else:\n",
        "      return hotelStatsRating.to_dict()['median'][str(row['Hotel_name'])]\n",
        "  except KeyError:\n",
        "    print(\"Error on : {}\".format(row['Hotel_name']))\n",
        "  "
      ],
      "execution_count": 31,
      "outputs": []
    },
    {
      "cell_type": "code",
      "metadata": {
        "id": "yqGUz3X5ML9F"
      },
      "source": [
        "# -- Ниже проводим разбиение выборки данных у которых есть target -- #"
      ],
      "execution_count": null,
      "outputs": []
    },
    {
      "cell_type": "markdown",
      "metadata": {
        "id": "ILEA45SYK2MG"
      },
      "source": [
        "Ниже мы проводим разбиение df_train на train and test. И производим выделение как и новых признаков, так и нормализацию тестовых данных, с помощью функциях описанных выше. Также я решил учесть функциональную возможность удалить слишком частые и слишком редкие слова (как окажется это не принесет какой-то пользы при анализе результатов)."
      ]
    },
    {
      "cell_type": "code",
      "metadata": {
        "colab": {
          "base_uri": "https://localhost:8080/"
        },
        "id": "s3w0Pm9jMLC9",
        "outputId": "a6b5e77b-73fd-40f4-a329-27a335b4b0ff"
      },
      "source": [
        "from sklearn.model_selection import train_test_split\n",
        "# -- train model -- #\n",
        "# -- Linear Regressions -- #\n",
        "\n",
        "# -- choose SEED -- #\n",
        "SEED = 42\n",
        "np.random.seed(SEED)\n",
        "# -- choose test_size -- #\n",
        "test_size = 0.3\n",
        "# -- load all dataset -- #\n",
        "df_all = pd.read_csv(\"/content/data/nlp/train.csv\", encoding='ISO-8859-1')\n",
        "# -- shuffle dataset -- #\n",
        "indeces = df_all.index.tolist()\n",
        "np.random.shuffle(indeces)\n",
        "df_all = df_all.loc[indeces, :]\n",
        "split_index = int(df_all.shape[0] * (1 - test_size))\n",
        "# -- create train and test data -- #\n",
        "df_train = df_all.iloc[: split_index, :]\n",
        "df_test = df_all.iloc[split_index : , :]\n",
        "\n",
        "# -- check sizes of data -- #\n",
        "assert(df_train.shape[0] + df_test.shape[0] == df_all.shape[0])\n",
        "\n",
        "# -- drop Target in test data -- #\n",
        "y_test = df_test['Rating']\n",
        "# -- preprocessing and Feature Extraction -- #\n",
        "# -- concat Title and Text -- #\n",
        "df_train['allText'] = df_train.apply(lambda r: concatTitleText(r['Review_Title'],\n",
        "                                                                r['Review_Text']), axis = 1)\n",
        "\n",
        "df_test['allText'] = df_test.apply(lambda r: concatTitleText(r['Review_Title'],\n",
        "                                                                r['Review_Text']), axis = 1)\n",
        "\n",
        "# -- create new features on dirty data text -- #\n",
        "df_train = AddFeaturesText(df_train, text_column = 'allText')\n",
        "df_test = AddFeaturesText(df_test, text_column = 'allText')\n",
        "\n",
        "# -- for deleting most frequent words -- #\n",
        "topk = 10\n",
        "FREQWORDS = set([w for w, _ in returnFrequentList(df_train, col_name_text = 'allText').most_common(topk)])\n",
        "\n",
        "# -- for deleted most rare words -- #\n",
        "downtopk = 20\n",
        "RAREWORDS = set([w for w, _ in returnFrequentList(df_train, col_name_text = 'allText').most_common()[-downtopk: ]])\n",
        "\n",
        "# -- preprocessing our text data from dirty to clean -- #\n",
        "df_train = preprocessingStandartText(df_train, text_column = 'allText', stemming = False, deletewords=True)\n",
        "df_test = preprocessingStandartText(df_test, text_column = 'allText', stemming = False, deletewords = True)\n",
        "\n",
        "# -- create new feature of StatsRaiting -- #\n",
        "# -- create stats -- #\n",
        "hotelStatsTrain = df_train.groupby(by = ['Hotel_name'])['Rating'].agg(['median', \n",
        "                                                                       'count']).sort_values(by = ['count'],\n",
        "                                                                                             ascending = False)\n",
        "# -- fill all Train Examples -- #\n",
        "df_train['medianRating'] = df_train.apply(lambda r: fillMedianRaiting(r, \n",
        "                                                                      hotelStatsTrain, \n",
        "                                                                      isTest = False), axis = 1)\n",
        "# -- fill all Test Examples -- #\n",
        "df_test['medianRating'] = df_test.apply(lambda r: fillMedianRaiting(r, \n",
        "                                                                    hotelStatsTrain, \n",
        "                                                                    isTest = True), axis = 1)\n",
        "\n",
        "print('We have: {} Nan objects in Test We fill it median of all column'.format(df_test.medianRating.isna().sum()))\n",
        "# -- fill nan oblect just median values from train dataset -- #\n",
        "df_test.medianRating.fillna(np.median(df_train.medianRating.values), inplace = True)\n",
        "# -- check na objects in test -- #\n",
        "assert(df_test.medianRating.isna().sum() == 0)\n",
        "\n",
        "# -- drop some columns -- #\n",
        "df_train.columns, df_test.columns \n",
        "drop_columns_train = ['Id', \n",
        "                'Hotel_name', \n",
        "                'Review_Title', \n",
        "                'Review_Text', \n",
        "                ]\n",
        "\n",
        "drop_columns_test = ['Id', \n",
        "                     'Hotel_name', \n",
        "                     'Review_Title', \n",
        "                     'Review_Text', \n",
        "                     'Rating',\n",
        "                    ]\n",
        "\n",
        "df_train = dropColumns(df_train, drop_columns_train)\n",
        "df_test = dropColumns(df_test, drop_columns_test)\n",
        "# -- end prepare data -- #"
      ],
      "execution_count": 33,
      "outputs": [
        {
          "output_type": "stream",
          "text": [
            "/usr/local/lib/python3.7/dist-packages/ipykernel_launcher.py:29: SettingWithCopyWarning: \n",
            "A value is trying to be set on a copy of a slice from a DataFrame.\n",
            "Try using .loc[row_indexer,col_indexer] = value instead\n",
            "\n",
            "See the caveats in the documentation: https://pandas.pydata.org/pandas-docs/stable/user_guide/indexing.html#returning-a-view-versus-a-copy\n",
            "/usr/local/lib/python3.7/dist-packages/ipykernel_launcher.py:32: SettingWithCopyWarning: \n",
            "A value is trying to be set on a copy of a slice from a DataFrame.\n",
            "Try using .loc[row_indexer,col_indexer] = value instead\n",
            "\n",
            "See the caveats in the documentation: https://pandas.pydata.org/pandas-docs/stable/user_guide/indexing.html#returning-a-view-versus-a-copy\n"
          ],
          "name": "stderr"
        },
        {
          "output_type": "stream",
          "text": [
            "Error on : Vestin Park\n",
            "Error on : Stay Easy Serviced Apartments Sholinganalur\n",
            "Error on : The Chamiers Park\n",
            "Error on : Oyo Apartments Guduvanchery Srm University\n",
            "Error on : Oriental Inn\n",
            "Error on : Shylee Niwas Kodambakkam I\n",
            "Error on : Lloyds Guest House\n",
            "Error on : Lloyds Guest House\n",
            "Error on : Leisure Stays\n",
            "Error on : Melody\n",
            "Error on : Oriental Inn\n",
            "We have: 11 Nan objects in Test We fill it median of all column\n"
          ],
          "name": "stdout"
        }
      ]
    },
    {
      "cell_type": "markdown",
      "metadata": {
        "id": "8Vjf5HfmLyuR"
      },
      "source": [
        "Ниже пробывал векторизацию текста как с помощью TfVectorizer, так и с помощью CountVEctorizer. Более хорошие результаты, как и ожидалось, показал TfidfVectorizer. Комментарии ниже нужны просто для того чтобы формировать разные варианты данных, которые объеденяют и выделенные признаки выше, так и просто текстовые данные выделенные с помощью векторизации. \n",
        "\n",
        "Лучше всего сработало использовать просто текстовые данные, а не какие-то комбинации данных (проверял и на ансамблях деревьев, чтобы не влиял масштаб численных признаков, так как для линейных моделей очень важно, чтобы признаки численные были нормализованны ).\n",
        "\n",
        "**Ещё ниже получиться, что если взять данные, котрые были выделены в первую очередь (длинны, символы, количество уникальных\\слов), и не ипользовать векторизованный текст, то получаься по точности примерно те же результаты.**"
      ]
    },
    {
      "cell_type": "code",
      "metadata": {
        "colab": {
          "base_uri": "https://localhost:8080/"
        },
        "id": "oJlseQcXRk_U",
        "outputId": "18256851-ed40-4692-88ff-2e62ffb6ae42"
      },
      "source": [
        "# -- TfVectorizer and CountVectorizer -- #\n",
        "tfidf = TfidfVectorizer()\n",
        "countvec = CountVectorizer()\n",
        "\n",
        "corpus_train = df_train.allText\n",
        "corpus_test = df_test.allText\n",
        "corpus_train_vec = tfidf.fit_transform(corpus_train)\n",
        "corpus_test_vec = tfidf.transform(corpus_test)\n",
        "\n",
        "corpus_train_count_vec = countvec.fit_transform(corpus_train)\n",
        "corpus_test_count_vec = countvec.transform(corpus_test)\n",
        "\n",
        "# -- we shuld concat all data in one dataframe -- #\n",
        "y_train = df_train['Rating']\n",
        "stay_columns = ['medianRating']\n",
        "\n",
        "FLAGFEATIRES = False\n",
        "\n",
        "\"\"\"\n",
        "    Text and RaitingStats\n",
        "\"\"\"\n",
        "\n",
        "\"\"\"\n",
        "FLAGFEATIRES = True\n",
        "std = StandardScaler()\n",
        "\n",
        "X_feature_train = df_train.loc[:, stay_columns]\n",
        "X_feature_test = df_test.loc[:, stay_columns]\n",
        "\n",
        "X_feature_train_arr = std.fit_transform(X_feature_train)\n",
        "X_feature_test_arr = std.transform(X_feature_test)\n",
        "\"\"\"\n",
        "\n",
        "\"\"\"\n",
        "    Many things\n",
        "\"\"\"\n",
        "\"\"\"\n",
        "col_unique = [col for col in df_train.columns if col.find('unique') != -1]\n",
        "# -- drop cols with unique (Very correlated) -- #\n",
        "\n",
        "FLAGFEATIRES = True\n",
        "std = StandardScaler()\n",
        "X_feature_train = df_train.loc[:, list(set(df_train.columns).difference(['Rating', \n",
        "                                                                         'allText', \n",
        "                                                                         'Hotel_name']))]\n",
        "\n",
        "X_feature_test = df_test.loc[:, list(set(df_test.columns).difference(['allText', \n",
        "                                                                      'Hotel_name']))]\n",
        "\n",
        "X_feature_train_arr = std.fit_transform(X_feature_train)\n",
        "X_feature_test_arr = std.transform(X_feature_test)\n",
        "\n",
        "\"\"\"\n",
        "# -- stack all data in one sparse matrix -- #\n",
        "\n",
        "if FLAGFEATIRES:\n",
        "  #\"\"\"\n",
        "  X_train = hstack((X_feature_train, corpus_train_vec), format = 'csr')\n",
        "  X_test = hstack((X_feature_test, corpus_test_vec), format = 'csr')\n",
        "  #\"\"\"\n",
        "else:\n",
        "  print('Only text features!')\n",
        "\"\"\"\n",
        "    Only text\n",
        "\"\"\"\n",
        "# -- Только текст -- #\n",
        "#\"\"\"\n",
        "X_train = corpus_train_count_vec\n",
        "X_test = corpus_test_count_vec\n",
        "#\"\"\"\n",
        "# -- check dimensions -- #\n",
        "assert(X_test.shape[1] ==  X_train.shape[1])"
      ],
      "execution_count": 35,
      "outputs": [
        {
          "output_type": "stream",
          "text": [
            "Only text features!\n"
          ],
          "name": "stdout"
        }
      ]
    },
    {
      "cell_type": "code",
      "metadata": {
        "id": "ZU-ATu0DNsPc"
      },
      "source": [
        ""
      ],
      "execution_count": null,
      "outputs": []
    },
    {
      "cell_type": "markdown",
      "metadata": {
        "id": "XiAIIxw1Nsh_"
      },
      "source": [
        "Посмотрим на численные признаки, которые не относяться к нормализованному тексту. А также на матрицу корреляций:"
      ]
    },
    {
      "cell_type": "code",
      "metadata": {
        "colab": {
          "base_uri": "https://localhost:8080/",
          "height": 571
        },
        "id": "d-eZBoCQTAFh",
        "outputId": "7635a52a-e30d-46bb-842d-5b890d4ba97b"
      },
      "source": [
        "X_feature_train = df_train.loc[:, list(set(df_train.columns).difference(['Rating', \n",
        "                                                                         'allText', \n",
        "                                                                         'Hotel_name']))]\n",
        "\n",
        "X_feature_test = df_test.loc[:, list(set(df_test.columns).difference(['allText', \n",
        "                                                                      'Hotel_name']))]\n",
        "\n",
        "df_train_no_text = pd.concat([X_feature_train, y_train], axis = 1)\n",
        "fig, ax = plt.subplots(figsize = (10, 7))\n",
        "correlations_matrix = df_train_no_text.corr()\n",
        "ax = sns.heatmap(correlations_matrix, \n",
        "                 vmin = -1, \n",
        "                 vmax = 1, \n",
        "                 center = 0.)\n",
        "plt.show()"
      ],
      "execution_count": 37,
      "outputs": [
        {
          "output_type": "display_data",
          "data": {
            "image/png": "[encoded data removed]",
            "text/plain": [
              "<Figure size 720x504 with 2 Axes>"
            ]
          },
          "metadata": {
            "tags": [],
            "needs_background": "light"
          }
        }
      ]
    },
    {
      "cell_type": "markdown",
      "metadata": {
        "id": "SP5tcnCtN5gD"
      },
      "source": [
        "Пробуем SGD-classifier."
      ]
    },
    {
      "cell_type": "code",
      "metadata": {
        "colab": {
          "base_uri": "https://localhost:8080/"
        },
        "id": "_G0H7um3SWkK",
        "outputId": "0d19e95c-97ff-4db9-edbf-9ff6b4a8f527"
      },
      "source": [
        "# -- train data -- #\n",
        "from sklearn.metrics import mean_squared_error\n",
        "from sklearn.model_selection import GridSearchCV, KFold\n",
        "from sklearn.svm import SVC\n",
        "from sklearn.naive_bayes import MultinomialNB, ComplementNB \n",
        "\n",
        "#std = StandardScaler()\n",
        "#X_train = std.fit_transform(X_train)\n",
        "#X_test = std.transform(X_test)\n",
        "\n",
        "param_grid_sgd = {\n",
        "    'alpha' : np.logspace(-4, 3, 10),\n",
        "}\n",
        "param_grid_logreg = {\n",
        "    'C' : np.logspace(-4, 3, 10),\n",
        "}\n",
        "\n",
        "sgd = SGDClassifier(max_iter = 10000)\n",
        "svm = SVC()\n",
        "#logreg = LogisticRegression(solver = 'sag')\n",
        "\n",
        "kf = KFold(5, shuffle = True)\n",
        "\"\"\"\n",
        "    Grid for SGD\n",
        "\"\"\"\n",
        "\n",
        "\n",
        "grid = GridSearchCV(sgd, \n",
        "                    param_grid = param_grid_sgd, \n",
        "                    cv = kf)\n",
        "\n",
        "\"\"\"\n",
        "    SVC Grid\n",
        "\"\"\"\n",
        "\"\"\"\n",
        "grid = GridSearchCV(svm, \n",
        "                    param_grid = param_grid_logreg, \n",
        "                    cv = kf)\n",
        "\"\"\"\n",
        "\"\"\"\n",
        "    Grid for Logistic Regr\n",
        "\"\"\"\n",
        "\"\"\"\n",
        "grid = GridSearchCV(logreg, \n",
        "                    param_grid = param_grid_logreg, \n",
        "                    cv = kf)\n",
        "\"\"\"\n",
        "grid.fit(X_train, y_train)\n",
        "y_pred = grid.best_estimator_.predict(X_test)\n",
        "\n",
        "print('rmse: {:.2f}'.format(mean_squared_error(y_test, y_pred, squared = False)))"
      ],
      "execution_count": 38,
      "outputs": [
        {
          "output_type": "stream",
          "text": [
            "rmse: 18.16\n"
          ],
          "name": "stdout"
        }
      ]
    },
    {
      "cell_type": "markdown",
      "metadata": {
        "id": "JjjdC-ZBl6D9"
      },
      "source": [
        "**Неплохо, как мне кажеться подходи MultinimialNB - традиционно наивный байес хорошие показывает резульаты в задачах классификации текстов!!!**"
      ]
    },
    {
      "cell_type": "code",
      "metadata": {
        "colab": {
          "base_uri": "https://localhost:8080/"
        },
        "id": "mzM-mkbjjn51",
        "outputId": "eaca7aac-37d4-450d-9d8b-24418c030216"
      },
      "source": [
        "# -- Maybe should be CountVectorized -- #\n",
        "\n",
        "NB_com = MultinomialNB()\n",
        "param_grid_com_NB = {\n",
        "    'alpha' : np.linspace(0.001, 1., 100),\n",
        "}\n",
        "grid = GridSearchCV(NB_com, \n",
        "                    param_grid = param_grid_com_NB, \n",
        "                    cv = kf)\n",
        "grid.fit(X_train, y_train)\n",
        "y_pred = grid.best_estimator_.predict(X_test)\n",
        "\n",
        "print('rmse on ComplementNB: {:.2f}'.format(mean_squared_error(y_test, y_pred, squared = False)))"
      ],
      "execution_count": 41,
      "outputs": [
        {
          "output_type": "stream",
          "text": [
            "rmse on ComplementNB: 16.34\n"
          ],
          "name": "stdout"
        }
      ]
    },
    {
      "cell_type": "markdown",
      "metadata": {
        "id": "iHc72K3tOWUH"
      },
      "source": [
        "Ещё одна вариация Наивного Байеса."
      ]
    },
    {
      "cell_type": "code",
      "metadata": {
        "colab": {
          "base_uri": "https://localhost:8080/"
        },
        "id": "VD213Nc9lVNN",
        "outputId": "c2dd647b-3248-42e0-dc6c-a03d062b20b6"
      },
      "source": [
        "# -- Maybe should be CountVectorized -- #\n",
        "\n",
        "NB = ComplementNB()\n",
        "param_grid_NB = {\n",
        "    'alpha' : np.linspace(0.001, 1., 100),\n",
        "}\n",
        "grid = GridSearchCV(NB, \n",
        "                    param_grid = param_grid_NB, \n",
        "                    cv = kf)\n",
        "grid.fit(X_train, y_train)\n",
        "y_pred = grid.best_estimator_.predict(X_test)\n",
        "\n",
        "print('rmse on ComplementMultinomial: {:.2f}'.format(mean_squared_error(y_test, y_pred, squared = False)))"
      ],
      "execution_count": 42,
      "outputs": [
        {
          "output_type": "stream",
          "text": [
            "rmse on ComplementMultinomial: 18.92\n"
          ],
          "name": "stdout"
        }
      ]
    },
    {
      "cell_type": "markdown",
      "metadata": {
        "id": "j2Og6lL0RJrk"
      },
      "source": [
        "**Добавим новый признак, который опирается на расчёт доли позитивных к всем словам в данных.**\n",
        "\n",
        "По данным спискам в папке позитивных слов и негативных, рассчитаем признаки отношение позитивных слов по отношению к всем и негативных к всем."
      ]
    },
    {
      "cell_type": "code",
      "metadata": {
        "colab": {
          "base_uri": "https://localhost:8080/"
        },
        "id": "GvSVYMepzKsW",
        "outputId": "b0006b11-c4f1-4052-beb8-3ffd1a612385"
      },
      "source": [
        "# -- create new data -- #\n",
        "path_positive = '/content/data/nlp/positive-words.txt'\n",
        "path_negative = '/content/data/nlp/negative-words.txt'\n",
        "\n",
        "# -- open and read Positive words -- #\n",
        "with open(path_positive, 'r', encoding=\"ISO-8859-1\") as f:\n",
        "  positive_words = [line.rstrip() for line in f]\n",
        "\n",
        "# -- open and read Negative words -- #\n",
        "with open(path_negative, 'r', encoding = 'ISO-8859-1') as f:\n",
        "  negative_words = [line.rstrip() for line in f]\n",
        "  \n",
        "  \n",
        "print('Number of positive words: {}\\nNumber of negative words: {}'.format(len(positive_words), \n",
        "                                                                              len(negative_words)))\n",
        "# -- generate new features based on positive and negative words -- #\n",
        "\n",
        "setPositiveWords = set(positive_words)\n",
        "setNegativeWords = set(negative_words)\n",
        "\n",
        "def ratioWordsInText(text, \n",
        "                     positive = True):\n",
        "  \"\"\"\n",
        "  calculate positive(d) or negative (d) /all(d)\n",
        "  \"\"\"\n",
        "  if(positive):\n",
        "    setWords = setPositiveWords\n",
        "  else:\n",
        "    setWords = setNegativeWords\n",
        "  counter = 0\n",
        "  words = text.split(\" \")\n",
        "  for w in words:\n",
        "    if w in setWords:\n",
        "      counter += 1\n",
        "  return counter / len(words)\n",
        "\n",
        "\n",
        "df_train['pos2all'] = df_train['allText'].apply(lambda text: ratioWordsInText(text, positive = True))\n",
        "df_train['neg2all'] = df_train['allText'].apply(lambda text: ratioWordsInText(text, positive = False))\n",
        "\n",
        "df_test['pos2all'] = df_test['allText'].apply(lambda text: ratioWordsInText(text, positive = True))\n",
        "df_test['neg2all'] = df_test['allText'].apply(lambda text: ratioWordsInText(text, positive = False))\n",
        "\n"
      ],
      "execution_count": 43,
      "outputs": [
        {
          "output_type": "stream",
          "text": [
            "Number of positive words: 2006\n",
            "Number of negative words: 4783\n"
          ],
          "name": "stdout"
        }
      ]
    },
    {
      "cell_type": "markdown",
      "metadata": {
        "id": "Xs-2YgG2SWcZ"
      },
      "source": [
        "Очень уж похоже на то, что целевой признак по сути есть категория --- оценка по условной шкале. Врятли абсолютные значения несут какой-то смысл."
      ]
    },
    {
      "cell_type": "markdown",
      "metadata": {
        "id": "dJ88zsFhgusX"
      },
      "source": [
        "Тут мы просто запускаем Random-Forest на данных, которые не содержат текстовые, которые мы выделили из normalized data. Мы сюда ещё добавили доли позитивных слов и негативных. Как можно видеть качество rmse на уровне того, что мы смогли выделить исключительно из текстовых данных.\n",
        "\n"
      ]
    },
    {
      "cell_type": "code",
      "metadata": {
        "colab": {
          "base_uri": "https://localhost:8080/"
        },
        "id": "7Pa-9XKKzKvC",
        "outputId": "5ed807d0-a24d-4346-b86c-caee30cc7929"
      },
      "source": [
        "# -- maybe better categorize our data -- #\n",
        "\n",
        "le = LabelEncoder()\n",
        "y_train_le = le.fit_transform(y_train)\n",
        "y_test_le = le.transform(y_test)\n",
        "\n",
        "# -- only generated features -- #\n",
        "new_columns_tr = [col for col in df_train.columns if col.find('allText') != 0 and col.find('Rating') != 0]\n",
        "new_columns_ts = [col for col in df_test.columns if col.find('allText') != 0 and col.find('Rating') != 0]\n",
        "\n",
        "# -- Не учитывам текстовые данные -- #\n",
        "df_new_feature_tr = df_train[new_columns_tr]\n",
        "df_new_feature_ts = df_test[new_columns_ts]\n",
        "\n",
        "# -- Но у этих признаков слишком много сильно скоррелированных признаков (попробовать ансмбли) -- #            \n",
        "rf = RandomForestClassifier(n_estimators = 400)\n",
        "rf.fit(df_new_feature_tr, y_train_le)\n",
        "# -- Не забыть преобразовать обратно признаки -- #\n",
        "# -- Точность на сгенерированных данных получилась не хуже, чем на тексте -- #\n",
        "print(\"RSME только на выделенных признаках RandomForest: {:.2f}\".format(np.sqrt(mean_squared_error(y_test, le.inverse_transform(rf.predict(df_new_feature_ts))))))\n"
      ],
      "execution_count": 46,
      "outputs": [
        {
          "output_type": "stream",
          "text": [
            "RSME только на выделенных признаках RandomForest: 16.74\n"
          ],
          "name": "stdout"
        }
      ]
    },
    {
      "cell_type": "markdown",
      "metadata": {
        "id": "VqPXSXk3hRzx"
      },
      "source": [
        "Попробуем поподбирать гиперпараметры Случайного леса. "
      ]
    },
    {
      "cell_type": "code",
      "metadata": {
        "colab": {
          "base_uri": "https://localhost:8080/"
        },
        "id": "zP9aECIWWFTg",
        "outputId": "f57b1b92-22a1-4203-d751-14a2b85d6e88"
      },
      "source": [
        "# -- fit hyper parameters -- #\n",
        "from sklearn.model_selection import RandomizedSearchCV\n",
        "\n",
        "param_grid = {\n",
        "    'n_estimators' : np.arange(50, 400, 50),\n",
        "    'max_depth' : np.arange(2,15,3),\n",
        "    'min_samples_leaf': np.arange(2, 100, 20),\n",
        "    'max_features' : ['auto', 'sqrt', 'log2'],\n",
        "}\n",
        "num_samples = 20\n",
        "kf = KFold(5, shuffle = True)\n",
        "rs_tree = RandomizedSearchCV(RandomForestClassifier(), \n",
        "                        param_distributions = param_grid,\n",
        "                        cv = kf, scoring = 'neg_mean_squared_error',\n",
        "                        n_iter = num_samples)\n",
        "\n",
        "rs_tree.fit(df_new_feature_tr, y_train_le)"
      ],
      "execution_count": 50,
      "outputs": [
        {
          "output_type": "execute_result",
          "data": {
            "text/plain": [
              "RandomizedSearchCV(cv=KFold(n_splits=5, random_state=None, shuffle=True),\n",
              "                   error_score=nan,\n",
              "                   estimator=RandomForestClassifier(bootstrap=True,\n",
              "                                                    ccp_alpha=0.0,\n",
              "                                                    class_weight=None,\n",
              "                                                    criterion='gini',\n",
              "                                                    max_depth=None,\n",
              "                                                    max_features='auto',\n",
              "                                                    max_leaf_nodes=None,\n",
              "                                                    max_samples=None,\n",
              "                                                    min_impurity_decrease=0.0,\n",
              "                                                    min_impurity_split=None,\n",
              "                                                    min_samples_leaf=1,\n",
              "                                                    min_samples_split=2,\n",
              "                                                    min_w...\n",
              "                                                    warm_start=False),\n",
              "                   iid='deprecated', n_iter=20, n_jobs=None,\n",
              "                   param_distributions={'max_depth': array([ 2,  5,  8, 11, 14]),\n",
              "                                        'max_features': ['auto', 'sqrt',\n",
              "                                                         'log2'],\n",
              "                                        'min_samples_leaf': array([ 2, 22, 42, 62, 82]),\n",
              "                                        'n_estimators': array([ 50, 100, 150, 200, 250, 300, 350])},\n",
              "                   pre_dispatch='2*n_jobs', random_state=None, refit=True,\n",
              "                   return_train_score=False, scoring='neg_mean_squared_error',\n",
              "                   verbose=0)"
            ]
          },
          "metadata": {
            "tags": []
          },
          "execution_count": 50
        }
      ]
    },
    {
      "cell_type": "code",
      "metadata": {
        "colab": {
          "base_uri": "https://localhost:8080/"
        },
        "id": "cRDj_gwcW_8Y",
        "outputId": "f98610b1-ef91-4647-a601-b1c4d91c034d"
      },
      "source": [
        "rs_tree.best_params_"
      ],
      "execution_count": 51,
      "outputs": [
        {
          "output_type": "execute_result",
          "data": {
            "text/plain": [
              "{'max_depth': 14,\n",
              " 'max_features': 'log2',\n",
              " 'min_samples_leaf': 2,\n",
              " 'n_estimators': 200}"
            ]
          },
          "metadata": {
            "tags": []
          },
          "execution_count": 51
        }
      ]
    },
    {
      "cell_type": "markdown",
      "metadata": {
        "id": "baNvQLVAhai2"
      },
      "source": [
        "Получившаяся точность обычно перебор по рандомизированной сетке не всегда может попасть в точку, которая минимизирует ошибку предсказания:"
      ]
    },
    {
      "cell_type": "code",
      "metadata": {
        "colab": {
          "base_uri": "https://localhost:8080/"
        },
        "id": "GwGnXMN_WUZI",
        "outputId": "3105380c-b593-4111-8603-801d64ad8aa5"
      },
      "source": [
        "y_pred = le.inverse_transform(rs_tree.best_estimator_.predict(df_new_feature_ts))\n",
        "print(\"tune RF best rmse: {:.2f}\".format(np.sqrt(mean_squared_error(y_test, y_pred))))"
      ],
      "execution_count": 52,
      "outputs": [
        {
          "output_type": "stream",
          "text": [
            "tune RF best rmse: 17.07\n"
          ],
          "name": "stdout"
        }
      ]
    },
    {
      "cell_type": "code",
      "metadata": {
        "id": "Lr4kiOaZF2ow"
      },
      "source": [
        "# -- we should to generate new data and connect another type of data text data + feature data -- #"
      ],
      "execution_count": null,
      "outputs": []
    },
    {
      "cell_type": "markdown",
      "metadata": {
        "id": "OahV2h3vhfyy"
      },
      "source": [
        "### Попробуем WordVec"
      ]
    },
    {
      "cell_type": "code",
      "metadata": {
        "id": "6xiOGx_lX3Dh"
      },
      "source": [
        "# -- WordlVec -- #\n"
      ],
      "execution_count": 53,
      "outputs": []
    },
    {
      "cell_type": "code",
      "metadata": {
        "colab": {
          "base_uri": "https://localhost:8080/"
        },
        "id": "7HgcG8SFF2qw",
        "outputId": "5eeae9d1-2660-4536-a7cb-5fbd69a1b6c0"
      },
      "source": [
        "! pip install gensim "
      ],
      "execution_count": 54,
      "outputs": [
        {
          "output_type": "stream",
          "text": [
            "Requirement already satisfied: gensim in /usr/local/lib/python3.7/dist-packages (3.6.0)\n",
            "Requirement already satisfied: scipy>=0.18.1 in /usr/local/lib/python3.7/dist-packages (from gensim) (1.4.1)\n",
            "Requirement already satisfied: numpy>=1.11.3 in /usr/local/lib/python3.7/dist-packages (from gensim) (1.19.5)\n",
            "Requirement already satisfied: six>=1.5.0 in /usr/local/lib/python3.7/dist-packages (from gensim) (1.15.0)\n",
            "Requirement already satisfied: smart-open>=1.2.1 in /usr/local/lib/python3.7/dist-packages (from gensim) (5.0.0)\n"
          ],
          "name": "stdout"
        }
      ]
    },
    {
      "cell_type": "code",
      "metadata": {
        "colab": {
          "base_uri": "https://localhost:8080/"
        },
        "id": "5-B3LWrAF7UZ",
        "outputId": "2d9a07c1-c693-4010-eefe-261af3b68240"
      },
      "source": [
        "! wget \"https://dl.fbaipublicfiles.com/fasttext/vectors-english/wiki-news-300d-1M.vec.zip\"\n"
      ],
      "execution_count": 55,
      "outputs": [
        {
          "output_type": "stream",
          "text": [
            "--2021-05-12 17:02:32--  https://dl.fbaipublicfiles.com/fasttext/vectors-english/wiki-news-300d-1M.vec.zip\n",
            "Resolving dl.fbaipublicfiles.com (dl.fbaipublicfiles.com)... 172.67.9.4, 104.22.74.142, 104.22.75.142, ...\n",
            "Connecting to dl.fbaipublicfiles.com (dl.fbaipublicfiles.com)|172.67.9.4|:443... connected.\n",
            "HTTP request sent, awaiting response... 200 OK\n",
            "Length: 681808098 (650M) [application/zip]\n",
            "Saving to: ‘wiki-news-300d-1M.vec.zip’\n",
            "\n",
            "wiki-news-300d-1M.v 100%[===================>] 650.22M  12.1MB/s    in 55s     \n",
            "\n",
            "2021-05-12 17:03:28 (11.7 MB/s) - ‘wiki-news-300d-1M.vec.zip’ saved [681808098/681808098]\n",
            "\n"
          ],
          "name": "stdout"
        }
      ]
    },
    {
      "cell_type": "code",
      "metadata": {
        "colab": {
          "base_uri": "https://localhost:8080/"
        },
        "id": "lMboNM-6SAmX",
        "outputId": "5d1f9489-1f0a-47fe-feeb-4645ead02b5a"
      },
      "source": [
        "! wget \"https://www.kaggle.com/neisse/scrapped-lyrics-from-6-genres/download\"\n"
      ],
      "execution_count": 56,
      "outputs": [
        {
          "output_type": "stream",
          "text": [
            "--2021-05-12 17:03:29--  https://www.kaggle.com/neisse/scrapped-lyrics-from-6-genres/download\n",
            "Resolving www.kaggle.com (www.kaggle.com)... 35.244.233.98\n",
            "Connecting to www.kaggle.com (www.kaggle.com)|35.244.233.98|:443... connected.\n",
            "HTTP request sent, awaiting response... 302 Found\n",
            "Location: /account/login?titleType=dataset-downloads&showDatasetDownloadSkip=False&messageId=datasetsWelcome&returnUrl=%2Fneisse%2Fscrapped-lyrics-from-6-genres%3Fresource%3Ddownload [following]\n",
            "--2021-05-12 17:03:29--  https://www.kaggle.com/account/login?titleType=dataset-downloads&showDatasetDownloadSkip=False&messageId=datasetsWelcome&returnUrl=%2Fneisse%2Fscrapped-lyrics-from-6-genres%3Fresource%3Ddownload\n",
            "Reusing existing connection to www.kaggle.com:443.\n",
            "HTTP request sent, awaiting response... 200 OK\n",
            "Length: unspecified [text/html]\n",
            "Saving to: ‘download’\n",
            "\n",
            "download                [ <=>                ]   6.18K  --.-KB/s    in 0.02s   \n",
            "\n",
            "2021-05-12 17:03:30 (372 KB/s) - ‘download’ saved [6329]\n",
            "\n"
          ],
          "name": "stdout"
        }
      ]
    },
    {
      "cell_type": "code",
      "metadata": {
        "colab": {
          "base_uri": "https://localhost:8080/"
        },
        "id": "dsTR3DV3SGOo",
        "outputId": "80c9d93b-4305-4399-be52-4fe2f6e87d74"
      },
      "source": [
        "! unzip wiki*\n"
      ],
      "execution_count": 57,
      "outputs": [
        {
          "output_type": "stream",
          "text": [
            "Archive:  wiki-news-300d-1M.vec.zip\n",
            "  inflating: wiki-news-300d-1M.vec   \n"
          ],
          "name": "stdout"
        }
      ]
    },
    {
      "cell_type": "code",
      "metadata": {
        "colab": {
          "base_uri": "https://localhost:8080/"
        },
        "id": "33VnR_BGSS9n",
        "outputId": "b295ca24-d336-47e8-a8b8-dbafe80e99a2"
      },
      "source": [
        "! head -10 /content/wiki-news-300d-1M.vec"
      ],
      "execution_count": 58,
      "outputs": [
        {
          "output_type": "stream",
          "text": [
            "999994 300\n",
            ", 0.1073 0.0089 0.0006 0.0055 -0.0646 -0.0600 0.0450 -0.0133 -0.0357 0.0430 -0.0356 -0.0032 0.0073 -0.0001 0.0258 -0.0166 0.0075 0.0686 0.0392 0.0753 0.0115 -0.0087 0.0421 0.0265 -0.0601 0.2420 0.0199 -0.0739 -0.0031 -0.0263 -0.0062 0.0168 -0.0357 -0.0249 0.0190 -0.0184 -0.0537 0.1420 0.0600 0.0226 -0.0038 -0.0675 -0.0036 -0.0080 0.0570 0.0208 0.0223 -0.0256 -0.0153 0.0022 -0.0482 0.0131 -0.6016 -0.0088 0.0106 0.0229 0.0336 0.0071 0.0887 0.0237 -0.0290 -0.0405 -0.0125 0.0147 0.0475 0.0647 0.0474 0.0199 0.0408 0.0322 0.0036 0.0350 -0.0723 -0.0305 0.0184 -0.0026 0.0240 -0.0160 -0.0308 0.0434 0.0147 -0.0457 -0.0267 -0.1703 -0.0099 0.0417 0.0235 -0.0260 -0.1519 -0.0116 -0.0306 -0.0413 0.0330 0.0723 0.0365 -0.0001 0.0042 0.0346 0.0277 -0.0305 0.0784 -0.0404 0.0187 -0.0225 -0.0206 -0.0179 -0.2428 0.0669 0.0523 0.0527 0.0149 -0.0708 -0.0987 0.0263 -0.0611 0.0302 0.0216 0.0313 -0.0140 -0.2495 -0.0346 -0.0480 0.0250 0.2130 -0.0330 -0.1553 -0.0292 -0.0346 0.1074 0.0010 -0.0117 -0.0057 -0.1280 -0.0038 0.0130 -0.1157 -0.0108 0.0275 0.0158 -0.0169 0.0070 0.0247 0.0510 1.0292 -0.0283 -0.0310 -0.0026 -0.0343 0.0578 0.0444 0.0812 -0.0211 -0.0872 0.0169 0.0499 0.0485 0.0227 -0.0323 -0.0035 0.0435 -0.0275 0.0154 0.0135 -0.0484 -0.0699 -0.0502 0.2745 -0.0003 -0.0371 0.0517 -0.0908 0.0013 0.0360 0.0280 0.0839 0.0980 -0.0490 -0.2423 -0.0142 0.0024 -0.0207 0.0012 0.0088 -0.0143 -0.0197 0.0515 -0.0085 0.0257 0.2154 0.0301 0.0211 0.0530 -0.0005 0.0177 0.0016 -0.0053 -0.0162 -0.0223 -0.1862 0.0398 0.0658 -0.0962 -0.0076 -0.0075 -0.0342 -0.0265 0.0420 0.0522 -0.0266 0.0201 -0.1331 -0.0367 0.0351 0.0518 -0.0087 0.0599 -0.1086 -0.0188 0.0481 0.0105 -0.0060 0.0151 -0.0031 0.0077 -0.0276 -0.0373 -0.0203 0.0472 0.0246 0.1440 0.0542 -0.0225 0.2495 0.1617 0.0038 0.1119 -0.0230 -0.0785 0.0250 -0.0616 -0.0485 0.0225 0.0281 0.0041 0.0112 0.0172 0.0291 -0.0282 0.0026 0.4055 0.0392 0.0088 0.0228 0.0299 0.1195 0.0545 -0.0020 0.0020 0.0490 0.0145 -0.0086 0.0098 -0.0236 0.0171 -0.0765 -0.0400 0.0128 0.0011 0.0042 0.0244 0.0075 0.0200 0.0201 0.0196 -0.0377 -0.0432 -0.0073 -0.0021 0.0183 0.0076 0.1805 -0.0551 0.0075 -0.0516 0.0420 -0.0068 -0.0711 -0.1408 0.0504 0.0276 0.0470 0.0323 -0.0219 0.0010 0.0089 0.0276 0.0186 0.0050 0.1173 -0.0400\n",
            "the 0.0897 0.0160 -0.0571 0.0405 -0.0696 -0.1237 0.0301 0.0248 -0.0303 0.0174 0.0063 0.0184 0.0217 -0.0257 0.0350 -0.0242 0.0029 0.0188 -0.0570 0.0252 -0.0210 -0.0008 0.0360 -0.0729 -0.0665 0.0989 0.0676 0.0852 -0.0089 0.0313 -0.0069 -0.0032 -0.0462 0.0497 0.0261 0.0268 -0.0310 -0.1361 -0.0062 0.0375 -0.0320 -0.0106 0.0534 -0.0187 0.0638 0.0094 0.0047 -0.0530 0.0093 -0.0087 0.0004 0.0493 -0.6296 0.0222 0.0190 0.0268 -0.0426 0.0057 -0.1683 0.0244 -0.0213 -0.0181 0.0421 -0.0309 -0.0089 0.0032 0.0108 -0.0049 0.0258 0.0278 -0.0163 0.0200 0.0164 -0.0954 -0.0032 0.0043 0.0104 -0.0088 0.0007 0.0350 -0.0206 -0.0083 -0.0114 -0.1869 0.0258 0.0010 0.0085 0.0151 0.2125 0.0071 0.0319 -0.0482 0.0621 0.0626 0.0159 -0.0013 0.0087 0.0686 -0.0034 0.0238 -0.0452 -0.0198 0.0112 0.0109 -0.1022 -0.0272 0.2337 -0.0465 0.1592 -0.0407 -0.1029 -0.0487 -0.0676 0.0676 -0.0328 0.0323 0.0077 0.0190 0.0017 -0.2974 0.0011 -0.0356 0.0693 -0.0480 -0.0821 -0.0644 -0.0284 -0.0191 -0.0233 0.0353 -0.0463 0.0656 0.0019 -0.0212 -0.0309 -0.3534 -0.0309 0.0076 -0.0419 0.0457 -0.0306 0.0357 0.0667 0.3659 0.0149 -0.0443 0.0068 -0.0378 0.0146 0.0215 0.1081 0.0124 -0.0437 -0.0430 0.0258 0.0213 -0.0309 -0.0018 -0.0067 0.0172 0.0089 -0.0171 0.0275 -0.0518 -0.1840 -0.0130 -0.0241 0.0526 -0.0280 0.0051 0.0163 -0.0165 0.0161 0.1237 0.0804 -0.0789 0.0386 -0.3892 0.0157 -0.0246 0.0477 -0.0045 -0.0214 0.0173 -0.0191 -0.1382 -0.0111 0.0712 0.1514 0.0291 0.0555 -0.0039 0.0028 -0.0277 -0.0275 -0.0177 -0.0338 -0.0372 0.2071 0.0460 -0.0294 0.0435 -0.0169 -0.0121 0.0253 0.0198 0.0918 0.0193 0.0668 0.0288 0.0040 -0.0439 -0.0302 0.0064 0.0364 0.0543 -0.0338 0.0159 0.0617 -0.0941 -0.0086 -0.0092 0.0300 -0.0241 -0.0350 -0.0621 0.0175 0.0374 0.0034 0.0344 0.1286 -0.0267 0.1861 0.0489 -0.0032 0.0180 -0.0228 0.2414 -0.0935 0.0612 -0.0209 0.0136 0.0392 -0.0135 -0.0253 0.0335 0.0095 0.0419 0.0076 0.4522 -0.0188 0.0233 -0.0474 0.0159 -0.0090 0.0265 0.0336 0.0221 0.0472 0.0048 0.0962 0.0344 -0.0515 -0.0087 -0.0980 -0.0288 0.0377 0.0202 -0.2979 -0.0387 -0.0198 -0.0161 -0.0045 0.0087 -0.0387 0.0421 0.0383 0.0258 0.0069 -0.0298 -0.0198 -0.0152 0.0033 0.0075 0.0358 -0.0155 -0.0111 0.0760 -0.0452 0.0697 0.0299 -0.0029 -0.0348 -0.0270 0.0351 0.0559 0.0591 0.1559 -0.0254 -0.0259\n",
            ". 0.0004 0.0032 -0.0204 0.0479 -0.0450 -0.1165 0.0142 0.0068 -0.0334 -0.0504 0.0224 -0.0029 -0.0258 0.0265 0.0059 -0.0459 0.0753 0.0422 0.0269 -0.0283 -0.1013 0.0992 -0.0114 0.0583 -0.1547 -0.1972 -0.0282 -0.1391 -0.0288 -0.0283 0.0273 0.0189 0.0275 -0.0540 0.0458 0.0306 -0.0158 0.2338 0.0206 -0.0081 -0.0180 -0.0059 0.1045 0.0409 0.0352 -0.0038 0.0403 -0.0129 -0.0074 0.0003 -0.0484 0.0412 -0.5999 0.0224 -0.0153 0.0296 0.0011 0.0640 -0.1061 0.0009 -0.0038 -0.0197 0.0198 -0.0056 -0.0287 0.0157 -0.0262 -0.0003 -0.0033 -0.0007 -0.0421 0.0367 -0.0240 -0.0519 -0.0098 0.0297 0.0251 -0.0110 -0.0059 -0.0042 0.0191 0.0912 0.0142 -0.0469 0.0047 -0.0461 -0.0007 -0.0242 -0.1023 0.0221 -0.0055 -0.0246 0.0235 0.1175 0.0527 -0.0013 0.0069 0.0075 0.0653 0.0739 -0.0852 -0.0170 -0.0102 -0.0225 -0.3273 -0.0040 -0.0259 0.0374 -0.1285 -0.0260 0.0512 0.0295 -0.0648 0.0080 0.0100 -0.0888 0.0268 0.0209 0.0172 -0.2961 0.0117 -0.1024 -0.0671 -0.1541 0.0014 0.0895 -0.0090 -0.0117 0.0023 0.0197 0.0513 0.0514 -0.0087 -0.0016 -0.0187 -0.1328 -0.0309 0.0093 -0.0160 -0.0328 0.0123 -0.0135 0.0707 -0.4418 -0.0293 0.0321 0.0725 -0.0150 -0.0241 -0.0308 0.1423 0.0205 -0.0443 -0.0164 -0.0040 0.0410 0.0311 0.0291 -0.0144 0.0029 0.1101 0.0305 0.0559 -0.1322 -0.2437 -0.0496 0.1666 -0.0371 -0.0255 -0.0138 -0.2298 -0.0060 0.0206 0.0459 -0.1113 -0.0365 -0.0248 -0.3067 0.0166 0.0334 0.0021 -0.0163 0.0237 -0.0250 0.0108 -0.1783 0.0301 -0.0656 0.1937 0.0227 0.0142 -0.0309 -0.0313 0.0592 0.0157 -0.0146 0.0691 -0.0355 0.2422 0.0033 0.0094 0.0925 -0.0280 -0.0084 0.1211 0.0053 -0.0082 0.0111 -0.0628 -0.0273 0.0068 0.0178 -0.0397 0.0079 0.0130 -0.0139 -0.1617 -0.0350 -0.0590 -0.0596 0.0098 0.0481 0.0207 -0.0105 0.0466 0.2175 0.0148 0.0207 -0.0174 -0.1542 0.0322 -0.0149 0.6264 0.0136 -0.0067 0.2430 -0.0644 -0.1055 -0.1890 -0.0042 -0.0424 -0.0319 0.0419 0.0078 -0.0486 -0.0519 -0.0194 0.0320 0.0181 0.0615 -0.0305 -0.0008 -0.0281 0.0642 0.0569 0.0512 -0.0689 -0.0100 0.0339 -0.0010 -0.0024 0.0837 0.0032 -0.0312 -0.1129 0.0081 -0.0320 0.0065 0.0968 -0.0263 -0.0471 -0.0256 -0.0003 0.0188 -0.0397 0.0475 -0.0811 -0.0430 -0.0117 0.0414 -0.0028 0.0524 0.0216 0.0820 0.0114 -0.0173 -0.0362 -0.0067 -0.0118 0.0435 0.0637 0.0022 -0.0096 -0.0360 -0.1679 0.0304 0.0290 0.2070 0.0689 -0.0467\n",
            "and -0.0314 0.0149 -0.0205 0.0557 0.0205 -0.0405 0.0044 -0.0118 -0.0424 -0.0490 0.0123 -0.0023 0.0083 0.0203 -0.0055 0.0004 0.0031 0.0834 -0.0637 0.0349 -0.0457 0.0898 0.0432 -0.0026 -0.0806 0.0526 0.0038 -0.0263 0.0262 0.0294 -0.0055 0.0247 0.0263 -0.0180 -0.0112 0.0273 -0.0116 0.0214 -0.0195 0.0116 -0.0549 -0.0488 0.0112 0.0063 -0.0783 -0.0020 0.0292 -0.0212 0.0208 0.0024 -0.0147 0.0165 -0.5414 0.0300 0.0143 -0.0017 -0.0407 0.1298 -0.0201 0.0314 -0.0184 -0.0424 0.0014 -0.0571 0.0164 0.0138 0.0341 0.0563 0.0247 0.0347 0.0689 0.0543 -0.0183 -0.0371 0.0431 0.0120 0.0688 -0.0098 -0.0226 0.1135 -0.0141 -0.0054 -0.0119 -0.0566 -0.0205 0.0233 0.0102 -0.0315 -0.0161 -0.0019 0.0033 -0.0457 -0.0164 0.0118 0.0428 0.0267 -0.0266 -0.0141 0.0576 0.0513 -0.0710 -0.0518 0.0271 0.0022 -0.1131 0.0104 -0.1406 0.0032 0.0170 0.0329 0.0020 -0.0997 -0.0957 0.0234 0.0161 -0.0010 0.0106 -0.0022 0.0124 -0.2695 -0.0634 -0.0576 -0.0199 0.0576 -0.1378 0.0771 0.0437 0.0569 0.0588 0.0295 -0.0351 0.0381 -0.0133 0.0161 -0.0503 -0.2031 -0.0856 0.0608 -0.0175 -0.0220 -0.0389 0.0169 0.0498 0.3705 -0.0604 -0.0628 -0.0244 -0.0707 -0.0015 -0.0172 0.0158 0.0173 -0.0505 -0.0219 0.0269 0.0487 -0.0391 0.0063 -0.0457 -0.0057 0.0270 -0.0346 0.0418 -0.0495 -0.3807 -0.0217 0.0251 -0.0074 -0.0195 -0.0083 -0.1613 -0.0667 -0.0322 0.0747 0.0054 -0.0337 0.0282 -0.2981 0.0520 -0.0155 0.0078 -0.0601 0.0236 0.0141 0.0156 0.0074 0.0129 -0.0426 0.2257 0.0365 -0.0322 -0.0239 0.0033 -0.0038 0.0397 -0.0383 -0.0171 -0.0329 -0.0741 0.0276 0.0548 0.0042 -0.0282 0.0351 0.0503 0.0134 -0.0078 0.0157 0.0043 0.0211 -0.0642 0.0078 -0.0224 0.0460 -0.0332 -0.0190 -0.1574 -0.0022 0.0300 0.0958 -0.0508 -0.0002 0.0108 0.0007 -0.0441 -0.0310 -0.0396 0.0195 -0.0184 0.1056 0.0989 -0.0166 0.3190 -0.0119 -0.0023 -0.0180 0.0394 -0.0697 -0.1624 0.0192 0.0027 0.0104 0.0139 0.0033 -0.0001 -0.0441 0.0124 -0.0177 0.0182 0.4824 0.0200 0.0509 -0.0566 0.0301 0.0316 0.0032 -0.0746 0.0167 0.0208 -0.0250 -0.0214 0.0037 -0.0355 0.0386 -0.1528 -0.0324 0.0454 0.0605 0.0038 0.0018 0.0080 0.0331 -0.0050 -0.0109 -0.0723 0.0122 0.0056 0.0147 0.0310 -0.0107 0.0094 -0.0049 0.0782 0.0244 0.0615 -0.0404 -0.0025 -0.0371 0.0194 0.0174 -0.0003 0.0575 -0.0078 -0.0101 -0.0901 -0.0214 0.0267 0.0980 0.0893 0.0148\n",
            "of -0.0063 -0.0253 -0.0338 0.0178 -0.0966 0.0946 0.0328 -0.0227 0.0628 -0.0189 -0.0063 0.0280 0.0215 -0.0924 -0.0071 -0.0246 0.0363 -0.0230 -0.0744 -0.0124 0.0055 0.0781 0.0156 -0.1322 -0.0490 0.0756 0.0529 0.0060 -0.0194 0.0552 -0.0176 0.0049 -0.1204 -0.0272 0.0189 0.0482 -0.0392 -0.1050 0.0358 0.0432 -0.0006 -0.0452 0.0313 0.0520 0.0300 0.0132 -0.0345 -0.0012 -0.0105 0.0289 -0.0064 0.0337 -0.6136 0.0142 0.0334 0.0008 -0.0354 -0.0456 -0.1180 -0.0009 0.0319 0.0059 -0.0208 -0.0383 -0.0216 -0.0103 0.0015 0.0315 -0.0042 0.0418 0.0161 -0.0241 -0.0046 -0.1596 0.0238 0.0092 -0.0144 0.0292 0.0148 0.0580 0.0150 -0.0200 0.0254 -0.1357 0.0079 -0.0345 0.0288 0.0071 0.3238 0.0305 0.0306 0.0288 0.0270 0.0484 0.0239 -0.0059 0.0288 0.0114 0.0242 -0.0037 -0.0958 -0.0270 0.0234 0.0275 -0.1558 -0.0034 0.0985 -0.0422 0.0911 0.0191 -0.0207 0.1338 -0.0164 0.0123 0.0567 -0.0961 0.0141 0.0091 0.0080 -0.1180 -0.0499 -0.0656 0.0867 0.0707 -0.0513 0.1399 -0.0287 -0.0949 -0.0987 0.0460 0.0002 0.0301 0.0377 -0.0029 0.0053 -0.0905 0.0063 0.0210 -0.0647 -0.0603 0.0118 -0.0129 0.0166 0.2834 -0.0506 -0.0332 0.0189 -0.0091 0.0069 0.0310 0.1842 -0.0110 0.0169 -0.0496 -0.0089 0.0083 0.0131 0.0724 0.0011 0.0095 0.0181 0.0133 0.0425 -0.0187 -0.2456 -0.0242 0.0195 -0.0001 -0.0793 -0.0420 -0.0260 -0.0363 -0.0072 0.0130 0.1629 -0.0843 0.1183 -0.2981 0.0171 0.0080 0.0109 0.0102 0.0291 -0.0157 -0.0113 -0.0126 -0.0179 0.0381 0.3813 0.0404 0.0459 -0.0778 -0.0129 -0.0218 -0.0194 0.0301 -0.0795 -0.0375 0.2340 0.0163 0.0039 -0.0551 -0.0511 -0.0030 0.0312 -0.0064 0.1368 -0.0918 -0.0510 0.0165 -0.0340 0.0267 -0.0197 0.0153 0.0328 0.0220 -0.0538 -0.0020 0.0477 0.0268 -0.0481 -0.0166 0.0202 -0.0226 -0.0569 0.1067 0.0382 0.0267 -0.0204 0.0269 0.0877 -0.0313 0.1969 -0.0524 -0.0059 -0.1442 -0.0296 0.0781 -0.1937 -0.0414 -0.0156 -0.0120 0.0127 -0.0086 0.0296 -0.0002 0.0592 -0.0103 -0.0069 0.3157 0.0263 0.0313 -0.1475 0.0210 -0.0327 0.0169 0.0181 -0.0009 0.0492 -0.0543 -0.0555 0.0065 -0.0051 0.0113 -0.1789 0.0240 -0.0010 0.0108 -0.0587 0.0118 -0.0764 -0.0438 0.0592 0.0092 -0.0187 -0.0160 -0.0391 0.0236 0.0160 0.0025 -0.0836 -0.1061 0.0585 0.0568 0.0207 0.0205 0.0175 0.0661 0.0756 0.0728 -0.0402 0.0075 0.0015 -0.0140 -0.0487 0.0517 0.0088 0.1155 0.0073 0.0168\n",
            "to 0.0495 0.0411 0.0041 0.0309 -0.0044 -0.1151 0.0060 0.0170 0.0045 -0.0288 0.0170 0.0007 0.0533 0.0094 -0.0609 -0.0267 0.0497 0.0474 0.0054 0.0511 -0.0715 0.0876 0.0550 -0.0010 -0.0746 0.0008 0.0258 -0.1404 0.0022 0.0469 0.0114 0.0083 -0.0127 -0.0453 0.0011 -0.0080 -0.0130 -0.1271 0.0020 0.0389 -0.0395 -0.0295 -0.0308 0.0348 -0.1388 -0.0647 0.0302 0.0184 0.0499 0.0168 -0.0176 0.0890 -0.5547 0.0144 0.0300 0.0127 0.0345 0.1792 0.0629 -0.0242 -0.0491 -0.0397 -0.0014 -0.0571 0.0906 -0.0009 0.0266 -0.0018 0.0308 -0.0057 0.0569 0.0273 -0.0338 0.1003 0.0299 0.0115 0.0717 0.0319 -0.0726 0.1526 -0.0026 -0.1321 -0.0287 -0.2439 0.0073 -0.0062 0.0101 -0.0128 -0.0106 0.0202 -0.0165 -0.0867 0.0493 -0.0916 0.0507 0.1032 0.0108 0.0881 0.0655 -0.0127 -0.0895 -0.0348 0.0439 0.0069 -0.3768 -0.0176 0.1296 0.0027 0.2343 -0.0009 0.0337 0.0613 -0.0369 0.0564 -0.0901 -0.0046 0.0360 0.0341 -0.0171 -0.1717 -0.0041 -0.0553 -0.0661 0.0957 -0.0804 0.0868 -0.0181 -0.0602 -0.1523 -0.0104 -0.0034 -0.0547 0.0094 -0.0223 -0.0184 -0.3151 -0.0358 0.0354 0.0393 0.0526 0.0010 -0.0163 0.0497 0.2518 -0.0173 -0.0036 0.0180 -0.1081 0.0368 -0.0141 -0.0436 0.0291 -0.0366 -0.0523 0.0464 0.0018 -0.0183 0.0766 0.0156 0.0276 0.0522 -0.0221 0.0408 -0.0703 -0.2291 -0.0030 0.0343 -0.0961 -0.0092 0.0222 0.0166 -0.0344 0.0463 0.0186 0.0283 -0.0522 0.0369 -0.4955 0.0276 -0.0247 0.0257 0.0632 -0.0232 -0.0063 -0.0076 -0.3897 -0.0108 -0.0612 0.1962 -0.0060 -0.0353 -0.0994 -0.0124 -0.0031 0.0427 0.0134 -0.0043 -0.0102 0.2100 0.0163 -0.0155 0.1707 -0.0339 -0.0125 0.0200 0.0148 -0.0342 -0.0254 0.0001 0.0412 -0.0258 -0.0169 0.0113 0.0031 0.0075 -0.0059 0.1255 0.0225 0.0005 0.0462 0.0096 -0.0664 0.0138 0.0511 0.0372 0.0073 -0.0187 0.0186 -0.0021 -0.0120 0.0007 -0.0026 0.1725 0.0790 0.0265 -0.0066 -0.0765 0.2336 -0.1445 0.0072 -0.0260 -0.0147 0.0521 0.0011 -0.0244 0.0583 -0.0207 0.0320 0.0294 0.4830 -0.0444 -0.0870 -0.0754 0.0276 -0.0606 -0.0227 -0.0057 -0.0298 0.0540 -0.0607 -0.0746 0.0666 -0.0240 -0.0399 -0.2321 0.0054 0.0233 0.0460 0.1874 -0.0530 -0.0285 -0.0521 -0.0146 0.0264 -0.0093 0.0250 -0.0552 0.0152 0.0242 -0.0577 0.0060 0.0511 0.0230 -0.0345 0.0134 -0.0042 -0.1267 -0.1572 -0.0783 0.0706 0.0004 -0.0142 -0.0976 -0.0489 -0.0625 -0.0327 0.0070 0.2371 -0.0298 -0.0284\n",
            "in -0.0234 -0.0268 -0.0838 0.0386 -0.0321 0.0628 0.0281 -0.0252 0.0269 -0.0063 0.0132 0.0338 0.0543 0.0687 -0.0110 -0.0275 0.0146 0.0023 -0.0092 0.0741 -0.0283 0.0703 -0.0449 0.0823 -0.0197 -0.0873 0.0607 0.0222 -0.0289 0.0115 0.0453 -0.0077 0.0476 -0.0128 0.0474 0.0017 0.0237 -0.0398 0.0236 -0.0285 0.0329 -0.0057 -0.0328 -0.0268 -0.0822 -0.0441 0.0021 0.0163 -0.0225 0.0258 0.0149 0.0796 -0.5759 -0.0434 -0.0289 0.0285 0.0025 0.0755 -0.0379 0.0414 -0.0081 -0.0035 0.0600 -0.0046 -0.0451 0.0669 0.0229 0.0323 0.0166 0.0111 0.0016 0.0041 0.0050 -0.1427 0.0227 0.0343 0.0342 0.0227 0.0571 -0.0956 0.0165 -0.1107 -0.0095 -0.1987 0.0399 -0.0017 0.0290 0.0449 0.0536 -0.0062 -0.0323 -0.0490 0.0090 -0.0675 0.0085 0.0057 -0.0469 0.0269 0.0036 0.0418 -0.1238 0.0106 -0.0335 0.0379 -0.3266 -0.0069 -0.0621 0.0634 0.1550 -0.0685 0.0327 -0.0168 -0.0706 0.0383 -0.0514 -0.0704 -0.0022 0.0249 0.0143 -0.1200 0.0017 -0.0600 0.0764 0.0853 0.0152 0.1373 0.0344 0.0155 -0.1492 0.0203 0.0577 0.0344 0.0786 -0.0141 0.0055 -0.2135 -0.0626 0.0191 -0.0264 0.0189 -0.0045 0.0305 -0.0039 0.2757 0.0195 -0.0092 0.0182 0.0383 -0.0194 0.0002 0.1627 -0.0767 -0.0398 -0.0610 0.0032 0.0023 -0.0090 -0.0305 -0.0190 0.0015 0.0121 0.0493 0.0708 -0.0645 -0.3144 -0.0005 0.1439 0.1027 -0.0131 0.0526 -0.0061 -0.0010 -0.0349 0.0999 0.0594 -0.0776 0.1629 -0.4118 0.0027 0.0075 -0.0171 0.0179 -0.0223 -0.0210 0.0159 -0.0690 0.0743 -0.0752 0.2894 0.0363 0.0462 -0.0026 0.0279 0.0261 -0.0504 0.0095 0.0400 -0.0319 0.1491 0.0568 0.0111 0.0451 0.0055 -0.0406 -0.0705 -0.0122 0.1209 -0.1674 0.0417 0.0181 -0.0274 0.0494 -0.0391 0.0384 0.0216 0.0217 -0.0548 -0.0038 -0.0162 -0.0031 -0.0272 -0.0242 0.0153 -0.0019 -0.0569 0.0414 0.0051 0.0451 -0.0067 0.2010 -0.0409 -0.0201 0.2135 0.0284 0.0302 0.1745 -0.0017 0.1074 -0.2303 -0.0360 -0.0272 -0.0573 0.0338 -0.0061 -0.0036 0.0144 -0.0273 -0.0080 0.0347 0.3557 -0.0252 0.0639 -0.0407 0.0436 -0.0145 0.0135 -0.0427 -0.0024 -0.0032 0.0325 -0.0604 -0.0159 -0.0185 0.0007 -0.1698 -0.0202 0.0711 0.0243 -0.1825 -0.0213 0.0065 -0.0286 0.0299 -0.0079 0.0115 -0.0321 0.0347 -0.0331 0.0538 0.0014 -0.1403 0.0135 0.0028 0.0432 -0.0190 0.0070 -0.0577 0.0015 0.1585 0.0295 0.0177 0.0153 -0.0350 -0.0330 -0.0461 -0.0179 -0.0142 0.1048 -0.0148 -0.0452\n",
            "a 0.0047 0.0223 -0.0087 0.0250 -0.0660 0.0212 0.0178 -0.0149 0.0282 -0.0166 0.0075 0.0284 0.0166 0.0255 0.0125 -0.0220 0.0177 0.0667 -0.1204 0.0402 0.0260 0.0406 0.0285 -0.1023 -0.0021 0.0387 0.0208 0.0541 0.0066 -0.0689 0.0140 -0.0271 0.0677 0.0005 0.0392 -0.0209 -0.0417 -0.0173 0.0303 -0.0256 0.0016 -0.0574 -0.0039 -0.0377 -0.0412 0.0315 -0.0139 0.0184 -0.0302 0.0000 -0.0378 0.1718 -0.6255 -0.0129 0.0399 0.0301 0.0420 0.0338 0.0888 -0.0156 0.0362 -0.0332 -0.0199 0.0223 -0.1082 0.0558 0.0027 -0.0084 0.0286 0.0098 -0.0286 -0.0252 -0.0119 0.0971 0.0381 0.0101 -0.0005 0.0114 0.0230 -0.0090 0.0443 0.0617 -0.0237 -0.1204 -0.0046 0.0186 0.0183 -0.0117 -0.0270 0.0182 -0.0114 0.0041 0.0046 0.0407 0.0151 0.0106 0.0192 0.0212 0.0075 -0.0428 -0.0867 -0.0490 -0.0021 -0.0062 -0.2014 -0.0003 0.3178 -0.0558 0.0698 0.0748 -0.0212 -0.0547 -0.0097 0.0682 0.0141 -0.0684 0.0136 0.0069 -0.0577 -0.2443 -0.0377 -0.0591 0.0631 -0.0212 0.0315 0.0999 0.0101 0.0379 -0.1429 -0.0078 0.0575 0.0202 0.0216 -0.0053 0.0377 -0.4783 -0.0013 0.0285 0.0465 -0.0584 0.0057 -0.0250 0.0457 0.4414 0.0631 0.0244 0.0717 0.0060 0.0290 0.0283 0.0569 -0.0073 -0.0503 -0.0482 0.0121 0.0125 -0.0128 0.0006 0.0029 -0.0173 0.0452 0.0258 0.0658 -0.0031 -0.1641 0.0163 0.0143 -0.0953 0.0144 -0.0018 0.0694 -0.0215 0.0211 0.0342 0.1518 -0.0250 0.0690 -0.2225 0.0283 -0.0152 0.0286 0.0279 -0.0334 -0.0021 -0.0189 0.0055 0.0215 -0.0307 0.1230 0.0153 -0.0179 -0.0328 -0.0181 0.0465 -0.0164 -0.0042 -0.0657 -0.0230 0.2529 -0.0214 0.0124 -0.0861 -0.0359 -0.0401 0.0448 0.0004 0.0403 -0.0272 -0.0080 0.0349 -0.0228 0.0085 -0.0471 0.0004 0.0433 0.0081 0.2004 0.0231 -0.0084 0.0694 -0.0030 -0.0391 0.0038 0.0032 -0.0199 -0.1149 0.0009 0.0198 0.0176 -0.2361 0.0961 -0.0251 0.1812 0.0025 0.0225 -0.0061 -0.0230 -0.0354 -0.1134 -0.1130 -0.0527 0.0041 -0.0109 -0.0166 -0.0035 0.0720 0.0270 0.0134 -0.0017 0.4862 0.0024 -0.0162 -0.0046 0.0082 -0.1879 0.0087 -0.1016 0.0127 0.0068 0.0103 -0.0979 -0.0229 0.0354 -0.0009 -0.1563 0.0113 -0.0840 -0.0169 -0.3069 -0.0476 -0.0503 -0.0123 -0.0127 0.0604 0.0000 -0.0035 -0.0301 -0.0114 -0.0112 -0.0029 0.0606 0.0608 0.0899 -0.0041 0.0044 -0.0289 -0.1618 0.0085 0.0647 0.0376 0.0452 0.0139 -0.0032 -0.0253 0.0244 0.0463 0.0178 0.1479 0.1324 -0.0318\n",
            "\" -0.0899 -0.0402 -0.0220 0.0476 0.0262 -0.1213 0.0270 0.0168 -0.1312 0.0465 0.0254 0.0158 -0.0470 0.0042 0.0480 -0.0999 0.0031 0.1212 0.1308 -0.0348 -0.0781 0.0148 0.0122 -0.0055 -0.1139 0.0222 -0.0177 0.0572 -0.0251 0.0840 0.0545 0.0490 -0.0169 -0.0322 -0.0068 -0.0355 -0.0796 -0.0455 0.1544 0.0284 0.0204 0.0218 -0.0776 -0.0507 0.0381 0.0992 0.0472 -0.0311 0.0715 0.0831 -0.0143 -0.0601 -0.6385 -0.0121 -0.0346 0.0597 0.0583 -0.0167 -0.1205 0.0022 -0.0124 0.0487 -0.0399 -0.0477 0.0125 -0.0296 0.0368 0.0483 -0.0127 0.0661 -0.0357 -0.0924 0.0267 0.0412 0.0412 -0.0099 0.0349 0.0208 0.0010 -0.1238 0.0274 0.0602 0.0076 -0.1712 0.0136 -0.0092 0.0005 -0.0213 -0.0397 0.0080 0.0217 0.0421 0.1037 0.1252 -0.0657 0.0009 -0.0002 0.0928 -0.0861 -0.0090 -0.0297 0.0355 0.0213 -0.0063 -0.0758 0.0091 0.0285 -0.1169 -0.1457 -0.0810 0.0465 0.0194 -0.0333 -0.0214 -0.0036 0.0553 0.0577 -0.0111 0.0416 -0.3517 -0.0274 -0.0929 -0.0435 -0.1696 -0.0016 -0.0270 -0.0539 -0.0152 -0.0777 0.0396 0.0717 -0.0135 -0.0041 -0.0139 0.0519 -0.1655 -0.0168 0.1183 -0.0529 0.0479 -0.0519 0.0204 0.0912 -0.0967 0.0004 0.0901 0.0515 0.0135 -0.0635 0.0027 -0.0713 0.0312 -0.0117 -0.0706 0.0008 0.0560 0.0550 0.0271 0.0425 -0.0334 0.0383 0.0434 -0.0692 0.1081 -0.1373 -0.0364 0.2247 -0.0886 -0.0375 0.0130 -0.0297 -0.0172 -0.0108 0.0294 -0.0607 -0.0034 -0.0172 -0.3148 0.0603 0.0733 0.0353 -0.0200 0.0714 -0.0744 -0.0319 -0.0355 0.1007 0.2251 0.1611 0.0116 0.0693 0.0392 -0.0607 0.0575 0.0687 0.0035 -0.0481 0.0155 0.2169 -0.0414 0.0017 0.0432 -0.0674 0.0479 0.0901 -0.0472 0.1349 0.0873 -0.0228 0.0076 -0.0536 -0.0257 0.0010 0.0006 0.0761 0.0454 -0.0324 -0.0639 -0.0726 0.0712 0.0081 0.1156 -0.0131 -0.0169 -0.0402 0.0058 -0.0156 0.0056 -0.1199 -0.0815 -0.1161 -0.0240 0.2643 0.0860 0.0361 -0.1110 0.0860 -0.1196 -0.0799 0.0254 -0.0515 -0.0704 0.0290 0.0131 0.0567 0.0432 0.0305 -0.0286 0.0794 0.3220 -0.0620 -0.0460 0.0225 0.0141 -0.0152 0.0144 -0.0834 0.0098 0.0725 0.1365 0.0030 0.0256 0.0225 0.0123 -0.2122 0.0385 0.0247 0.1196 0.0052 -0.0270 -0.0613 -0.0286 0.0154 0.1517 -0.0542 -0.0014 -0.0065 0.0614 -0.0293 0.0308 0.0555 0.1102 0.0459 0.0117 0.0290 0.0123 -0.0541 0.0550 0.0966 0.0369 0.0370 0.1034 -0.0551 -0.0387 -0.0857 0.0226 -0.0189 -0.0963 0.0613 -0.1298\n"
          ],
          "name": "stdout"
        }
      ]
    },
    {
      "cell_type": "code",
      "metadata": {
        "colab": {
          "base_uri": "https://localhost:8080/"
        },
        "id": "wYU8Y5UmSvjz",
        "outputId": "73c92c6d-8df3-4926-c8f0-1ef3525e7645"
      },
      "source": [
        "! ls -lh"
      ],
      "execution_count": 59,
      "outputs": [
        {
          "output_type": "stream",
          "text": [
            "total 2.8G\n",
            "drwxr-xr-x 4 root root 4.0K May 12 14:49 data\n",
            "-rw-r--r-- 1 root root 6.2K May 12 17:03 download\n",
            "drwx------ 5 root root 4.0K May 12 14:49 drive\n",
            "drwxr-xr-x 1 root root 4.0K May  6 13:44 sample_data\n",
            "-rw-r--r-- 1 root root 2.2G Mar 14  2018 wiki-news-300d-1M.vec\n",
            "-rw-r--r-- 1 root root 651M Jan 18  2019 wiki-news-300d-1M.vec.zip\n"
          ],
          "name": "stdout"
        }
      ]
    },
    {
      "cell_type": "markdown",
      "metadata": {
        "id": "kfu9-TjQh3bs"
      },
      "source": [
        "Мы скаиваем FastText уже готовое представление слов (embedding в размерность пространства 300)."
      ]
    },
    {
      "cell_type": "code",
      "metadata": {
        "id": "dQyi3QKGYAZ1"
      },
      "source": [
        "# -- Мы уже скачали представление слов -- #\n",
        "# -- Скорее всего лучше чем у FastText у нас не получиться -- #"
      ],
      "execution_count": 60,
      "outputs": []
    },
    {
      "cell_type": "code",
      "metadata": {
        "colab": {
          "base_uri": "https://localhost:8080/"
        },
        "id": "p2b5f1O1F2s9",
        "outputId": "0c901e10-9a12-4ebb-bd88-261774632e5f"
      },
      "source": [
        "import numpy as np\n",
        "import tqdm\n",
        "from tqdm import tqdm\n",
        "\n",
        "dictionary = {}\n",
        "times = 0\n",
        "with open(\"/content/wiki-news-300d-1M.vec\", 'r') as f:\n",
        "  with tqdm(position = 0, leave = True) as pbar:\n",
        "    for line in tqdm(f, position = 0, \n",
        "                     desc = 'download progress: ', leave = True):\n",
        "      times += 1\n",
        "      wplusvec = line.split(\" \")\n",
        "      if wplusvec.__len__() == 301:\n",
        "        w = wplusvec[0]\n",
        "        vecd = np.array(wplusvec[1:], dtype = np.float32)\n",
        "        dictionary[w] = vecd\n",
        "      if len(dictionary) == 300000:\n",
        "        break\n",
        "\n",
        "      pbar.update()"
      ],
      "execution_count": 61,
      "outputs": [
        {
          "output_type": "stream",
          "text": [
            "300000it [00:26, 11323.75it/s]\n"
          ],
          "name": "stderr"
        }
      ]
    },
    {
      "cell_type": "markdown",
      "metadata": {
        "id": "hArbkM7zYWfd"
      },
      "source": [
        "Мы загрузили около 300 тысяч слов из наших данных FastText, мы не грузили весь 1м для скорости."
      ]
    },
    {
      "cell_type": "markdown",
      "metadata": {
        "id": "PNtNuLs5iJlS"
      },
      "source": [
        "Ниже я решил поэкспериментировать с выделением \"близких\" слов данному нам. По косинусной и евклидовой метрике. "
      ]
    },
    {
      "cell_type": "code",
      "metadata": {
        "id": "Zpq2lglmYV7P"
      },
      "source": [
        "# -- dictionary contain all words -- #\n",
        "# -- нам нужно построить представление для документов в целом -- #\n",
        "\n",
        "# -- check top k nearest with word -- #\n",
        "word = \"perfect\"\n",
        "if dictionary.get(word) is not None:\n",
        "  vec_word = dictionary[word]\n",
        "else:\n",
        "  print('not found word: {}'.format(word))\n",
        "\n",
        "def getkNearest(vec, k, euclid = True):\n",
        "  \"\"\"\n",
        "  get from dictionary k nearest \n",
        "  \"\"\"\n",
        "  if euclid:\n",
        "    listvalwordtopk = sorted(list(map(lambda key: [np.linalg.norm(vec - dictionary[key]), key], \n",
        "                                                    dictionary.keys())), \n",
        "                                                    key = lambda x: x[0])[:k]\n",
        "\n",
        "    return [w for _, w in listvalwordtopk]\n",
        "\n",
        "  else:\n",
        "    fcosine = lambda v1, v2: np.dot(v1, v2)/(np.linalg.norm(v1)*np.linalg.norm(v2))\n",
        "    listvalwordtopk = sorted(list(map(lambda key: [fcosine(vec, dictionary[key]), key], dictionary.keys())), \n",
        "                                                  key = lambda x: x[0], \n",
        "                                                  reverse = True)[:k]\n",
        "    return [w for _, w in listvalwordtopk]\n",
        "\n",
        "\n",
        "\n",
        "topkeucl = getkNearest(vec_word, k = 20, euclid = True)\n",
        "topkcosine = getkNearest(vec_word, k = 20, euclid = False)\n"
      ],
      "execution_count": 62,
      "outputs": []
    },
    {
      "cell_type": "markdown",
      "metadata": {
        "id": "zVhzMKbvhIBw"
      },
      "source": [
        "В принципе сематически ближе слова лежать больше в одном направлении, как мне кажется, хотя на и евклидово расстояние что-то разумное дало. Хотя имеются такие слова как Imperfect для Евклидовой нормы, что, как мне кажеться не очень хорошо!"
      ]
    },
    {
      "cell_type": "markdown",
      "metadata": {
        "id": "IZahVSPmiZdp"
      },
      "source": [
        "Делаем вывод, что далее будем больше доверять косинусной близости слов. "
      ]
    },
    {
      "cell_type": "markdown",
      "metadata": {
        "id": "XNlsAdxVigR0"
      },
      "source": [
        "Выведем для слова \"perfect\" близкие слова как по Euclidean Nearest and Cosine Nearest."
      ]
    },
    {
      "cell_type": "code",
      "metadata": {
        "colab": {
          "base_uri": "https://localhost:8080/"
        },
        "id": "Gb6x3PNsgndU",
        "outputId": "ed0f1aa6-4e20-4381-d841-9c68d49b4a6d"
      },
      "source": [
        "[(topkeucl[idx], topkcosine[idx]) for idx in range(min(len(topkeucl), len(topkcosine)))]"
      ],
      "execution_count": 63,
      "outputs": [
        {
          "output_type": "execute_result",
          "data": {
            "text/plain": [
              "[('perfect', 'perfect'),\n",
              " ('flawless', 'flawless'),\n",
              " ('ideal', 'ideal'),\n",
              " ('good', 'near-perfect'),\n",
              " ('excellent', 'imperfect'),\n",
              " ('wonderful', 'faultless'),\n",
              " ('great', 'perfection'),\n",
              " ('complete', 'excellent'),\n",
              " ('imperfect', 'PERFECT'),\n",
              " ('fabulous', 'good'),\n",
              " ('perfection', 'wonderful'),\n",
              " ('fantastic', 'optimal'),\n",
              " ('near-perfect', 'fabulous'),\n",
              " ('brilliant', 'complete'),\n",
              " ('marvelous', 'Perfect'),\n",
              " ('best', 'fantastic'),\n",
              " ('full', 'easy'),\n",
              " ('better', 'immaculate'),\n",
              " ('lovely', 'optimum'),\n",
              " ('beautiful', 'superb')]"
            ]
          },
          "metadata": {
            "tags": []
          },
          "execution_count": 63
        }
      ]
    },
    {
      "cell_type": "markdown",
      "metadata": {
        "id": "zVeRS9pwir8v"
      },
      "source": [
        "Теперь с помощью embedding попробуем представлять каждый отдельный текст. Как было показано в материалах к работе, будем строить нечно средне взвешанное всех представлений слов входящих в каждый документ с весами, полученными из tfidf."
      ]
    },
    {
      "cell_type": "code",
      "metadata": {
        "colab": {
          "base_uri": "https://localhost:8080/"
        },
        "id": "bPWrUr84ljVb",
        "outputId": "0d53dad3-b2ec-4d3f-d37a-0655787c651a"
      },
      "source": [
        "# -- just average vector of all words in dictionary -- #\n",
        "default = sum(dictionary.values())/len(dictionary)\n",
        "def text2vecsimple(text):\n",
        "  \"\"\"\n",
        "  calculate average of vectors in dictionary\n",
        "  \"\"\"\n",
        "  words = text.split(\" \")\n",
        "  return sum(list(map(lambda w: dictionary.get(w, default), words)))/len(words)\n",
        "\n",
        "# -- just average of each document in data -- #\n",
        "\n",
        "tfidf = TfidfVectorizer()\n",
        "X_train_tfidf = tfidf.fit_transform(df_train['allText'])\n",
        "X_test_tfidf = tfidf.transform(df_test['allText'])\n",
        "\n",
        "X_train_vec = list(map(lambda text: text2vecsimple(text), df_train['allText']))\n",
        "X_test_vec = list(map(lambda text: text2vecsimple(text), df_test['allText']))\n",
        "\n",
        "dim = 300\n",
        "vocab = np.zeros((len(tfidf.vocabulary_.keys()), dim))\n",
        "\n",
        "# -- Заполняем все слова из нашего датасета значениями из fasttext -- #\n",
        "with tqdm(position = 0, leave = True) as pbar:\n",
        "    for key in tqdm(tfidf.vocabulary_.keys(), \n",
        "                    position = 0, \n",
        "                    desc = 'bar progress', \n",
        "                    leave = True):\n",
        "      # -- index -- #\n",
        "      # -- Заполняем значения из нашего словаря с уже фиксированным представлением -- #\n",
        "      # -- Если в словарике нет, то мы возвращаем значение по умолчанию -- #\n",
        "      vocab[tfidf.vocabulary_[key]] = dictionary.get(key, default)\n",
        "\n",
        "# -- result (number of documents, dim) -- #\n",
        "X_train_weighted = X_train_tfidf.dot(vocab)\n",
        "X_test_weighted = X_test_tfidf.dot(vocab)\n"
      ],
      "execution_count": 64,
      "outputs": [
        {
          "output_type": "stream",
          "text": [
            "bar progress: 100%|██████████| 3575/3575 [00:00<00:00, 243336.47it/s]\n",
            "0it [00:00, ?it/s]\n"
          ],
          "name": "stderr"
        }
      ]
    },
    {
      "cell_type": "markdown",
      "metadata": {
        "id": "NmKS5kxxjKxE"
      },
      "source": [
        "**Теперь попробуем некоторые классификаторы на данном признаковом пространстве документов.**"
      ]
    },
    {
      "cell_type": "markdown",
      "metadata": {
        "id": "kqpncA81jTYt"
      },
      "source": [
        "SGD - classifier."
      ]
    },
    {
      "cell_type": "code",
      "metadata": {
        "colab": {
          "base_uri": "https://localhost:8080/"
        },
        "id": "eCE7tHrRsMeO",
        "outputId": "4de6f647-15ef-45c8-a4f1-f1e13f2e9b35"
      },
      "source": [
        "sgd = SGDClassifier(max_iter = 10000)\n",
        "sgd.fit(X_train_weighted, y_train_le)\n",
        "y_pred_le = sgd.predict(X_test_weighted)\n",
        "y_pred = le.inverse_transform(y_pred_le)\n",
        "\n",
        "print('SGD on World_Vec rmse: {:.2f}'.format(np.sqrt(mean_squared_error(y_test, y_pred))))"
      ],
      "execution_count": 66,
      "outputs": [
        {
          "output_type": "stream",
          "text": [
            "SGD on World_Vec rmse: 19.64\n"
          ],
          "name": "stdout"
        }
      ]
    },
    {
      "cell_type": "markdown",
      "metadata": {
        "id": "Kxqksz7ajZv_"
      },
      "source": [
        "Logistic regression:"
      ]
    },
    {
      "cell_type": "code",
      "metadata": {
        "colab": {
          "base_uri": "https://localhost:8080/"
        },
        "id": "GFpoGgWTtB39",
        "outputId": "c0554dee-621a-4157-a347-8b7f65f3ad4f"
      },
      "source": [
        "from sklearn.linear_model import LogisticRegression\n",
        "from sklearn.pipeline import Pipeline, make_pipeline\n",
        "\n",
        "pipe = Pipeline([\n",
        "                 ('std', StandardScaler()),\n",
        "                 ('logreg', LogisticRegression(class_weight = 'balanced')),\n",
        "                ])\n",
        "#\"\"\"\n",
        "X_train_all = np.hstack((X_train_weighted, df_new_feature_tr.values))\n",
        "X_test_all = np.hstack((X_test_weighted, df_new_feature_ts.values))\n",
        "#\"\"\"\n",
        "\n",
        "pipe.fit(X_train_all, y_train_le)\n",
        "y_pred_le = pipe.predict(X_test_all)\n",
        "y_pred = le.inverse_transform(y_pred_le)\n",
        "\n",
        "print('Logistic Regression on World_Vec rmse: {:.2f}'.format(np.sqrt(mean_squared_error(y_test, y_pred))))"
      ],
      "execution_count": 69,
      "outputs": [
        {
          "output_type": "stream",
          "text": [
            "Logistic Regression on World_Vec rmse: 18.69\n"
          ],
          "name": "stdout"
        },
        {
          "output_type": "stream",
          "text": [
            "/usr/local/lib/python3.7/dist-packages/sklearn/linear_model/_logistic.py:940: ConvergenceWarning: lbfgs failed to converge (status=1):\n",
            "STOP: TOTAL NO. of ITERATIONS REACHED LIMIT.\n",
            "\n",
            "Increase the number of iterations (max_iter) or scale the data as shown in:\n",
            "    https://scikit-learn.org/stable/modules/preprocessing.html\n",
            "Please also refer to the documentation for alternative solver options:\n",
            "    https://scikit-learn.org/stable/modules/linear_model.html#logistic-regression\n",
            "  extra_warning_msg=_LOGISTIC_SOLVER_CONVERGENCE_MSG)\n"
          ],
          "name": "stderr"
        }
      ]
    },
    {
      "cell_type": "markdown",
      "metadata": {
        "id": "V1N6yQuMjfZL"
      },
      "source": [
        "Случайный лес:"
      ]
    },
    {
      "cell_type": "code",
      "metadata": {
        "colab": {
          "base_uri": "https://localhost:8080/"
        },
        "id": "mp28ifyxuDrE",
        "outputId": "1bb5cd48-fece-4d07-fb15-6038de9dec9c"
      },
      "source": [
        "rf = RandomForestClassifier(n_estimators = 400)\n",
        "# -- together another features -- #\n",
        "X_train_all = np.hstack((X_train_weighted, df_new_feature_tr.values))\n",
        "X_test_all = np.hstack((X_test_weighted, df_new_feature_ts.values))\n",
        "\n",
        "rf.fit(X_train_all, y_train_le)\n",
        "\n",
        "y_pred_le = rf.predict(X_test_all)\n",
        "y_pred = le.inverse_transform(y_pred_le)\n",
        "\n",
        "print('RandomForest on World_Vec rmse: {:.2f}'.format(np.sqrt(mean_squared_error(y_test, y_pred))))"
      ],
      "execution_count": 71,
      "outputs": [
        {
          "output_type": "stream",
          "text": [
            "RandomForest on World_Vec rmse: 18.71\n"
          ],
          "name": "stdout"
        }
      ]
    },
    {
      "cell_type": "markdown",
      "metadata": {
        "id": "jIjCPB3Xjjll"
      },
      "source": [
        "Метод опорных векторов:"
      ]
    },
    {
      "cell_type": "code",
      "metadata": {
        "colab": {
          "base_uri": "https://localhost:8080/"
        },
        "id": "Eilf55YqvLTB",
        "outputId": "3c06b4e4-f289-4e30-edbd-c3bd584404ed"
      },
      "source": [
        "svm = SVC()\n",
        "svm.fit(X_train_weighted, y_train_le)\n",
        "\n",
        "y_pred_le = svm.predict(X_test_weighted)\n",
        "y_pred = le.inverse_transform(y_pred_le)\n",
        "\n",
        "print('SVM on World_Vec rmse: {:.2f}'.format(np.sqrt(mean_squared_error(y_test, y_pred))))"
      ],
      "execution_count": 72,
      "outputs": [
        {
          "output_type": "stream",
          "text": [
            "SVM on World_Vec rmse: 22.84\n"
          ],
          "name": "stdout"
        }
      ]
    },
    {
      "cell_type": "markdown",
      "metadata": {
        "id": "VzMw1aBQjrPS"
      },
      "source": [
        "Как мы видим точность хуже чем то, что мы сделали простой нормализацией текста с Tfidf и просто выделением некоторых информативных признаков!"
      ]
    },
    {
      "cell_type": "code",
      "metadata": {
        "colab": {
          "base_uri": "https://localhost:8080/"
        },
        "id": "hVllvbGGvj2h",
        "outputId": "14891827-77e6-47ab-ea84-cac05695f842"
      },
      "source": [
        "!pip install catboost\n",
        "!pip install ipywidgets\n",
        "!jupyter nbextension enable --py widgetsnbextension"
      ],
      "execution_count": 73,
      "outputs": [
        {
          "output_type": "stream",
          "text": [
            "Collecting catboost\n",
            "\u001b[?25l  Downloading https://files.pythonhosted.org/packages/47/80/8e9c57ec32dfed6ba2922bc5c96462cbf8596ce1a6f5de532ad1e43e53fe/catboost-0.25.1-cp37-none-manylinux1_x86_64.whl (67.3MB)\n",
            "\u001b[K     |████████████████████████████████| 67.3MB 86kB/s \n",
            "\u001b[?25hRequirement already satisfied: scipy in /usr/local/lib/python3.7/dist-packages (from catboost) (1.4.1)\n",
            "Requirement already satisfied: matplotlib in /usr/local/lib/python3.7/dist-packages (from catboost) (3.2.2)\n",
            "Requirement already satisfied: six in /usr/local/lib/python3.7/dist-packages (from catboost) (1.15.0)\n",
            "Requirement already satisfied: numpy>=1.16.0 in /usr/local/lib/python3.7/dist-packages (from catboost) (1.19.5)\n",
            "Requirement already satisfied: pandas>=0.24.0 in /usr/local/lib/python3.7/dist-packages (from catboost) (1.1.5)\n",
            "Requirement already satisfied: graphviz in /usr/local/lib/python3.7/dist-packages (from catboost) (0.10.1)\n",
            "Requirement already satisfied: plotly in /usr/local/lib/python3.7/dist-packages (from catboost) (4.4.1)\n",
            "Requirement already satisfied: kiwisolver>=1.0.1 in /usr/local/lib/python3.7/dist-packages (from matplotlib->catboost) (1.3.1)\n",
            "Requirement already satisfied: cycler>=0.10 in /usr/local/lib/python3.7/dist-packages (from matplotlib->catboost) (0.10.0)\n",
            "Requirement already satisfied: pyparsing!=2.0.4,!=2.1.2,!=2.1.6,>=2.0.1 in /usr/local/lib/python3.7/dist-packages (from matplotlib->catboost) (2.4.7)\n",
            "Requirement already satisfied: python-dateutil>=2.1 in /usr/local/lib/python3.7/dist-packages (from matplotlib->catboost) (2.8.1)\n",
            "Requirement already satisfied: pytz>=2017.2 in /usr/local/lib/python3.7/dist-packages (from pandas>=0.24.0->catboost) (2018.9)\n",
            "Requirement already satisfied: retrying>=1.3.3 in /usr/local/lib/python3.7/dist-packages (from plotly->catboost) (1.3.3)\n",
            "Installing collected packages: catboost\n",
            "Successfully installed catboost-0.25.1\n",
            "Requirement already satisfied: ipywidgets in /usr/local/lib/python3.7/dist-packages (7.6.3)\n",
            "Requirement already satisfied: ipykernel>=4.5.1 in /usr/local/lib/python3.7/dist-packages (from ipywidgets) (4.10.1)\n",
            "Requirement already satisfied: widgetsnbextension~=3.5.0 in /usr/local/lib/python3.7/dist-packages (from ipywidgets) (3.5.1)\n",
            "Requirement already satisfied: ipython>=4.0.0; python_version >= \"3.3\" in /usr/local/lib/python3.7/dist-packages (from ipywidgets) (5.5.0)\n",
            "Requirement already satisfied: jupyterlab-widgets>=1.0.0; python_version >= \"3.6\" in /usr/local/lib/python3.7/dist-packages (from ipywidgets) (1.0.0)\n",
            "Requirement already satisfied: nbformat>=4.2.0 in /usr/local/lib/python3.7/dist-packages (from ipywidgets) (5.1.3)\n",
            "Requirement already satisfied: traitlets>=4.3.1 in /usr/local/lib/python3.7/dist-packages (from ipywidgets) (5.0.5)\n",
            "Requirement already satisfied: jupyter-client in /usr/local/lib/python3.7/dist-packages (from ipykernel>=4.5.1->ipywidgets) (5.3.5)\n",
            "Requirement already satisfied: tornado>=4.0 in /usr/local/lib/python3.7/dist-packages (from ipykernel>=4.5.1->ipywidgets) (5.1.1)\n",
            "Requirement already satisfied: notebook>=4.4.1 in /usr/local/lib/python3.7/dist-packages (from widgetsnbextension~=3.5.0->ipywidgets) (5.3.1)\n",
            "Requirement already satisfied: pexpect; sys_platform != \"win32\" in /usr/local/lib/python3.7/dist-packages (from ipython>=4.0.0; python_version >= \"3.3\"->ipywidgets) (4.8.0)\n",
            "Requirement already satisfied: pickleshare in /usr/local/lib/python3.7/dist-packages (from ipython>=4.0.0; python_version >= \"3.3\"->ipywidgets) (0.7.5)\n",
            "Requirement already satisfied: pygments in /usr/local/lib/python3.7/dist-packages (from ipython>=4.0.0; python_version >= \"3.3\"->ipywidgets) (2.6.1)\n",
            "Requirement already satisfied: setuptools>=18.5 in /usr/local/lib/python3.7/dist-packages (from ipython>=4.0.0; python_version >= \"3.3\"->ipywidgets) (56.1.0)\n",
            "Requirement already satisfied: simplegeneric>0.8 in /usr/local/lib/python3.7/dist-packages (from ipython>=4.0.0; python_version >= \"3.3\"->ipywidgets) (0.8.1)\n",
            "Requirement already satisfied: prompt-toolkit<2.0.0,>=1.0.4 in /usr/local/lib/python3.7/dist-packages (from ipython>=4.0.0; python_version >= \"3.3\"->ipywidgets) (1.0.18)\n",
            "Requirement already satisfied: decorator in /usr/local/lib/python3.7/dist-packages (from ipython>=4.0.0; python_version >= \"3.3\"->ipywidgets) (4.4.2)\n",
            "Requirement already satisfied: jupyter-core in /usr/local/lib/python3.7/dist-packages (from nbformat>=4.2.0->ipywidgets) (4.7.1)\n",
            "Requirement already satisfied: ipython-genutils in /usr/local/lib/python3.7/dist-packages (from nbformat>=4.2.0->ipywidgets) (0.2.0)\n",
            "Requirement already satisfied: jsonschema!=2.5.0,>=2.4 in /usr/local/lib/python3.7/dist-packages (from nbformat>=4.2.0->ipywidgets) (2.6.0)\n",
            "Requirement already satisfied: pyzmq>=13 in /usr/local/lib/python3.7/dist-packages (from jupyter-client->ipykernel>=4.5.1->ipywidgets) (22.0.3)\n",
            "Requirement already satisfied: python-dateutil>=2.1 in /usr/local/lib/python3.7/dist-packages (from jupyter-client->ipykernel>=4.5.1->ipywidgets) (2.8.1)\n",
            "Requirement already satisfied: Send2Trash in /usr/local/lib/python3.7/dist-packages (from notebook>=4.4.1->widgetsnbextension~=3.5.0->ipywidgets) (1.5.0)\n",
            "Requirement already satisfied: nbconvert in /usr/local/lib/python3.7/dist-packages (from notebook>=4.4.1->widgetsnbextension~=3.5.0->ipywidgets) (5.6.1)\n",
            "Requirement already satisfied: terminado>=0.8.1 in /usr/local/lib/python3.7/dist-packages (from notebook>=4.4.1->widgetsnbextension~=3.5.0->ipywidgets) (0.9.4)\n",
            "Requirement already satisfied: jinja2 in /usr/local/lib/python3.7/dist-packages (from notebook>=4.4.1->widgetsnbextension~=3.5.0->ipywidgets) (2.11.3)\n",
            "Requirement already satisfied: ptyprocess>=0.5 in /usr/local/lib/python3.7/dist-packages (from pexpect; sys_platform != \"win32\"->ipython>=4.0.0; python_version >= \"3.3\"->ipywidgets) (0.7.0)\n",
            "Requirement already satisfied: six>=1.9.0 in /usr/local/lib/python3.7/dist-packages (from prompt-toolkit<2.0.0,>=1.0.4->ipython>=4.0.0; python_version >= \"3.3\"->ipywidgets) (1.15.0)\n",
            "Requirement already satisfied: wcwidth in /usr/local/lib/python3.7/dist-packages (from prompt-toolkit<2.0.0,>=1.0.4->ipython>=4.0.0; python_version >= \"3.3\"->ipywidgets) (0.2.5)\n",
            "Requirement already satisfied: pandocfilters>=1.4.1 in /usr/local/lib/python3.7/dist-packages (from nbconvert->notebook>=4.4.1->widgetsnbextension~=3.5.0->ipywidgets) (1.4.3)\n",
            "Requirement already satisfied: testpath in /usr/local/lib/python3.7/dist-packages (from nbconvert->notebook>=4.4.1->widgetsnbextension~=3.5.0->ipywidgets) (0.4.4)\n",
            "Requirement already satisfied: bleach in /usr/local/lib/python3.7/dist-packages (from nbconvert->notebook>=4.4.1->widgetsnbextension~=3.5.0->ipywidgets) (3.3.0)\n",
            "Requirement already satisfied: mistune<2,>=0.8.1 in /usr/local/lib/python3.7/dist-packages (from nbconvert->notebook>=4.4.1->widgetsnbextension~=3.5.0->ipywidgets) (0.8.4)\n",
            "Requirement already satisfied: entrypoints>=0.2.2 in /usr/local/lib/python3.7/dist-packages (from nbconvert->notebook>=4.4.1->widgetsnbextension~=3.5.0->ipywidgets) (0.3)\n",
            "Requirement already satisfied: defusedxml in /usr/local/lib/python3.7/dist-packages (from nbconvert->notebook>=4.4.1->widgetsnbextension~=3.5.0->ipywidgets) (0.7.1)\n",
            "Requirement already satisfied: MarkupSafe>=0.23 in /usr/local/lib/python3.7/dist-packages (from jinja2->notebook>=4.4.1->widgetsnbextension~=3.5.0->ipywidgets) (1.1.1)\n",
            "Requirement already satisfied: packaging in /usr/local/lib/python3.7/dist-packages (from bleach->nbconvert->notebook>=4.4.1->widgetsnbextension~=3.5.0->ipywidgets) (20.9)\n",
            "Requirement already satisfied: webencodings in /usr/local/lib/python3.7/dist-packages (from bleach->nbconvert->notebook>=4.4.1->widgetsnbextension~=3.5.0->ipywidgets) (0.5.1)\n",
            "Requirement already satisfied: pyparsing>=2.0.2 in /usr/local/lib/python3.7/dist-packages (from packaging->bleach->nbconvert->notebook>=4.4.1->widgetsnbextension~=3.5.0->ipywidgets) (2.4.7)\n",
            "Enabling notebook extension jupyter-js-widgets/extension...\n",
            "      - Validating: \u001b[32mOK\u001b[0m\n"
          ],
          "name": "stdout"
        }
      ]
    },
    {
      "cell_type": "markdown",
      "metadata": {
        "id": "FUyMSS9Aj539"
      },
      "source": [
        "На крайний случай попробуем catboost"
      ]
    },
    {
      "cell_type": "code",
      "metadata": {
        "id": "9qcc0PHfvj9p",
        "colab": {
          "base_uri": "https://localhost:8080/"
        },
        "outputId": "15c53ea4-826a-4e06-a7b3-6365b72c8cf8"
      },
      "source": [
        "from catboost import Pool, CatBoostClassifier\n",
        "\n",
        "# initialize pool\n",
        "train_pool = Pool(\n",
        "                X_train_all,\n",
        "                y_train_le,\n",
        "                  )\n",
        "\n",
        "test_pool = Pool(\n",
        "                X_test_all,\n",
        "                y_test_le,\n",
        "                  )\n",
        "\n",
        "model = CatBoostClassifier(iterations = 500, \n",
        "                          depth = 4, \n",
        "                          learning_rate= 0.01, \n",
        "                          loss_function='MultiClass', \n",
        "                          verbose = 1,\n",
        "                           )\n",
        "#train the model\n",
        "model.fit(train_pool, verbose = 0)\n",
        "# make the prediction using the resulting model\n",
        "preds_le = model.predict(test_pool)\n",
        "preds = le.inverse_transform(preds_le)\n",
        "print('root MSE without fit hyperparameters for catboost on test: {}'.format(np.sqrt(mean_squared_error(preds, \n",
        "                                                                    y_test))))"
      ],
      "execution_count": 74,
      "outputs": [
        {
          "output_type": "stream",
          "text": [
            "root MSE without fit hyperparameters for catboost on test: 19.497838915623532\n"
          ],
          "name": "stdout"
        },
        {
          "output_type": "stream",
          "text": [
            "/usr/local/lib/python3.7/dist-packages/sklearn/preprocessing/_label.py:289: DataConversionWarning: A column-vector y was passed when a 1d array was expected. Please change the shape of y to (n_samples, ), for example using ravel().\n",
            "  y = column_or_1d(y, warn=True)\n"
          ],
          "name": "stderr"
        }
      ]
    },
    {
      "cell_type": "markdown",
      "metadata": {
        "id": "3ZXG-angkPn3"
      },
      "source": [
        "Попытки комбинировать признаки, которые удалось выделить вручную с чисто текстовыми признаками, которые получались в результате нормализации текста оказались не особо продуктивными. Возможно стоит настроить отельно два классификатора и построить среднии ответы на предсказаниях, грубо говоря сделать что-то вроде blending. Но это уже другая история!))\n"
      ]
    },
    {
      "cell_type": "code",
      "metadata": {
        "id": "0_E6rvlBUmgC"
      },
      "source": [
        ""
      ],
      "execution_count": null,
      "outputs": []
    }
  ]
}