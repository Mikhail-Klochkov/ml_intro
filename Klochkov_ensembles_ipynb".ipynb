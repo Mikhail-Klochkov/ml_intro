{
  "nbformat": 4,
  "nbformat_minor": 0,
  "metadata": {
    "colab": {
      "name": "Klochkov_ensembles.ipynb\"",
      "provenance": [],
      "collapsed_sections": [
        "gDoMva0Rktyz"
      ],
      "include_colab_link": true
    },
    "kernelspec": {
      "name": "python3",
      "display_name": "Python 3"
    }
  },
  "cells": [
    {
      "cell_type": "markdown",
      "metadata": {
        "id": "view-in-github",
        "colab_type": "text"
      },
      "source": [
        "<a href=\"https://colab.research.google.com/github/Mikhail-Klochkov/ml_intro/blob/master/Klochkov_ensembles_ipynb%22.ipynb\" target=\"_parent\"><img src=\"https://colab.research.google.com/assets/colab-badge.svg\" alt=\"Open In Colab\"/></a>"
      ]
    },
    {
      "cell_type": "markdown",
      "metadata": {
        "id": "EADmNKm_ucFI"
      },
      "source": [
        "## Homework"
      ]
    },
    {
      "cell_type": "code",
      "metadata": {
        "id": "wjurpt4KJmCh",
        "colab": {
          "base_uri": "https://localhost:8080/"
        },
        "outputId": "4eee4c46-7208-40cf-aa3f-244f1e357912"
      },
      "source": [
        "!wget --no-check-certificate 'https://docs.google.com/uc?export=download&id=1OKFSv2GpuUFDphO0r8LdM7bl6MAWwBfX' -O data.csv"
      ],
      "execution_count": 1,
      "outputs": [
        {
          "output_type": "stream",
          "text": [
            "--2021-04-11 17:13:08--  https://docs.google.com/uc?export=download&id=1OKFSv2GpuUFDphO0r8LdM7bl6MAWwBfX\n",
            "Resolving docs.google.com (docs.google.com)... 216.58.192.110, 2607:f8b0:4026:803::200e\n",
            "Connecting to docs.google.com (docs.google.com)|216.58.192.110|:443... connected.\n",
            "HTTP request sent, awaiting response... 302 Moved Temporarily\n",
            "Location: https://doc-04-ak-docs.googleusercontent.com/docs/securesc/ha0ro937gcuc7l7deffksulhg5h7mbp1/jq9icil9cbphlukns3rfl6crtd9689ne/1618161150000/03856158561714992485/*/1OKFSv2GpuUFDphO0r8LdM7bl6MAWwBfX?e=download [following]\n",
            "Warning: wildcards not supported in HTTP.\n",
            "--2021-04-11 17:13:09--  https://doc-04-ak-docs.googleusercontent.com/docs/securesc/ha0ro937gcuc7l7deffksulhg5h7mbp1/jq9icil9cbphlukns3rfl6crtd9689ne/1618161150000/03856158561714992485/*/1OKFSv2GpuUFDphO0r8LdM7bl6MAWwBfX?e=download\n",
            "Resolving doc-04-ak-docs.googleusercontent.com (doc-04-ak-docs.googleusercontent.com)... 216.58.192.97, 2607:f8b0:4026:803::2001\n",
            "Connecting to doc-04-ak-docs.googleusercontent.com (doc-04-ak-docs.googleusercontent.com)|216.58.192.97|:443... connected.\n",
            "HTTP request sent, awaiting response... 200 OK\n",
            "Length: unspecified [text/csv]\n",
            "Saving to: ‘data.csv’\n",
            "\n",
            "data.csv                [      <=>           ]  31.78M  21.8MB/s    in 1.5s    \n",
            "\n",
            "2021-04-11 17:13:12 (21.8 MB/s) - ‘data.csv’ saved [33322228]\n",
            "\n"
          ],
          "name": "stdout"
        }
      ]
    },
    {
      "cell_type": "markdown",
      "metadata": {
        "id": "UBAI5LS2xBSm"
      },
      "source": [
        "В этой домашней работе вы будете предсказывать стоимость домов по их характеристикам.\n",
        "\n",
        "Метрика качества: `RMSE`\n",
        "\n",
        "Оценивание:\n",
        "* Baseline - 2 балла\n",
        "* Feature Engineering - 2 балла\n",
        "* Model Selection - 3 балла\n",
        "* Ensemble v.1 - 3 балла\n",
        "* (*) Ensemble v.2 - дополнительно, 2 балла"
      ]
    },
    {
      "cell_type": "markdown",
      "metadata": {
        "id": "aBZhr_dw6HAn"
      },
      "source": [
        "### Описание датасета\n",
        "\n",
        "Короткое описание данных:\n",
        "```\n",
        "price: sale price (this is the target variable)\n",
        "id: transaction id\n",
        "timestamp: date of transaction\n",
        "full_sq: total area in square meters, including loggias, balconies and other non-residential areas\n",
        "life_sq: living area in square meters, excluding loggias, balconies and other non-residential areas\n",
        "floor: for apartments, floor of the building\n",
        "max_floor: number of floors in the building\n",
        "material: wall material\n",
        "build_year: year built\n",
        "num_room: number of living rooms\n",
        "kitch_sq: kitchen area\n",
        "state: apartment condition\n",
        "product_type: owner-occupier purchase or investment\n",
        "sub_area: name of the district\n",
        "\n",
        "The dataset also includes a collection of features about each property's surrounding neighbourhood, and some features that are constant across each sub area (known as a Raion). Most of the feature names are self explanatory, with the following notes. See below for a complete list.\n",
        "\n",
        "full_all: subarea population\n",
        "male_f, female_f: subarea population by gender\n",
        "young_*: population younger than working age\n",
        "work_*: working-age population\n",
        "ekder_*: retirement-age population\n",
        "n_m_{all|male|female}: population between n and m years old\n",
        "build_count_*: buildings in the subarea by construction type or year\n",
        "x_count_500: the number of x within 500m of the property\n",
        "x_part_500: the share of x within 500m of the property\n",
        "_sqm_: square meters\n",
        "cafe_count_d_price_p: number of cafes within d meters of the property that have an average bill under p RUB\n",
        "trc_: shopping malls\n",
        "prom_: industrial zones\n",
        "green_: green zones\n",
        "metro_: subway\n",
        "_avto_: distances by car\n",
        "mkad_: Moscow Circle Auto Road\n",
        "ttk_: Third Transport Ring\n",
        "sadovoe_: Garden Ring\n",
        "bulvar_ring_: Boulevard Ring\n",
        "kremlin_: City center\n",
        "zd_vokzaly_: Train station\n",
        "oil_chemistry_: Dirty industry\n",
        "ts_: Power plant\n",
        "```"
      ]
    },
    {
      "cell_type": "markdown",
      "metadata": {
        "id": "TOPtM_06uyqv"
      },
      "source": [
        "### Setup"
      ]
    },
    {
      "cell_type": "code",
      "metadata": {
        "id": "9TpHMcn3u0MV"
      },
      "source": [
        "import pandas as pd"
      ],
      "execution_count": 2,
      "outputs": []
    },
    {
      "cell_type": "code",
      "metadata": {
        "id": "-TLkVG3EwJzj"
      },
      "source": [
        "df = pd.read_csv(\"data.csv\", parse_dates=[\"timestamp\"], )"
      ],
      "execution_count": 11,
      "outputs": []
    },
    {
      "cell_type": "markdown",
      "metadata": {
        "id": "znjwH9_mx3fZ"
      },
      "source": [
        "Разделите имеющиеся у вас данные на обучающую и тестовую выборки. В качестве обучающей выборки возьмите первые 80% данных, последние 20% - тестовая выборка."
      ]
    },
    {
      "cell_type": "markdown",
      "metadata": {
        "id": "pL4dJJwZP86w"
      },
      "source": [
        "Возможно в ваших моделях вам придется указывать, какие колонки являются категориальными (например, в бустингах). Для упрощения предлагается разделить колонки по следующему принципу:\n",
        "```\n",
        "drop_columns = [\n",
        "    'id',           # May leak information\n",
        "    'timestamp',    # May leak information\n",
        "]\n",
        "cat_columns = [\n",
        "    'product_type',              #\n",
        "    'material',                  # Material of the wall\n",
        "    'state',                     # Satisfaction level\n",
        "    'sub_area',                  # District name\n",
        "    'culture_objects_top_25',    #\n",
        "    'thermal_power_plant_raion', #\n",
        "    'incineration_raion',        #\n",
        "    'oil_chemistry_raion',       #\n",
        "    'radiation_raion',           #\n",
        "    'railroad_terminal_raion',   #\n",
        "    'big_market_raion',          #\n",
        "    'nuclear_reactor_raion',     #\n",
        "    'detention_facility_raion',  #\n",
        "    'ID_metro',                  #\n",
        "    'ID_railroad_station_walk',  #\n",
        "    'ID_railroad_station_avto',  #\n",
        "    'water_1line',               #\n",
        "    'ID_big_road1',              #\n",
        "    'big_road1_1line',           #\n",
        "    'ID_big_road2',              #\n",
        "    'railroad_1line',            #\n",
        "    'ID_railroad_terminal',      #\n",
        "    'ID_bus_terminal',           #\n",
        "    'ecology',                   #\n",
        "]\n",
        "num_columns = list(set(df.columns).difference(set(cat_columns + drop_columns)))\n",
        "```"
      ]
    },
    {
      "cell_type": "code",
      "metadata": {
        "id": "VhP3d-Iz2Z12"
      },
      "source": [
        "drop_columns = [\n",
        "    'id',           # May leak information\n",
        "]\n",
        "cat_columns = [\n",
        "    'product_type',              #\n",
        "    'material',                  # Material of the wall\n",
        "    'state',                     # Satisfaction level\n",
        "    'sub_area',                  # District name\n",
        "    'culture_objects_top_25',    #\n",
        "    'thermal_power_plant_raion', #\n",
        "    'incineration_raion',        #\n",
        "    'oil_chemistry_raion',       #\n",
        "    'radiation_raion',           #\n",
        "    'railroad_terminal_raion',   #\n",
        "    'big_market_raion',          #\n",
        "    'nuclear_reactor_raion',     #\n",
        "    'detention_facility_raion',  #\n",
        "    'ID_metro',                  #\n",
        "    'ID_railroad_station_walk',  #\n",
        "    'ID_railroad_station_avto',  #\n",
        "    'water_1line',               #\n",
        "    'ID_big_road1',              #\n",
        "    'big_road1_1line',           #\n",
        "    'ID_big_road2',              #\n",
        "    'railroad_1line',            #\n",
        "    'ID_railroad_terminal',      #\n",
        "    'ID_bus_terminal',           #\n",
        "    'ecology',                   #\n",
        "]\n",
        "num_columns = list(set(df.columns).difference(set(cat_columns + drop_columns)))"
      ],
      "execution_count": 12,
      "outputs": []
    },
    {
      "cell_type": "code",
      "metadata": {
        "colab": {
          "base_uri": "https://localhost:8080/"
        },
        "id": "l1_Ek72S2fjC",
        "outputId": "bb1edcba-45f8-49a1-be86-c6c1c812f517"
      },
      "source": [
        "# -- we have categorical features and nums features -- #\n",
        "# -- Как оказывается в num_columns находяться не все численные признаки -- #\n",
        "\n",
        "print('Признаки не попавшие в num_columns: ')\n",
        "set(df.select_dtypes(np.number).columns.tolist()).difference(num_columns)"
      ],
      "execution_count": 13,
      "outputs": [
        {
          "output_type": "stream",
          "text": [
            "Признаки не попавшие в num_columns: \n"
          ],
          "name": "stdout"
        },
        {
          "output_type": "execute_result",
          "data": {
            "text/plain": [
              "{'ID_big_road1',\n",
              " 'ID_big_road2',\n",
              " 'ID_bus_terminal',\n",
              " 'ID_metro',\n",
              " 'ID_railroad_station_avto',\n",
              " 'ID_railroad_station_walk',\n",
              " 'ID_railroad_terminal',\n",
              " 'id',\n",
              " 'material',\n",
              " 'state'}"
            ]
          },
          "metadata": {
            "tags": []
          },
          "execution_count": 13
        }
      ]
    },
    {
      "cell_type": "code",
      "metadata": {
        "id": "JKswCMn8v6lM"
      },
      "source": [
        "df = df.drop(columns = drop_columns)"
      ],
      "execution_count": 14,
      "outputs": []
    },
    {
      "cell_type": "code",
      "metadata": {
        "colab": {
          "base_uri": "https://localhost:8080/"
        },
        "id": "WtL-N_JH7n_h",
        "outputId": "2c36dee8-58fb-4456-cb7d-ee7cf41ea5fa"
      },
      "source": [
        "print('X_train shape: {}'.format(X_train.shape[0]))\n",
        "print('X_test shape: {}'.format(X_test.shape[0]))\n"
      ],
      "execution_count": 15,
      "outputs": [
        {
          "output_type": "stream",
          "text": [
            "X_train shape: 16000\n",
            "X_test shape: 4000\n"
          ],
          "name": "stdout"
        }
      ]
    },
    {
      "cell_type": "markdown",
      "metadata": {
        "id": "oiOby6hNu92W"
      },
      "source": [
        "### Baseline (2 балла)\n",
        "\n",
        "В качестве Baseline обучите `DecisionTreeRegressor` из `sklearn`."
      ]
    },
    {
      "cell_type": "code",
      "metadata": {
        "id": "gJIDf3kn1Wfv"
      },
      "source": [
        "from sklearn.tree import DecisionTreeRegressor\n",
        "from sklearn.preprocessing import LabelEncoder"
      ],
      "execution_count": 16,
      "outputs": []
    },
    {
      "cell_type": "code",
      "metadata": {
        "id": "Lnx8TFZNpsl1"
      },
      "source": [
        ""
      ],
      "execution_count": null,
      "outputs": []
    },
    {
      "cell_type": "code",
      "metadata": {
        "id": "4qx8BE54pspP"
      },
      "source": [
        ""
      ],
      "execution_count": null,
      "outputs": []
    },
    {
      "cell_type": "markdown",
      "metadata": {
        "id": "n3NA96cn7d-A"
      },
      "source": [
        "Разделим на Train, test. Немного сделаем по своему, чтобы держать вместе весь датасет, просто перемешаем случайно наши данные и выбрем индекс по которому мы разобъём наш датасет."
      ]
    },
    {
      "cell_type": "code",
      "metadata": {
        "id": "ONWCgm0V7uj_"
      },
      "source": [
        "seed = 42"
      ],
      "execution_count": 17,
      "outputs": []
    },
    {
      "cell_type": "code",
      "metadata": {
        "colab": {
          "base_uri": "https://localhost:8080/"
        },
        "id": "oQAdAP6CplB7",
        "outputId": "ba3c5465-b958-4819-975b-f168a1fd5520"
      },
      "source": [
        "# -- we have very very big numbers Nan values in our dataset ~ 50 % от всех данных -- #\n",
        "# -- Обработка пропущенных значений -- #\n",
        "# -- Стратегия: выкинуть все те колонки, что имеют процентное число пропущенных значений больше 15 процентов -- #\n",
        "# -- Остальные missing values заполнить либо mode(категориальные), либо median (numeric) -- #\n",
        "\n",
        "df_shuffle = df.copy(deep = True)\n",
        "np.random.seed(seed)\n",
        "indexes = np.arange(df.shape[0])\n",
        "np.random.shuffle(indexes)\n",
        "df_shuffle = df.iloc[indexes, :]\n",
        "\n",
        "split_index = int(df_shuffle.shape[0]*0.8)\n",
        "print('split index: {}'.format(split_index))"
      ],
      "execution_count": 18,
      "outputs": [
        {
          "output_type": "stream",
          "text": [
            "split index: 16000\n"
          ],
          "name": "stdout"
        }
      ]
    },
    {
      "cell_type": "code",
      "metadata": {
        "id": "WEuLVE0T4y8z"
      },
      "source": [
        "from sklearn.impute import KNNImputer\n",
        "# -- Тут мы можем заполнять пропуски как обычным способом median, mode, а также как и Knn_imputer -- #\n",
        "# -- Также мы удаляем некоторые признаки, что имеют слишком много пропусков, обычно стоит обрабатывать пропуски, когда\n",
        "# -- Данных пропущенных не более 20-15 процентов, относительно всех данных в датасете -- #\n",
        "def impute_missed_values(df, \n",
        "                         percent = 15.,\n",
        "                         split_index = split_index,\n",
        "                         col_state: list = [],\n",
        "                         knn_impute = False,\n",
        "                         knn_type = 'uniform',\n",
        "                   ):\n",
        "  \"\"\"\n",
        "  take df, percent  - процентное соотношение пропущенных значений, которые мы выкидываем\n",
        "  col_state - колонки, которые мы хотим оставить!\n",
        "  производим примитивное заполнение данных в соответствии с модой и median для численных значений\n",
        "  split_index - it's индекс разделяющий [train, test] в df\n",
        "  \"\"\"\n",
        "  missing_values = df.isna().sum(axis = 0).sort_values(ascending = False)*100/df.shape[0]\n",
        "  drop_columns_big_miss = missing_values[(missing_values >= percent)].index.tolist()\n",
        "  missing_values  = missing_values[(missing_values < percent) & (missing_values > 0.)]  \n",
        "\n",
        "  df_ = df.copy(deep = True)\n",
        "  # -- drop columns которых нет в col_state(принудительно оставляем) -- #\n",
        "  for idx, col in enumerate(drop_columns_big_miss, 0):\n",
        "    if col not in set(col_state):\n",
        "      df_ = df_.drop(columns = [col])\n",
        "  \n",
        "  # -- impute missed values -- #\n",
        "  # -- Объеденить те колонки, что уже выбраны и те, что мы принудительно хотим видеть -- #\n",
        "  missing_values = missing_values.index.tolist() + col_state\n",
        "  assert(isinstance(missing_values, list))\n",
        "  for idx, col in enumerate(missing_values, 0):\n",
        "  # -- it's numerical data -- #\n",
        "    train_col = df_[col].iloc[:split_index]\n",
        "    # -- по обучающей выборке именно -- #\n",
        "    if(not knn_impute):\n",
        "      if((df_[col].dtype.__str__().find('float') != -1) or (df_[col].dtype.__str__().find('int') != -1)):\n",
        "        # -- use median -- #\n",
        "        df_[col].fillna(train_col.median(), inplace = True)\n",
        "      elif(df_[col].dtype.__str__().find('object') != -1):\n",
        "        # -- use mode[0] -- #\n",
        "        df_[col].fillna(train_col.mode()[0], inplace = True)\n",
        "      if(df_[col].isna().sum() != 0):\n",
        "        print('col : {} have : {} Nan object'.format(col, df_[col].isna().sum()))\n",
        "    else:\n",
        "      knn_imputer = KNNImputer(n_neighbors = 10, \n",
        "                               weights = knn_type)\n",
        "      # -- we should use train -- #\n",
        "      knn_imputer.fit(train_col.values[:, None])\n",
        "      df_[col] = knn_imputer.transform(df_[col].values[:, None])\n",
        "      print('col: {} type_columns : {}, num_miss_values: {}'.format(col, \n",
        "                                  df_[col].dtype, \n",
        "                                  df_[col].isna().sum(),\n",
        "                            ))\n",
        "  # -- check Nan obj -- #\n",
        "  assert(df_.isna().sum(axis = 0).sum() == 0)\n",
        "  return df_"
      ],
      "execution_count": 22,
      "outputs": []
    },
    {
      "cell_type": "code",
      "metadata": {
        "colab": {
          "base_uri": "https://localhost:8080/"
        },
        "id": "tvkKxbW_8hOf",
        "outputId": "b0fd2cc3-68f3-4922-bba7-a8d1d46cbc80"
      },
      "source": [
        "# -- Эти данные мы заполнили обычными медианами для численных признаков, и mode для категориальных -- #\n",
        "df_new = impute_missed_values(df_shuffle, percent = 20., \n",
        "                                   split_index = split_index,\n",
        "                                   col_state = ['kitch_sq', \n",
        "                                                'full_sq',\n",
        "                                                'max_floor'],\n",
        "                                  knn_impute = False,\n",
        "                                  )\n",
        "\n",
        "for idx, col in enumerate(df_new.select_dtypes('object').columns, 0):\n",
        "  df_new[col], what = pd.factorize(df_new[col])\n",
        "  print('col : {} size of unique: {}'.format(col, what.shape[0]))"
      ],
      "execution_count": 24,
      "outputs": [
        {
          "output_type": "stream",
          "text": [
            "col : product_type size of unique: 2\n",
            "col : sub_area size of unique: 146\n",
            "col : culture_objects_top_25 size of unique: 2\n",
            "col : thermal_power_plant_raion size of unique: 2\n",
            "col : incineration_raion size of unique: 2\n",
            "col : oil_chemistry_raion size of unique: 2\n",
            "col : radiation_raion size of unique: 2\n",
            "col : railroad_terminal_raion size of unique: 2\n",
            "col : big_market_raion size of unique: 2\n",
            "col : nuclear_reactor_raion size of unique: 2\n",
            "col : detention_facility_raion size of unique: 2\n",
            "col : water_1line size of unique: 2\n",
            "col : big_road1_1line size of unique: 2\n",
            "col : railroad_1line size of unique: 2\n",
            "col : ecology size of unique: 5\n"
          ],
          "name": "stdout"
        }
      ]
    },
    {
      "cell_type": "code",
      "metadata": {
        "id": "7MwWp7dQ8_qO"
      },
      "source": [
        "# -- Разделим и выделим X_train, X_test, y_train, y_test -- #\n",
        "target = 'price'\n",
        "df_train = df_new.iloc[:split_index, :]\n",
        "df_test = df_new.iloc[split_index:, :]\n",
        "\n",
        "X_train = df_train.drop(columns = [target])\n",
        "X_test = df_test.drop(columns = [target])\n",
        "\n",
        "y_train = df_train[target]\n",
        "y_test = df_test[target]"
      ],
      "execution_count": 29,
      "outputs": []
    },
    {
      "cell_type": "code",
      "metadata": {
        "colab": {
          "base_uri": "https://localhost:8080/"
        },
        "id": "PKJ0jJ9eRFT9",
        "outputId": "be5bf925-600c-4b9a-b10e-423ec8005309"
      },
      "source": [
        "# -- Запустим Baseline -- #\n",
        "# -- Обычным деревом должно быть переобучение -- #\n",
        "tree_regr = DecisionTreeRegressor(max_depth = 3)\n",
        "X_train = X_train.drop(columns = ['timestamp'])\n",
        "X_test = X_test.drop(columns = ['timestamp'])\n",
        "\n",
        "tree_regr.fit(X_train, y_train)"
      ],
      "execution_count": 30,
      "outputs": [
        {
          "output_type": "execute_result",
          "data": {
            "text/plain": [
              "DecisionTreeRegressor(ccp_alpha=0.0, criterion='mse', max_depth=3,\n",
              "                      max_features=None, max_leaf_nodes=None,\n",
              "                      min_impurity_decrease=0.0, min_impurity_split=None,\n",
              "                      min_samples_leaf=1, min_samples_split=2,\n",
              "                      min_weight_fraction_leaf=0.0, presort='deprecated',\n",
              "                      random_state=None, splitter='best')"
            ]
          },
          "metadata": {
            "tags": []
          },
          "execution_count": 30
        }
      ]
    },
    {
      "cell_type": "markdown",
      "metadata": {
        "id": "XUC7NFhw1X41"
      },
      "source": [
        "Проверьте качество на отложенной выборке."
      ]
    },
    {
      "cell_type": "code",
      "metadata": {
        "colab": {
          "base_uri": "https://localhost:8080/"
        },
        "id": "LGH2NSxcOWBE",
        "outputId": "f822538a-24eb-47f7-c9be-6e3530bd61d4"
      },
      "source": [
        "from sklearn.metrics import mean_squared_error\n",
        "y_pred = tree_regr.predict(X_test)\n",
        "y_pred_train = tree_regr.predict(X_train)\n",
        "\n",
        "print('[Test] Baseline mse: {:.2f}\\nroot_mse: {:.2f}'.format(mean_squared_error(y_pred, y_test),\n",
        "                                                       np.sqrt(mean_squared_error(y_pred, y_test))))\n",
        "\n",
        "print('[Train] Baseline mse: {:.2f}\\nroot_mse: {:.2f}'.format(mean_squared_error(y_pred_train, y_train),\n",
        "                                                       np.sqrt(mean_squared_error(y_pred_train, y_train))))"
      ],
      "execution_count": 31,
      "outputs": [
        {
          "output_type": "stream",
          "text": [
            "[Test] Baseline mse: 11357284218754.62\n",
            "root_mse: 3370057.01\n",
            "[Train] Baseline mse: 10449717436724.32\n",
            "root_mse: 3232602.27\n"
          ],
          "name": "stdout"
        }
      ]
    },
    {
      "cell_type": "code",
      "metadata": {
        "colab": {
          "base_uri": "https://localhost:8080/"
        },
        "id": "K-N4p5I2UCV0",
        "outputId": "7e153933-a1c0-4729-8df0-aaacbaca20e5"
      },
      "source": [
        "tree_regr"
      ],
      "execution_count": 32,
      "outputs": [
        {
          "output_type": "execute_result",
          "data": {
            "text/plain": [
              "DecisionTreeRegressor(ccp_alpha=0.0, criterion='mse', max_depth=3,\n",
              "                      max_features=None, max_leaf_nodes=None,\n",
              "                      min_impurity_decrease=0.0, min_impurity_split=None,\n",
              "                      min_samples_leaf=1, min_samples_split=2,\n",
              "                      min_weight_fraction_leaf=0.0, presort='deprecated',\n",
              "                      random_state=None, splitter='best')"
            ]
          },
          "metadata": {
            "tags": []
          },
          "execution_count": 32
        }
      ]
    },
    {
      "cell_type": "markdown",
      "metadata": {
        "id": "VemeTTaTUcOz"
      },
      "source": [
        "Попробуем в качестве baseline также перебрать всевозможные значения основных параметров алгоритма Decision Tree Regressor"
      ]
    },
    {
      "cell_type": "code",
      "metadata": {
        "id": "jq_7DEeDI61v"
      },
      "source": [
        "from sklearn.model_selection import RandomizedSearchCV, KFold"
      ],
      "execution_count": 33,
      "outputs": []
    },
    {
      "cell_type": "code",
      "metadata": {
        "colab": {
          "base_uri": "https://localhost:8080/"
        },
        "id": "6ZsRQ3gJTGRk",
        "outputId": "bf77b327-4a96-4830-91d0-50d0be21b7ed"
      },
      "source": [
        "from sklearn.model_selection import RandomizedSearchCV, KFold\n",
        "\n",
        "param_grid = {\n",
        "    'max_depth' : np.arange(2, 10, 2),\n",
        "    'min_samples_leaf': np.arange(2, 100, 5),\n",
        "}\n",
        "\n",
        "kf = KFold(5, shuffle = True)\n",
        "rs = RandomizedSearchCV(DecisionTreeRegressor(), \n",
        "                        param_distributions = param_grid,\n",
        "                        cv = kf, scoring = 'neg_mean_squared_error')\n",
        "\n",
        "rs.fit(X_train, y_train)\n"
      ],
      "execution_count": 34,
      "outputs": [
        {
          "output_type": "execute_result",
          "data": {
            "text/plain": [
              "RandomizedSearchCV(cv=KFold(n_splits=5, random_state=None, shuffle=True),\n",
              "                   error_score=nan,\n",
              "                   estimator=DecisionTreeRegressor(ccp_alpha=0.0,\n",
              "                                                   criterion='mse',\n",
              "                                                   max_depth=None,\n",
              "                                                   max_features=None,\n",
              "                                                   max_leaf_nodes=None,\n",
              "                                                   min_impurity_decrease=0.0,\n",
              "                                                   min_impurity_split=None,\n",
              "                                                   min_samples_leaf=1,\n",
              "                                                   min_samples_split=2,\n",
              "                                                   min_weight_fraction_leaf=0.0,\n",
              "                                                   presort='deprecated',\n",
              "                                                   random_state=None,\n",
              "                                                   splitter='best'),\n",
              "                   iid='deprecated', n_iter=10, n_jobs=None,\n",
              "                   param_distributions={'max_depth': array([2, 4, 6, 8]),\n",
              "                                        'min_samples_leaf': array([ 2,  7, 12, 17, 22, 27, 32, 37, 42, 47, 52, 57, 62, 67, 72, 77, 82,\n",
              "       87, 92, 97])},\n",
              "                   pre_dispatch='2*n_jobs', random_state=None, refit=True,\n",
              "                   return_train_score=False, scoring='neg_mean_squared_error',\n",
              "                   verbose=0)"
            ]
          },
          "metadata": {
            "tags": []
          },
          "execution_count": 34
        }
      ]
    },
    {
      "cell_type": "code",
      "metadata": {
        "colab": {
          "base_uri": "https://localhost:8080/"
        },
        "id": "YnOYyVvUUaGG",
        "outputId": "69cca87e-da0f-459e-9eb2-402294752566"
      },
      "source": [
        "print('Best Estimator: ')\n",
        "print(rs.best_estimator_)\n",
        "print('Best params: ')\n",
        "print(rs.best_params_)\n",
        "\n",
        "print('Best mse: ')\n",
        "print(-rs.best_score_)\n",
        "\n",
        "print('Best rootmse: ')\n",
        "print(np.sqrt(-rs.best_score_))\n"
      ],
      "execution_count": 35,
      "outputs": [
        {
          "output_type": "stream",
          "text": [
            "Best Estimator: \n",
            "DecisionTreeRegressor(ccp_alpha=0.0, criterion='mse', max_depth=8,\n",
            "                      max_features=None, max_leaf_nodes=None,\n",
            "                      min_impurity_decrease=0.0, min_impurity_split=None,\n",
            "                      min_samples_leaf=52, min_samples_split=2,\n",
            "                      min_weight_fraction_leaf=0.0, presort='deprecated',\n",
            "                      random_state=None, splitter='best')\n",
            "Best params: \n",
            "{'min_samples_leaf': 52, 'max_depth': 8}\n",
            "Best mse: \n",
            "8971432842165.441\n",
            "Best rootmse: \n",
            "2995235.022859716\n"
          ],
          "name": "stdout"
        }
      ]
    },
    {
      "cell_type": "code",
      "metadata": {
        "colab": {
          "base_uri": "https://localhost:8080/"
        },
        "id": "3VELVj1NAvhN",
        "outputId": "f92c1923-70b4-4246-fdc3-65ef265f2179"
      },
      "source": [
        "print('root MSE after fit hyperparameters for tree on test: {}'.format(np.sqrt(mean_squared_error(rs.best_estimator_.predict(X_test), \n",
        "                                                                    y_test))))"
      ],
      "execution_count": 36,
      "outputs": [
        {
          "output_type": "stream",
          "text": [
            "root MSE after fit hyperparameters for tree on test: 3046376.923874123\n"
          ],
          "name": "stdout"
        }
      ]
    },
    {
      "cell_type": "markdown",
      "metadata": {
        "id": "3bezBBI7u_oF"
      },
      "source": [
        "### Feature Engineering (2 балла)\n",
        "\n",
        "Часто улучшить модель можно с помощью аккуратного Feature Engineering.\n",
        "\n",
        "Добавим в модель дополнительные признаки:\n",
        "* \"Как часто в этот год и этот месяц появлились объявления\"\n",
        "* \"Как часто в этот год и эту неделю появлялись объявления\""
      ]
    },
    {
      "cell_type": "markdown",
      "metadata": {
        "id": "pCajk45_KDSz"
      },
      "source": [
        "Добавьте следюущие дополнительные признаки:\n",
        "* Месяц (из колонки `timestamp`)\n",
        "* День недели (из колонки `timestamp`)\n",
        "* Отношение \"этаж / максимальный этаж в здании\" (колонки `floor` и `max_floor`)\n",
        "* Отношение \"площадь кухни / площадь квартиры\" (колонки `kitchen_sq` и `full_sq`)\n",
        "\n",
        "По желанию можно добавить и другие признаки."
      ]
    },
    {
      "cell_type": "code",
      "metadata": {
        "id": "7m6L_FXk6mFu"
      },
      "source": [
        "# -- Важно сюда уже перемешанный датасет передать -- #\n",
        "df_new_wide = impute_missed_values(df_shuffle, percent = 20., \n",
        "                                   split_index = split_index,\n",
        "                                   col_state = ['kitch_sq', \n",
        "                                                'full_sq',\n",
        "                                                'max_floor'])"
      ],
      "execution_count": 53,
      "outputs": []
    },
    {
      "cell_type": "code",
      "metadata": {
        "colab": {
          "base_uri": "https://localhost:8080/"
        },
        "id": "LAwrrSCP_3uv",
        "outputId": "d56ccf7a-f6a4-4916-c65b-72f3e61efb50"
      },
      "source": [
        "# -- label_encoding for categorical features -- #\n",
        "for idx, col in enumerate(df_new_wide.select_dtypes('object').columns, 0):\n",
        "  df_new_wide[col], what = pd.factorize(df_new_wide[col])\n",
        "  print('col : {} size of unique: {}'.format(col, what.shape[0]))"
      ],
      "execution_count": 54,
      "outputs": [
        {
          "output_type": "stream",
          "text": [
            "col : product_type size of unique: 2\n",
            "col : sub_area size of unique: 146\n",
            "col : culture_objects_top_25 size of unique: 2\n",
            "col : thermal_power_plant_raion size of unique: 2\n",
            "col : incineration_raion size of unique: 2\n",
            "col : oil_chemistry_raion size of unique: 2\n",
            "col : radiation_raion size of unique: 2\n",
            "col : railroad_terminal_raion size of unique: 2\n",
            "col : big_market_raion size of unique: 2\n",
            "col : nuclear_reactor_raion size of unique: 2\n",
            "col : detention_facility_raion size of unique: 2\n",
            "col : water_1line size of unique: 2\n",
            "col : big_road1_1line size of unique: 2\n",
            "col : railroad_1line size of unique: 2\n",
            "col : ecology size of unique: 5\n"
          ],
          "name": "stdout"
        }
      ]
    },
    {
      "cell_type": "code",
      "metadata": {
        "colab": {
          "base_uri": "https://localhost:8080/"
        },
        "id": "XdN829Gr759u",
        "outputId": "facd2903-15ce-4058-ed6d-679bdd10a42e"
      },
      "source": [
        "month_year = (df_new_wide.timestamp.dt.month + df_new_wide.timestamp.dt.year * 100)\n",
        "month_year_cnt_map = month_year.value_counts().to_dict()\n",
        "df_new_wide[\"month_year_cnt\"] = month_year.map(month_year_cnt_map)\n",
        "\n",
        "week_year = (df_new_wide.timestamp.dt.weekofyear + df_new_wide.timestamp.dt.year * 100)\n",
        "week_year_cnt_map = week_year.value_counts().to_dict()\n",
        "df_new_wide[\"week_year_cnt\"] = week_year.map(week_year_cnt_map)"
      ],
      "execution_count": 55,
      "outputs": [
        {
          "output_type": "stream",
          "text": [
            "/usr/local/lib/python3.7/dist-packages/ipykernel_launcher.py:5: FutureWarning: Series.dt.weekofyear and Series.dt.week have been deprecated.  Please use Series.dt.isocalendar().week instead.\n",
            "  \"\"\"\n"
          ],
          "name": "stderr"
        }
      ]
    },
    {
      "cell_type": "code",
      "metadata": {
        "id": "dXZkoUL8Kve6"
      },
      "source": [
        "eps = 1\n",
        "df_new_wide['month'] = df_new_wide.timestamp.dt.month\n",
        "df_new_wide['day_of_week'] = df_new_wide.timestamp.dt.dayofweek\n",
        "df_new_wide['floor_maxfloor'] = df_new_wide.floor/(df_new_wide.max_floor + eps)\n",
        "df_new_wide['kitch_sq_full_sq'] = df_new_wide.kitch_sq/(df_new_wide.full_sq + eps)"
      ],
      "execution_count": 56,
      "outputs": []
    },
    {
      "cell_type": "code",
      "metadata": {
        "id": "orc8ehLh_guN"
      },
      "source": [
        "df_new_wide = df_new_wide.drop(columns = ['timestamp'])"
      ],
      "execution_count": 57,
      "outputs": []
    },
    {
      "cell_type": "code",
      "metadata": {
        "colab": {
          "base_uri": "https://localhost:8080/"
        },
        "id": "_3JBmvaz_uC8",
        "outputId": "5a2c816e-7808-42f7-e1af-2e106120187e"
      },
      "source": [
        "# -- проверка на наличие пропусков в данных -- #\n",
        "df_new_wide.isna().sum(axis = 0).sort_values(ascending = False).sum() == 0"
      ],
      "execution_count": 58,
      "outputs": [
        {
          "output_type": "execute_result",
          "data": {
            "text/plain": [
              "True"
            ]
          },
          "metadata": {
            "tags": []
          },
          "execution_count": 58
        }
      ]
    },
    {
      "cell_type": "markdown",
      "metadata": {
        "id": "eLKbt8PH-itr"
      },
      "source": [
        "Тут поиграемся с данными, которые мы заполним по KnnImputer."
      ]
    },
    {
      "cell_type": "code",
      "metadata": {
        "colab": {
          "base_uri": "https://localhost:8080/"
        },
        "id": "EENI14mW2NZa",
        "outputId": "46e0ef75-9cc0-4c49-873d-753adcde0a34"
      },
      "source": [
        "df_new_wide_knn = impute_missed_values(df_shuffle, percent = 20., \n",
        "                                   split_index = split_index,\n",
        "                                   col_state = ['kitch_sq', \n",
        "                                                'full_sq',\n",
        "                                                'max_floor'],\n",
        "                                  knn_impute = True,\n",
        "                                  knn_type = 'uniform',\n",
        "                                  )"
      ],
      "execution_count": 43,
      "outputs": [
        {
          "output_type": "stream",
          "text": [
            "col: build_count_frame type_columns : float64, num_miss_values: 0\n",
            "col: build_count_after_1995 type_columns : float64, num_miss_values: 0\n",
            "col: build_count_wood type_columns : float64, num_miss_values: 0\n",
            "col: build_count_block type_columns : float64, num_miss_values: 0\n",
            "col: raion_build_count_with_material_info type_columns : float64, num_miss_values: 0\n",
            "col: build_count_panel type_columns : float64, num_miss_values: 0\n",
            "col: build_count_monolith type_columns : float64, num_miss_values: 0\n",
            "col: build_count_brick type_columns : float64, num_miss_values: 0\n",
            "col: build_count_before_1920 type_columns : float64, num_miss_values: 0\n",
            "col: build_count_mix type_columns : float64, num_miss_values: 0\n",
            "col: build_count_1921-1945 type_columns : float64, num_miss_values: 0\n",
            "col: build_count_foam type_columns : float64, num_miss_values: 0\n",
            "col: build_count_1946-1970 type_columns : float64, num_miss_values: 0\n",
            "col: raion_build_count_with_builddate_info type_columns : float64, num_miss_values: 0\n",
            "col: build_count_slag type_columns : float64, num_miss_values: 0\n",
            "col: build_count_1971-1995 type_columns : float64, num_miss_values: 0\n",
            "col: cafe_avg_price_1500 type_columns : float64, num_miss_values: 0\n",
            "col: cafe_sum_1500_max_price_avg type_columns : float64, num_miss_values: 0\n",
            "col: cafe_sum_1500_min_price_avg type_columns : float64, num_miss_values: 0\n",
            "col: cafe_avg_price_2000 type_columns : float64, num_miss_values: 0\n",
            "col: cafe_sum_2000_max_price_avg type_columns : float64, num_miss_values: 0\n",
            "col: cafe_sum_2000_min_price_avg type_columns : float64, num_miss_values: 0\n",
            "col: cafe_avg_price_3000 type_columns : float64, num_miss_values: 0\n",
            "col: cafe_sum_3000_max_price_avg type_columns : float64, num_miss_values: 0\n",
            "col: cafe_sum_3000_min_price_avg type_columns : float64, num_miss_values: 0\n",
            "col: cafe_avg_price_5000 type_columns : float64, num_miss_values: 0\n",
            "col: cafe_sum_5000_min_price_avg type_columns : float64, num_miss_values: 0\n",
            "col: cafe_sum_5000_max_price_avg type_columns : float64, num_miss_values: 0\n",
            "col: prom_part_5000 type_columns : float64, num_miss_values: 0\n",
            "col: floor type_columns : float64, num_miss_values: 0\n",
            "col: metro_km_walk type_columns : float64, num_miss_values: 0\n",
            "col: railroad_station_walk_km type_columns : float64, num_miss_values: 0\n",
            "col: metro_min_walk type_columns : float64, num_miss_values: 0\n",
            "col: ID_railroad_station_walk type_columns : float64, num_miss_values: 0\n",
            "col: railroad_station_walk_min type_columns : float64, num_miss_values: 0\n",
            "col: kitch_sq type_columns : float64, num_miss_values: 0\n",
            "col: full_sq type_columns : float64, num_miss_values: 0\n",
            "col: max_floor type_columns : float64, num_miss_values: 0\n"
          ],
          "name": "stdout"
        }
      ]
    },
    {
      "cell_type": "code",
      "metadata": {
        "colab": {
          "base_uri": "https://localhost:8080/"
        },
        "id": "wpqELwdO3kQ4",
        "outputId": "240dc28c-cd81-4d06-d6f2-f719a39cecf5"
      },
      "source": [
        "for idx, col in enumerate(df_new_wide_knn.select_dtypes('object').columns, 0):\n",
        "  df_new_wide_knn[col], what = pd.factorize(df_new_wide_knn[col])\n",
        "  print('col : {} size of unique: {}'.format(col, what.shape[0]))"
      ],
      "execution_count": 44,
      "outputs": [
        {
          "output_type": "stream",
          "text": [
            "col : product_type size of unique: 2\n",
            "col : sub_area size of unique: 146\n",
            "col : culture_objects_top_25 size of unique: 2\n",
            "col : thermal_power_plant_raion size of unique: 2\n",
            "col : incineration_raion size of unique: 2\n",
            "col : oil_chemistry_raion size of unique: 2\n",
            "col : radiation_raion size of unique: 2\n",
            "col : railroad_terminal_raion size of unique: 2\n",
            "col : big_market_raion size of unique: 2\n",
            "col : nuclear_reactor_raion size of unique: 2\n",
            "col : detention_facility_raion size of unique: 2\n",
            "col : water_1line size of unique: 2\n",
            "col : big_road1_1line size of unique: 2\n",
            "col : railroad_1line size of unique: 2\n",
            "col : ecology size of unique: 5\n"
          ],
          "name": "stdout"
        }
      ]
    },
    {
      "cell_type": "markdown",
      "metadata": {
        "id": "GbzboaCM_AC1"
      },
      "source": [
        "Тоже самое, только для данных заполненные с помощью KNNImputer"
      ]
    },
    {
      "cell_type": "code",
      "metadata": {
        "colab": {
          "base_uri": "https://localhost:8080/"
        },
        "id": "79-e5PKA--wq",
        "outputId": "3cb68040-ab46-4d83-884e-b7236d830dff"
      },
      "source": [
        "month_year = (df_new_wide_knn.timestamp.dt.month + df_new_wide_knn.timestamp.dt.year * 100)\n",
        "month_year_cnt_map = month_year.value_counts().to_dict()\n",
        "df_new_wide_knn[\"month_year_cnt\"] = month_year.map(month_year_cnt_map)\n",
        "\n",
        "week_year = (df_new_wide_knn.timestamp.dt.weekofyear + df_new_wide_knn.timestamp.dt.year * 100)\n",
        "week_year_cnt_map = week_year.value_counts().to_dict()\n",
        "df_new_wide_knn[\"week_year_cnt\"] = week_year.map(week_year_cnt_map)"
      ],
      "execution_count": 46,
      "outputs": [
        {
          "output_type": "stream",
          "text": [
            "/usr/local/lib/python3.7/dist-packages/ipykernel_launcher.py:5: FutureWarning: Series.dt.weekofyear and Series.dt.week have been deprecated.  Please use Series.dt.isocalendar().week instead.\n",
            "  \"\"\"\n"
          ],
          "name": "stderr"
        }
      ]
    },
    {
      "cell_type": "code",
      "metadata": {
        "id": "wiPx8P-o--wr"
      },
      "source": [
        "eps = 1\n",
        "df_new_wide_knn['month'] = df_new_wide_knn.timestamp.dt.month\n",
        "df_new_wide_knn['day_of_week'] = df_new_wide_knn.timestamp.dt.dayofweek\n",
        "df_new_wide_knn['floor_maxfloor'] = df_new_wide_knn.floor/(df_new_wide_knn.max_floor + eps)\n",
        "df_new_wide_knn['kitch_sq_full_sq'] = df_new_wide_knn.kitch_sq/(df_new_wide_knn.full_sq + eps)"
      ],
      "execution_count": 47,
      "outputs": []
    },
    {
      "cell_type": "code",
      "metadata": {
        "id": "-GSBcPcf--wr"
      },
      "source": [
        "df_new_wide_knn = df_new_wide_knn.drop(columns = ['timestamp'])"
      ],
      "execution_count": 49,
      "outputs": []
    },
    {
      "cell_type": "code",
      "metadata": {
        "colab": {
          "base_uri": "https://localhost:8080/"
        },
        "id": "MNMFo5x5--wr",
        "outputId": "eb9c4265-d3e0-44fd-b4a2-78f248d84367"
      },
      "source": [
        "# -- проверка на наличие пропусков в данных -- #\n",
        "df_new_wide_knn.isna().sum(axis = 0).sort_values(ascending = False).sum() == 0"
      ],
      "execution_count": 50,
      "outputs": [
        {
          "output_type": "execute_result",
          "data": {
            "text/plain": [
              "True"
            ]
          },
          "metadata": {
            "tags": []
          },
          "execution_count": 50
        }
      ]
    },
    {
      "cell_type": "markdown",
      "metadata": {
        "id": "_-jCowvWLiXZ"
      },
      "source": [
        "Разделите выборку на обучающую и тестовую еще раз (потому что дополнительные признаки созданы для исходной выборки)."
      ]
    },
    {
      "cell_type": "code",
      "metadata": {
        "id": "0f-vO3LcLhdf"
      },
      "source": [
        "# -- разделить выборку ещё раз по split_index -- #\n",
        "def split_dataset(df, \n",
        "                  split_index: int = split_index, \n",
        "                  target : str = None):\n",
        "  \"\"\"\n",
        "  Разделяет датасет по индексу и возвращает X_train, X_test, y_train, y_test\n",
        "  \"\"\"\n",
        "  df_train = df.iloc[:split_index, :]\n",
        "  df_test = df.iloc[split_index:, :]\n",
        "\n",
        "  X_train = df_train.drop(columns = [target])\n",
        "  X_test = df_test.drop(columns = [target])\n",
        "\n",
        "  y_train = df_train[target]\n",
        "  y_test = df_test[target]\n",
        "\n",
        "  return [X_train, X_test, y_train, y_test]\n",
        "\n",
        "\n",
        "X_train, X_test, y_train, y_test = split_dataset(df_new_wide, \n",
        "                                                 split_index, \n",
        "                                                 target = 'price')"
      ],
      "execution_count": 59,
      "outputs": []
    },
    {
      "cell_type": "markdown",
      "metadata": {
        "id": "CPtzkpFEvBw9"
      },
      "source": [
        "### Model Selection (3 балла)\n",
        "\n",
        "Посмотрите, какого качества можно добиться если использовать разные модели:\n",
        "* `DecisionTreeRegressor` из `sklearn`\n",
        "* `RandomForestRegressor` из `sklearn`\n",
        "* `CatBoostRegressor`\n",
        "\n",
        "Также вы можете попробовать линейные модели, другие бустинги (`LigthGBM` и `XGBoost`).\n",
        "\n",
        "Почти все библиотеки поддерживают удобный способ подбора гиперпараметров: посмотрите как это делать в [sklearn](https://scikit-learn.org/stable/modules/generated/sklearn.model_selection.GridSearchCV.html) или в [catboost](https://catboost.ai/docs/concepts/python-reference_catboostregressor_grid_search.html).\n",
        "\n",
        "Проверяйте качество каждой модели на тестовой выборке и выберите наилучшую."
      ]
    },
    {
      "cell_type": "code",
      "metadata": {
        "id": "PZstXx6uNRfE",
        "colab": {
          "base_uri": "https://localhost:8080/"
        },
        "outputId": "156b1cae-7170-4706-d5bc-073b4f2829d0"
      },
      "source": [
        "\n",
        "# -- Все модели по подбираем по cv -- #\n",
        "\n",
        "param_grid = {\n",
        "    'max_depth' : np.arange(2, 10, 2),\n",
        "    'min_samples_leaf': np.arange(2, 100, 5),\n",
        "}\n",
        "\n",
        "kf = KFold(5, shuffle = True)\n",
        "rs_tree = RandomizedSearchCV(DecisionTreeRegressor(), \n",
        "                        param_distributions = param_grid,\n",
        "                        cv = kf, scoring = 'neg_mean_squared_error')\n",
        "\n",
        "rs_tree.fit(X_train, y_train)"
      ],
      "execution_count": 60,
      "outputs": [
        {
          "output_type": "execute_result",
          "data": {
            "text/plain": [
              "RandomizedSearchCV(cv=KFold(n_splits=5, random_state=None, shuffle=True),\n",
              "                   error_score=nan,\n",
              "                   estimator=DecisionTreeRegressor(ccp_alpha=0.0,\n",
              "                                                   criterion='mse',\n",
              "                                                   max_depth=None,\n",
              "                                                   max_features=None,\n",
              "                                                   max_leaf_nodes=None,\n",
              "                                                   min_impurity_decrease=0.0,\n",
              "                                                   min_impurity_split=None,\n",
              "                                                   min_samples_leaf=1,\n",
              "                                                   min_samples_split=2,\n",
              "                                                   min_weight_fraction_leaf=0.0,\n",
              "                                                   presort='deprecated',\n",
              "                                                   random_state=None,\n",
              "                                                   splitter='best'),\n",
              "                   iid='deprecated', n_iter=10, n_jobs=None,\n",
              "                   param_distributions={'max_depth': array([2, 4, 6, 8]),\n",
              "                                        'min_samples_leaf': array([ 2,  7, 12, 17, 22, 27, 32, 37, 42, 47, 52, 57, 62, 67, 72, 77, 82,\n",
              "       87, 92, 97])},\n",
              "                   pre_dispatch='2*n_jobs', random_state=None, refit=True,\n",
              "                   return_train_score=False, scoring='neg_mean_squared_error',\n",
              "                   verbose=0)"
            ]
          },
          "metadata": {
            "tags": []
          },
          "execution_count": 60
        }
      ]
    },
    {
      "cell_type": "code",
      "metadata": {
        "colab": {
          "base_uri": "https://localhost:8080/"
        },
        "id": "0dl4Q5jq-mG1",
        "outputId": "9844ef27-cbb0-4893-eea5-efe46452864a"
      },
      "source": [
        "print('Best Estimator: ')\n",
        "print(rs_tree.best_estimator_)\n",
        "print('Best params: ')\n",
        "print(rs_tree.best_params_)\n",
        "\n",
        "print('Best mse: ')\n",
        "print(-rs_tree.best_score_)\n",
        "\n",
        "print('Best rootmse: ')\n",
        "print(np.sqrt(-rs_tree.best_score_))\n"
      ],
      "execution_count": 35,
      "outputs": [
        {
          "output_type": "stream",
          "text": [
            "Best Estimator: \n",
            "DecisionTreeRegressor(ccp_alpha=0.0, criterion='mse', max_depth=8,\n",
            "                      max_features=None, max_leaf_nodes=None,\n",
            "                      min_impurity_decrease=0.0, min_impurity_split=None,\n",
            "                      min_samples_leaf=77, min_samples_split=2,\n",
            "                      min_weight_fraction_leaf=0.0, presort='deprecated',\n",
            "                      random_state=None, splitter='best')\n",
            "Best params: \n",
            "{'min_samples_leaf': 77, 'max_depth': 8}\n",
            "Best mse: \n",
            "9099453779304.14\n",
            "Best rootmse: \n",
            "3016530.089242297\n"
          ],
          "name": "stdout"
        }
      ]
    },
    {
      "cell_type": "code",
      "metadata": {
        "colab": {
          "base_uri": "https://localhost:8080/"
        },
        "id": "peWCysrhByDe",
        "outputId": "25cc613a-b592-43fa-b3ca-df1f72b9aad9"
      },
      "source": [
        "print('root MSE after fit hyperparameters for tree on test: {}'.format(np.sqrt(mean_squared_error(rs_tree.best_estimator_.predict(X_test), \n",
        "                                                                    y_test))))"
      ],
      "execution_count": 61,
      "outputs": [
        {
          "output_type": "stream",
          "text": [
            "root MSE after fit hyperparameters for tree on test: 3030596.9621467963\n"
          ],
          "name": "stdout"
        }
      ]
    },
    {
      "cell_type": "code",
      "metadata": {
        "colab": {
          "base_uri": "https://localhost:8080/"
        },
        "id": "Mh2ATC62CM8F",
        "outputId": "2e5b7d46-639d-4a1f-e22b-30fd3d89259e"
      },
      "source": [
        "from sklearn.ensemble import RandomForestRegressor\n",
        "RandomForestRegressor()"
      ],
      "execution_count": 62,
      "outputs": [
        {
          "output_type": "execute_result",
          "data": {
            "text/plain": [
              "RandomForestRegressor(bootstrap=True, ccp_alpha=0.0, criterion='mse',\n",
              "                      max_depth=None, max_features='auto', max_leaf_nodes=None,\n",
              "                      max_samples=None, min_impurity_decrease=0.0,\n",
              "                      min_impurity_split=None, min_samples_leaf=1,\n",
              "                      min_samples_split=2, min_weight_fraction_leaf=0.0,\n",
              "                      n_estimators=100, n_jobs=None, oob_score=False,\n",
              "                      random_state=None, verbose=0, warm_start=False)"
            ]
          },
          "metadata": {
            "tags": []
          },
          "execution_count": 62
        }
      ]
    },
    {
      "cell_type": "code",
      "metadata": {
        "colab": {
          "base_uri": "https://localhost:8080/"
        },
        "id": "2gJAaV2vB-CP",
        "outputId": "dd588bb4-31f6-409e-f845-8c69d54cd6fc"
      },
      "source": [
        "from sklearn.ensemble import RandomForestRegressor\n",
        "\n",
        "param_grid = {\n",
        "    'n_estimators' : np.arange(50, 301, 50),\n",
        "    'max_depth' : np.arange(2, 7, 2),\n",
        "    'min_samples_leaf': np.arange(2, 100, 20),\n",
        "    'max_features' : ['auto', 'sqrt', 'log2'],\n",
        "}\n",
        "num_samples = 7\n",
        "kf = KFold(5, shuffle = True)\n",
        "rs_tree = RandomizedSearchCV(RandomForestRegressor(), \n",
        "                        param_distributions = param_grid,\n",
        "                        cv = kf, scoring = 'neg_mean_squared_error',\n",
        "                        n_iter = num_samples)\n",
        "\n",
        "rs_tree.fit(X_train, y_train)"
      ],
      "execution_count": 38,
      "outputs": [
        {
          "output_type": "execute_result",
          "data": {
            "text/plain": [
              "RandomizedSearchCV(cv=KFold(n_splits=5, random_state=None, shuffle=True),\n",
              "                   error_score=nan,\n",
              "                   estimator=RandomForestRegressor(bootstrap=True,\n",
              "                                                   ccp_alpha=0.0,\n",
              "                                                   criterion='mse',\n",
              "                                                   max_depth=None,\n",
              "                                                   max_features='auto',\n",
              "                                                   max_leaf_nodes=None,\n",
              "                                                   max_samples=None,\n",
              "                                                   min_impurity_decrease=0.0,\n",
              "                                                   min_impurity_split=None,\n",
              "                                                   min_samples_leaf=1,\n",
              "                                                   min_samples_split=2,\n",
              "                                                   min_weight_fraction_leaf=...\n",
              "                                                   warm_start=False),\n",
              "                   iid='deprecated', n_iter=7, n_jobs=None,\n",
              "                   param_distributions={'max_depth': array([2, 4, 6]),\n",
              "                                        'max_features': ['auto', 'sqrt',\n",
              "                                                         'log2'],\n",
              "                                        'min_samples_leaf': array([ 2, 22, 42, 62, 82]),\n",
              "                                        'n_estimators': array([ 50, 100, 150, 200, 250, 300])},\n",
              "                   pre_dispatch='2*n_jobs', random_state=None, refit=True,\n",
              "                   return_train_score=False, scoring='neg_mean_squared_error',\n",
              "                   verbose=0)"
            ]
          },
          "metadata": {
            "tags": []
          },
          "execution_count": 38
        }
      ]
    },
    {
      "cell_type": "code",
      "metadata": {
        "colab": {
          "base_uri": "https://localhost:8080/"
        },
        "id": "UFKZIbZDDV47",
        "outputId": "4decd504-e6e0-4e71-e6f9-3562c857b558"
      },
      "source": [
        "print('Best Estimator: ')\n",
        "print(rs_tree.best_estimator_)\n",
        "print('Best params: ')\n",
        "print(rs_tree.best_params_)\n",
        "\n",
        "print('Best mse: ')\n",
        "print(-rs_tree.best_score_)\n",
        "\n",
        "print('Best rootmse: ')\n",
        "print(np.sqrt(-rs_tree.best_score_))"
      ],
      "execution_count": 39,
      "outputs": [
        {
          "output_type": "stream",
          "text": [
            "Best Estimator: \n",
            "RandomForestRegressor(bootstrap=True, ccp_alpha=0.0, criterion='mse',\n",
            "                      max_depth=6, max_features='auto', max_leaf_nodes=None,\n",
            "                      max_samples=None, min_impurity_decrease=0.0,\n",
            "                      min_impurity_split=None, min_samples_leaf=22,\n",
            "                      min_samples_split=2, min_weight_fraction_leaf=0.0,\n",
            "                      n_estimators=150, n_jobs=None, oob_score=False,\n",
            "                      random_state=None, verbose=0, warm_start=False)\n",
            "Best params: \n",
            "{'n_estimators': 150, 'min_samples_leaf': 22, 'max_features': 'auto', 'max_depth': 6}\n",
            "Best mse: \n",
            "8065017796374.308\n",
            "Best rootmse: \n",
            "2839897.497511892\n"
          ],
          "name": "stdout"
        }
      ]
    },
    {
      "cell_type": "code",
      "metadata": {
        "colab": {
          "base_uri": "https://localhost:8080/"
        },
        "id": "8ATSOr_5F8Sc",
        "outputId": "81b3a6c6-a052-4bbd-f0e3-ad83e5059b20"
      },
      "source": [
        "print('root MSE after fit hyperparameters for randomforest on test: {}'.format(np.sqrt(mean_squared_error(rs_tree.best_estimator_.predict(X_test), \n",
        "                                                                    y_test))))"
      ],
      "execution_count": 40,
      "outputs": [
        {
          "output_type": "stream",
          "text": [
            "root MSE after fit hyperparameters for randomforest on test: 2829061.509356823\n"
          ],
          "name": "stdout"
        }
      ]
    },
    {
      "cell_type": "code",
      "metadata": {
        "colab": {
          "base_uri": "https://localhost:8080/"
        },
        "id": "fFqDXFU7Htkf",
        "outputId": "da2cfee9-7103-400e-e59f-cb7c76b97372"
      },
      "source": [
        "!pip install catboost\n",
        "!pip install ipywidgets\n",
        "!jupyter nbextension enable --py widgetsnbextension"
      ],
      "execution_count": 64,
      "outputs": [
        {
          "output_type": "stream",
          "text": [
            "Collecting catboost\n",
            "\u001b[?25l  Downloading https://files.pythonhosted.org/packages/47/80/8e9c57ec32dfed6ba2922bc5c96462cbf8596ce1a6f5de532ad1e43e53fe/catboost-0.25.1-cp37-none-manylinux1_x86_64.whl (67.3MB)\n",
            "\u001b[K     |████████████████████████████████| 67.3MB 56kB/s \n",
            "\u001b[?25hRequirement already satisfied: matplotlib in /usr/local/lib/python3.7/dist-packages (from catboost) (3.2.2)\n",
            "Requirement already satisfied: numpy>=1.16.0 in /usr/local/lib/python3.7/dist-packages (from catboost) (1.19.5)\n",
            "Requirement already satisfied: six in /usr/local/lib/python3.7/dist-packages (from catboost) (1.15.0)\n",
            "Requirement already satisfied: graphviz in /usr/local/lib/python3.7/dist-packages (from catboost) (0.10.1)\n",
            "Requirement already satisfied: plotly in /usr/local/lib/python3.7/dist-packages (from catboost) (4.4.1)\n",
            "Requirement already satisfied: pandas>=0.24.0 in /usr/local/lib/python3.7/dist-packages (from catboost) (1.1.5)\n",
            "Requirement already satisfied: scipy in /usr/local/lib/python3.7/dist-packages (from catboost) (1.4.1)\n",
            "Requirement already satisfied: kiwisolver>=1.0.1 in /usr/local/lib/python3.7/dist-packages (from matplotlib->catboost) (1.3.1)\n",
            "Requirement already satisfied: python-dateutil>=2.1 in /usr/local/lib/python3.7/dist-packages (from matplotlib->catboost) (2.8.1)\n",
            "Requirement already satisfied: pyparsing!=2.0.4,!=2.1.2,!=2.1.6,>=2.0.1 in /usr/local/lib/python3.7/dist-packages (from matplotlib->catboost) (2.4.7)\n",
            "Requirement already satisfied: cycler>=0.10 in /usr/local/lib/python3.7/dist-packages (from matplotlib->catboost) (0.10.0)\n",
            "Requirement already satisfied: retrying>=1.3.3 in /usr/local/lib/python3.7/dist-packages (from plotly->catboost) (1.3.3)\n",
            "Requirement already satisfied: pytz>=2017.2 in /usr/local/lib/python3.7/dist-packages (from pandas>=0.24.0->catboost) (2018.9)\n",
            "Installing collected packages: catboost\n",
            "Successfully installed catboost-0.25.1\n",
            "Requirement already satisfied: ipywidgets in /usr/local/lib/python3.7/dist-packages (7.6.3)\n",
            "Requirement already satisfied: ipykernel>=4.5.1 in /usr/local/lib/python3.7/dist-packages (from ipywidgets) (4.10.1)\n",
            "Requirement already satisfied: nbformat>=4.2.0 in /usr/local/lib/python3.7/dist-packages (from ipywidgets) (5.1.2)\n",
            "Requirement already satisfied: widgetsnbextension~=3.5.0 in /usr/local/lib/python3.7/dist-packages (from ipywidgets) (3.5.1)\n",
            "Requirement already satisfied: ipython>=4.0.0; python_version >= \"3.3\" in /usr/local/lib/python3.7/dist-packages (from ipywidgets) (5.5.0)\n",
            "Requirement already satisfied: jupyterlab-widgets>=1.0.0; python_version >= \"3.6\" in /usr/local/lib/python3.7/dist-packages (from ipywidgets) (1.0.0)\n",
            "Requirement already satisfied: traitlets>=4.3.1 in /usr/local/lib/python3.7/dist-packages (from ipywidgets) (5.0.5)\n",
            "Requirement already satisfied: tornado>=4.0 in /usr/local/lib/python3.7/dist-packages (from ipykernel>=4.5.1->ipywidgets) (5.1.1)\n",
            "Requirement already satisfied: jupyter-client in /usr/local/lib/python3.7/dist-packages (from ipykernel>=4.5.1->ipywidgets) (5.3.5)\n",
            "Requirement already satisfied: jupyter-core in /usr/local/lib/python3.7/dist-packages (from nbformat>=4.2.0->ipywidgets) (4.7.1)\n",
            "Requirement already satisfied: jsonschema!=2.5.0,>=2.4 in /usr/local/lib/python3.7/dist-packages (from nbformat>=4.2.0->ipywidgets) (2.6.0)\n",
            "Requirement already satisfied: ipython-genutils in /usr/local/lib/python3.7/dist-packages (from nbformat>=4.2.0->ipywidgets) (0.2.0)\n",
            "Requirement already satisfied: notebook>=4.4.1 in /usr/local/lib/python3.7/dist-packages (from widgetsnbextension~=3.5.0->ipywidgets) (5.3.1)\n",
            "Requirement already satisfied: prompt-toolkit<2.0.0,>=1.0.4 in /usr/local/lib/python3.7/dist-packages (from ipython>=4.0.0; python_version >= \"3.3\"->ipywidgets) (1.0.18)\n",
            "Requirement already satisfied: pexpect; sys_platform != \"win32\" in /usr/local/lib/python3.7/dist-packages (from ipython>=4.0.0; python_version >= \"3.3\"->ipywidgets) (4.8.0)\n",
            "Requirement already satisfied: simplegeneric>0.8 in /usr/local/lib/python3.7/dist-packages (from ipython>=4.0.0; python_version >= \"3.3\"->ipywidgets) (0.8.1)\n",
            "Requirement already satisfied: pickleshare in /usr/local/lib/python3.7/dist-packages (from ipython>=4.0.0; python_version >= \"3.3\"->ipywidgets) (0.7.5)\n",
            "Requirement already satisfied: setuptools>=18.5 in /usr/local/lib/python3.7/dist-packages (from ipython>=4.0.0; python_version >= \"3.3\"->ipywidgets) (54.2.0)\n",
            "Requirement already satisfied: decorator in /usr/local/lib/python3.7/dist-packages (from ipython>=4.0.0; python_version >= \"3.3\"->ipywidgets) (4.4.2)\n",
            "Requirement already satisfied: pygments in /usr/local/lib/python3.7/dist-packages (from ipython>=4.0.0; python_version >= \"3.3\"->ipywidgets) (2.6.1)\n",
            "Requirement already satisfied: pyzmq>=13 in /usr/local/lib/python3.7/dist-packages (from jupyter-client->ipykernel>=4.5.1->ipywidgets) (22.0.3)\n",
            "Requirement already satisfied: python-dateutil>=2.1 in /usr/local/lib/python3.7/dist-packages (from jupyter-client->ipykernel>=4.5.1->ipywidgets) (2.8.1)\n",
            "Requirement already satisfied: jinja2 in /usr/local/lib/python3.7/dist-packages (from notebook>=4.4.1->widgetsnbextension~=3.5.0->ipywidgets) (2.11.3)\n",
            "Requirement already satisfied: nbconvert in /usr/local/lib/python3.7/dist-packages (from notebook>=4.4.1->widgetsnbextension~=3.5.0->ipywidgets) (5.6.1)\n",
            "Requirement already satisfied: terminado>=0.8.1 in /usr/local/lib/python3.7/dist-packages (from notebook>=4.4.1->widgetsnbextension~=3.5.0->ipywidgets) (0.9.3)\n",
            "Requirement already satisfied: Send2Trash in /usr/local/lib/python3.7/dist-packages (from notebook>=4.4.1->widgetsnbextension~=3.5.0->ipywidgets) (1.5.0)\n",
            "Requirement already satisfied: wcwidth in /usr/local/lib/python3.7/dist-packages (from prompt-toolkit<2.0.0,>=1.0.4->ipython>=4.0.0; python_version >= \"3.3\"->ipywidgets) (0.2.5)\n",
            "Requirement already satisfied: six>=1.9.0 in /usr/local/lib/python3.7/dist-packages (from prompt-toolkit<2.0.0,>=1.0.4->ipython>=4.0.0; python_version >= \"3.3\"->ipywidgets) (1.15.0)\n",
            "Requirement already satisfied: ptyprocess>=0.5 in /usr/local/lib/python3.7/dist-packages (from pexpect; sys_platform != \"win32\"->ipython>=4.0.0; python_version >= \"3.3\"->ipywidgets) (0.7.0)\n",
            "Requirement already satisfied: MarkupSafe>=0.23 in /usr/local/lib/python3.7/dist-packages (from jinja2->notebook>=4.4.1->widgetsnbextension~=3.5.0->ipywidgets) (1.1.1)\n",
            "Requirement already satisfied: mistune<2,>=0.8.1 in /usr/local/lib/python3.7/dist-packages (from nbconvert->notebook>=4.4.1->widgetsnbextension~=3.5.0->ipywidgets) (0.8.4)\n",
            "Requirement already satisfied: entrypoints>=0.2.2 in /usr/local/lib/python3.7/dist-packages (from nbconvert->notebook>=4.4.1->widgetsnbextension~=3.5.0->ipywidgets) (0.3)\n",
            "Requirement already satisfied: bleach in /usr/local/lib/python3.7/dist-packages (from nbconvert->notebook>=4.4.1->widgetsnbextension~=3.5.0->ipywidgets) (3.3.0)\n",
            "Requirement already satisfied: defusedxml in /usr/local/lib/python3.7/dist-packages (from nbconvert->notebook>=4.4.1->widgetsnbextension~=3.5.0->ipywidgets) (0.7.1)\n",
            "Requirement already satisfied: testpath in /usr/local/lib/python3.7/dist-packages (from nbconvert->notebook>=4.4.1->widgetsnbextension~=3.5.0->ipywidgets) (0.4.4)\n",
            "Requirement already satisfied: pandocfilters>=1.4.1 in /usr/local/lib/python3.7/dist-packages (from nbconvert->notebook>=4.4.1->widgetsnbextension~=3.5.0->ipywidgets) (1.4.3)\n",
            "Requirement already satisfied: packaging in /usr/local/lib/python3.7/dist-packages (from bleach->nbconvert->notebook>=4.4.1->widgetsnbextension~=3.5.0->ipywidgets) (20.9)\n",
            "Requirement already satisfied: webencodings in /usr/local/lib/python3.7/dist-packages (from bleach->nbconvert->notebook>=4.4.1->widgetsnbextension~=3.5.0->ipywidgets) (0.5.1)\n",
            "Requirement already satisfied: pyparsing>=2.0.2 in /usr/local/lib/python3.7/dist-packages (from packaging->bleach->nbconvert->notebook>=4.4.1->widgetsnbextension~=3.5.0->ipywidgets) (2.4.7)\n",
            "Enabling notebook extension jupyter-js-widgets/extension...\n",
            "      - Validating: \u001b[32mOK\u001b[0m\n"
          ],
          "name": "stdout"
        }
      ]
    },
    {
      "cell_type": "markdown",
      "metadata": {
        "id": "gLzfd1ASI15B"
      },
      "source": [
        "Попробуем запустить boosting "
      ]
    },
    {
      "cell_type": "code",
      "metadata": {
        "colab": {
          "base_uri": "https://localhost:8080/"
        },
        "id": "UfsW_NTaGARS",
        "outputId": "c9430fd0-13fc-4e91-ec67-d4813f002ac6"
      },
      "source": [
        "from catboost import Pool, CatBoostRegressor\n",
        "\n",
        "# initialize pool\n",
        "train_pool = Pool(\n",
        "                X_train,\n",
        "                y_train,\n",
        "                  )\n",
        "\n",
        "\n",
        "test_pool = Pool(\n",
        "                X_test,\n",
        "                y_test,\n",
        "                  )\n",
        "\n",
        "\n",
        "model = CatBoostRegressor(iterations = 1000, \n",
        "                          depth = 3, \n",
        "                          learning_rate= 0.01, \n",
        "                          loss_function='RMSE',\n",
        "                          verbose = 0)\n",
        "#train the model\n",
        "model.fit(train_pool, verbose = 0)\n",
        "# make the prediction using the resulting model\n",
        "preds = model.predict(test_pool)\n",
        "print('root MSE after fit hyperparameters for catboost on test: {}'.format(np.sqrt(mean_squared_error(preds, \n",
        "                                                                    y_test))))\n"
      ],
      "execution_count": 65,
      "outputs": [
        {
          "output_type": "stream",
          "text": [
            "root MSE after fit hyperparameters for catboost on test: 2706963.915520937\n"
          ],
          "name": "stdout"
        },
        {
          "output_type": "execute_result",
          "data": {
            "text/plain": [
              "<bound method CatBoost.eval_metrics of <catboost.core.CatBoostRegressor object at 0x7fbb7ca7d410>>"
            ]
          },
          "metadata": {
            "tags": []
          },
          "execution_count": 65
        }
      ]
    },
    {
      "cell_type": "code",
      "metadata": {
        "id": "Y8U44I5FXPIC"
      },
      "source": [
        "from sklearn.metrics import make_scorer\n",
        "def rmse(y_true, y_pred):\n",
        "  return np.sqrt(mean_squared_error(y_true, y_pred))\n",
        "\n",
        "rmse_scorer = make_scorer(rmse, greater_is_better = False)"
      ],
      "execution_count": 68,
      "outputs": []
    },
    {
      "cell_type": "code",
      "metadata": {
        "colab": {
          "base_uri": "https://localhost:8080/",
          "height": 345
        },
        "id": "2fYxKWNQIiiy",
        "outputId": "def1af84-1096-4238-9e23-e05cbdc685f6"
      },
      "source": [
        "import matplotlib.pyplot as plt\n",
        "\n",
        "fig, ax = plt.subplots( figsize = (10, 5))\n",
        "eval_metrics_train = model.eval_metrics(train_pool, metrics = 'RMSE')\n",
        "eval_metrics = model.eval_metrics(test_pool, metrics = 'RMSE')\n",
        "ax.plot(np.arange(1, eval_metrics['RMSE'].__len__()+1, 1), \n",
        "        eval_metrics['RMSE'], c = 'r',\n",
        "        label = 'RMSE on test')\n",
        "\n",
        "ax.legend()\n",
        "ax.grid()\n",
        "ax.set_xlabel('iters')\n",
        "ax.set_ylabel('RMSE')\n",
        "\n",
        "\n",
        "ax.plot(np.arange(1, eval_metrics_train['RMSE'].__len__()+1, 1), \n",
        "        eval_metrics_train['RMSE'], c = 'b',\n",
        "        label = 'RMSE on train')\n",
        "\n",
        "#ax[1].legend()\n",
        "#ax[1].grid()\n",
        "#ax[1].set_xlabel('iters')\n",
        "#ax[1].set_ylabel('RMSE')\n",
        "\n",
        "plt.show()\n",
        "# Видно, что в конце мы немного даже переобучаться стали "
      ],
      "execution_count": 69,
      "outputs": [
        {
          "output_type": "display_data",
          "data": {
            "image/png": "[encoded data removed]",
            "text/plain": [
              "<Figure size 720x360 with 1 Axes>"
            ]
          },
          "metadata": {
            "tags": [],
            "needs_background": "light"
          }
        }
      ]
    },
    {
      "cell_type": "markdown",
      "metadata": {
        "id": "9psH-YSuI9I0"
      },
      "source": [
        "Напишем свой randomsearch для бустинга. И обучиим на данных заполненных с помощью KnnImputer\n"
      ]
    },
    {
      "cell_type": "code",
      "metadata": {
        "colab": {
          "base_uri": "https://localhost:8080/"
        },
        "id": "bYyAPm_yJGIh",
        "outputId": "9e95ce51-f5b2-47ec-de09-272a98af61c1"
      },
      "source": [
        "# -- made random search for catboost regressor -- #\n",
        "\n",
        "def RandomizedSearchCV_my(model, X, y, \n",
        "                          cv : int = 3,\n",
        "                          param_grid: dict = {},\n",
        "                          random_samples: int = 10,\n",
        "                          scoring_cv = mean_squared_error,\n",
        "                          high_is_better = False, # Для accuracy мы хотим, чтобы было больше, а для mse меньше \n",
        "                          verbose = 1,\n",
        "                          ):\n",
        "  \"\"\"\n",
        "  returned the best_model fit and best_params\n",
        "  \"\"\"\n",
        "\n",
        "  # -- X, y -- #\n",
        "  if(isinstance(X, pd.DataFrame)):\n",
        "    X = X.values\n",
        "    y = y.values\n",
        "\n",
        "  scores_history_tr = {}\n",
        "  scores_history_ts = {}\n",
        "  history_params = {}\n",
        "\n",
        "  for sample in range(random_samples):\n",
        "    # -- generate point in space parameter -- #\n",
        "    # -- uniform -- #\n",
        "    params_sample = {key : np.random.choice(values, size= 1)[0] \n",
        "                            for key, values in param_grid.items()}\n",
        "\n",
        "    history_params[sample] = params_sample                                     \n",
        "    m = model(**params_sample)\n",
        "    kf = KFold(n_splits = cv, shuffle = True)\n",
        "    train_score = []\n",
        "    test_score = []\n",
        "    for idx_tr, idx_ts in kf.split(X, y):\n",
        "      X_tr, X_ts =  X[idx_tr], X[idx_ts]\n",
        "      y_tr, y_ts = y[idx_tr], y[idx_ts]\n",
        "      # -- create test pool and train pool -- #\n",
        "      train_pool = Pool(\n",
        "          X_tr, y_tr\n",
        "      )\n",
        "      test_pool = Pool(\n",
        "          X_ts, y_ts\n",
        "      )\n",
        "      m.fit(train_pool, verbose = 0)\n",
        "      y_pred_tr = m.predict(train_pool)\n",
        "      y_pred_ts = m.predict(test_pool)\n",
        "      train_score.append(scoring_cv(y_tr, y_pred_tr))\n",
        "      test_score.append(scoring_cv(y_ts, y_pred_ts))\n",
        "    \n",
        "    train_score_np = np.asarray(train_score)\n",
        "    test_score_np = np.asarray(test_score)\n",
        "\n",
        "    train_info = {'mean_cv' : train_score_np.mean(), \n",
        "     'std_cv': train_score_np.std()}\n",
        "\n",
        "    test_info = {'mean_cv' : test_score_np.mean(), \n",
        "     'std_cv': test_score_np.std()}\n",
        "\n",
        "    if(verbose > 0):\n",
        "      print('sample: {}, params: {}\\ntrain_score: {}\\ntest_score: {}'.format(\n",
        "         sample + 1, params_sample, train_info, test_info, \n",
        "      ))\n",
        "\n",
        "\n",
        "    scores_history_tr[sample] = train_info\n",
        "    scores_history_ts[sample] = test_info\n",
        "\n",
        "  # -- find the best score -- #\n",
        "  # -- we want to minimize score -- # \n",
        "  mean_ts = np.asarray([value['mean_cv'] \n",
        "                        for key, value in scores_history_ts.items()])\n",
        "    \n",
        "  if(high_is_better):\n",
        "    best_sample = mean_ts.argmax()\n",
        "  else:\n",
        "    best_sample = mean_ts.argmin()\n",
        "\n",
        "  best_score = mean_ts[best_sample]\n",
        "\n",
        "  if(verbose > 0):\n",
        "    print('\\nFinal:\\nbest_validate_score: {}\\nbest_params: {}'.format(\n",
        "        best_score, history_params[best_sample],\n",
        "    ))\n",
        "\n",
        "  best_model = model(**history_params[best_sample])\n",
        "  best_model.fit(X_train, \n",
        "                 y_train,\n",
        "                 verbose = 0)\n",
        "  return best_model, history_params[best_sample]\n",
        "    \n",
        "\n",
        "parameter_space_cat_boost = {\n",
        "    'iterations':  np.arange(50, 500, 25),\n",
        "    'depth':  np.arange(2, 7, 2),\n",
        "    'learning_rate': np.linspace(0.01, 0.5, 5),\n",
        "    'min_data_in_leaf' :  np.linspace(1, 50, 5),\n",
        "    'l2_leaf_reg' :  np.linspace(0, 5, 1),\n",
        "}\n",
        "\n",
        "\n",
        "X_train, X_test, y_train, y_test = split_dataset(df_new_wide_knn, \n",
        "                                                 split_index, \n",
        "                                                 target = 'price')\n",
        "\n",
        "best_cat_regressor, best_params = RandomizedSearchCV_my(CatBoostRegressor, \n",
        "                                                        X_train, y_train,\n",
        "                                                        cv = 3, \n",
        "                                                        param_grid = parameter_space_cat_boost, \n",
        "                                                        random_samples = 10, \n",
        "                                                        scoring_cv = rmse,\n",
        "                                                        )"
      ],
      "execution_count": 70,
      "outputs": [
        {
          "output_type": "stream",
          "text": [
            "sample: 1, params: {'iterations': 100, 'depth': 2, 'learning_rate': 0.1325, 'min_data_in_leaf': 1.0, 'l2_leaf_reg': 0.0}\n",
            "train_score: {'mean_cv': 2562424.651464606, 'std_cv': 13980.236201037851}\n",
            "test_score: {'mean_cv': 2814723.302747253, 'std_cv': 54178.08068836941}\n",
            "sample: 2, params: {'iterations': 350, 'depth': 6, 'learning_rate': 0.3775, 'min_data_in_leaf': 37.75, 'l2_leaf_reg': 0.0}\n",
            "train_score: {'mean_cv': 730503.788886622, 'std_cv': 7731.803207896644}\n",
            "test_score: {'mean_cv': 2840189.6375164706, 'std_cv': 53464.3854699346}\n",
            "sample: 3, params: {'iterations': 225, 'depth': 4, 'learning_rate': 0.3775, 'min_data_in_leaf': 1.0, 'l2_leaf_reg': 0.0}\n",
            "train_score: {'mean_cv': 1534180.408536533, 'std_cv': 12161.728331815511}\n",
            "test_score: {'mean_cv': 2779087.319672762, 'std_cv': 93774.9957046115}\n",
            "sample: 4, params: {'iterations': 200, 'depth': 2, 'learning_rate': 0.1325, 'min_data_in_leaf': 50.0, 'l2_leaf_reg': 0.0}\n",
            "train_score: {'mean_cv': 2384104.188947417, 'std_cv': 8368.708653001171}\n",
            "test_score: {'mean_cv': 2731004.566681092, 'std_cv': 24583.14337485266}\n",
            "sample: 5, params: {'iterations': 275, 'depth': 2, 'learning_rate': 0.5, 'min_data_in_leaf': 50.0, 'l2_leaf_reg': 0.0}\n",
            "train_score: {'mean_cv': 1955558.3458919888, 'std_cv': 15281.576707289025}\n",
            "test_score: {'mean_cv': 2856956.682017843, 'std_cv': 4360.442510811137}\n",
            "sample: 6, params: {'iterations': 475, 'depth': 4, 'learning_rate': 0.1325, 'min_data_in_leaf': 50.0, 'l2_leaf_reg': 0.0}\n",
            "train_score: {'mean_cv': 1644150.9285497572, 'std_cv': 24787.207040496512}\n",
            "test_score: {'mean_cv': 2712945.876085579, 'std_cv': 126974.19082056257}\n",
            "sample: 7, params: {'iterations': 300, 'depth': 4, 'learning_rate': 0.1325, 'min_data_in_leaf': 50.0, 'l2_leaf_reg': 0.0}\n",
            "train_score: {'mean_cv': 1863700.7137226698, 'std_cv': 21552.17972864807}\n",
            "test_score: {'mean_cv': 2654524.9090668517, 'std_cv': 74915.37465892517}\n",
            "sample: 8, params: {'iterations': 200, 'depth': 6, 'learning_rate': 0.01, 'min_data_in_leaf': 50.0, 'l2_leaf_reg': 0.0}\n",
            "train_score: {'mean_cv': 2739333.3570296597, 'std_cv': 38257.44120574127}\n",
            "test_score: {'mean_cv': 2944124.426679078, 'std_cv': 156006.94160878577}\n",
            "sample: 9, params: {'iterations': 100, 'depth': 6, 'learning_rate': 0.01, 'min_data_in_leaf': 13.25, 'l2_leaf_reg': 0.0}\n",
            "train_score: {'mean_cv': 3207941.3331072866, 'std_cv': 61662.134793422745}\n",
            "test_score: {'mean_cv': 3291248.7043797174, 'std_cv': 167871.91110809235}\n",
            "sample: 10, params: {'iterations': 375, 'depth': 2, 'learning_rate': 0.01, 'min_data_in_leaf': 50.0, 'l2_leaf_reg': 0.0}\n",
            "train_score: {'mean_cv': 2933375.9373269477, 'std_cv': 62277.753137200714}\n",
            "test_score: {'mean_cv': 3012155.523005555, 'std_cv': 139155.30344848544}\n",
            "\n",
            "Final:\n",
            "best_validate_score: 2654524.9090668517\n",
            "best_params: {'iterations': 300, 'depth': 4, 'learning_rate': 0.1325, 'min_data_in_leaf': 50.0, 'l2_leaf_reg': 0.0}\n"
          ],
          "name": "stdout"
        }
      ]
    },
    {
      "cell_type": "markdown",
      "metadata": {
        "id": "YgVnnM1CkozC"
      },
      "source": [
        "**Ниже, что я получил лучшее на данном запуске. Ранее на других запусках стабильно было около 2.55 млн rmse. Видимо такой запуск.**"
      ]
    },
    {
      "cell_type": "code",
      "metadata": {
        "colab": {
          "base_uri": "https://localhost:8080/"
        },
        "id": "mxll78fVjdpG",
        "outputId": "da2afb93-a3a0-498a-f0ef-371bd4d91a90"
      },
      "source": [
        "y_pred_test = best_cat_regressor.predict(X_test)\n",
        "print('cat_boost_regressor на test по RandomSearchGridCV: {}'.format(rmse(y_test, y_pred_test)))"
      ],
      "execution_count": 71,
      "outputs": [
        {
          "output_type": "stream",
          "text": [
            "cat_boost_regressor на test по RandomSearchGridCV: 2618678.629377176\n"
          ],
          "name": "stdout"
        }
      ]
    },
    {
      "cell_type": "code",
      "metadata": {
        "colab": {
          "base_uri": "https://localhost:8080/"
        },
        "id": "Aa2DmSouhSlh",
        "outputId": "0b84555d-dd00-436d-d77c-5d172bf060ef"
      },
      "source": [
        "print('\\nbest params catboostregressor: \\n')\n",
        "best_params"
      ],
      "execution_count": 72,
      "outputs": [
        {
          "output_type": "stream",
          "text": [
            "\n",
            "best params catboostregressor: \n",
            "\n"
          ],
          "name": "stdout"
        },
        {
          "output_type": "execute_result",
          "data": {
            "text/plain": [
              "{'depth': 4,\n",
              " 'iterations': 300,\n",
              " 'l2_leaf_reg': 0.0,\n",
              " 'learning_rate': 0.1325,\n",
              " 'min_data_in_leaf': 50.0}"
            ]
          },
          "metadata": {
            "tags": []
          },
          "execution_count": 72
        }
      ]
    },
    {
      "cell_type": "markdown",
      "metadata": {
        "id": "tloF8cfYlAHB"
      },
      "source": [
        "*Видно, что если добавить больше иттераций, лучше не станет качество*"
      ]
    },
    {
      "cell_type": "code",
      "metadata": {
        "colab": {
          "base_uri": "https://localhost:8080/"
        },
        "id": "2XHuOrRkks3q",
        "outputId": "24aeb7fd-2605-46ba-8358-c37a137955ee"
      },
      "source": [
        "\n",
        "train_pool = Pool(\n",
        "                X_train,\n",
        "                y_train,\n",
        "                  )\n",
        "test_pool = Pool(\n",
        "                X_test,\n",
        "                y_test,\n",
        "                  )\n",
        "\n",
        "# -- delete iterations -- #\n",
        "try:\n",
        "\n",
        "  if(best_params.get('iterations') != -1):\n",
        "    best_params.pop('iterations')\n",
        "\n",
        "except KeyError:\n",
        "  pass\n",
        "\n",
        "print('best_params: {}'.format(best_params))\n",
        "\n",
        "best_params['depth'] = 3\n",
        "model = CatBoostRegressor(iterations = 700,\n",
        "                          **best_params,\n",
        "                          verbose = 0)\n",
        "\n",
        "print(model.get_params())\n",
        "model.fit(train_pool, verbose = 0)\n",
        "preds = model.predict(test_pool)\n",
        "print('root MSE after fit hyperparameters for catboost on test: {}'.format(rmse(preds, \n",
        "                                                                    y_test)))"
      ],
      "execution_count": 77,
      "outputs": [
        {
          "output_type": "stream",
          "text": [
            "best_params: {'depth': 2, 'learning_rate': 0.1325, 'min_data_in_leaf': 50.0, 'l2_leaf_reg': 0.0}\n",
            "{'iterations': 700, 'learning_rate': 0.1325, 'depth': 3, 'l2_leaf_reg': 0.0, 'loss_function': 'RMSE', 'verbose': 0, 'min_data_in_leaf': 50.0}\n",
            "root MSE after fit hyperparameters for catboost on test: 2628584.4340260653\n"
          ],
          "name": "stdout"
        }
      ]
    },
    {
      "cell_type": "markdown",
      "metadata": {
        "id": "dGCtCvHSlLGZ"
      },
      "source": [
        "Видно, что добавил глубину с 3 на 4 мы в кривых ошибки на train/test получим уже ощутимый разрыв, это говорит об переобучении, хотя качество на test стало по лучше. Для произвольных параметров было более 2.7 мл, на настроенных (не лучшим образом, так как RandomSearch долгий и не факт, что попадёт правильно) 2.5-2.6 млн. (В фичах особо не копался). У меня не сработал поиск по BayesOpt. \n"
      ]
    },
    {
      "cell_type": "code",
      "metadata": {
        "colab": {
          "base_uri": "https://localhost:8080/",
          "height": 345
        },
        "id": "IatWaXsSnBEq",
        "outputId": "18f53dea-fa04-4406-9453-cb180d3e4529"
      },
      "source": [
        "\n",
        "fig, ax = plt.subplots( figsize = (10, 5))\n",
        "eval_metrics_train = model.eval_metrics(train_pool, metrics = 'RMSE')\n",
        "eval_metrics = model.eval_metrics(test_pool, metrics = 'RMSE')\n",
        "ax.plot(np.arange(1, eval_metrics['RMSE'].__len__()+1, 1), \n",
        "        eval_metrics['RMSE'], c = 'r',\n",
        "        label = 'RMSE on test')\n",
        "\n",
        "ax.plot(np.arange(1, eval_metrics_train['RMSE'].__len__()+1, 1), \n",
        "        eval_metrics_train['RMSE'], c = 'b',\n",
        "        label = 'RMSE on train')\n",
        "\n",
        "\n",
        "ax.legend()\n",
        "ax.grid()\n",
        "ax.set_xlabel('iters')\n",
        "ax.set_ylabel('RMSE')\n",
        "\n",
        "\n",
        "plt.show()\n",
        "# -- Видно, что у нас большое переобучение на подобранных параметрах -- #\n",
        "# -- Видно, что для test достаточно порядка  ~ 400 итераций, потом происходи просто переобучение на train -- "
      ],
      "execution_count": 78,
      "outputs": [
        {
          "output_type": "display_data",
          "data": {
            "image/png": "[encoded data removed]",
            "text/plain": [
              "<Figure size 720x360 with 1 Axes>"
            ]
          },
          "metadata": {
            "tags": [],
            "needs_background": "light"
          }
        }
      ]
    },
    {
      "cell_type": "markdown",
      "metadata": {
        "id": "lZjjRlTC3ywP"
      },
      "source": [
        "На данных заполненных по KnnImputer прибавка в качестве окажеться достаточно мизерной!\n"
      ]
    },
    {
      "cell_type": "code",
      "metadata": {
        "id": "G80ulNZz3x-Y"
      },
      "source": [
        "X_train, X_test, y_train, y_test = split_dataset(df_new_wide_knn, \n",
        "                                                 split_index, \n",
        "                                                 target = 'price')"
      ],
      "execution_count": 79,
      "outputs": []
    },
    {
      "cell_type": "code",
      "metadata": {
        "colab": {
          "base_uri": "https://localhost:8080/"
        },
        "id": "3QM1iuj54ILI",
        "outputId": "cbd40e94-f106-4204-cc9a-44ce1dd008ab"
      },
      "source": [
        "\n",
        "train_pool = Pool(\n",
        "                X_train,\n",
        "                y_train,\n",
        "                  )\n",
        "test_pool = Pool(\n",
        "                X_test,\n",
        "                y_test,\n",
        "                  )\n",
        "\n",
        "# -- delete iterations -- #\n",
        "try:\n",
        "\n",
        "  if(best_params.get('iterations') != -1):\n",
        "    best_params.pop('iterations')\n",
        "\n",
        "except KeyError:\n",
        "  pass\n",
        "\n",
        "print('best_params: {}'.format(best_params))\n",
        "\n",
        "model = CatBoostRegressor(iterations = 700,\n",
        "                          **best_params,\n",
        "                          verbose = 0)\n",
        "\n",
        "print(model.get_params())\n",
        "model.fit(train_pool, verbose = 0)\n",
        "preds = model.predict(test_pool)\n",
        "print('root MSE after fit hyperparameters for catboost on test: {}'.format(rmse(preds, \n",
        "                                                                    y_test)))"
      ],
      "execution_count": 86,
      "outputs": [
        {
          "output_type": "stream",
          "text": [
            "best_params: {'depth': 3, 'learning_rate': 0.1325, 'min_data_in_leaf': 50.0, 'l2_leaf_reg': 0.0}\n",
            "{'iterations': 700, 'learning_rate': 0.1325, 'depth': 3, 'l2_leaf_reg': 0.0, 'loss_function': 'RMSE', 'verbose': 0, 'min_data_in_leaf': 50.0}\n",
            "root MSE after fit hyperparameters for catboost on test: 2628584.4340260653\n"
          ],
          "name": "stdout"
        }
      ]
    },
    {
      "cell_type": "code",
      "metadata": {
        "colab": {
          "base_uri": "https://localhost:8080/",
          "height": 345
        },
        "id": "8EA_yYgm4V_l",
        "outputId": "d472af31-a050-4f4a-9585-c89fcfeb5ed7"
      },
      "source": [
        "fig, ax = plt.subplots( figsize = (10, 5))\n",
        "eval_metrics_train = model.eval_metrics(train_pool, metrics = 'RMSE')\n",
        "eval_metrics = model.eval_metrics(test_pool, metrics = 'RMSE')\n",
        "ax.plot(np.arange(1, eval_metrics['RMSE'].__len__()+1, 1), \n",
        "        eval_metrics['RMSE'], c = 'r',\n",
        "        label = 'RMSE on test')\n",
        "\n",
        "ax.plot(np.arange(1, eval_metrics_train['RMSE'].__len__()+1, 1), \n",
        "        eval_metrics_train['RMSE'], c = 'b',\n",
        "        label = 'RMSE on train')\n",
        "\n",
        "\n",
        "ax.legend()\n",
        "ax.grid()\n",
        "ax.set_xlabel('iters')\n",
        "ax.set_ylabel('RMSE')\n",
        "\n",
        "\n",
        "plt.show()\n",
        "# -- Видно, что у нас большое переобучение на подобранных параметрах -- #\n",
        "# -- Видно, что для test достаточно порядка  ~ 400 итераций, потом происходи просто переобучение на train -- "
      ],
      "execution_count": 81,
      "outputs": [
        {
          "output_type": "display_data",
          "data": {
            "image/png": "[encoded data removed]",
            "text/plain": [
              "<Figure size 720x360 with 1 Axes>"
            ]
          },
          "metadata": {
            "tags": [],
            "needs_background": "light"
          }
        }
      ]
    },
    {
      "cell_type": "markdown",
      "metadata": {
        "id": "gDoMva0Rktyz"
      },
      "source": [
        "### HyperOpt (Не работает) для моделей"
      ]
    },
    {
      "cell_type": "code",
      "metadata": {
        "id": "l3EPgYLUNGR6"
      },
      "source": [
        "# -- Неплохой результат уже по не настроенным параметрам -- #\n",
        "# -- Необходимо сделать tune -- #\n",
        "from sklearn.model_selection import cross_val_score, cross_validate\n",
        "\n",
        "\n",
        "class HyproptObjective(object):\n",
        "\n",
        "  def __init__(self, X, y, model, \n",
        "               conts_params, \n",
        "               fit_params,\n",
        "               cv_splitter, \n",
        "               cv_scoring):\n",
        "    \n",
        "    self.evaluated_count = 0\n",
        "    self.X = X\n",
        "    self.y = y\n",
        "    self.model = model\n",
        "    self.constant_params = const_params\n",
        "    self.fit_params = fit_params\n",
        "    self.cv_splitter = cv_splitter\n",
        "    self.cv_scoring = cv_scoring\n",
        "\n",
        "\n",
        "  def __call__(self, hyper_params):\n",
        "    # --  for record fit time, validate time and several scorers metrics -- #\n",
        "    cv_result = cross_validate(\n",
        "        self.model(**hyper_params, **self.constant_params),\n",
        "        self.X, \n",
        "        self.y,\n",
        "        scoring = 'neg_mean_squared_error',\n",
        "        cv = self.cv_splitter,\n",
        "        fit_params = self.fit_params,\n",
        "        return_train_score = True,\n",
        "    )\n",
        "    self.evaluated_count += 1\n",
        "    mean_cv_result = np.mean(cv_result['test_score'])\n",
        "    # -- hyper_opt_always minimize function -- #\n",
        "    #if(self.cv_scoring._sign > 0):\n",
        "    #  mean_cv_result = -mean_cv_result\n",
        "\n",
        "    return -mean_cv_result\n",
        "\n",
        "def find_best_params(X, \n",
        "                     y, \n",
        "                     model,\n",
        "                     const_params, \n",
        "                     parameter_space, \n",
        "                     fit_params={},\n",
        "                     max_evals = 25,\n",
        "                     cv_splitter=None,\n",
        "                     cv_scoring=None\n",
        "                    ):\n",
        "    \n",
        "    objective = HyproptObjective(X, y, model, const_params, \n",
        "                                  fit_params, cv_splitter, cv_scoring)\n",
        "   \n",
        "    trials = hyperopt.Trials()\n",
        "    \n",
        "    best_params = hyperopt.fmin(\n",
        "        fn = objective,\n",
        "        space=parameter_space,\n",
        "        algo=hyperopt.tpe.suggest,\n",
        "        rstate=np.random.RandomState(seed=42),\n",
        "        max_evals=max_evals,\n",
        "        trials=trials\n",
        "    ) \n",
        "    best_params.update(const_params)\n",
        "    return best_params, trials\n",
        "\n"
      ],
      "execution_count": 184,
      "outputs": []
    },
    {
      "cell_type": "code",
      "metadata": {
        "colab": {
          "base_uri": "https://localhost:8080/"
        },
        "id": "BLGIb__oWO_9",
        "outputId": "662f765a-c393-463d-8969-6040d7417fc4"
      },
      "source": [
        "! pip install hyperopt"
      ],
      "execution_count": 158,
      "outputs": [
        {
          "output_type": "stream",
          "text": [
            "Requirement already satisfied: hyperopt in /usr/local/lib/python3.7/dist-packages (0.1.2)\n",
            "Requirement already satisfied: scipy in /usr/local/lib/python3.7/dist-packages (from hyperopt) (1.4.1)\n",
            "Requirement already satisfied: numpy in /usr/local/lib/python3.7/dist-packages (from hyperopt) (1.19.5)\n",
            "Requirement already satisfied: six in /usr/local/lib/python3.7/dist-packages (from hyperopt) (1.15.0)\n",
            "Requirement already satisfied: tqdm in /usr/local/lib/python3.7/dist-packages (from hyperopt) (4.41.1)\n",
            "Requirement already satisfied: future in /usr/local/lib/python3.7/dist-packages (from hyperopt) (0.16.0)\n",
            "Requirement already satisfied: pymongo in /usr/local/lib/python3.7/dist-packages (from hyperopt) (3.11.3)\n",
            "Requirement already satisfied: networkx in /usr/local/lib/python3.7/dist-packages (from hyperopt) (2.5)\n",
            "Requirement already satisfied: decorator>=4.3.0 in /usr/local/lib/python3.7/dist-packages (from networkx->hyperopt) (4.4.2)\n"
          ],
          "name": "stdout"
        }
      ]
    },
    {
      "cell_type": "code",
      "metadata": {
        "colab": {
          "base_uri": "https://localhost:8080/"
        },
        "id": "SP_19lOFUi6J",
        "outputId": "8ef0038c-6e42-457e-8fb4-63f5780c5490"
      },
      "source": [
        "import hyperopt\n",
        "\n",
        "const_params = {\n",
        "    'silent': True,\n",
        "    'thread_count': -1,\n",
        "}\n",
        "parameter_space = {\n",
        "    'iterations': hyperopt.hp.choice('iterations', np.arange(50, 500, 25)),\n",
        "    'depth': hyperopt.hp.choice('depth', np.arange(2, 7, 2)),\n",
        "    'learning_rate': hyperopt.hp.uniform('learning_rate', 0.01, 0.5),\n",
        "    'min_data_in_leaf' : hyperopt.hp.quniform('min_data_in_leaf', 1, 50, 1),\n",
        "    'l2_leaf_reg' : hyperopt.hp.uniform('l2_leaf_reg', 0, 5),\n",
        "}\n",
        "fit_params = {}\n",
        "\n",
        "best_params, trials = find_best_params(\n",
        "    X_train, \n",
        "    y_train, \n",
        "    CatBoostRegressor,\n",
        "    const_params,\n",
        "    parameter_space,\n",
        "    fit_params,\n",
        "    max_evals = 3,\n",
        "    cv_splitter= KFold(n_splits = 3, shuffle = True),\n",
        "    cv_scoring = rmse_scorer,\n",
        ")"
      ],
      "execution_count": 185,
      "outputs": [
        {
          "output_type": "stream",
          "text": [
            "100%|██████████| 3/3 [00:50<00:00, 16.90s/it, best loss: 7313745258774.6045]\n"
          ],
          "name": "stdout"
        }
      ]
    },
    {
      "cell_type": "code",
      "metadata": {
        "colab": {
          "base_uri": "https://localhost:8080/"
        },
        "id": "yDwKFI1eburj",
        "outputId": "357c269b-52dd-4b33-d892-1c60fbe4bb6d"
      },
      "source": [
        "trials.best_trial"
      ],
      "execution_count": 186,
      "outputs": [
        {
          "output_type": "execute_result",
          "data": {
            "text/plain": [
              "{'book_time': datetime.datetime(2021, 4, 10, 1, 54, 50, 849000),\n",
              " 'exp_key': None,\n",
              " 'misc': {'cmd': ('domain_attachment', 'FMinIter_Domain'),\n",
              "  'idxs': {'depth': [1],\n",
              "   'iterations': [1],\n",
              "   'l2_leaf_reg': [1],\n",
              "   'learning_rate': [1],\n",
              "   'min_data_in_leaf': [1]},\n",
              "  'tid': 1,\n",
              "  'vals': {'depth': [2],\n",
              "   'iterations': [5],\n",
              "   'l2_leaf_reg': [4.664339994239168],\n",
              "   'learning_rate': [0.36658561415688923],\n",
              "   'min_data_in_leaf': [21.0]},\n",
              "  'workdir': None},\n",
              " 'owner': None,\n",
              " 'refresh_time': datetime.datetime(2021, 4, 10, 1, 55, 20, 736000),\n",
              " 'result': {'loss': 7313745258774.6045, 'status': 'ok'},\n",
              " 'spec': None,\n",
              " 'state': 2,\n",
              " 'tid': 1,\n",
              " 'version': 0}"
            ]
          },
          "metadata": {
            "tags": []
          },
          "execution_count": 186
        }
      ]
    },
    {
      "cell_type": "code",
      "metadata": {
        "colab": {
          "base_uri": "https://localhost:8080/"
        },
        "id": "SbAP2zqSYFul",
        "outputId": "510ed801-34df-4ca5-e89b-ccb58237edd1"
      },
      "source": [
        "print('best params:')\n",
        "print(best_params)\n",
        "\n",
        "best_cat_boost = CatBoostRegressor(**best_params)\n",
        "\n",
        "best_cat_boost.fit(train_pool, verbose = 0)\n",
        "preds = best_cat_boost.predict(test_pool)\n",
        "print('root MSE after fit hyperparameters for catboost on test: {}'.format(np.sqrt(mean_squared_error(preds, \n",
        "                                                                    y_test))))"
      ],
      "execution_count": 187,
      "outputs": [
        {
          "output_type": "stream",
          "text": [
            "best params:\n",
            "{'depth': 2, 'iterations': 5, 'l2_leaf_reg': 4.664339994239168, 'learning_rate': 0.36658561415688923, 'min_data_in_leaf': 21.0, 'silent': True, 'thread_count': -1}\n",
            "root MSE after fit hyperparameters for catboost on test: 3364758.0334355445\n"
          ],
          "name": "stdout"
        }
      ]
    },
    {
      "cell_type": "code",
      "metadata": {
        "id": "AkWKHTLFZDu8"
      },
      "source": [
        ""
      ],
      "execution_count": null,
      "outputs": []
    },
    {
      "cell_type": "markdown",
      "metadata": {
        "id": "JxQnozbtvD6x"
      },
      "source": [
        "### Ensemble v.1 (3 балла)\n",
        "\n",
        "Ансамбли иногда оказываются лучше чем одна большая модель.\n",
        "\n",
        "В колонке `product_type` содержится информация о том, каким является объявление: `Investment` (продажа квартиры как инвестиции) или `OwnerOccupier` (продажа квартиры для жилья). Логично предположить, что если сделать по модели на каждый из этих типов, то качество будет выше.\n",
        "\n",
        "Обучите свои лучшие модели на отдельно на `Investment` и `OwnerOccupier` (т.е. у вас будет `model_invest`, обученная на `(invest_train_X, invest_train_Y)` и `model_owner`, обученная на `(owner_train_X, owner_train_Y)`) и проверьте качество на отложенной выборке (т.е. на исходном `test_split`)."
      ]
    },
    {
      "cell_type": "code",
      "metadata": {
        "id": "-IduSA-gIhzy",
        "colab": {
          "base_uri": "https://localhost:8080/"
        },
        "outputId": "69630fe3-a2ae-462e-c377-5568075cb0b3"
      },
      "source": [
        "X_train, X_test, y_train, y_test = split_dataset(df_new_wide_knn,\n",
        "                                                         split_index = split_index,\n",
        "                                                         target = 'price',\n",
        "                                                         )\n",
        "# -- Investment - 0, OwnerOccipier - 1 -- #\n",
        "\n",
        "X_train_inv = X_train[X_train.product_type == 0]\n",
        "X_train_own = X_train[X_train.product_type == 1]\n",
        "\n",
        "y_train_inv = y_train[X_train.product_type == 0]\n",
        "y_train_own = y_train[X_train.product_type == 1]\n",
        "\n",
        "\n",
        "X_test_inv = X_test[X_test.product_type == 0]\n",
        "X_test_own = X_test[X_test.product_type == 1]\n",
        "\n",
        "y_test_inv = y_test[X_test.product_type == 0]\n",
        "y_test_own = y_test[X_test.product_type == 1]\n",
        "\n",
        "# -- мы должны убрать эти колонки -- #\n",
        "X_train_inv.drop(columns = ['product_type'], inplace = True)\n",
        "X_train_own.drop(columns = ['product_type'], inplace = True)\n",
        "\n",
        "X_test_inv.drop(columns = ['product_type'], inplace = True)\n",
        "X_test_own.drop(columns = ['product_type'], inplace = True)\n"
      ],
      "execution_count": 142,
      "outputs": [
        {
          "output_type": "stream",
          "text": [
            "/usr/local/lib/python3.7/dist-packages/pandas/core/frame.py:4174: SettingWithCopyWarning: \n",
            "A value is trying to be set on a copy of a slice from a DataFrame\n",
            "\n",
            "See the caveats in the documentation: https://pandas.pydata.org/pandas-docs/stable/user_guide/indexing.html#returning-a-view-versus-a-copy\n",
            "  errors=errors,\n"
          ],
          "name": "stderr"
        }
      ]
    },
    {
      "cell_type": "markdown",
      "metadata": {
        "id": "P81yYytu5rv9"
      },
      "source": [
        "Лучшей у меня оказалась модель CatBoostRegressor с параметрами подобранными на RandomSearchCV"
      ]
    },
    {
      "cell_type": "code",
      "metadata": {
        "colab": {
          "base_uri": "https://localhost:8080/"
        },
        "id": "_2ylb89N54cb",
        "outputId": "647e41fb-e23e-4dc8-e2f1-055ffb985ab3"
      },
      "source": [
        "print('Investment size: {}'.format(X_train_inv.shape[0]))\n",
        "print('OwnerOccupier size: {}'.format(X_train_own.shape[0]))\n",
        "print('All train size: {}'.format(X_train.shape[0]))\n",
        "\n",
        "\n",
        "print('Investment test size: {}'.format(X_test_inv.shape[0]))\n",
        "print('OwnerOccupier test size: {}'.format(X_test_own.shape[0]))\n",
        "print('All train size: {}'.format(X_test.shape[0]))"
      ],
      "execution_count": 143,
      "outputs": [
        {
          "output_type": "stream",
          "text": [
            "Investment size: 5746\n",
            "OwnerOccupier size: 10254\n",
            "All train size: 16000\n",
            "Investment test size: 1414\n",
            "OwnerOccupier test size: 2586\n",
            "All train size: 4000\n"
          ],
          "name": "stdout"
        }
      ]
    },
    {
      "cell_type": "code",
      "metadata": {
        "id": "HeJOCYa-O_VE",
        "colab": {
          "base_uri": "https://localhost:8080/"
        },
        "outputId": "cd5111a5-7e2d-4e53-bd6c-49f74c2a0558"
      },
      "source": [
        "\n",
        "train_pool_inv = Pool(\n",
        "                X_train_inv,\n",
        "                y_train_inv,\n",
        "                  )\n",
        "train_pool_own = Pool(\n",
        "                X_train_own,\n",
        "                y_train_own,\n",
        "                  )\n",
        "\n",
        "test_pool_inv = Pool(\n",
        "                X_test_inv,\n",
        "                y_test_inv,\n",
        "                  )\n",
        "\n",
        "test_pool_own = Pool(\n",
        "                X_test_own,\n",
        "                y_test_own,\n",
        "                  )\n",
        "\n",
        "\n",
        "# -- delete iterations (Мы его сами задаем из лучших параметров) -- #\n",
        "try:\n",
        "\n",
        "  if(best_params.get('iterations') != -1):\n",
        "    best_params.pop('iterations')\n",
        "\n",
        "except KeyError:\n",
        "  pass\n",
        "\n",
        "print('best_params:\\n')\n",
        "print(best_params)\n",
        "\n",
        "model1_inv = CatBoostRegressor(iterations = 450,\n",
        "                          **best_params,\n",
        "                          verbose = 0)\n",
        "\n",
        "model2_own = CatBoostRegressor(iterations = 450,\n",
        "                          **best_params,\n",
        "                          verbose = 0)\n",
        "\n",
        "# -- learn 2 models -- #\n",
        "model1_inv.fit(train_pool_inv, verbose = 0)\n",
        "model2_own.fit(train_pool_own, verbose = 0)\n",
        "\n",
        "preds1_inv = model1_inv.predict(test_pool_inv)\n",
        "preds2_own = model2_own.predict(test_pool_own)\n",
        "\n",
        "\n",
        "print('root MSE catboostregressor for investment model test: {}'.format(rmse(preds1_inv, y_test_inv)))\n",
        "print('root MSE catboostregressor for OwnerOccupier model test: {}'.format(rmse(preds2_own, y_test_own))) \n",
        "\n",
        "# -- теперь подсчитаем rmse если учесть сначала ответы на test где investment, а потом OwnerOccupier -- #\n",
        "      \n",
        "final_rmse = np.sqrt(mean_squared_error(preds1_inv, y_test_inv) + mean_squared_error(preds2_own, y_test_own))\n",
        "print('root MSE catboostregressor (where we train on 2 different datasets)  test: {}'.format(final_rmse))\n"
      ],
      "execution_count": 168,
      "outputs": [
        {
          "output_type": "stream",
          "text": [
            "best_params:\n",
            "\n",
            "{'depth': 3, 'learning_rate': 0.1325, 'min_data_in_leaf': 50.0, 'l2_leaf_reg': 0.0}\n",
            "root MSE catboostregressor for investment model test: 1579506.9492557934\n",
            "root MSE catboostregressor for OwnerOccupier model test: 2929440.8536753315\n",
            "root MSE catboostregressor (where we train on 2 different datasets)  test: 3328132.4970513717\n"
          ],
          "name": "stdout"
        }
      ]
    },
    {
      "cell_type": "markdown",
      "metadata": {
        "id": "kXSiAZEvi7j5"
      },
      "source": [
        "Почему на Owneroccupier  ответы очень даже хорошие, а на Investment плохие? Смотреть графики. Очень странно, хотя вроде внимательно разделил данные...\n"
      ]
    },
    {
      "cell_type": "code",
      "metadata": {
        "colab": {
          "base_uri": "https://localhost:8080/",
          "height": 350
        },
        "id": "6OpkbQkFiNdM",
        "outputId": "b8239624-01e9-4141-f5c4-01da7723c0c1"
      },
      "source": [
        "fig, ax = plt.subplots( figsize = (10, 5))\n",
        "eval_metrics_train = model1_inv.eval_metrics(train_pool_inv, metrics = 'RMSE')\n",
        "eval_metrics = model1_inv.eval_metrics(test_pool_inv, metrics = 'RMSE')\n",
        "ax.plot(np.arange(1, eval_metrics['RMSE'].__len__()+1, 1), \n",
        "        eval_metrics['RMSE'], c = 'r',\n",
        "        label = 'RMSE on test')\n",
        "\n",
        "ax.plot(np.arange(1, eval_metrics_train['RMSE'].__len__()+1, 1), \n",
        "        eval_metrics_train['RMSE'], c = 'b',\n",
        "        label = 'RMSE on train')\n",
        "\n",
        "\n",
        "ax.legend()\n",
        "ax.grid()\n",
        "ax.set_xlabel('iters')\n",
        "ax.set_ylabel('RMSE')\n",
        "ax.set_title('Owneroccupier')\n",
        "\n",
        "\n",
        "plt.show()"
      ],
      "execution_count": 169,
      "outputs": [
        {
          "output_type": "display_data",
          "data": {
            "image/png": "[encoded data removed]",
            "text/plain": [
              "<Figure size 720x360 with 1 Axes>"
            ]
          },
          "metadata": {
            "tags": [],
            "needs_background": "light"
          }
        }
      ]
    },
    {
      "cell_type": "code",
      "metadata": {
        "colab": {
          "base_uri": "https://localhost:8080/",
          "height": 350
        },
        "id": "nHmsYIXmiehc",
        "outputId": "cbb1afb5-2269-4dda-d9e0-b5bd79548f9f"
      },
      "source": [
        "fig, ax = plt.subplots( figsize = (10, 5))\n",
        "eval_metrics_train = model2_own.eval_metrics(train_pool_own, metrics = 'RMSE')\n",
        "eval_metrics = model2_own.eval_metrics(test_pool_own, metrics = 'RMSE')\n",
        "ax.plot(np.arange(1, eval_metrics['RMSE'].__len__()+1, 1), \n",
        "        eval_metrics['RMSE'], c = 'r',\n",
        "        label = 'RMSE on test')\n",
        "\n",
        "ax.plot(np.arange(1, eval_metrics_train['RMSE'].__len__()+1, 1), \n",
        "        eval_metrics_train['RMSE'], c = 'b',\n",
        "        label = 'RMSE on train')\n",
        "\n",
        "\n",
        "ax.legend()\n",
        "ax.grid()\n",
        "ax.set_xlabel('iters')\n",
        "ax.set_ylabel('RMSE')\n",
        "ax.set_title('Investment')\n",
        "\n",
        "\n",
        "plt.show()"
      ],
      "execution_count": 170,
      "outputs": [
        {
          "output_type": "display_data",
          "data": {
            "image/png": "[encoded data removed]",
            "text/plain": [
              "<Figure size 720x360 with 1 Axes>"
            ]
          },
          "metadata": {
            "tags": [],
            "needs_background": "light"
          }
        }
      ]
    },
    {
      "cell_type": "code",
      "metadata": {
        "colab": {
          "base_uri": "https://localhost:8080/",
          "height": 508
        },
        "id": "WeSozexrnABF",
        "outputId": "3daf3fa0-7093-4721-9208-ccfaaef7a73d"
      },
      "source": [
        "import scipy\n",
        "from scipy.stats import norm\n",
        "fig, ax = plt.subplots(figsize = (7, 5))\n",
        "sns.distplot(a = y_train_own, bins = 30, hist = True,\n",
        "             fit = norm,\n",
        "             ax = ax,\n",
        "             label = 'ownweroccupier train',\n",
        "             color = 'red',\n",
        "             )\n",
        "\n",
        "sns.distplot(a = y_train_inv, bins = 30, hist = True,\n",
        "             fit = norm,\n",
        "             ax = ax,\n",
        "             label = 'investment train',\n",
        "             color = 'b'\n",
        "             )\n",
        "\n",
        "ax.set_title('Investment/Owneroccupier')\n",
        "ax.legend()\n",
        "plt.show()\n",
        "\n",
        "print('train investment skew: {:.3f}'.format(scipy.stats.skew(y_train_inv)))\n",
        "print('train owneroccupier skew: {:.3f}'.format(scipy.stats.skew(y_train_own)))\n",
        "\n",
        "\n",
        "print('test investment skew: {:.3f}'.format(scipy.stats.skew(y_test_inv)))\n",
        "print('test owneroccupier skew: {:.3f}'.format(scipy.stats.skew(y_test_own)))\n",
        "\n"
      ],
      "execution_count": 171,
      "outputs": [
        {
          "output_type": "stream",
          "text": [
            "/usr/local/lib/python3.7/dist-packages/seaborn/distributions.py:2557: FutureWarning: `distplot` is a deprecated function and will be removed in a future version. Please adapt your code to use either `displot` (a figure-level function with similar flexibility) or `histplot` (an axes-level function for histograms).\n",
            "  warnings.warn(msg, FutureWarning)\n",
            "/usr/local/lib/python3.7/dist-packages/seaborn/distributions.py:2557: FutureWarning: `distplot` is a deprecated function and will be removed in a future version. Please adapt your code to use either `displot` (a figure-level function with similar flexibility) or `histplot` (an axes-level function for histograms).\n",
            "  warnings.warn(msg, FutureWarning)\n"
          ],
          "name": "stderr"
        },
        {
          "output_type": "display_data",
          "data": {
            "image/png": "[encoded data removed]",
            "text/plain": [
              "<Figure size 504x360 with 1 Axes>"
            ]
          },
          "metadata": {
            "tags": [],
            "needs_background": "light"
          }
        },
        {
          "output_type": "stream",
          "text": [
            "train investment skew: 4.566\n",
            "train owneroccupier skew: 3.537\n",
            "test investment skew: 5.622\n",
            "test owneroccupier skew: 3.733\n"
          ],
          "name": "stdout"
        }
      ]
    },
    {
      "cell_type": "markdown",
      "metadata": {
        "id": "J8t-klaK2A6s"
      },
      "source": [
        "### (*) Ensemble v.2 (дополнительно, 2 балла)\n",
        "\n",
        "Попробуйте сделать для `Investment` более сложную модель: обучите `CatBoostRegressor` и `HuberRegressor` из `sklearn`, а затем сложите их предсказания с весами `w_1` и `w_2` (выберите веса сами; сумма весов равняется 1)."
      ]
    },
    {
      "cell_type": "markdown",
      "metadata": {
        "id": "2a-RaWNMLgmc"
      },
      "source": [
        "А теперь давайте на crorss-val подберём коэффициенты для модели. $\\alpha_{1, 2}$"
      ]
    },
    {
      "cell_type": "code",
      "metadata": {
        "id": "RCV3PKg0Lf9g"
      },
      "source": [
        "# -- Мы можем обучить на ответах этих двух алгоримов, они будут конечно - же сильно скоррелированные -- #\n",
        "def weighted_model(model_list: list,  \n",
        "                   X, y,\n",
        "                   cv = 3,\n",
        "                   grids = 5,\n",
        "                   cv_scoring = mean_squared_error,\n",
        "                   high_score_is_better = False, \n",
        "                   verbose = 1, \n",
        "                   brute_algo = True, \n",
        "                   ):\n",
        "  \n",
        "  \"\"\"\n",
        "  brute_algo - перебирает веса по сетке - это очень долго, с учётом кросс-валидации (True, False)\n",
        "  returned best_weights, and best_score_cv\n",
        "  \"\"\"\n",
        "  if(isinstance(X, pd.DataFrame)):\n",
        "    X = X.values\n",
        "    \n",
        "  if(isinstance(y, pd.DataFrame) or isinstance(y, pd.Series)):\n",
        "    y = y.values\n",
        "    \n",
        "  kf = KFold(n_splits = cv, shuffle = True)\n",
        "  scores = {}\n",
        "\n",
        "  if(model_list.__len__() == 2):\n",
        "    # -- Мы можем перебрать по сетке -- #\n",
        "    model1, model2 = model_list\n",
        "    alphas = np.linspace(0.1, 0.95, grids)\n",
        "    for idx, alpha in enumerate(alphas, 0):\n",
        "      scores_arr = []\n",
        "      for idx_tr, idx_ts in kf.split(X, y):\n",
        "        X_tr, X_val = X[idx_tr], X[idx_ts]\n",
        "        y_tr, y_val = y[idx_tr], y[idx_ts]\n",
        "        # -- learned basic models -- #\n",
        "        # -- for catboost we should create pools -- #\n",
        "        if(model1.__str__().find('catboost') != -1):\n",
        "          tr_pool = Pool(X_tr, y_tr)\n",
        "          val_pool = Pool(X_val, y_val)\n",
        "\n",
        "          model1.fit(tr_pool, verbose = 0)\n",
        "          # -- predict -- #\n",
        "          preds1 = model1.predict(val_pool)\n",
        "\n",
        "        else: # -- предполагаем, что тут sklearn -- #\n",
        "          model1.fit(X_tr, y_tr)\n",
        "          model2.fit(X_tr, y_tr)\n",
        "\n",
        "          # -- predict -- #\n",
        "          preds1 = model1.predict(X_val)\n",
        "          preds2 = model2.predict(X_val)\n",
        "\n",
        "        if(model2.__str__().find('catboost') != -1):\n",
        "          tr_pool = Pool(X_tr, y_tr)\n",
        "          val_pool = Pool(X_val, y_val)\n",
        "          model2.fit(tr_pool, verbose = 0)\n",
        "          # -- predict -- #\n",
        "          preds2 = model2.predict(val_pool)\n",
        "\n",
        "        else: # -- предполагаем, что тут sklearn -- #\n",
        "          model2.fit(X_tr, y_tr)\n",
        "          # -- predict -- #\n",
        "          preds2 = model2.predict(X_val)\n",
        "\n",
        "        # -- create weighted answer -- #\n",
        "        preds_weighted = alpha * preds1 + (1 - alpha) * preds2\n",
        "        score = np.sqrt(cv_scoring(y_val, preds_weighted)) # (y_test, preds)\n",
        "        scores_arr.append(score)\n",
        "\n",
        "      scores[alpha] = np.asarray(scores_arr).mean()\n",
        "      # -- print info -- #\n",
        "      if(verbose > 0):\n",
        "        print('alpha: {:.3f}\\nscore on validation: {:.2f}'.format(\n",
        "            alpha, scores[alpha], \n",
        "        ))\n",
        "\n",
        "    scores_np = np.asarray(scores.values())\n",
        "    if(high_score_is_better):\n",
        "      # -- for example accuracy should high -- #\n",
        "      alphas_best = alphas[scores_np.argmax()]\n",
        "      score_best = scores_np.max()\n",
        "    else:\n",
        "      # -- rmse should be smaller -- # \n",
        "      alphas_best = alphas[scores_np.argmin()]\n",
        "      score_best = scores_np.min()\n",
        "\n",
        "  else:\n",
        "    # -- Если моделей больше 1-ой -- #\n",
        "    pass\n",
        "\n",
        "  return alphas_best, score_best"
      ],
      "execution_count": 150,
      "outputs": []
    },
    {
      "cell_type": "code",
      "metadata": {
        "id": "Y9AYDqhJuaXo"
      },
      "source": [
        "import warnings\n",
        "warnings.filterwarnings(\"ignore\")"
      ],
      "execution_count": 183,
      "outputs": []
    },
    {
      "cell_type": "code",
      "metadata": {
        "id": "JOKD-l8HuOgM",
        "colab": {
          "base_uri": "https://localhost:8080/"
        },
        "outputId": "8a6439bd-611b-492c-9199-2d8e54795e96"
      },
      "source": [
        "from sklearn.linear_model import HuberRegressor\n",
        "from sklearn.model_selection import GridSearchCV\n",
        "from sklearn.preprocessing import StandardScaler, RobustScaler, MinMaxScaler\n",
        "from sklearn.pipeline import Pipeline, make_pipeline\n",
        "\n",
        "# -- Более удобен в случае наличие больших хвостов в данных т.е к выбросам -- #\n",
        "# -- important data (epsilon, alpha) -- #\n",
        "\n",
        "model = Pipeline([\n",
        "          ('std', StandardScaler()),\n",
        "          ('huber', HuberRegressor())\n",
        "])\n",
        "param_grid = {\n",
        "    'huber__epsilon':  [1.35, 1.5, 1.75, 1.9],\n",
        "    'huber__alpha': np.logspace(-4, 2, 5),\n",
        "}\n",
        "\n",
        "kf = KFold(3, shuffle=True)\n",
        "grid_search = GridSearchCV(model, \n",
        "                           cv = kf,\n",
        "                           param_grid = param_grid,\n",
        "                           scoring = 'neg_mean_squared_error')\n",
        "grid_search.fit(X_train_own, y_train_own)"
      ],
      "execution_count": 184,
      "outputs": [
        {
          "output_type": "execute_result",
          "data": {
            "text/plain": [
              "GridSearchCV(cv=KFold(n_splits=3, random_state=None, shuffle=True),\n",
              "             error_score=nan,\n",
              "             estimator=Pipeline(memory=None,\n",
              "                                steps=[('std',\n",
              "                                        StandardScaler(copy=True,\n",
              "                                                       with_mean=True,\n",
              "                                                       with_std=True)),\n",
              "                                       ('huber',\n",
              "                                        HuberRegressor(alpha=0.0001,\n",
              "                                                       epsilon=1.35,\n",
              "                                                       fit_intercept=True,\n",
              "                                                       max_iter=100, tol=1e-05,\n",
              "                                                       warm_start=False))],\n",
              "                                verbose=False),\n",
              "             iid='deprecated', n_jobs=None,\n",
              "             param_grid={'huber__alpha': array([1.00000000e-04, 3.16227766e-03, 1.00000000e-01, 3.16227766e+00,\n",
              "       1.00000000e+02]),\n",
              "                         'huber__epsilon': [1.35, 1.5, 1.75, 1.9]},\n",
              "             pre_dispatch='2*n_jobs', refit=True, return_train_score=False,\n",
              "             scoring='neg_mean_squared_error', verbose=0)"
            ]
          },
          "metadata": {
            "tags": []
          },
          "execution_count": 184
        }
      ]
    },
    {
      "cell_type": "code",
      "metadata": {
        "colab": {
          "base_uri": "https://localhost:8080/"
        },
        "id": "4n01EguTZCTN",
        "outputId": "53cfa9fc-cdfc-49ff-b957-11a32f64368e"
      },
      "source": [
        "# -- подсчитаем качество по настроенным весам -- #\n",
        "print('score on huber after grid search: {:.0f}'.format(np.sqrt(-grid_search.best_score_)))\n"
      ],
      "execution_count": 187,
      "outputs": [
        {
          "output_type": "stream",
          "text": [
            "score on huber after grid search: 3502883\n"
          ],
          "name": "stdout"
        }
      ]
    },
    {
      "cell_type": "code",
      "metadata": {
        "colab": {
          "base_uri": "https://localhost:8080/"
        },
        "id": "yrjMALjwrmUK",
        "outputId": "0aaf43ef-ca9a-4c75-e8c4-c725cb9c1be7"
      },
      "source": [
        "best_weight, best_score_cv = weighted_model([grid_search.best_estimator_, model2_own],\n",
        "               X_train_own, y_train_own, grids = 5,\n",
        "               cv_scoring = mean_squared_error, \n",
        "               high_score_is_better = False)"
      ],
      "execution_count": 188,
      "outputs": [
        {
          "output_type": "stream",
          "text": [
            "alpha: 0.100\n",
            "score on validation: 3178836.37\n",
            "alpha: 0.312\n",
            "score on validation: 3135336.28\n",
            "alpha: 0.525\n",
            "score on validation: 3232773.85\n",
            "alpha: 0.737\n",
            "score on validation: 3292388.72\n",
            "alpha: 0.950\n",
            "score on validation: 3522914.35\n"
          ],
          "name": "stdout"
        }
      ]
    },
    {
      "cell_type": "markdown",
      "metadata": {
        "id": "A7Te196axFzt"
      },
      "source": [
        "Ответ на тесте для investment на скомбинированном алгоритме не вырос. Потому-что huber даёт качество, ниже чем обычное дерево глубины 3...\n"
      ]
    },
    {
      "cell_type": "code",
      "metadata": {
        "colab": {
          "base_uri": "https://localhost:8080/"
        },
        "id": "JL6NG9IYvXyT",
        "outputId": "0e403190-2a87-409a-e71c-b476ff8cd53e"
      },
      "source": [
        "print('{}*huber + {}*catboostregressor'.format(best_weight, 1-best_weight))\n",
        "preds = best_alpha * grid_search.best_estimator_.predict(X_test_own) + (1 - best_alpha) * model2_own.predict(test_pool_own)\n",
        "print('rmse on investment data: {}'.format(rmse(preds, y_test_own)))"
      ],
      "execution_count": 198,
      "outputs": [
        {
          "output_type": "stream",
          "text": [
            "0.1*huber + 0.9*catboostregressor\n",
            "rmse on investment data: 2981421.9505396103\n"
          ],
          "name": "stdout"
        }
      ]
    },
    {
      "cell_type": "code",
      "metadata": {
        "id": "ShIRqDvUxpwu"
      },
      "source": [
        ""
      ],
      "execution_count": null,
      "outputs": []
    }
  ]
}