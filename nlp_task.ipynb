{
  "nbformat": 4,
  "nbformat_minor": 0,
  "metadata": {
    "colab": {
      "name": "nlp_tasks.ipynb",
      "provenance": [],
      "collapsed_sections": [],
      "authorship_tag": "ABX9TyPCMXm+cK2Jj89GGQgEYdi9",
      "include_colab_link": true
    },
    "kernelspec": {
      "name": "python3",
      "display_name": "Python 3"
    },
    "language_info": {
      "name": "python"
    }
  },
  "cells": [
    {
      "cell_type": "markdown",
      "metadata": {
        "id": "view-in-github",
        "colab_type": "text"
      },
      "source": [
        "<a href=\"https://colab.research.google.com/github/Mikhail-Klochkov/ml_intro/blob/master/nlp_task.ipynb\" target=\"_parent\"><img src=\"https://colab.research.google.com/assets/colab-badge.svg\" alt=\"Open In Colab\"/></a>"
      ]
    },
    {
      "cell_type": "code",
      "metadata": {
        "id": "Nowl4h9nXxnS"
      },
      "source": [
        "import re\n",
        "import string\n",
        "import operator\n",
        "\n",
        "from collections import defaultdict\n",
        "\n",
        "import numpy as np\n",
        "import pandas as pd\n",
        "pd.set_option('display.max_rows', 500)\n",
        "pd.set_option('display.max_columns', 500)\n",
        "pd.set_option('display.width', 1000)\n",
        "\n",
        "import matplotlib.pyplot as plt\n",
        "import seaborn as sns\n",
        "import nltk\n",
        "from wordcloud import STOPWORDS\n",
        "\n",
        "from sklearn.model_selection import StratifiedKFold, StratifiedShuffleSplit\n",
        "from sklearn.metrics import precision_score, recall_score, f1_score"
      ],
      "execution_count": 1,
      "outputs": []
    },
    {
      "cell_type": "code",
      "metadata": {
        "colab": {
          "base_uri": "https://localhost:8080/"
        },
        "id": "Xo_7fc8LYkDA",
        "outputId": "78a3bf79-e904-4bb3-c180-b001de828f1e"
      },
      "source": [
        "from google.colab import drive\n",
        "drive.mount('/content/drive')"
      ],
      "execution_count": 2,
      "outputs": [
        {
          "output_type": "stream",
          "text": [
            "Mounted at /content/drive\n"
          ],
          "name": "stdout"
        }
      ]
    },
    {
      "cell_type": "code",
      "metadata": {
        "colab": {
          "base_uri": "https://localhost:8080/"
        },
        "id": "5KxcppfiY_wr",
        "outputId": "5f903a3e-b13e-4bca-f3cc-df2b1a45c922"
      },
      "source": [
        "!unzip '/content/drive/MyDrive/Colab_Notebooks/nlp.zip' -d data\n"
      ],
      "execution_count": 3,
      "outputs": [
        {
          "output_type": "stream",
          "text": [
            "Archive:  /content/drive/MyDrive/Colab_Notebooks/nlp.zip\n",
            "   creating: data/nlp/\n",
            "  inflating: data/__MACOSX/._nlp     \n",
            "  inflating: data/nlp/positive-words.txt  \n",
            "  inflating: data/__MACOSX/nlp/._positive-words.txt  \n",
            "  inflating: data/nlp/sample submission.csv  \n",
            "  inflating: data/__MACOSX/nlp/._sample submission.csv  \n",
            "  inflating: data/nlp/SentiWordNet.txt  \n",
            "  inflating: data/__MACOSX/nlp/._SentiWordNet.txt  \n",
            "  inflating: data/nlp/test.csv       \n",
            "  inflating: data/__MACOSX/nlp/._test.csv  \n",
            "  inflating: data/nlp/train.csv      \n",
            "  inflating: data/__MACOSX/nlp/._train.csv  \n",
            "  inflating: data/nlp/negative-words.txt  \n",
            "  inflating: data/__MACOSX/nlp/._negative-words.txt  \n"
          ],
          "name": "stdout"
        }
      ]
    },
    {
      "cell_type": "code",
      "metadata": {
        "id": "xeJWpF5EZObn"
      },
      "source": [
        "df = pd.read_csv(\"/content/data/nlp/train.csv\", encoding='ISO-8859-1')\n",
        "df_new = df.copy(deep = True)"
      ],
      "execution_count": 119,
      "outputs": []
    },
    {
      "cell_type": "code",
      "metadata": {
        "colab": {
          "base_uri": "https://localhost:8080/"
        },
        "id": "-1VwborsZrEZ",
        "outputId": "57a03360-99d7-4a52-9ba1-a84f28a373cd"
      },
      "source": [
        "df.info()"
      ],
      "execution_count": 120,
      "outputs": [
        {
          "output_type": "stream",
          "text": [
            "<class 'pandas.core.frame.DataFrame'>\n",
            "RangeIndex: 2351 entries, 0 to 2350\n",
            "Data columns (total 5 columns):\n",
            " #   Column        Non-Null Count  Dtype  \n",
            "---  ------        --------------  -----  \n",
            " 0   Id            2351 non-null   int64  \n",
            " 1   Hotel_name    2351 non-null   object \n",
            " 2   Review_Title  2136 non-null   object \n",
            " 3   Review_Text   2351 non-null   object \n",
            " 4   Rating        2351 non-null   float64\n",
            "dtypes: float64(1), int64(1), object(3)\n",
            "memory usage: 92.0+ KB\n"
          ],
          "name": "stdout"
        }
      ]
    },
    {
      "cell_type": "code",
      "metadata": {
        "id": "vIxq-BvMovCI"
      },
      "source": [
        "if('Id' in set(df.columns)):\n",
        "  df.drop(columns= ['Id'], inplace = True)"
      ],
      "execution_count": 121,
      "outputs": []
    },
    {
      "cell_type": "markdown",
      "metadata": {
        "id": "fnWz-3o_awXZ"
      },
      "source": [
        "Пропущенные значения у Review_Title"
      ]
    },
    {
      "cell_type": "code",
      "metadata": {
        "colab": {
          "base_uri": "https://localhost:8080/"
        },
        "id": "iwopNqdaakx_",
        "outputId": "906a2697-7eb2-417a-9385-a1e04996c25d"
      },
      "source": [
        "df.isna().sum(axis = 0)"
      ],
      "execution_count": 122,
      "outputs": [
        {
          "output_type": "execute_result",
          "data": {
            "text/plain": [
              "Hotel_name        0\n",
              "Review_Title    215\n",
              "Review_Text       0\n",
              "Rating            0\n",
              "dtype: int64"
            ]
          },
          "metadata": {
            "tags": []
          },
          "execution_count": 122
        }
      ]
    },
    {
      "cell_type": "code",
      "metadata": {
        "colab": {
          "base_uri": "https://localhost:8080/",
          "height": 513
        },
        "id": "OtgktrLxavUq",
        "outputId": "9a7c3c3f-2f87-4d1d-e65c-e9104c797162"
      },
      "source": [
        "fig, ax = plt.subplots(figsize = (5, 7))\n",
        "sns.distplot(a = df.Rating, \n",
        "             bins = 30, \n",
        "             hist = True, \n",
        "             ax = ax,\n",
        "             label = 'Rating')\n",
        "ax.set_title('Rating distributions')\n",
        "ax.grid()"
      ],
      "execution_count": 123,
      "outputs": [
        {
          "output_type": "stream",
          "text": [
            "/usr/local/lib/python3.7/dist-packages/seaborn/distributions.py:2557: FutureWarning: `distplot` is a deprecated function and will be removed in a future version. Please adapt your code to use either `displot` (a figure-level function with similar flexibility) or `histplot` (an axes-level function for histograms).\n",
            "  warnings.warn(msg, FutureWarning)\n"
          ],
          "name": "stderr"
        },
        {
          "output_type": "display_data",
          "data": {
            "image/png": "[encoded data removed]",
            "text/plain": [
              "<Figure size 360x504 with 1 Axes>"
            ]
          },
          "metadata": {
            "tags": [],
            "needs_background": "light"
          }
        }
      ]
    },
    {
      "cell_type": "code",
      "metadata": {
        "colab": {
          "base_uri": "https://localhost:8080/"
        },
        "id": "3R-y2rDzbOFU",
        "outputId": "326451b5-e856-4d0e-ca95-3b8fcd453859"
      },
      "source": [
        "\n",
        "print('We have several levels of rating : {}\\nsize of unique values: {}'.format(df.Rating.unique(),\n",
        "                                                                                 df.Rating.unique().__len__()))"
      ],
      "execution_count": 124,
      "outputs": [
        {
          "output_type": "stream",
          "text": [
            "We have several levels of rating : [ 80. 100.  71.  86.  40.  57.  43.  20.  60.  65.  29.]\n",
            "size of unique values: 11\n"
          ],
          "name": "stdout"
        }
      ]
    },
    {
      "cell_type": "code",
      "metadata": {
        "colab": {
          "base_uri": "https://localhost:8080/"
        },
        "id": "dX7CheOi2SrW",
        "outputId": "8bdf1c35-3443-48eb-89e6-18b395133bc1"
      },
      "source": [
        "# -- По сути то, что мы наблюдаем -- #\n",
        "df.Rating.value_counts()/df.shape[0]"
      ],
      "execution_count": 125,
      "outputs": [
        {
          "output_type": "execute_result",
          "data": {
            "text/plain": [
              "86.0     0.197788\n",
              "100.0    0.187580\n",
              "71.0     0.139090\n",
              "80.0     0.130583\n",
              "60.0     0.073160\n",
              "65.0     0.069332\n",
              "57.0     0.061251\n",
              "20.0     0.037431\n",
              "40.0     0.037431\n",
              "43.0     0.037006\n",
              "29.0     0.029349\n",
              "Name: Rating, dtype: float64"
            ]
          },
          "metadata": {
            "tags": []
          },
          "execution_count": 125
        }
      ]
    },
    {
      "cell_type": "markdown",
      "metadata": {
        "id": "CJI2z_b0bzLP"
      },
      "source": [
        "Видно, что значения рейтинга принимают конечное множество значений. Всего 11.\n"
      ]
    },
    {
      "cell_type": "code",
      "metadata": {
        "colab": {
          "base_uri": "https://localhost:8080/",
          "height": 350
        },
        "id": "yRv45ozbbotW",
        "outputId": "338f92b5-7c32-42ad-d62e-5030f90db228"
      },
      "source": [
        "fig, ax = plt.subplots(figsize = (5, 5))\n",
        "sns.countplot(data = df, x = 'Rating',\n",
        "              ax = ax,\n",
        "              label = 'counts')\n",
        "\n",
        "ax.set_title('Distribution of ratings')\n",
        "ax.grid(True)"
      ],
      "execution_count": 126,
      "outputs": [
        {
          "output_type": "display_data",
          "data": {
            "image/png": "[encoded data removed]",
            "text/plain": [
              "<Figure size 360x360 with 1 Axes>"
            ]
          },
          "metadata": {
            "tags": [],
            "needs_background": "light"
          }
        }
      ]
    },
    {
      "cell_type": "code",
      "metadata": {
        "colab": {
          "base_uri": "https://localhost:8080/",
          "height": 405
        },
        "id": "KSnprvqocQzP",
        "outputId": "02988d72-face-48f1-e06e-145738be01dc"
      },
      "source": [
        "# -- maybe the better use Review_title and text together -- #\n",
        "from scipy.stats import norm\n",
        "length_of_titles = df.Review_Title.apply(lambda x: 0 if x is np.nan else len(x))\n",
        "fig, ax = plt.subplots(1, 2, figsize = (10, 5))\n",
        "sns.distplot(a = length_of_titles,\n",
        "             hist = True,\n",
        "             ax = ax[0],\n",
        "             label = 'Distribution of len Title',\n",
        "             fit = norm,   \n",
        "             color = '#BBB140'          \n",
        "             )\n",
        "ax[0].legend()\n",
        "ax[0].grid()\n",
        "sns.boxplot(x = length_of_titles, \n",
        "            color = '#AAA140', ax= ax[1],\n",
        "            whis = 2.)\n",
        "\n",
        "ax[1].set_title('boxplot for lenght_of_titles')\n",
        "\n",
        "plt.show()"
      ],
      "execution_count": 127,
      "outputs": [
        {
          "output_type": "stream",
          "text": [
            "/usr/local/lib/python3.7/dist-packages/seaborn/distributions.py:2557: FutureWarning: `distplot` is a deprecated function and will be removed in a future version. Please adapt your code to use either `displot` (a figure-level function with similar flexibility) or `histplot` (an axes-level function for histograms).\n",
            "  warnings.warn(msg, FutureWarning)\n"
          ],
          "name": "stderr"
        },
        {
          "output_type": "display_data",
          "data": {
            "image/png": "[encoded data removed]",
            "text/plain": [
              "<Figure size 720x360 with 2 Axes>"
            ]
          },
          "metadata": {
            "tags": [],
            "needs_background": "light"
          }
        }
      ]
    },
    {
      "cell_type": "markdown",
      "metadata": {
        "id": "QLq_enq4lqqx"
      },
      "source": [
        "Feature extractions\n",
        "Можно все эти признаки суммировать как для одного текста, а вдруг название и сам текст имеют немного разный смысл?"
      ]
    },
    {
      "cell_type": "code",
      "metadata": {
        "id": "Qq_HZ2TWd52R"
      },
      "source": [
        "# -- Информация об отсутствии title возможно необходима -- #\n",
        "\n",
        "# -- len -- #\n",
        "df['total_length_title'] = df.Review_Title.apply(lambda x: 0 if x is np.nan else len(x))\n",
        "df['total_length_text'] = df.Review_Text.apply(lambda x: 0 if x is np.nan else len(x))\n",
        "\n",
        "# -- Number of capitalize -- #\n",
        "\n",
        "# -- Before work with nan object for Title -- #\n",
        "#df.Review_Title[df.Review_Title.isna()] = df.Review_Title[df.Review_Title.isna()].apply(lambda title: ' ')\n",
        "\n",
        "df.Review_Title.apply(lambda x: type(x))\n",
        "df['num_of_capitals_title'] = df.Review_Title.apply(lambda title: \n",
        "                                                    sum(1 for char in title if char.isupper()) if (title is not np.nan) else 0)\n",
        "\n",
        "df['num_of_capitals_text'] = df.Review_Text.apply(lambda text: sum([1 for char in text if char.isupper()]))\n",
        "\n",
        "\n",
        "# -- enter some new features -- #\n",
        "eps = 0.1\n",
        "df['caps_vs_length'] = df.apply(lambda row: float(row['num_of_capitals_title'])/float(row['total_length_title'] + eps), axis = 1)\n",
        "# -- Вопрос. и воскл. знаки и препинания -- #\n",
        "df['num_exclamation_marks_title'] = df.Review_Title.apply(lambda title: title.count('!') if title is not np.nan else 0)\n",
        "df['num_exclamation_marks_text'] = df.Review_Text.apply(lambda text: text.count('!'))\n",
        "\n",
        "df['num_quest_marks_title'] = df.Review_Title.apply(lambda title: title.count('?') if title is not np.nan else 0)\n",
        "df['num_quest_marks_text'] = df.Review_Text.apply(lambda text: text.count('?'))\n",
        "\n",
        "df['num_punctuation_title'] = df.Review_Title.apply(lambda title: sum(title.count(w) for w in '.,;:') if title is not np.nan else 0)\n",
        "df['num_punctuation_text'] = df.Review_Text.apply(lambda text: sum(text.count(w) for w in '.,;:'))\n",
        "\n",
        "# -- num words, num_unique words(locally) -- #\n",
        "df['num_words_title'] = df.Review_Title.apply(lambda title: len(title.split()) if title is not np.nan else 0)\n",
        "df['num_words_text'] = df.Review_Text.apply(lambda text: len(text.split()))\n",
        "\n",
        "df['num_unique_words_title'] = df.Review_Title.apply(lambda title: len(set(w for w in title.split())) if title is not np.nan else 0)\n",
        "df['num_unique_words_text'] = df.Review_Text.apply(lambda text: len(set(w for w in text.split())))\n",
        "\n",
        "df['words_vs_unique_title'] = df['num_words_title']/(df['num_unique_words_title'] + eps)\n",
        "df['words_vs_unique_text'] = df.apply(lambda row: float(row['num_words_text'])/(row['num_unique_words_text'] + eps), axis = 1)\n",
        "\n",
        "# -- only text -- #\n",
        "df['num_smilies'] = df.Review_Text.apply(lambda text: sum(text.count(w) for w in (':-)', ':)', ';-)', ';)')))"
      ],
      "execution_count": 128,
      "outputs": []
    },
    {
      "cell_type": "code",
      "metadata": {
        "colab": {
          "base_uri": "https://localhost:8080/",
          "height": 571
        },
        "id": "ORE_1zBfiC6l",
        "outputId": "c8f0dd5e-f593-4fde-99b8-0a5c27e06b51"
      },
      "source": [
        "# -- lets see on correleations between new features -- #\n",
        "\n",
        "fig, ax = plt.subplots(figsize = (10, 7))\n",
        "correlations_matrix = df.drop(columns = [col for col in df.columns if col.find('Review') != -1]).corr()\n",
        "ax = sns.heatmap(correlations_matrix, \n",
        "                 vmin = -1, \n",
        "                 vmax = 1, \n",
        "                 center = 0.)\n",
        "plt.show()\n"
      ],
      "execution_count": 129,
      "outputs": [
        {
          "output_type": "display_data",
          "data": {
            "image/png": "[encoded data removed]",
            "text/plain": [
              "<Figure size 720x504 with 2 Axes>"
            ]
          },
          "metadata": {
            "tags": [],
            "needs_background": "light"
          }
        }
      ]
    },
    {
      "cell_type": "markdown",
      "metadata": {
        "id": "yLwLj6lgpkO_"
      },
      "source": [
        "Видно, что держать в таком виде наши данные просто безумие, проще title and text в один пихнуть, а потом добавть новые признаки на "
      ]
    },
    {
      "cell_type": "code",
      "metadata": {
        "id": "8LBv51NnpcZe"
      },
      "source": [
        "# -- try to remove some features with high covariance -- #\n",
        "# -- names of hotels -- #\n",
        "import string \n",
        "lengths_of_names = df_new.Hotel_name.apply(lambda x: len(x.split(' '))).value_counts()\n",
        "if('ID' in set(df_new.columns)):\n",
        "  df_new = df_new.drop(columns  = ['Id'])\n",
        "\n",
        "# -- concat together Review Title and Review Text -- #\n",
        "def concatTitleText(title, text):\n",
        "  if(title is np.nan):\n",
        "    return text\n",
        "  else:\n",
        "    return text + title\n",
        "\n",
        "df_new['allText'] = df_new.apply(lambda r: concatTitleText(r['Review_Title'], r['Review_Text']), axis = 1)\n",
        "# -- some check Titles with lower case -- #\n",
        "\n",
        "not_nan = df_new.Review_Title.isna().values.astype(bool)\n",
        "mask_lower_case = df_new.Review_Title[~not_nan].str[0].apply(lambda x: x.islower())\n"
      ],
      "execution_count": 130,
      "outputs": []
    },
    {
      "cell_type": "code",
      "metadata": {
        "id": "OtbbBHkhc6uS"
      },
      "source": [
        "# -- the same preprocessing -- #\n",
        "def AddFeaturesText(df_not_change, text_column :str):\n",
        "  \"\"\"\n",
        "  get dataframe df_not_change and after we returned a new DataFrame of added Dataset \n",
        "  \"\"\"\n",
        "  # -- len -- #\n",
        "  df = df_not_change.copy(deep = True)\n",
        "  df['total_length_text'] = df[text_column].apply(lambda x: 0 if x is np.nan else len(x))\n",
        "  # -- Number of capitalize -- #\n",
        "  \n",
        "  df['num_of_capitals_text'] = df[text_column].apply(lambda text: sum([1 for char in text if char.isupper()]))\n",
        "  # -- enter some new features -- #\n",
        "  \n",
        "  eps = 0.1\n",
        "  df['caps_vs_length'] = df.apply(lambda row: float(row['num_of_capitals_text'])/float(row['total_length_text'] + eps), axis = 1)\n",
        "  # -- Вопрос. и воскл. знаки и препинания -- #\n",
        "\n",
        "  df['num_exclamation_marks_text'] = df[text_column].apply(lambda text: text.count('!'))\n",
        "  df['num_quest_marks_text'] = df[text_column].apply(lambda text: text.count('?'))\n",
        "  df['num_punctuation_text'] = df[text_column].apply(lambda text: sum(text.count(w) for w in '.,;:'))\n",
        "\n",
        "  # -- num words, num_unique words(locally) -- #\n",
        "  df['num_words_text'] = df[text_column].apply(lambda text: len(text.split()))\n",
        "  df['num_unique_words_text'] = df[text_column].apply(lambda text: len(set(w for w in text.split())))\n",
        "  df['words_vs_unique_text'] = df.apply(lambda row: float(row['num_words_text'])/(row['num_unique_words_text'] + eps), axis = 1)\n",
        "\n",
        "  # -- only text -- #\n",
        "  df['num_smilies'] = df[text_column].apply(lambda text: sum(text.count(w) for w in (':-)', ':)', ';-)', ';)')))\n",
        "  return df\n",
        "\n",
        "df_new_add = AddFeaturesText(df_new, 'allText')"
      ],
      "execution_count": 131,
      "outputs": []
    },
    {
      "cell_type": "code",
      "metadata": {
        "colab": {
          "base_uri": "https://localhost:8080/",
          "height": 365
        },
        "id": "KEIDuHX07jae",
        "outputId": "4f350a04-8f41-4b13-e4eb-0f887d1fcc2a"
      },
      "source": [
        "import nltk \n",
        "from nltk.tokenize import word_tokenize, sent_tokenize\n",
        "from nltk.tokenize import RegexpTokenizer\n",
        "from nltk.stem import WordNetLemmatizer,PorterStemmer\n",
        "from nltk.corpus import stopwords\n",
        "from collections import Counter\n",
        "import re\n",
        "\n",
        "nltk.download('stopwords')\n",
        "nltk.download('punkt')\n",
        "stopwords_ = set(stopwords.words('english'))\n",
        "punctuations_letters = string.punctuation\n",
        "\n",
        "def removepunctuations(text):\n",
        "  return text.translate(str.maketrans('', '', punctuations_letters))\n",
        "\n",
        "def removespecialletterscomplex(text):\n",
        "  \"\"\"\n",
        "  We need not concat in place of special symbols \n",
        "  \"\"\"\n",
        "  for word in text.split(\" \"):\n",
        "    for char in word:\n",
        "      if not char.isalpha():\n",
        "        print([word], ' ', [char])\n",
        "\n",
        "def removePunctSpecial(text):\n",
        "  \"\"\"\n",
        "  remove Punctuations and Other character \n",
        "  \"\"\"\n",
        "  tokens = word_tokenize(text)\n",
        "  words = [word for word in tokens if word.isalpha()]\n",
        "  return \" \".join(words)\n",
        "\n",
        "def removespecialletters(text):\n",
        "  \"\"\"\n",
        "  remove special letters from text \n",
        "  we just remove our \\n and concatenete words together \n",
        "  \"\"\"\n",
        "  words = text.split(\" \")\n",
        "  return ' '.join([''.join([char for char in word if char.isalpha()]) for word in words])\n",
        "\n",
        "def removingstopwords(text):\n",
        "  \"\"\"\n",
        "  remove from text all stopwords of English language\n",
        "  \"\"\"\n",
        "  if(stopwords_ is None):\n",
        "    print('We need download stopwords of English language')\n",
        "  words = text.split(\" \")\n",
        "  return \" \".join([word for word in words if word not in set(stopwords_)])\n",
        "\n",
        "def returnFrequentList(df, col_name_text):\n",
        "  \"\"\"\n",
        "  return Counter of all words in dataset frequent vocabulary\n",
        "  \"\"\"\n",
        "  cnt = Counter()\n",
        "  for row in df.itertuples(index = True, name = 'Pandas'):\n",
        "    text_current = getattr(row, col_name_text) \n",
        "    tokenize = word_tokenize(text_current)\n",
        "    for word in tokenize:\n",
        "      cnt[word] += 1\n",
        "  return cnt \n",
        "\n",
        "# -- the better made lemmatization -- # \n",
        "# -- it's more complex and stable for noise data -- #\n",
        "def stemmedtext(text):\n",
        "  \"\"\"\n",
        "  stemming \n",
        "  \"\"\"\n",
        "  porter = PorterStemmer()\n",
        "  tokens = word_tokenize(text)\n",
        "  stemmed = [porter.stem(word) for word in tokens]\n",
        "  return ' '.join(stemmed)\n",
        "\n",
        "def preprocessingStandartText(df, text_column):\n",
        "  \"\"\"\n",
        "  get DataFrame and made simple text Preprocessing (removal punctuations,\n",
        "  lower case, remove rare words and etc)\n",
        "  return a new dataset with preprocessed Text representetion\n",
        "  \"\"\"\n",
        "  df_copy = df.copy(deep = True)\n",
        "  # -- lower -- #\n",
        "  df_copy[text_column] = df_copy[text_column].str.lower()\n",
        "  # -- remove punctuations and special cases -- #\n",
        "  df_copy[text_column] = df_copy[text_column].apply(lambda text: removePunctSpecial(text))\n",
        "  # -- remove stop words -- #\n",
        "  df_copy[text_column] = df_copy[text_column].apply(lambda text: removingstopwords(text))\n",
        "  # -- stemming -- #\n",
        "  df_copy[text_column] = df_copy[text_column].apply(lambda text: stemmedtext(text))\n",
        "  # -- remove rare and very frequent words -- #\n",
        "  return df_copy\n",
        "\n",
        "# -- lower case -- #\n",
        "df_new_add['allText'] = df_new_add['allText'].str.lower()\n",
        "\n",
        "# -- NLTK -- #\n",
        "df_new_add['allText_diff'] = df_new_add['allText'].apply(lambda text: removePunctSpecial(text))\n",
        "\n",
        "# -- removal punctuations -- #\n",
        "\n",
        "text = df_new_add.allText[3]\n",
        "after_text = text.translate(str.maketrans('', '', punctuations_letters))\n",
        "after_text, text\n",
        "\n",
        "df_new_add['allTextNoPunct'] = df_new_add['allText'].apply(lambda text: removepunctuations(text))\n",
        "\n",
        "# -- remove special characters and numbers -- #\n",
        "df_new_add['allTextNoPunct'] = df_new_add['allTextNoPunct'].apply(lambda text: removespecialletters(text))\n",
        "df_new_add.allTextNoPunct\n",
        "\n",
        "# -- removal stopwords -- #\n",
        "\n",
        "# -- we just see on example -- #\n",
        "text_id = np.random.choice(df_new_add.index, size = 1)[0]\n",
        "text = df_new_add.loc[text_id, 'allTextNoPunct']\n",
        "print('-'*50)\n",
        "print('Text before: \\n{}'.format(text))\n",
        "stop_words = []\n",
        "new_text = []\n",
        "for idx, word in enumerate(text.split(\" \"), 0):\n",
        "  if word in set(stopwords_):\n",
        "    #print('stop word: {}'.format(word))\n",
        "    stop_words.append(word)\n",
        "  else:\n",
        "    new_text.append(word)\n",
        "\n",
        "new_text = \" \".join(new_text)\n",
        "after_text = removingstopwords(text)\n",
        "\n",
        "print('-'*50)\n",
        "print('after text: \\n{}'.format(new_text))\n",
        "print('-'*50)\n",
        "print('stop words: \\n{}'.format(stop_words))\n",
        "\n",
        "# -- removing stopwords -- #\n",
        "df_new_add.allTextNoPunct = df_new_add.allTextNoPunct.apply(lambda text: removingstopwords(text))\n",
        "# -- removing stopwords in another (good) variant -- #\n",
        "df_new_add['allText_diff'] = df_new_add['allText_diff'].apply(lambda text: removingstopwords(text))\n",
        "\n",
        "# -- removing frequent words -- #\n",
        "# -- На самом деле это не нужно делать, если у нас tf-idf, так как такая векторизация слов учтёт частотные характеристики слов -- #\n",
        "# -- Частотный словарь -- #\n",
        "cnt = Counter()\n",
        "\n",
        "text_column_name = 'allTextNoPunct' \n",
        "for row in df_new_add.itertuples(index = True, name = \"Pandas\"):\n",
        "  text_current = getattr(row, text_column_name)\n",
        "  words = text_current.split(\" \")\n",
        "  for w in words:\n",
        "    cnt[w] += 1\n",
        "\n",
        "print('-'*50)\n",
        "cnt.most_common(20)\n",
        "# -- Не кажеться мне, что стоит удалять данные слова, так как они достаточно информативны -- #\n",
        "\n",
        "# -- The same we can drop a rare words from our text -- #\n",
        "\n",
        "num_rare_words = 10\n",
        "rare_words = set([w for w, f in cnt.most_common(cnt.values().__len__())[-num_rare_words:]])\n",
        "#rare_words\n",
        "\n",
        "# -- new clear data -- #\n",
        "counter_ = returnFrequentList(df_new_add, 'allText_diff')\n",
        "rare_words_2 = set([w for w, f in counter_.most_common(counter_.values().__len__())[-num_rare_words:]])\n",
        "print('Rare words: {}\\n'.format(num_rare_words))\n",
        "print(rare_words_2)\n",
        "\n",
        "# -- stemming -- #\n",
        "porter = PorterStemmer()\n",
        "tokens = word_tokenize(df_new_add.allText_diff[1])\n",
        "stemmed = [porter.stem(word) for word in tokens]\n",
        "stemmed\n",
        "\n",
        "df_new_add['allText_diff'] = df_new_add['allText_diff'].apply(lambda text: stemmedtext(text))\n",
        "df_new_add.allText_diff[5]"
      ],
      "execution_count": 132,
      "outputs": [
        {
          "output_type": "stream",
          "text": [
            "[nltk_data] Downloading package stopwords to /root/nltk_data...\n",
            "[nltk_data]   Package stopwords is already up-to-date!\n",
            "[nltk_data] Downloading package punkt to /root/nltk_data...\n",
            "[nltk_data]   Package punkt is already up-to-date!\n",
            "--------------------------------------------------\n",
            "Text before: \n",
            "very close to railway station nice hospitality easy to approach shopping malls staff very kind food was excellent complimentary breakfast very good next visit prefer to stay in same hotel nice location room maintained wellexcellent stay\n",
            "--------------------------------------------------\n",
            "after text: \n",
            "close railway station nice hospitality easy approach shopping malls staff kind food excellent complimentary breakfast good next visit prefer stay hotel nice location room maintained wellexcellent stay\n",
            "--------------------------------------------------\n",
            "stop words: \n",
            "['very', 'to', 'to', 'very', 'was', 'very', 'to', 'in', 'same']\n",
            "--------------------------------------------------\n",
            "Rare words: 10\n",
            "\n",
            "{'traces', 'counters', 'samudra', 'dilapidated', 'height', 'filled', 'excellence', 'goodsuper', 'merely', 'ull'}\n"
          ],
          "name": "stdout"
        },
        {
          "output_type": "execute_result",
          "data": {
            "application/vnd.google.colaboratory.intrinsic+json": {
              "type": "string"
            },
            "text/plain": [
              "'reach hotel car felt good offic staff room servic late hotel atmospher good food drink avail hotel nice experi visit hotel enjoy lot friend also happi atmospher food drink avail'"
            ]
          },
          "metadata": {
            "tags": []
          },
          "execution_count": 132
        }
      ]
    },
    {
      "cell_type": "markdown",
      "metadata": {
        "id": "sO2pYjCPGCVP"
      },
      "source": [
        "На самом деле мы видим много информации в слипшихся словах. Наш текст очень грязный, поэтому необходимо что-то сделать с слипшимися словами?\n"
      ]
    },
    {
      "cell_type": "code",
      "metadata": {
        "colab": {
          "base_uri": "https://localhost:8080/"
        },
        "id": "2S6Kk_b4sogR",
        "outputId": "64f1854f-696e-41a2-f04d-0b501a84e3b3"
      },
      "source": [
        "from numpy.linalg import norm\n",
        "from sklearn.feature_extraction.text import TfidfTransformer, TfidfVectorizer\n",
        "\n",
        "corpus_train = df_new_add['allText_diff']\n",
        "tf_idf = TfidfVectorizer()\n",
        "# -- create a normolized tf-idf vectors -- #\n",
        "corpus_tfidf = tf_idf.fit_transform(corpus_train)\n",
        "\n",
        "# -- check our vocabulary of tfidf -- #\n",
        "vocabulary = tf_idf.vocabulary_\n",
        "counter_vocab = returnFrequentList(df_new_add, 'allText_diff')\n",
        "\n",
        "# -- see on lenght of words -- #\n",
        "wordLen = np.array([[word, len(word)] for word, counts in counter_vocab.items()])\n",
        "wordCount = np.array([[word, counts] for word, counts in counter_vocab.items()])\n",
        "wordLenSort = wordLen[np.array(wordLen[:, 1], dtype = np.int).argsort()][::-1]\n",
        "# -- we need drop this words or documents -- #\n",
        "bad_words = wordLenSort[(np.array(wordLenSort[:, 1], dtype = int) >= 50)][:, 0]\n",
        "\n",
        "# -- find this words in dataset -- #\n",
        "badIndeces = set()\n",
        "for row in df_new_add.itertuples():\n",
        "\n",
        "  text = getattr(row, 'allText_diff')\n",
        "  id = getattr(row, 'Index')\n",
        "  for bad_word in bad_words:\n",
        "    if(len(re.findall(bad_word, text)) != 0):\n",
        "      badIndeces.add(id)\n",
        "\n",
        "# -- see on bad document in all corpus -- #\n",
        "print('Number of documents with bad words (len more then 50 symbols): {}'.format(badIndeces.__len__()))\n",
        "print('Rating of this documents : \\n')\n",
        "print(df_new_add.loc[list(badIndeces), ['Rating']].values)\n",
        "\n",
        "# -- see on counts bad words ( together with another words ) -- #\n",
        "for idx, w in enumerate(wordLenSort[:50, 0], 1):\n",
        "  print(w, \" counts: \", counter_vocab[w])\n",
        "\n",
        "# -- по идее стоит выкинуть из словаря слова с > 50 длинной -- #\n",
        "# -- А также есть множество слипшихся отдельных слов от 2-3 -- #"
      ],
      "execution_count": 133,
      "outputs": [
        {
          "output_type": "stream",
          "text": [
            "Number of documents with bad words (len more then 50 symbols): 10\n",
            "Rating of this documents : \n",
            "\n",
            "[[65.]\n",
            " [65.]\n",
            " [65.]\n",
            " [65.]\n",
            " [65.]\n",
            " [65.]\n",
            " [65.]\n",
            " [65.]\n",
            " [71.]\n",
            " [65.]]\n",
            "vfdsfsdfgdgdsgsdgsdddddddgfggfjjjjjjjjjjjjjjjjjjjjjjjjjjjjjjjjjjjjjjjjjjjjjjjjjjjjjjjjjjjjjjjjjjjjjjjjjjjjjjjjjjjjjjjjjjjjjjjjjjjjjjjjjjjjjjjjjjjjjjjjjjjjjjjjjjjjjjjjjjjjjjjjjjjjjjjjjjjjjjjjjjjjjjjjjjjjjjjjjjjjjjjjjjjjjjjjjjjjjjjjjjjjjjjjjjjjjjjjjjjjjjjjjjjjjv  counts:  1\n",
            "hajajshshhsksbsjnsdbjsbjshjbdhdkdndndjdbxjdkdjdddkkddjdddnddjdgskhsdjdidhskndjdbdjdbkddnkdndjdbdkdndnfjfbdndkdndkdndkdndkdnfjdjdnfkdndjfjkdbdkfhkdndkdbkddnddkdjdnfjfjdndkdndhjddjkdjdhdkdnbddndbdjdjjdkdndjgood  counts:  1\n",
            "nbnnnhhhgttdcvjuytdvjkiffjjydvhuthjhbjjgfbhjufcbjhfvjbjfbjbijtcbniasfjkltewwsfjjjkkytrwwfhjkkkooyreewadhknvcxzcvnmccccbbcxxbncxbbnkkgfdjhgggggggggupuyyrrrdeddghklllmccddwetyjoiuurrrrwwdhjjjkkiytrrrfhjgtbjhjj  counts:  1\n",
            "fflhlxoxoxitxtxttcolgtcoxgxtixkrxrxfllxdridxfizgxoxixxtoxothcgchochcypyfcycoycyycyycpufotdtodtodotxyycpycyxpgxgpxyoxtoxpyxttxylhxpxphxogxttxxoh  counts:  2\n",
            "goooooooooooooooodddddddddddddddddddddddddddddddddddddddddddddddddddddddddddddddddddddddddddddffddfddddddddddddddddddddoveral  counts:  1\n",
            "gcocgxggcogctcoggxotxoyxyxyocicotxotxxotxpyxyoxyoxoyxttxtixttxxhxoyyxxdypxyocyycogcxoxoycyycoyhgoood  counts:  2\n",
            "ssssssssssssssssssssssssssssssssssssssssssssssssssssssssssssssssssssssssssssssssssssssssssssssssit  counts:  1\n",
            "vvgjhgfmkufgjljgdripjgfyikgdddggugcddghgfduovddhhh  counts:  3\n",
            "goooooooooooooooooooooodddddddddddd  counts:  1\n",
            "bakwassssssssssssssssssssssssit  counts:  1\n",
            "bbbbbbnnnnnnnnnnnnnn  counts:  1\n",
            "overpriceddisappoint  counts:  1\n",
            "locationnnnnnnnnnnn  counts:  1\n",
            "xxxxxxxxxxxxxxxxxxx  counts:  1\n",
            "transportationhelp  counts:  2\n",
            "comfortablecomfort  counts:  4\n",
            "goodsaticifactori  counts:  1\n",
            "eeeeeeeeeeeeegood  counts:  1\n",
            "vvhhhbbhbbbbhbbhb  counts:  1\n",
            "nnnnnnbnnnnnnnnnn  counts:  1\n",
            "receptionpoorest  counts:  1\n",
            "supportiveawesom  counts:  1\n",
            "eastwoodsconvers  counts:  1\n",
            "ygyugiguugsuperb  counts:  1\n",
            "ghjggjhghgggnice  counts:  3\n",
            "satisfiedsatisfi  counts:  1\n",
            "gooooodddddddddd  counts:  1\n",
            "enjoyablesatisfi  counts:  1\n",
            "enjoyablecomfort  counts:  1\n",
            "travellersaverag  counts:  2\n",
            "advantageaverag  counts:  1\n",
            "masssssssssssss  counts:  1\n",
            "companiesoveral  counts:  1\n",
            "courteousreview  counts:  1\n",
            "comfortablegood  counts:  1\n",
            "makemytriphotel  counts:  1\n",
            "hospitalityprid  counts:  2\n",
            "hospitalitygood  counts:  2\n",
            "vvvvbbbbbbbbbbb  counts:  1\n",
            "fantastichighli  counts:  1\n",
            "cifbiuweefgood  counts:  1\n",
            "availablebelow  counts:  1\n",
            "overnightgreat  counts:  1\n",
            "unsatisfactori  counts:  1\n",
            "mosquitoscheap  counts:  1\n",
            "facilityarrang  counts:  1\n",
            "everydaybudget  counts:  1\n",
            "everybodygreat  counts:  1\n",
            "hhhhhjjjjjnjkm  counts:  2\n",
            "sholinganallur  counts:  1\n"
          ],
          "name": "stdout"
        }
      ]
    },
    {
      "cell_type": "code",
      "metadata": {
        "colab": {
          "base_uri": "https://localhost:8080/"
        },
        "id": "dpflpR5bK36z",
        "outputId": "a601d83c-8aec-4276-e154-ce11f348ffdb"
      },
      "source": [
        "df_test = pd.read_csv('/content/data/nlp/test.csv', encoding='ISO-8859-1')\n",
        "print('size of test: {}\\nsize of train: {}'.format(df_test.shape[0],\n",
        "                                                   df_new_add.shape[0]))\n",
        "\n",
        "\n",
        "def dropColumns(df, columns: list):\n",
        "  for col in columns:\n",
        "    if col in set(df.columns):\n",
        "      df.drop(columns = [col], inplace = True)\n",
        "  return df\n",
        "\n",
        "# -- divided dataset in middle -- #\n",
        "df_test['allText'] = df_test.apply(lambda r: concatTitleText(r['Review_Title'], r['Review_Text']), axis = 1)\n",
        "df_test_add = AddFeaturesText(df_test, 'allText')\n",
        "df_test_prep = preprocessingStandartText(df_test_add, 'allText')\n",
        "\n",
        "# -- delete Review Title and Text and Id -- #\n",
        "drop_test_df = ['Id', \n",
        "                'Review_Title', \n",
        "                'Review_Text']\n",
        "\n",
        "df_test_prep = dropColumns(df_test_prep, drop_test_df)\n",
        "\n",
        "\"\"\"if('Review_Title' in set(df_test_prep.columns)):\n",
        "  df_test_prep.drop(columns = ['Review_Title'])\n",
        "\n",
        "if('Review_Text' in set(df_test_prep.columns)):\n",
        "  df_test_prep.drop(columns = ['Review_Text'])\n",
        "\n",
        "if('Id' in set(df_test_prep.columns)):\n",
        "  df_test_prep.drop(columns = ['Id'])\n",
        "\"\"\"\n",
        "drop_train_df = ['Id', \n",
        "                'Review_Title', \n",
        "                'Review_Text', \n",
        "                'allText',\n",
        "                'allTextNoPunct']\n",
        "\n",
        "df_new_add = dropColumns(df_new_add, drop_train_df)\n",
        "df_new_add.rename(columns = {'allText_diff': 'allText'}, inplace = True)\n",
        "# -- we can use information of stats for name of Hotels -- #"
      ],
      "execution_count": 134,
      "outputs": [
        {
          "output_type": "stream",
          "text": [
            "size of test: 2352\n",
            "size of train: 2351\n"
          ],
          "name": "stdout"
        }
      ]
    },
    {
      "cell_type": "code",
      "metadata": {
        "colab": {
          "base_uri": "https://localhost:8080/"
        },
        "id": "7IOQmAjPyxLz",
        "outputId": "0d7fddd5-1051-4853-884c-f77be78bc946"
      },
      "source": [
        "\n",
        "def fillMedianRaiting(row, \n",
        "                      hotelStatsRating, \n",
        "                      isTest = False):\n",
        "  try:\n",
        "    if isTest:\n",
        "      # -- in dataset -- #\n",
        "      if(hotelStatsRating.to_dict()['median'].get(str(row['Hotel_name'])) != -1):\n",
        "        return hotelStatsRating.to_dict()['median'][str(row['Hotel_name'])]\n",
        "      else:\n",
        "      # -- not in dataset -- #\n",
        "        return np.nan\n",
        "    else:\n",
        "      return hotelStatsRating.to_dict()['median'][str(row['Hotel_name'])]\n",
        "  except KeyError:\n",
        "    print(\"Error on : {}\".format(row['Hotel_name']))\n",
        "  \n",
        "hotelStatsTrain = df_new_add.groupby(by = ['Hotel_name'])['Rating'].agg(['median', \n",
        "                                                                         'count']).sort_values(by = ['count'],\n",
        "                                                                             ascending = False)\n",
        "# -- fill all Train Examples -- #                                                                        \n",
        "df_new_add['medianRating'] = df_new_add.apply(lambda r: fillMedianRaiting(r, \n",
        "                                                                          hotelStatsTrain, \n",
        "                                                                          isTest = False), axis = 1)\n",
        "# -- fill all Test Examples -- #\n",
        "df_test_prep['medianRating'] = df_test_prep.apply(lambda r: fillMedianRaiting(r, \n",
        "                                                                              hotelStatsTrain, \n",
        "                                                                              isTest = True), axis = 1)\n",
        "\n",
        "print('We have: {} Nan objects in Test We fill it median of all column'.format(df_test_prep.medianRating.isna().sum()))\n",
        "df_test_prep.medianRating.fillna(np.median(df_new_add.medianRating.values), inplace = True)\n",
        "# -- check -- #\n",
        "assert(df_test_prep.medianRating.isna().sum() == 0)"
      ],
      "execution_count": 135,
      "outputs": [
        {
          "output_type": "stream",
          "text": [
            "Error on : Treebo Nestlay Airport\n",
            "Error on : Deshna Home Stay -Arumbakkam\n",
            "Error on : Regency Tiruttani by GRT Hotels\n",
            "Error on : Ngh Transit\n",
            "Error on : Dream Inn-Omr\n",
            "Error on : Ngh Transit\n",
            "Error on : Balaji Resort\n",
            "Error on : Greens\n",
            "Error on : Samrat Guest House\n",
            "Error on : Frangi House\n",
            "Error on : Frangi House\n",
            "Error on : V7\n",
            "Error on : Balaji Resort\n",
            "Error on : Treebo Nestlay Airport\n",
            "Error on : Nakshatra Serviced Apartment - Teynampet\n",
            "Error on : Pebbles\n",
            "Error on : Frangi House\n",
            "Error on : Regency Tiruttani by GRT Hotels\n",
            "Error on : Frangi House\n",
            "Error on : Ngh Transit\n",
            "Error on : Sai Enclave Residency\n",
            "Error on : Frangi House\n",
            "Error on : Dream Inn-Omr\n",
            "We have: 23 Nan objects in Test We fill it median of all column\n"
          ],
          "name": "stdout"
        }
      ]
    },
    {
      "cell_type": "code",
      "metadata": {
        "id": "yqGUz3X5ML9F"
      },
      "source": [
        "# -- train model LinearRegression task -- #"
      ],
      "execution_count": 137,
      "outputs": []
    },
    {
      "cell_type": "code",
      "metadata": {
        "id": "rXGfdUilE2b_"
      },
      "source": [
        "from scipy.sparse import hstack\n",
        "from sklearn.linear_model import Ridge, SGDRegressor, Lasso, LinearRegression,SGDClassifier, LogisticRegression\n",
        "                                \n",
        "# -- train our models -- #\n",
        "tfidf = TfidfVectorizer()\n",
        "corpus_train = df_new_add.allText\n",
        "corpus_test = df_test_prep.allText\n",
        "corpus_train_vec = tfidf.fit_transform(corpus_train)\n",
        "corpus_test_vec = tfidf.transform(corpus_test)\n",
        "\n",
        "# -- we shuld concat all data in one dataframe -- #\n",
        "y_train = df_new_add.Rating.values\n",
        "X_feature_train = df_new_add.loc[:, list(set(df_new_add.columns).difference(['Rating', \n",
        "                                                                             'allText', \n",
        "                                                                             'Hotel_name']))]\n",
        "\n",
        "X_feature_test = df_test_prep.loc[:, list(set(df_test_prep.columns).difference(['allText', \n",
        "                                                                                'Hotel_name']))]\n",
        "\n",
        "# -- stack all data in one sparse matrix -- #\n",
        "X_train = hstack((X_feature_train, corpus_train_vec), format = 'csr')\n",
        "X_test = hstack((X_feature_test, corpus_test_vec), format = 'csr')\n",
        "# -- check dimensions -- #\n",
        "assert(X_test.shape[1] ==  X_train.shape[1])"
      ],
      "execution_count": 186,
      "outputs": []
    },
    {
      "cell_type": "code",
      "metadata": {
        "colab": {
          "base_uri": "https://localhost:8080/"
        },
        "id": "s3w0Pm9jMLC9",
        "outputId": "3f8a7782-807d-455d-fd62-200168875ddf"
      },
      "source": [
        "from sklearn.model_selection import train_test_split\n",
        "# -- train model -- #\n",
        "# -- Linear Regressions -- #\n",
        "\n",
        "# -- choose SEED -- #\n",
        "SEED = 42\n",
        "np.random.seed(SEED)\n",
        "# -- choose test_size -- #\n",
        "test_size = 0.3\n",
        "# -- load all dataset -- #\n",
        "df_all = pd.read_csv(\"/content/data/nlp/train.csv\", encoding='ISO-8859-1')\n",
        "# -- shuffle dataset -- #\n",
        "indeces = df_all.index.tolist()\n",
        "np.random.shuffle(indeces)\n",
        "df_all = df_all.loc[indeces, :]\n",
        "split_index = int(df_all.shape[0] * (1 - test_size))\n",
        "# -- create train and test data -- #\n",
        "df_train = df_all.iloc[: split_index, :]\n",
        "df_test = df_all.iloc[split_index : , :]\n",
        "\n",
        "# -- check sizes of data -- #\n",
        "assert(df_train.shape[0] + df_test.shape[0] == df_all.shape[0])\n",
        "\n",
        "# -- drop Target in test data -- #\n",
        "y_test = df_test['Rating']\n",
        "# -- preprocessing and Feature Extraction -- #\n",
        "# -- concat Title and Text -- #\n",
        "df_train['allText'] = df_train.apply(lambda r: concatTitleText(r['Review_Title'],\n",
        "                                                                r['Review_Text']), axis = 1)\n",
        "\n",
        "df_test['allText'] = df_test.apply(lambda r: concatTitleText(r['Review_Title'],\n",
        "                                                                r['Review_Text']), axis = 1)\n",
        "\n",
        "# -- create new features on dirty data text -- #\n",
        "df_train = AddFeaturesText(df_train, text_column = 'allText')\n",
        "df_test = AddFeaturesText(df_test, text_column = 'allText')\n",
        "\n",
        "# -- preprocessing our text data from dirty to clean -- #\n",
        "df_train = preprocessingStandartText(df_train, text_column = 'allText')\n",
        "df_test = preprocessingStandartText(df_test, text_column = 'allText')\n",
        "\n",
        "# -- create new feature of StatsRaiting -- #\n",
        "# -- create stats -- #\n",
        "hotelStatsTrain = df_train.groupby(by = ['Hotel_name'])['Rating'].agg(['median', \n",
        "                                                                       'count']).sort_values(by = ['count'],\n",
        "                                                                                             ascending = False)\n",
        "# -- fill all Train Examples -- #\n",
        "df_train['medianRating'] = df_train.apply(lambda r: fillMedianRaiting(r, \n",
        "                                                                      hotelStatsTrain, \n",
        "                                                                      isTest = False), axis = 1)\n",
        "# -- fill all Test Examples -- #\n",
        "df_test['medianRating'] = df_test.apply(lambda r: fillMedianRaiting(r, \n",
        "                                                                    hotelStatsTrain, \n",
        "                                                                    isTest = True), axis = 1)\n",
        "\n",
        "print('We have: {} Nan objects in Test We fill it median of all column'.format(df_test.medianRating.isna().sum()))\n",
        "# -- fill nan oblect just median values from train dataset -- #\n",
        "df_test.medianRating.fillna(np.median(df_train.medianRating.values), inplace = True)\n",
        "# -- check na objects in test -- #\n",
        "assert(df_test.medianRating.isna().sum() == 0)\n",
        "\n",
        "# -- drop some columns -- #\n",
        "df_train.columns, df_test.columns \n",
        "drop_columns_train = ['Id', \n",
        "                'Hotel_name', \n",
        "                'Review_Title', \n",
        "                'Review_Text', \n",
        "                ]\n",
        "\n",
        "drop_columns_test = ['Id', \n",
        "                     'Hotel_name', \n",
        "                     'Review_Title', \n",
        "                     'Review_Text', \n",
        "                     'Rating',\n",
        "                    ]\n",
        "\n",
        "df_train = dropColumns(df_train, drop_columns_train)\n",
        "df_test = dropColumns(df_test, drop_columns_test)\n",
        "# -- end prepare data -- #"
      ],
      "execution_count": 236,
      "outputs": [
        {
          "output_type": "stream",
          "text": [
            "/usr/local/lib/python3.7/dist-packages/ipykernel_launcher.py:29: SettingWithCopyWarning: \n",
            "A value is trying to be set on a copy of a slice from a DataFrame.\n",
            "Try using .loc[row_indexer,col_indexer] = value instead\n",
            "\n",
            "See the caveats in the documentation: https://pandas.pydata.org/pandas-docs/stable/user_guide/indexing.html#returning-a-view-versus-a-copy\n",
            "/usr/local/lib/python3.7/dist-packages/ipykernel_launcher.py:32: SettingWithCopyWarning: \n",
            "A value is trying to be set on a copy of a slice from a DataFrame.\n",
            "Try using .loc[row_indexer,col_indexer] = value instead\n",
            "\n",
            "See the caveats in the documentation: https://pandas.pydata.org/pandas-docs/stable/user_guide/indexing.html#returning-a-view-versus-a-copy\n"
          ],
          "name": "stderr"
        },
        {
          "output_type": "stream",
          "text": [
            "Error on : Vestin Park\n",
            "Error on : Stay Easy Serviced Apartments Sholinganalur\n",
            "Error on : The Chamiers Park\n",
            "Error on : Oyo Apartments Guduvanchery Srm University\n",
            "Error on : Oriental Inn\n",
            "Error on : Shylee Niwas Kodambakkam I\n",
            "Error on : Lloyds Guest House\n",
            "Error on : Lloyds Guest House\n",
            "Error on : Leisure Stays\n",
            "Error on : Melody\n",
            "Error on : Oriental Inn\n",
            "We have: 11 Nan objects in Test We fill it median of all column\n"
          ],
          "name": "stdout"
        }
      ]
    },
    {
      "cell_type": "code",
      "metadata": {
        "id": "oJlseQcXRk_U"
      },
      "source": [
        "from sklearn.preprocessing import StandardScaler, MinMaxScaler, RobustScaler\n",
        "# -- create target -- #\n",
        "# -- tfidfVectorized -- #\n",
        "from sklearn.feature_extraction.text import CountVectorizer\n",
        "# -- What different (Vectorized and Transformer)\n",
        "tfidf = TfidfVectorizer()\n",
        "countvec = CountVectorizer()\n",
        "\n",
        "#tfidf = TfidfTransformer(smooth_idf = True)\n",
        "corpus_train = df_train.allText\n",
        "corpus_test = df_test.allText\n",
        "corpus_train_vec = tfidf.fit_transform(corpus_train)\n",
        "corpus_test_vec = tfidf.transform(corpus_test)\n",
        "\n",
        "corpus_train_count_vec = countvec.fit_transform(corpus_train)\n",
        "corpus_test_count_vec = countvec.transform(corpus_test)\n",
        "\n",
        "# -- we shuld concat all data in one dataframe -- #\n",
        "y_train = df_train['Rating']\n",
        "stay_columns = ['medianRating']\n",
        "\n",
        "\"\"\"\n",
        "    Text and RaitingStats\n",
        "\"\"\"\n",
        "\n",
        "\"\"\"\n",
        "std = StandardScaler()\n",
        "\n",
        "X_feature_train = df_train.loc[:, stay_columns]\n",
        "X_feature_test = df_test.loc[:, stay_columns]\n",
        "\n",
        "X_feature_train_arr = std.fit_transform(X_feature_train)\n",
        "X_feature_test_arr = std.transform(X_feature_test)\n",
        "\"\"\"\n",
        "\n",
        "\n",
        "\"\"\"\n",
        "    Many things\n",
        "\"\"\"\n",
        "\"\"\"\n",
        "col_unique = [col for col in df_train.columns if col.find('unique') != -1]\n",
        "# -- drop cols with unique (Very correlated) -- #\n",
        "\n",
        "std = StandardScaler()\n",
        "X_feature_train = df_train.loc[:, list(set(df_train.columns).difference(['Rating', \n",
        "                                                                         'allText', \n",
        "                                                                         'Hotel_name']))]\n",
        "\n",
        "X_feature_test = df_test.loc[:, list(set(df_test.columns).difference(['allText', \n",
        "                                                                      'Hotel_name']))]\n",
        "\n",
        "X_feature_train_arr = std.fit_transform(X_feature_train)\n",
        "X_feature_test_arr = std.transform(X_feature_test)\n",
        "\n",
        "\"\"\"\n",
        "# -- stack all data in one sparse matrix -- #\n",
        "#\"\"\"\n",
        "X_train = hstack((X_feature_train, corpus_train_vec), format = 'csr')\n",
        "X_test = hstack((X_feature_test, corpus_test_vec), format = 'csr')\n",
        "#\"\"\"\n",
        "\"\"\"\n",
        "    Only text\n",
        "\"\"\"\n",
        "# -- Только текст -- #\n",
        "#\"\"\"\n",
        "X_train = corpus_train_count_vec\n",
        "X_test = corpus_test_count_vec\n",
        "#\"\"\"\n",
        "# -- check dimensions -- #\n",
        "assert(X_test.shape[1] ==  X_train.shape[1])"
      ],
      "execution_count": 264,
      "outputs": []
    },
    {
      "cell_type": "code",
      "metadata": {
        "colab": {
          "base_uri": "https://localhost:8080/",
          "height": 432
        },
        "id": "d-eZBoCQTAFh",
        "outputId": "afc6916d-8939-456a-eb3d-5e9105707298"
      },
      "source": [
        "df_train_no_text = pd.concat([X_feature_train, y_train], axis = 1)\n",
        "fig, ax = plt.subplots(figsize = (10, 7))\n",
        "correlations_matrix = df_train_no_text.corr()\n",
        "ax = sns.heatmap(correlations_matrix, \n",
        "                 vmin = -1, \n",
        "                 vmax = 1, \n",
        "                 center = 0.)\n",
        "plt.show()"
      ],
      "execution_count": 265,
      "outputs": [
        {
          "output_type": "display_data",
          "data": {
            "image/png": "[encoded data removed]",
            "text/plain": [
              "<Figure size 720x504 with 2 Axes>"
            ]
          },
          "metadata": {
            "tags": [],
            "needs_background": "light"
          }
        }
      ]
    },
    {
      "cell_type": "code",
      "metadata": {
        "colab": {
          "base_uri": "https://localhost:8080/"
        },
        "id": "_G0H7um3SWkK",
        "outputId": "1acf48c3-c302-4e6b-d4f0-df2c9b577b66"
      },
      "source": [
        "# -- train data -- #\n",
        "from sklearn.metrics import mean_squared_error\n",
        "from sklearn.model_selection import GridSearchCV, KFold\n",
        "from sklearn.svm import SVC\n",
        "from sklearn.naive_bayes import MultinomialNB, ComplementNB \n",
        "\n",
        "#std = StandardScaler()\n",
        "#X_train = std.fit_transform(X_train)\n",
        "#X_test = std.transform(X_test)\n",
        "\n",
        "param_grid_sgd = {\n",
        "    'alpha' : np.logspace(-4, 3, 10),\n",
        "}\n",
        "param_grid_logreg = {\n",
        "    'C' : np.logspace(-4, 3, 10),\n",
        "}\n",
        "\n",
        "sgd = SGDClassifier(max_iter = 10000)\n",
        "svm = SVC()\n",
        "#logreg = LogisticRegression(solver = 'sag')\n",
        "\n",
        "kf = KFold(5, shuffle = True)\n",
        "\"\"\"\n",
        "    Grid for SGD\n",
        "\"\"\"\n",
        "\n",
        "\n",
        "grid = GridSearchCV(sgd, \n",
        "                    param_grid = param_grid_sgd, \n",
        "                    cv = kf)\n",
        "\n",
        "\"\"\"\n",
        "    SVC Grid\n",
        "\"\"\"\n",
        "\"\"\"\n",
        "grid = GridSearchCV(svm, \n",
        "                    param_grid = param_grid_logreg, \n",
        "                    cv = kf)\n",
        "\"\"\"\n",
        "\"\"\"\n",
        "    Grid for Logistic Regr\n",
        "\"\"\"\n",
        "\"\"\"\n",
        "grid = GridSearchCV(logreg, \n",
        "                    param_grid = param_grid_logreg, \n",
        "                    cv = kf)\n",
        "\"\"\"\n",
        "grid.fit(X_train, y_train)\n",
        "y_pred = grid.best_estimator_.predict(X_test)\n",
        "\n",
        "print('rmse: {}'.format(mean_squared_error(y_test, y_pred, squared = False)))"
      ],
      "execution_count": 270,
      "outputs": [
        {
          "output_type": "stream",
          "text": [
            "rmse: 17.146386895477576\n"
          ],
          "name": "stdout"
        }
      ]
    },
    {
      "cell_type": "markdown",
      "metadata": {
        "id": "JjjdC-ZBl6D9"
      },
      "source": [
        "Лучшая модель, это MultinomialNB"
      ]
    },
    {
      "cell_type": "code",
      "metadata": {
        "colab": {
          "base_uri": "https://localhost:8080/"
        },
        "id": "mzM-mkbjjn51",
        "outputId": "ef4e926a-629b-429f-f7e2-d7652c26479d"
      },
      "source": [
        "# -- Maybe should be CountVectorized -- #\n",
        "\n",
        "NB_com = MultinomialNB()\n",
        "param_grid_com_NB = {\n",
        "    'alpha' : np.linspace(0.001, 1., 100),\n",
        "}\n",
        "grid = GridSearchCV(NB_com, \n",
        "                    param_grid = param_grid_com_NB, \n",
        "                    cv = kf)\n",
        "grid.fit(X_train, y_train)\n",
        "y_pred = grid.best_estimator_.predict(X_test)\n",
        "\n",
        "print('rmse on ComplementNB: {}'.format(mean_squared_error(y_test, y_pred, squared = False)))"
      ],
      "execution_count": 271,
      "outputs": [
        {
          "output_type": "stream",
          "text": [
            "rmse on ComplementNB: 16.623986901760812\n"
          ],
          "name": "stdout"
        }
      ]
    },
    {
      "cell_type": "code",
      "metadata": {
        "id": "1r861tv6prWn"
      },
      "source": [
        ""
      ],
      "execution_count": null,
      "outputs": []
    },
    {
      "cell_type": "markdown",
      "metadata": {
        "id": "uhhDrEjjprk2"
      },
      "source": [
        "### В качестве улучшения, можно попробовать взять Lemmatization. Представлять word2vec - для текста. И лучше чистить и нормализовывать данные текста."
      ]
    },
    {
      "cell_type": "code",
      "metadata": {
        "colab": {
          "base_uri": "https://localhost:8080/"
        },
        "id": "VD213Nc9lVNN",
        "outputId": "49be7272-0615-4bb8-aa1d-3a333e1ea46a"
      },
      "source": [
        "# -- Maybe should be CountVectorized -- #\n",
        "\n",
        "NB = ComplementNB()\n",
        "param_grid_NB = {\n",
        "    'alpha' : np.linspace(0.001, 1., 100),\n",
        "}\n",
        "grid = GridSearchCV(NB, \n",
        "                    param_grid = param_grid_NB, \n",
        "                    cv = kf)\n",
        "grid.fit(X_train, y_train)\n",
        "y_pred = grid.best_estimator_.predict(X_test)\n",
        "\n",
        "print('rmse on ComplementMultinomial: {}'.format(mean_squared_error(y_test, y_pred, squared = False)))"
      ],
      "execution_count": 273,
      "outputs": [
        {
          "output_type": "stream",
          "text": [
            "rmse on ComplementMultinomial: 18.488722540776084\n"
          ],
          "name": "stdout"
        }
      ]
    },
    {
      "cell_type": "code",
      "metadata": {
        "colab": {
          "base_uri": "https://localhost:8080/"
        },
        "id": "KDYEl6Hrkt9U",
        "outputId": "26ccf103-83ca-4ae1-be49-c6b7cbc4d968"
      },
      "source": [
        "grid.best_params_"
      ],
      "execution_count": 263,
      "outputs": [
        {
          "output_type": "execute_result",
          "data": {
            "text/plain": [
              "{'alpha': 0.011090909090909092}"
            ]
          },
          "metadata": {
            "tags": []
          },
          "execution_count": 263
        }
      ]
    },
    {
      "cell_type": "markdown",
      "metadata": {
        "id": "BM4z2RgPMaUs"
      },
      "source": [
        "Вообще говоря стоит делать предобработку данных на чистом датасете, когда у нас уже отсутствует лишняя информация. "
      ]
    },
    {
      "cell_type": "code",
      "metadata": {
        "colab": {
          "base_uri": "https://localhost:8080/"
        },
        "id": "Lr4kiOaZF2ow",
        "outputId": "b5fc0a02-5bb9-4c2b-a8ec-8658a0a05602"
      },
      "source": [
        "pd.read_csv(\"/content/data/nlp/test.csv\", encoding='ISO-8859-1').columns"
      ],
      "execution_count": 182,
      "outputs": [
        {
          "output_type": "execute_result",
          "data": {
            "text/plain": [
              "Index(['Id', 'Hotel_name', 'Review_Title', 'Review_Text'], dtype='object')"
            ]
          },
          "metadata": {
            "tags": []
          },
          "execution_count": 182
        }
      ]
    },
    {
      "cell_type": "code",
      "metadata": {
        "id": "7HgcG8SFF2qw"
      },
      "source": [
        ""
      ],
      "execution_count": null,
      "outputs": []
    },
    {
      "cell_type": "code",
      "metadata": {
        "id": "p2b5f1O1F2s9"
      },
      "source": [
        ""
      ],
      "execution_count": null,
      "outputs": []
    },
    {
      "cell_type": "code",
      "metadata": {
        "id": "HBEJ8fRfF2u3"
      },
      "source": [
        ""
      ],
      "execution_count": null,
      "outputs": []
    },
    {
      "cell_type": "code",
      "metadata": {
        "id": "ThvUKMzAF2xV"
      },
      "source": [
        ""
      ],
      "execution_count": null,
      "outputs": []
    },
    {
      "cell_type": "code",
      "metadata": {
        "colab": {
          "base_uri": "https://localhost:8080/"
        },
        "id": "6bRMbLbt-Isz",
        "outputId": "aaf2b03c-9ba0-4895-c6fb-76fffe57d59f"
      },
      "source": [
        "# -- we have some slahes -- #\n",
        "\n",
        "def isHaveSlashesFind(text):\n",
        "  if \"\\\\\" in r\"%r\" % text:\n",
        "    return True\n",
        "  else:\n",
        "    return False \n",
        "\n",
        "#removespecialletters(text)\n",
        "# -- a little bit more learn about backslashes -- #\n",
        "print(\"Number objects in data, which have backslashes: \\\n",
        "  {} All numbers of objects: {}\".format(df_new_add.allText.apply(lambda x: isHaveSlashesFind(x)).sum(),\n",
        "                                                    df_new_add.shape[0]))\n",
        "\n",
        "\n",
        "mask_isslashes = df_new_add.allText.apply(lambda x: isHaveSlashesFind(x))\n",
        "times = 0\n",
        "special_symbols_slashes = set()\n",
        "for row in df_new_add[mask_isslashes].itertuples(index = True, name = 'Pandas'):\n",
        "  list_current = re.findall(r'\\\\\\w', r\"%r\" % getattr(row, 'allTextNoPunct'))\n",
        "  [special_symbols_slashes.add(chars) for chars in list_finds]\n",
        "\n",
        "print('special symbols with slashes: ')\n",
        "[print(s) for s in special_symbols_slashes];"
      ],
      "execution_count": 140,
      "outputs": [
        {
          "output_type": "stream",
          "text": [
            "Number objects in data, which have backslashes:   0 All numbers of objects: 2351\n",
            "special symbols with slashes: \n"
          ],
          "name": "stdout"
        }
      ]
    },
    {
      "cell_type": "code",
      "metadata": {
        "colab": {
          "base_uri": "https://localhost:8080/"
        },
        "id": "y4c7pvBdJiwz",
        "outputId": "a32bb0ff-92b4-408f-9d9e-43b866f02d7a"
      },
      "source": [
        "! pip install langdetect"
      ],
      "execution_count": 21,
      "outputs": [
        {
          "output_type": "stream",
          "text": [
            "Collecting langdetect\n",
            "\u001b[?25l  Downloading https://files.pythonhosted.org/packages/56/a3/8407c1e62d5980188b4acc45ef3d94b933d14a2ebc9ef3505f22cf772570/langdetect-1.0.8.tar.gz (981kB)\n",
            "\r\u001b[K     |▍                               | 10kB 16.6MB/s eta 0:00:01\r\u001b[K     |▊                               | 20kB 20.9MB/s eta 0:00:01\r\u001b[K     |█                               | 30kB 25.9MB/s eta 0:00:01\r\u001b[K     |█▍                              | 40kB 21.8MB/s eta 0:00:01\r\u001b[K     |█▊                              | 51kB 18.5MB/s eta 0:00:01\r\u001b[K     |██                              | 61kB 17.3MB/s eta 0:00:01\r\u001b[K     |██▍                             | 71kB 16.4MB/s eta 0:00:01\r\u001b[K     |██▊                             | 81kB 16.6MB/s eta 0:00:01\r\u001b[K     |███                             | 92kB 15.8MB/s eta 0:00:01\r\u001b[K     |███▍                            | 102kB 15.4MB/s eta 0:00:01\r\u001b[K     |███▊                            | 112kB 15.4MB/s eta 0:00:01\r\u001b[K     |████                            | 122kB 15.4MB/s eta 0:00:01\r\u001b[K     |████▍                           | 133kB 15.4MB/s eta 0:00:01\r\u001b[K     |████▊                           | 143kB 15.4MB/s eta 0:00:01\r\u001b[K     |█████                           | 153kB 15.4MB/s eta 0:00:01\r\u001b[K     |█████▍                          | 163kB 15.4MB/s eta 0:00:01\r\u001b[K     |█████▊                          | 174kB 15.4MB/s eta 0:00:01\r\u001b[K     |██████                          | 184kB 15.4MB/s eta 0:00:01\r\u001b[K     |██████▍                         | 194kB 15.4MB/s eta 0:00:01\r\u001b[K     |██████▊                         | 204kB 15.4MB/s eta 0:00:01\r\u001b[K     |███████                         | 215kB 15.4MB/s eta 0:00:01\r\u001b[K     |███████▍                        | 225kB 15.4MB/s eta 0:00:01\r\u001b[K     |███████▊                        | 235kB 15.4MB/s eta 0:00:01\r\u001b[K     |████████                        | 245kB 15.4MB/s eta 0:00:01\r\u001b[K     |████████▍                       | 256kB 15.4MB/s eta 0:00:01\r\u001b[K     |████████▊                       | 266kB 15.4MB/s eta 0:00:01\r\u001b[K     |█████████                       | 276kB 15.4MB/s eta 0:00:01\r\u001b[K     |█████████▍                      | 286kB 15.4MB/s eta 0:00:01\r\u001b[K     |█████████▊                      | 296kB 15.4MB/s eta 0:00:01\r\u001b[K     |██████████                      | 307kB 15.4MB/s eta 0:00:01\r\u001b[K     |██████████▍                     | 317kB 15.4MB/s eta 0:00:01\r\u001b[K     |██████████▊                     | 327kB 15.4MB/s eta 0:00:01\r\u001b[K     |███████████                     | 337kB 15.4MB/s eta 0:00:01\r\u001b[K     |███████████▍                    | 348kB 15.4MB/s eta 0:00:01\r\u001b[K     |███████████▊                    | 358kB 15.4MB/s eta 0:00:01\r\u001b[K     |████████████                    | 368kB 15.4MB/s eta 0:00:01\r\u001b[K     |████████████▍                   | 378kB 15.4MB/s eta 0:00:01\r\u001b[K     |████████████▊                   | 389kB 15.4MB/s eta 0:00:01\r\u001b[K     |█████████████                   | 399kB 15.4MB/s eta 0:00:01\r\u001b[K     |█████████████▍                  | 409kB 15.4MB/s eta 0:00:01\r\u001b[K     |█████████████▊                  | 419kB 15.4MB/s eta 0:00:01\r\u001b[K     |██████████████                  | 430kB 15.4MB/s eta 0:00:01\r\u001b[K     |██████████████▍                 | 440kB 15.4MB/s eta 0:00:01\r\u001b[K     |██████████████▊                 | 450kB 15.4MB/s eta 0:00:01\r\u001b[K     |███████████████                 | 460kB 15.4MB/s eta 0:00:01\r\u001b[K     |███████████████▍                | 471kB 15.4MB/s eta 0:00:01\r\u001b[K     |███████████████▊                | 481kB 15.4MB/s eta 0:00:01\r\u001b[K     |████████████████                | 491kB 15.4MB/s eta 0:00:01\r\u001b[K     |████████████████▍               | 501kB 15.4MB/s eta 0:00:01\r\u001b[K     |████████████████▊               | 512kB 15.4MB/s eta 0:00:01\r\u001b[K     |█████████████████               | 522kB 15.4MB/s eta 0:00:01\r\u001b[K     |█████████████████▍              | 532kB 15.4MB/s eta 0:00:01\r\u001b[K     |█████████████████▊              | 542kB 15.4MB/s eta 0:00:01\r\u001b[K     |██████████████████              | 552kB 15.4MB/s eta 0:00:01\r\u001b[K     |██████████████████▍             | 563kB 15.4MB/s eta 0:00:01\r\u001b[K     |██████████████████▊             | 573kB 15.4MB/s eta 0:00:01\r\u001b[K     |███████████████████             | 583kB 15.4MB/s eta 0:00:01\r\u001b[K     |███████████████████▍            | 593kB 15.4MB/s eta 0:00:01\r\u001b[K     |███████████████████▊            | 604kB 15.4MB/s eta 0:00:01\r\u001b[K     |████████████████████            | 614kB 15.4MB/s eta 0:00:01\r\u001b[K     |████████████████████▍           | 624kB 15.4MB/s eta 0:00:01\r\u001b[K     |████████████████████▊           | 634kB 15.4MB/s eta 0:00:01\r\u001b[K     |█████████████████████           | 645kB 15.4MB/s eta 0:00:01\r\u001b[K     |█████████████████████▍          | 655kB 15.4MB/s eta 0:00:01\r\u001b[K     |█████████████████████▊          | 665kB 15.4MB/s eta 0:00:01\r\u001b[K     |██████████████████████          | 675kB 15.4MB/s eta 0:00:01\r\u001b[K     |██████████████████████▍         | 686kB 15.4MB/s eta 0:00:01\r\u001b[K     |██████████████████████▊         | 696kB 15.4MB/s eta 0:00:01\r\u001b[K     |███████████████████████         | 706kB 15.4MB/s eta 0:00:01\r\u001b[K     |███████████████████████▍        | 716kB 15.4MB/s eta 0:00:01\r\u001b[K     |███████████████████████▊        | 727kB 15.4MB/s eta 0:00:01\r\u001b[K     |████████████████████████        | 737kB 15.4MB/s eta 0:00:01\r\u001b[K     |████████████████████████▍       | 747kB 15.4MB/s eta 0:00:01\r\u001b[K     |████████████████████████▊       | 757kB 15.4MB/s eta 0:00:01\r\u001b[K     |█████████████████████████       | 768kB 15.4MB/s eta 0:00:01\r\u001b[K     |█████████████████████████▍      | 778kB 15.4MB/s eta 0:00:01\r\u001b[K     |█████████████████████████▊      | 788kB 15.4MB/s eta 0:00:01\r\u001b[K     |██████████████████████████      | 798kB 15.4MB/s eta 0:00:01\r\u001b[K     |██████████████████████████▍     | 808kB 15.4MB/s eta 0:00:01\r\u001b[K     |██████████████████████████▊     | 819kB 15.4MB/s eta 0:00:01\r\u001b[K     |███████████████████████████     | 829kB 15.4MB/s eta 0:00:01\r\u001b[K     |███████████████████████████▍    | 839kB 15.4MB/s eta 0:00:01\r\u001b[K     |███████████████████████████▊    | 849kB 15.4MB/s eta 0:00:01\r\u001b[K     |████████████████████████████    | 860kB 15.4MB/s eta 0:00:01\r\u001b[K     |████████████████████████████▍   | 870kB 15.4MB/s eta 0:00:01\r\u001b[K     |████████████████████████████▊   | 880kB 15.4MB/s eta 0:00:01\r\u001b[K     |█████████████████████████████   | 890kB 15.4MB/s eta 0:00:01\r\u001b[K     |█████████████████████████████▍  | 901kB 15.4MB/s eta 0:00:01\r\u001b[K     |█████████████████████████████▊  | 911kB 15.4MB/s eta 0:00:01\r\u001b[K     |██████████████████████████████  | 921kB 15.4MB/s eta 0:00:01\r\u001b[K     |██████████████████████████████▍ | 931kB 15.4MB/s eta 0:00:01\r\u001b[K     |██████████████████████████████▊ | 942kB 15.4MB/s eta 0:00:01\r\u001b[K     |███████████████████████████████ | 952kB 15.4MB/s eta 0:00:01\r\u001b[K     |███████████████████████████████▍| 962kB 15.4MB/s eta 0:00:01\r\u001b[K     |███████████████████████████████▊| 972kB 15.4MB/s eta 0:00:01\r\u001b[K     |████████████████████████████████| 983kB 15.4MB/s \n",
            "\u001b[?25hRequirement already satisfied: six in /usr/local/lib/python3.7/dist-packages (from langdetect) (1.15.0)\n",
            "Building wheels for collected packages: langdetect\n",
            "  Building wheel for langdetect (setup.py) ... \u001b[?25l\u001b[?25hdone\n",
            "  Created wheel for langdetect: filename=langdetect-1.0.8-cp37-none-any.whl size=993193 sha256=fd6837481ed241febe58f0d82867f3fab27cf8d9fa3ae55bfcebe96f8e6a60ee\n",
            "  Stored in directory: /root/.cache/pip/wheels/8d/b3/aa/6d99de9f3841d7d3d40a60ea06e6d669e8e5012e6c8b947a57\n",
            "Successfully built langdetect\n",
            "Installing collected packages: langdetect\n",
            "Successfully installed langdetect-1.0.8\n"
          ],
          "name": "stdout"
        }
      ]
    },
    {
      "cell_type": "code",
      "metadata": {
        "colab": {
          "base_uri": "https://localhost:8080/"
        },
        "id": "cllPkMwNhz39",
        "outputId": "3899dafc-510b-4965-af56-4dc58d1a3e9f"
      },
      "source": [
        "# -- detect language -- #\n",
        "from langdetect import detect\n",
        "def detectLanguage(text):\n",
        "  \"\"\"\n",
        "  We want to detect language\n",
        "  \"\"\"\n",
        "  try:\n",
        "    code = detect(text)\n",
        "    return code\n",
        "  except: \n",
        "    print('Error: ')\n",
        "    print(text)\n",
        "    return np.nan\n",
        "\n",
        "codesOfLanguage = df_new_add.allTextNoPunct.apply(lambda text: detectLanguage(text))"
      ],
      "execution_count": 22,
      "outputs": [
        {
          "output_type": "stream",
          "text": [
            "Error: \n",
            " \n",
            "Error: \n",
            "\n",
            "Error: \n",
            "\n"
          ],
          "name": "stdout"
        }
      ]
    },
    {
      "cell_type": "markdown",
      "metadata": {
        "id": "ap5HKSDkd_oS"
      },
      "source": [
        "Весь текст - английский, поэтому можем использовать stopwords for English sentence\n"
      ]
    },
    {
      "cell_type": "code",
      "metadata": {
        "colab": {
          "base_uri": "https://localhost:8080/"
        },
        "id": "cN_OPiriwr25",
        "outputId": "7c45232a-e55d-414d-d26e-47d1fd2a5fab"
      },
      "source": [
        "df_new_add.allTextNoPunct[(codesOfLanguage == np.nan)]\n",
        "assert(codesOfLanguage.shape[0] == df_new_add.shape[0])"
      ],
      "execution_count": 173,
      "outputs": [
        {
          "output_type": "execute_result",
          "data": {
            "text/plain": [
              "True"
            ]
          },
          "metadata": {
            "tags": []
          },
          "execution_count": 173
        }
      ]
    },
    {
      "cell_type": "code",
      "metadata": {
        "id": "9Ddn0ydEyKcu"
      },
      "source": [
        ""
      ],
      "execution_count": null,
      "outputs": []
    }
  ]
}