{
  "nbformat": 4,
  "nbformat_minor": 0,
  "metadata": {
    "colab": {
      "name": "oversampling_undersampling.ipynb",
      "provenance": [],
      "collapsed_sections": [],
      "authorship_tag": "ABX9TyNnnizvCS+3KFiKs7riFN5/",
      "include_colab_link": true
    },
    "kernelspec": {
      "name": "python3",
      "display_name": "Python 3"
    },
    "language_info": {
      "name": "python"
    }
  },
  "cells": [
    {
      "cell_type": "markdown",
      "metadata": {
        "id": "view-in-github",
        "colab_type": "text"
      },
      "source": [
        "<a href=\"https://colab.research.google.com/github/Mikhail-Klochkov/ml_intro/blob/master/oversampling_undersampling.ipynb\" target=\"_parent\"><img src=\"https://colab.research.google.com/assets/colab-badge.svg\" alt=\"Open In Colab\"/></a>"
      ]
    },
    {
      "cell_type": "code",
      "metadata": {
        "colab": {
          "base_uri": "https://localhost:8080/"
        },
        "id": "JI0ikaR68ozt",
        "outputId": "dab4ff57-5752-4152-8de8-f050c6653595"
      },
      "source": [
        "from google.colab import drive\n",
        "drive.mount('/content/drive')"
      ],
      "execution_count": null,
      "outputs": [
        {
          "output_type": "stream",
          "text": [
            "Drive already mounted at /content/drive; to attempt to forcibly remount, call drive.mount(\"/content/drive\", force_remount=True).\n"
          ],
          "name": "stdout"
        }
      ]
    },
    {
      "cell_type": "code",
      "metadata": {
        "colab": {
          "base_uri": "https://localhost:8080/"
        },
        "id": "RJj6XKQt5T9v",
        "outputId": "78bdae82-7369-4086-d5a0-6463403c03c8"
      },
      "source": [
        "! unzip '/content/drive/MyDrive/Colab_Notebooks/archive.zip' -d data\n"
      ],
      "execution_count": null,
      "outputs": [
        {
          "output_type": "stream",
          "text": [
            "Archive:  /content/drive/MyDrive/Colab_Notebooks/archive.zip\n",
            "replace data/creditcard.csv? [y]es, [n]o, [A]ll, [N]one, [r]ename: "
          ],
          "name": "stdout"
        }
      ]
    },
    {
      "cell_type": "code",
      "metadata": {
        "id": "_C1CUHsZ8usL"
      },
      "source": [
        "import numpy as np\n",
        "import pandas as pd\n",
        "import matplotlib.pyplot as plt\n",
        "import seaborn as sns\n",
        "\n",
        "from sklearn.model_selection import train_test_split, cross_val_score, StratifiedKFold, GridSearchCV\n",
        "from sklearn.linear_model import LogisticRegression\n",
        "from sklearn.dummy import DummyClassifier\n",
        "from sklearn.metrics import accuracy_score, f1_score, confusion_matrix, recall_score\n",
        "from sklearn.model_selection import KFold, StratifiedKFold, RepeatedStratifiedKFold\n",
        "from sklearn.preprocessing import StandardScaler, RobustScaler\n",
        "from tqdm import tqdm\n",
        "\n",
        "from sklearn.metrics import roc_curve\n",
        "from sklearn.metrics import auc\n",
        "\n",
        "import warnings\n",
        "warnings.filterwarnings('ignore')"
      ],
      "execution_count": null,
      "outputs": []
    },
    {
      "cell_type": "code",
      "metadata": {
        "id": "028KUrji8Y3y"
      },
      "source": [
        "df = pd.read_csv('data/creditcard.csv')"
      ],
      "execution_count": null,
      "outputs": []
    },
    {
      "cell_type": "code",
      "metadata": {
        "id": "qF1cu9d6IVfq"
      },
      "source": [
        ""
      ],
      "execution_count": null,
      "outputs": []
    },
    {
      "cell_type": "markdown",
      "metadata": {
        "id": "48cDJS5UWZmv"
      },
      "source": [
        "### Undersampling\n"
      ]
    },
    {
      "cell_type": "code",
      "metadata": {
        "colab": {
          "base_uri": "https://localhost:8080/",
          "height": 218
        },
        "id": "5s--7I3OWbEC",
        "outputId": "ddc91e73-852b-4220-bf2e-3293b2d3d859"
      },
      "source": [
        "df.head()"
      ],
      "execution_count": null,
      "outputs": [
        {
          "output_type": "execute_result",
          "data": {
            "text/html": [
              "<div>\n",
              "<style scoped>\n",
              "    .dataframe tbody tr th:only-of-type {\n",
              "        vertical-align: middle;\n",
              "    }\n",
              "\n",
              "    .dataframe tbody tr th {\n",
              "        vertical-align: top;\n",
              "    }\n",
              "\n",
              "    .dataframe thead th {\n",
              "        text-align: right;\n",
              "    }\n",
              "</style>\n",
              "<table border=\"1\" class=\"dataframe\">\n",
              "  <thead>\n",
              "    <tr style=\"text-align: right;\">\n",
              "      <th></th>\n",
              "      <th>Time</th>\n",
              "      <th>V1</th>\n",
              "      <th>V2</th>\n",
              "      <th>V3</th>\n",
              "      <th>V4</th>\n",
              "      <th>V5</th>\n",
              "      <th>V6</th>\n",
              "      <th>V7</th>\n",
              "      <th>V8</th>\n",
              "      <th>V9</th>\n",
              "      <th>V10</th>\n",
              "      <th>V11</th>\n",
              "      <th>V12</th>\n",
              "      <th>V13</th>\n",
              "      <th>V14</th>\n",
              "      <th>V15</th>\n",
              "      <th>V16</th>\n",
              "      <th>V17</th>\n",
              "      <th>V18</th>\n",
              "      <th>V19</th>\n",
              "      <th>V20</th>\n",
              "      <th>V21</th>\n",
              "      <th>V22</th>\n",
              "      <th>V23</th>\n",
              "      <th>V24</th>\n",
              "      <th>V25</th>\n",
              "      <th>V26</th>\n",
              "      <th>V27</th>\n",
              "      <th>V28</th>\n",
              "      <th>Amount</th>\n",
              "      <th>Class</th>\n",
              "    </tr>\n",
              "  </thead>\n",
              "  <tbody>\n",
              "    <tr>\n",
              "      <th>0</th>\n",
              "      <td>0.0</td>\n",
              "      <td>-1.359807</td>\n",
              "      <td>-0.072781</td>\n",
              "      <td>2.536347</td>\n",
              "      <td>1.378155</td>\n",
              "      <td>-0.338321</td>\n",
              "      <td>0.462388</td>\n",
              "      <td>0.239599</td>\n",
              "      <td>0.098698</td>\n",
              "      <td>0.363787</td>\n",
              "      <td>0.090794</td>\n",
              "      <td>-0.551600</td>\n",
              "      <td>-0.617801</td>\n",
              "      <td>-0.991390</td>\n",
              "      <td>-0.311169</td>\n",
              "      <td>1.468177</td>\n",
              "      <td>-0.470401</td>\n",
              "      <td>0.207971</td>\n",
              "      <td>0.025791</td>\n",
              "      <td>0.403993</td>\n",
              "      <td>0.251412</td>\n",
              "      <td>-0.018307</td>\n",
              "      <td>0.277838</td>\n",
              "      <td>-0.110474</td>\n",
              "      <td>0.066928</td>\n",
              "      <td>0.128539</td>\n",
              "      <td>-0.189115</td>\n",
              "      <td>0.133558</td>\n",
              "      <td>-0.021053</td>\n",
              "      <td>149.62</td>\n",
              "      <td>0</td>\n",
              "    </tr>\n",
              "    <tr>\n",
              "      <th>1</th>\n",
              "      <td>0.0</td>\n",
              "      <td>1.191857</td>\n",
              "      <td>0.266151</td>\n",
              "      <td>0.166480</td>\n",
              "      <td>0.448154</td>\n",
              "      <td>0.060018</td>\n",
              "      <td>-0.082361</td>\n",
              "      <td>-0.078803</td>\n",
              "      <td>0.085102</td>\n",
              "      <td>-0.255425</td>\n",
              "      <td>-0.166974</td>\n",
              "      <td>1.612727</td>\n",
              "      <td>1.065235</td>\n",
              "      <td>0.489095</td>\n",
              "      <td>-0.143772</td>\n",
              "      <td>0.635558</td>\n",
              "      <td>0.463917</td>\n",
              "      <td>-0.114805</td>\n",
              "      <td>-0.183361</td>\n",
              "      <td>-0.145783</td>\n",
              "      <td>-0.069083</td>\n",
              "      <td>-0.225775</td>\n",
              "      <td>-0.638672</td>\n",
              "      <td>0.101288</td>\n",
              "      <td>-0.339846</td>\n",
              "      <td>0.167170</td>\n",
              "      <td>0.125895</td>\n",
              "      <td>-0.008983</td>\n",
              "      <td>0.014724</td>\n",
              "      <td>2.69</td>\n",
              "      <td>0</td>\n",
              "    </tr>\n",
              "    <tr>\n",
              "      <th>2</th>\n",
              "      <td>1.0</td>\n",
              "      <td>-1.358354</td>\n",
              "      <td>-1.340163</td>\n",
              "      <td>1.773209</td>\n",
              "      <td>0.379780</td>\n",
              "      <td>-0.503198</td>\n",
              "      <td>1.800499</td>\n",
              "      <td>0.791461</td>\n",
              "      <td>0.247676</td>\n",
              "      <td>-1.514654</td>\n",
              "      <td>0.207643</td>\n",
              "      <td>0.624501</td>\n",
              "      <td>0.066084</td>\n",
              "      <td>0.717293</td>\n",
              "      <td>-0.165946</td>\n",
              "      <td>2.345865</td>\n",
              "      <td>-2.890083</td>\n",
              "      <td>1.109969</td>\n",
              "      <td>-0.121359</td>\n",
              "      <td>-2.261857</td>\n",
              "      <td>0.524980</td>\n",
              "      <td>0.247998</td>\n",
              "      <td>0.771679</td>\n",
              "      <td>0.909412</td>\n",
              "      <td>-0.689281</td>\n",
              "      <td>-0.327642</td>\n",
              "      <td>-0.139097</td>\n",
              "      <td>-0.055353</td>\n",
              "      <td>-0.059752</td>\n",
              "      <td>378.66</td>\n",
              "      <td>0</td>\n",
              "    </tr>\n",
              "    <tr>\n",
              "      <th>3</th>\n",
              "      <td>1.0</td>\n",
              "      <td>-0.966272</td>\n",
              "      <td>-0.185226</td>\n",
              "      <td>1.792993</td>\n",
              "      <td>-0.863291</td>\n",
              "      <td>-0.010309</td>\n",
              "      <td>1.247203</td>\n",
              "      <td>0.237609</td>\n",
              "      <td>0.377436</td>\n",
              "      <td>-1.387024</td>\n",
              "      <td>-0.054952</td>\n",
              "      <td>-0.226487</td>\n",
              "      <td>0.178228</td>\n",
              "      <td>0.507757</td>\n",
              "      <td>-0.287924</td>\n",
              "      <td>-0.631418</td>\n",
              "      <td>-1.059647</td>\n",
              "      <td>-0.684093</td>\n",
              "      <td>1.965775</td>\n",
              "      <td>-1.232622</td>\n",
              "      <td>-0.208038</td>\n",
              "      <td>-0.108300</td>\n",
              "      <td>0.005274</td>\n",
              "      <td>-0.190321</td>\n",
              "      <td>-1.175575</td>\n",
              "      <td>0.647376</td>\n",
              "      <td>-0.221929</td>\n",
              "      <td>0.062723</td>\n",
              "      <td>0.061458</td>\n",
              "      <td>123.50</td>\n",
              "      <td>0</td>\n",
              "    </tr>\n",
              "    <tr>\n",
              "      <th>4</th>\n",
              "      <td>2.0</td>\n",
              "      <td>-1.158233</td>\n",
              "      <td>0.877737</td>\n",
              "      <td>1.548718</td>\n",
              "      <td>0.403034</td>\n",
              "      <td>-0.407193</td>\n",
              "      <td>0.095921</td>\n",
              "      <td>0.592941</td>\n",
              "      <td>-0.270533</td>\n",
              "      <td>0.817739</td>\n",
              "      <td>0.753074</td>\n",
              "      <td>-0.822843</td>\n",
              "      <td>0.538196</td>\n",
              "      <td>1.345852</td>\n",
              "      <td>-1.119670</td>\n",
              "      <td>0.175121</td>\n",
              "      <td>-0.451449</td>\n",
              "      <td>-0.237033</td>\n",
              "      <td>-0.038195</td>\n",
              "      <td>0.803487</td>\n",
              "      <td>0.408542</td>\n",
              "      <td>-0.009431</td>\n",
              "      <td>0.798278</td>\n",
              "      <td>-0.137458</td>\n",
              "      <td>0.141267</td>\n",
              "      <td>-0.206010</td>\n",
              "      <td>0.502292</td>\n",
              "      <td>0.219422</td>\n",
              "      <td>0.215153</td>\n",
              "      <td>69.99</td>\n",
              "      <td>0</td>\n",
              "    </tr>\n",
              "  </tbody>\n",
              "</table>\n",
              "</div>"
            ],
            "text/plain": [
              "   Time        V1        V2        V3  ...       V27       V28  Amount  Class\n",
              "0   0.0 -1.359807 -0.072781  2.536347  ...  0.133558 -0.021053  149.62      0\n",
              "1   0.0  1.191857  0.266151  0.166480  ... -0.008983  0.014724    2.69      0\n",
              "2   1.0 -1.358354 -1.340163  1.773209  ... -0.055353 -0.059752  378.66      0\n",
              "3   1.0 -0.966272 -0.185226  1.792993  ...  0.062723  0.061458  123.50      0\n",
              "4   2.0 -1.158233  0.877737  1.548718  ...  0.219422  0.215153   69.99      0\n",
              "\n",
              "[5 rows x 31 columns]"
            ]
          },
          "metadata": {
            "tags": []
          },
          "execution_count": 52
        }
      ]
    },
    {
      "cell_type": "code",
      "metadata": {
        "id": "kSwYyysM36ex"
      },
      "source": [
        "def time_represent(seconds, days = False):\n",
        "  # get seconds and transform to (h, m, s)\n",
        "  minutes_ = int(seconds//60)\n",
        "  seconds_ = int(seconds % 60)\n",
        "  hours_ = int(minutes_ // 60)\n",
        "  minutes_ = int(minutes_ % 60) \n",
        "\n",
        "  if (days):\n",
        "    days_ = int(hours_//24)\n",
        "    hours_ = int(hours_ % 24)\n",
        "    return days_, hours_, minutes_, seconds_\n",
        "  else:\n",
        "    return hours_, minutes_, seconds_\n",
        "\n",
        "def get_days(seconds):\n",
        "  return int(seconds // (60 * 60 * 24))\n",
        "\n",
        "\n",
        "class Time():\n",
        "\n",
        "  def __init__(self, seconds, days = False):\n",
        "    time_list = time_represent(seconds, days = days)\n",
        "    self._d, self._h, self._m, self._s = time_list\n",
        "  \n",
        "  def get_d(self):\n",
        "    return self._d\n",
        "\n",
        "  def get_h(self):\n",
        "    return self._h\n",
        "\n",
        "  def get_m(self):\n",
        "    return self._m\n",
        "\n",
        "  def get_s(self):\n",
        "    return self._s\n",
        "\n",
        "def get_d(s):\n",
        "  t = Time(s, days = True)\n",
        "  return t.get_d()\n",
        "\n",
        "\n",
        "def get_h(s):\n",
        "  t = Time(s, days = True)\n",
        "  return t.get_h()\n",
        "\n",
        "  \n",
        "def get_m(s):\n",
        "  t = Time(s, days = True)\n",
        "  return t.get_m()\n",
        "\n",
        "\n",
        "def get_s(s):\n",
        "  t = Time(s, days = True)\n",
        "  return t.get_s()"
      ],
      "execution_count": null,
      "outputs": []
    },
    {
      "cell_type": "markdown",
      "metadata": {
        "id": "48GZJpfj395I"
      },
      "source": [
        "### Отдельную выборку с небольшим предпроцессингом\n"
      ]
    },
    {
      "cell_type": "code",
      "metadata": {
        "id": "HhwnVfcN3f73"
      },
      "source": [
        "df_copy = df.copy(deep = True)\n",
        "X_c = df_copy.drop(columns = ['Class'])\n",
        "y_c = df_copy['Class']\n"
      ],
      "execution_count": null,
      "outputs": []
    },
    {
      "cell_type": "code",
      "metadata": {
        "colab": {
          "base_uri": "https://localhost:8080/"
        },
        "id": "12SMp_ZS4QUP",
        "outputId": "c1ea0545-cb60-4cf0-bc3d-c7b8d60e85e4"
      },
      "source": [
        "new_features = ['t_' + t for t in ['d', 'h', 'm', 's']]\n",
        "new_features"
      ],
      "execution_count": null,
      "outputs": [
        {
          "output_type": "execute_result",
          "data": {
            "text/plain": [
              "['t_d', 't_h', 't_m', 't_s']"
            ]
          },
          "metadata": {
            "tags": []
          },
          "execution_count": 55
        }
      ]
    },
    {
      "cell_type": "code",
      "metadata": {
        "id": "3DIFA2jm374X"
      },
      "source": [
        "idx = 0\n",
        "X_c[new_features[idx]] = X_c.Time.apply(lambda s: get_d(s))\n",
        "\n",
        "idx = 1\n",
        "X_c[new_features[idx]] = X_c.Time.apply(lambda s: get_h(s))\n",
        "\n",
        "idx = 2\n",
        "X_c[new_features[idx]] = X_c.Time.apply(lambda s: get_m(s))\n",
        "\n",
        "idx = 3\n",
        "X_c[new_features[idx]] = X_c.Time.apply(lambda s: get_s(s))"
      ],
      "execution_count": null,
      "outputs": []
    },
    {
      "cell_type": "code",
      "metadata": {
        "colab": {
          "base_uri": "https://localhost:8080/",
          "height": 218
        },
        "id": "xOV70c354MDH",
        "outputId": "e9b76ca9-f7f3-4bde-b27b-731d9badf765"
      },
      "source": [
        "X_c.tail(5)"
      ],
      "execution_count": null,
      "outputs": [
        {
          "output_type": "execute_result",
          "data": {
            "text/html": [
              "<div>\n",
              "<style scoped>\n",
              "    .dataframe tbody tr th:only-of-type {\n",
              "        vertical-align: middle;\n",
              "    }\n",
              "\n",
              "    .dataframe tbody tr th {\n",
              "        vertical-align: top;\n",
              "    }\n",
              "\n",
              "    .dataframe thead th {\n",
              "        text-align: right;\n",
              "    }\n",
              "</style>\n",
              "<table border=\"1\" class=\"dataframe\">\n",
              "  <thead>\n",
              "    <tr style=\"text-align: right;\">\n",
              "      <th></th>\n",
              "      <th>Time</th>\n",
              "      <th>V1</th>\n",
              "      <th>V2</th>\n",
              "      <th>V3</th>\n",
              "      <th>V4</th>\n",
              "      <th>V5</th>\n",
              "      <th>V6</th>\n",
              "      <th>V7</th>\n",
              "      <th>V8</th>\n",
              "      <th>V9</th>\n",
              "      <th>V10</th>\n",
              "      <th>V11</th>\n",
              "      <th>V12</th>\n",
              "      <th>V13</th>\n",
              "      <th>V14</th>\n",
              "      <th>V15</th>\n",
              "      <th>V16</th>\n",
              "      <th>V17</th>\n",
              "      <th>V18</th>\n",
              "      <th>V19</th>\n",
              "      <th>V20</th>\n",
              "      <th>V21</th>\n",
              "      <th>V22</th>\n",
              "      <th>V23</th>\n",
              "      <th>V24</th>\n",
              "      <th>V25</th>\n",
              "      <th>V26</th>\n",
              "      <th>V27</th>\n",
              "      <th>V28</th>\n",
              "      <th>Amount</th>\n",
              "      <th>t_d</th>\n",
              "      <th>t_h</th>\n",
              "      <th>t_m</th>\n",
              "      <th>t_s</th>\n",
              "    </tr>\n",
              "  </thead>\n",
              "  <tbody>\n",
              "    <tr>\n",
              "      <th>284802</th>\n",
              "      <td>172786.0</td>\n",
              "      <td>-11.881118</td>\n",
              "      <td>10.071785</td>\n",
              "      <td>-9.834783</td>\n",
              "      <td>-2.066656</td>\n",
              "      <td>-5.364473</td>\n",
              "      <td>-2.606837</td>\n",
              "      <td>-4.918215</td>\n",
              "      <td>7.305334</td>\n",
              "      <td>1.914428</td>\n",
              "      <td>4.356170</td>\n",
              "      <td>-1.593105</td>\n",
              "      <td>2.711941</td>\n",
              "      <td>-0.689256</td>\n",
              "      <td>4.626942</td>\n",
              "      <td>-0.924459</td>\n",
              "      <td>1.107641</td>\n",
              "      <td>1.991691</td>\n",
              "      <td>0.510632</td>\n",
              "      <td>-0.682920</td>\n",
              "      <td>1.475829</td>\n",
              "      <td>0.213454</td>\n",
              "      <td>0.111864</td>\n",
              "      <td>1.014480</td>\n",
              "      <td>-0.509348</td>\n",
              "      <td>1.436807</td>\n",
              "      <td>0.250034</td>\n",
              "      <td>0.943651</td>\n",
              "      <td>0.823731</td>\n",
              "      <td>0.77</td>\n",
              "      <td>1</td>\n",
              "      <td>23</td>\n",
              "      <td>59</td>\n",
              "      <td>46</td>\n",
              "    </tr>\n",
              "    <tr>\n",
              "      <th>284803</th>\n",
              "      <td>172787.0</td>\n",
              "      <td>-0.732789</td>\n",
              "      <td>-0.055080</td>\n",
              "      <td>2.035030</td>\n",
              "      <td>-0.738589</td>\n",
              "      <td>0.868229</td>\n",
              "      <td>1.058415</td>\n",
              "      <td>0.024330</td>\n",
              "      <td>0.294869</td>\n",
              "      <td>0.584800</td>\n",
              "      <td>-0.975926</td>\n",
              "      <td>-0.150189</td>\n",
              "      <td>0.915802</td>\n",
              "      <td>1.214756</td>\n",
              "      <td>-0.675143</td>\n",
              "      <td>1.164931</td>\n",
              "      <td>-0.711757</td>\n",
              "      <td>-0.025693</td>\n",
              "      <td>-1.221179</td>\n",
              "      <td>-1.545556</td>\n",
              "      <td>0.059616</td>\n",
              "      <td>0.214205</td>\n",
              "      <td>0.924384</td>\n",
              "      <td>0.012463</td>\n",
              "      <td>-1.016226</td>\n",
              "      <td>-0.606624</td>\n",
              "      <td>-0.395255</td>\n",
              "      <td>0.068472</td>\n",
              "      <td>-0.053527</td>\n",
              "      <td>24.79</td>\n",
              "      <td>1</td>\n",
              "      <td>23</td>\n",
              "      <td>59</td>\n",
              "      <td>47</td>\n",
              "    </tr>\n",
              "    <tr>\n",
              "      <th>284804</th>\n",
              "      <td>172788.0</td>\n",
              "      <td>1.919565</td>\n",
              "      <td>-0.301254</td>\n",
              "      <td>-3.249640</td>\n",
              "      <td>-0.557828</td>\n",
              "      <td>2.630515</td>\n",
              "      <td>3.031260</td>\n",
              "      <td>-0.296827</td>\n",
              "      <td>0.708417</td>\n",
              "      <td>0.432454</td>\n",
              "      <td>-0.484782</td>\n",
              "      <td>0.411614</td>\n",
              "      <td>0.063119</td>\n",
              "      <td>-0.183699</td>\n",
              "      <td>-0.510602</td>\n",
              "      <td>1.329284</td>\n",
              "      <td>0.140716</td>\n",
              "      <td>0.313502</td>\n",
              "      <td>0.395652</td>\n",
              "      <td>-0.577252</td>\n",
              "      <td>0.001396</td>\n",
              "      <td>0.232045</td>\n",
              "      <td>0.578229</td>\n",
              "      <td>-0.037501</td>\n",
              "      <td>0.640134</td>\n",
              "      <td>0.265745</td>\n",
              "      <td>-0.087371</td>\n",
              "      <td>0.004455</td>\n",
              "      <td>-0.026561</td>\n",
              "      <td>67.88</td>\n",
              "      <td>1</td>\n",
              "      <td>23</td>\n",
              "      <td>59</td>\n",
              "      <td>48</td>\n",
              "    </tr>\n",
              "    <tr>\n",
              "      <th>284805</th>\n",
              "      <td>172788.0</td>\n",
              "      <td>-0.240440</td>\n",
              "      <td>0.530483</td>\n",
              "      <td>0.702510</td>\n",
              "      <td>0.689799</td>\n",
              "      <td>-0.377961</td>\n",
              "      <td>0.623708</td>\n",
              "      <td>-0.686180</td>\n",
              "      <td>0.679145</td>\n",
              "      <td>0.392087</td>\n",
              "      <td>-0.399126</td>\n",
              "      <td>-1.933849</td>\n",
              "      <td>-0.962886</td>\n",
              "      <td>-1.042082</td>\n",
              "      <td>0.449624</td>\n",
              "      <td>1.962563</td>\n",
              "      <td>-0.608577</td>\n",
              "      <td>0.509928</td>\n",
              "      <td>1.113981</td>\n",
              "      <td>2.897849</td>\n",
              "      <td>0.127434</td>\n",
              "      <td>0.265245</td>\n",
              "      <td>0.800049</td>\n",
              "      <td>-0.163298</td>\n",
              "      <td>0.123205</td>\n",
              "      <td>-0.569159</td>\n",
              "      <td>0.546668</td>\n",
              "      <td>0.108821</td>\n",
              "      <td>0.104533</td>\n",
              "      <td>10.00</td>\n",
              "      <td>1</td>\n",
              "      <td>23</td>\n",
              "      <td>59</td>\n",
              "      <td>48</td>\n",
              "    </tr>\n",
              "    <tr>\n",
              "      <th>284806</th>\n",
              "      <td>172792.0</td>\n",
              "      <td>-0.533413</td>\n",
              "      <td>-0.189733</td>\n",
              "      <td>0.703337</td>\n",
              "      <td>-0.506271</td>\n",
              "      <td>-0.012546</td>\n",
              "      <td>-0.649617</td>\n",
              "      <td>1.577006</td>\n",
              "      <td>-0.414650</td>\n",
              "      <td>0.486180</td>\n",
              "      <td>-0.915427</td>\n",
              "      <td>-1.040458</td>\n",
              "      <td>-0.031513</td>\n",
              "      <td>-0.188093</td>\n",
              "      <td>-0.084316</td>\n",
              "      <td>0.041333</td>\n",
              "      <td>-0.302620</td>\n",
              "      <td>-0.660377</td>\n",
              "      <td>0.167430</td>\n",
              "      <td>-0.256117</td>\n",
              "      <td>0.382948</td>\n",
              "      <td>0.261057</td>\n",
              "      <td>0.643078</td>\n",
              "      <td>0.376777</td>\n",
              "      <td>0.008797</td>\n",
              "      <td>-0.473649</td>\n",
              "      <td>-0.818267</td>\n",
              "      <td>-0.002415</td>\n",
              "      <td>0.013649</td>\n",
              "      <td>217.00</td>\n",
              "      <td>1</td>\n",
              "      <td>23</td>\n",
              "      <td>59</td>\n",
              "      <td>52</td>\n",
              "    </tr>\n",
              "  </tbody>\n",
              "</table>\n",
              "</div>"
            ],
            "text/plain": [
              "            Time         V1         V2        V3  ...  t_d  t_h  t_m  t_s\n",
              "284802  172786.0 -11.881118  10.071785 -9.834783  ...    1   23   59   46\n",
              "284803  172787.0  -0.732789  -0.055080  2.035030  ...    1   23   59   47\n",
              "284804  172788.0   1.919565  -0.301254 -3.249640  ...    1   23   59   48\n",
              "284805  172788.0  -0.240440   0.530483  0.702510  ...    1   23   59   48\n",
              "284806  172792.0  -0.533413  -0.189733  0.703337  ...    1   23   59   52\n",
              "\n",
              "[5 rows x 34 columns]"
            ]
          },
          "metadata": {
            "tags": []
          },
          "execution_count": 57
        }
      ]
    },
    {
      "cell_type": "code",
      "metadata": {
        "id": "lsDMINBv5Pwp"
      },
      "source": [
        ""
      ],
      "execution_count": null,
      "outputs": []
    },
    {
      "cell_type": "markdown",
      "metadata": {
        "id": "30QzbdDX5RUv"
      },
      "source": [
        "Мы пока оставили колонку Timе, она хорошо влияла на ответ."
      ]
    },
    {
      "cell_type": "code",
      "metadata": {
        "colab": {
          "base_uri": "https://localhost:8080/"
        },
        "id": "9pDjSgSU4MFS",
        "outputId": "fc5dc081-5f79-4feb-db28-c1d190471321"
      },
      "source": [
        "X_c = X_c.drop(columns = ['t_s', 't_m', 't_d'])\n",
        "X_c['night'] = X_c['t_h'].apply(lambda h: int(h <= 10))\n",
        "X_c['zero_amount'] = X_c['Amount'].apply(lambda a: int(a == 0)) \n",
        "\n",
        "numeric_cols = [col for col in X_c.columns if col[0] == 'V']\n",
        "numeric_cols = numeric_cols + ['Amount'] + ['Time']\n",
        "\n",
        "X_c = X_c.drop(columns = ['t_h']) # Убрали часы, слишком избыточна \n",
        "X_c.head(5), numeric_cols"
      ],
      "execution_count": null,
      "outputs": [
        {
          "output_type": "execute_result",
          "data": {
            "text/plain": [
              "(   Time        V1        V2        V3  ...       V28  Amount  night  zero_amount\n",
              " 0   0.0 -1.359807 -0.072781  2.536347  ... -0.021053  149.62      1            0\n",
              " 1   0.0  1.191857  0.266151  0.166480  ...  0.014724    2.69      1            0\n",
              " 2   1.0 -1.358354 -1.340163  1.773209  ... -0.059752  378.66      1            0\n",
              " 3   1.0 -0.966272 -0.185226  1.792993  ...  0.061458  123.50      1            0\n",
              " 4   2.0 -1.158233  0.877737  1.548718  ...  0.215153   69.99      1            0\n",
              " \n",
              " [5 rows x 32 columns],\n",
              " ['V1',\n",
              "  'V2',\n",
              "  'V3',\n",
              "  'V4',\n",
              "  'V5',\n",
              "  'V6',\n",
              "  'V7',\n",
              "  'V8',\n",
              "  'V9',\n",
              "  'V10',\n",
              "  'V11',\n",
              "  'V12',\n",
              "  'V13',\n",
              "  'V14',\n",
              "  'V15',\n",
              "  'V16',\n",
              "  'V17',\n",
              "  'V18',\n",
              "  'V19',\n",
              "  'V20',\n",
              "  'V21',\n",
              "  'V22',\n",
              "  'V23',\n",
              "  'V24',\n",
              "  'V25',\n",
              "  'V26',\n",
              "  'V27',\n",
              "  'V28',\n",
              "  'Amount',\n",
              "  'Time'])"
            ]
          },
          "metadata": {
            "tags": []
          },
          "execution_count": 58
        }
      ]
    },
    {
      "cell_type": "code",
      "metadata": {
        "colab": {
          "base_uri": "https://localhost:8080/",
          "height": 218
        },
        "id": "E72eUn7f4MHW",
        "outputId": "53974b60-67c9-4123-93fb-69511ab4a5d4"
      },
      "source": [
        "X_c.head()"
      ],
      "execution_count": null,
      "outputs": [
        {
          "output_type": "execute_result",
          "data": {
            "text/html": [
              "<div>\n",
              "<style scoped>\n",
              "    .dataframe tbody tr th:only-of-type {\n",
              "        vertical-align: middle;\n",
              "    }\n",
              "\n",
              "    .dataframe tbody tr th {\n",
              "        vertical-align: top;\n",
              "    }\n",
              "\n",
              "    .dataframe thead th {\n",
              "        text-align: right;\n",
              "    }\n",
              "</style>\n",
              "<table border=\"1\" class=\"dataframe\">\n",
              "  <thead>\n",
              "    <tr style=\"text-align: right;\">\n",
              "      <th></th>\n",
              "      <th>Time</th>\n",
              "      <th>V1</th>\n",
              "      <th>V2</th>\n",
              "      <th>V3</th>\n",
              "      <th>V4</th>\n",
              "      <th>V5</th>\n",
              "      <th>V6</th>\n",
              "      <th>V7</th>\n",
              "      <th>V8</th>\n",
              "      <th>V9</th>\n",
              "      <th>V10</th>\n",
              "      <th>V11</th>\n",
              "      <th>V12</th>\n",
              "      <th>V13</th>\n",
              "      <th>V14</th>\n",
              "      <th>V15</th>\n",
              "      <th>V16</th>\n",
              "      <th>V17</th>\n",
              "      <th>V18</th>\n",
              "      <th>V19</th>\n",
              "      <th>V20</th>\n",
              "      <th>V21</th>\n",
              "      <th>V22</th>\n",
              "      <th>V23</th>\n",
              "      <th>V24</th>\n",
              "      <th>V25</th>\n",
              "      <th>V26</th>\n",
              "      <th>V27</th>\n",
              "      <th>V28</th>\n",
              "      <th>Amount</th>\n",
              "      <th>night</th>\n",
              "      <th>zero_amount</th>\n",
              "    </tr>\n",
              "  </thead>\n",
              "  <tbody>\n",
              "    <tr>\n",
              "      <th>0</th>\n",
              "      <td>0.0</td>\n",
              "      <td>-1.359807</td>\n",
              "      <td>-0.072781</td>\n",
              "      <td>2.536347</td>\n",
              "      <td>1.378155</td>\n",
              "      <td>-0.338321</td>\n",
              "      <td>0.462388</td>\n",
              "      <td>0.239599</td>\n",
              "      <td>0.098698</td>\n",
              "      <td>0.363787</td>\n",
              "      <td>0.090794</td>\n",
              "      <td>-0.551600</td>\n",
              "      <td>-0.617801</td>\n",
              "      <td>-0.991390</td>\n",
              "      <td>-0.311169</td>\n",
              "      <td>1.468177</td>\n",
              "      <td>-0.470401</td>\n",
              "      <td>0.207971</td>\n",
              "      <td>0.025791</td>\n",
              "      <td>0.403993</td>\n",
              "      <td>0.251412</td>\n",
              "      <td>-0.018307</td>\n",
              "      <td>0.277838</td>\n",
              "      <td>-0.110474</td>\n",
              "      <td>0.066928</td>\n",
              "      <td>0.128539</td>\n",
              "      <td>-0.189115</td>\n",
              "      <td>0.133558</td>\n",
              "      <td>-0.021053</td>\n",
              "      <td>149.62</td>\n",
              "      <td>1</td>\n",
              "      <td>0</td>\n",
              "    </tr>\n",
              "    <tr>\n",
              "      <th>1</th>\n",
              "      <td>0.0</td>\n",
              "      <td>1.191857</td>\n",
              "      <td>0.266151</td>\n",
              "      <td>0.166480</td>\n",
              "      <td>0.448154</td>\n",
              "      <td>0.060018</td>\n",
              "      <td>-0.082361</td>\n",
              "      <td>-0.078803</td>\n",
              "      <td>0.085102</td>\n",
              "      <td>-0.255425</td>\n",
              "      <td>-0.166974</td>\n",
              "      <td>1.612727</td>\n",
              "      <td>1.065235</td>\n",
              "      <td>0.489095</td>\n",
              "      <td>-0.143772</td>\n",
              "      <td>0.635558</td>\n",
              "      <td>0.463917</td>\n",
              "      <td>-0.114805</td>\n",
              "      <td>-0.183361</td>\n",
              "      <td>-0.145783</td>\n",
              "      <td>-0.069083</td>\n",
              "      <td>-0.225775</td>\n",
              "      <td>-0.638672</td>\n",
              "      <td>0.101288</td>\n",
              "      <td>-0.339846</td>\n",
              "      <td>0.167170</td>\n",
              "      <td>0.125895</td>\n",
              "      <td>-0.008983</td>\n",
              "      <td>0.014724</td>\n",
              "      <td>2.69</td>\n",
              "      <td>1</td>\n",
              "      <td>0</td>\n",
              "    </tr>\n",
              "    <tr>\n",
              "      <th>2</th>\n",
              "      <td>1.0</td>\n",
              "      <td>-1.358354</td>\n",
              "      <td>-1.340163</td>\n",
              "      <td>1.773209</td>\n",
              "      <td>0.379780</td>\n",
              "      <td>-0.503198</td>\n",
              "      <td>1.800499</td>\n",
              "      <td>0.791461</td>\n",
              "      <td>0.247676</td>\n",
              "      <td>-1.514654</td>\n",
              "      <td>0.207643</td>\n",
              "      <td>0.624501</td>\n",
              "      <td>0.066084</td>\n",
              "      <td>0.717293</td>\n",
              "      <td>-0.165946</td>\n",
              "      <td>2.345865</td>\n",
              "      <td>-2.890083</td>\n",
              "      <td>1.109969</td>\n",
              "      <td>-0.121359</td>\n",
              "      <td>-2.261857</td>\n",
              "      <td>0.524980</td>\n",
              "      <td>0.247998</td>\n",
              "      <td>0.771679</td>\n",
              "      <td>0.909412</td>\n",
              "      <td>-0.689281</td>\n",
              "      <td>-0.327642</td>\n",
              "      <td>-0.139097</td>\n",
              "      <td>-0.055353</td>\n",
              "      <td>-0.059752</td>\n",
              "      <td>378.66</td>\n",
              "      <td>1</td>\n",
              "      <td>0</td>\n",
              "    </tr>\n",
              "    <tr>\n",
              "      <th>3</th>\n",
              "      <td>1.0</td>\n",
              "      <td>-0.966272</td>\n",
              "      <td>-0.185226</td>\n",
              "      <td>1.792993</td>\n",
              "      <td>-0.863291</td>\n",
              "      <td>-0.010309</td>\n",
              "      <td>1.247203</td>\n",
              "      <td>0.237609</td>\n",
              "      <td>0.377436</td>\n",
              "      <td>-1.387024</td>\n",
              "      <td>-0.054952</td>\n",
              "      <td>-0.226487</td>\n",
              "      <td>0.178228</td>\n",
              "      <td>0.507757</td>\n",
              "      <td>-0.287924</td>\n",
              "      <td>-0.631418</td>\n",
              "      <td>-1.059647</td>\n",
              "      <td>-0.684093</td>\n",
              "      <td>1.965775</td>\n",
              "      <td>-1.232622</td>\n",
              "      <td>-0.208038</td>\n",
              "      <td>-0.108300</td>\n",
              "      <td>0.005274</td>\n",
              "      <td>-0.190321</td>\n",
              "      <td>-1.175575</td>\n",
              "      <td>0.647376</td>\n",
              "      <td>-0.221929</td>\n",
              "      <td>0.062723</td>\n",
              "      <td>0.061458</td>\n",
              "      <td>123.50</td>\n",
              "      <td>1</td>\n",
              "      <td>0</td>\n",
              "    </tr>\n",
              "    <tr>\n",
              "      <th>4</th>\n",
              "      <td>2.0</td>\n",
              "      <td>-1.158233</td>\n",
              "      <td>0.877737</td>\n",
              "      <td>1.548718</td>\n",
              "      <td>0.403034</td>\n",
              "      <td>-0.407193</td>\n",
              "      <td>0.095921</td>\n",
              "      <td>0.592941</td>\n",
              "      <td>-0.270533</td>\n",
              "      <td>0.817739</td>\n",
              "      <td>0.753074</td>\n",
              "      <td>-0.822843</td>\n",
              "      <td>0.538196</td>\n",
              "      <td>1.345852</td>\n",
              "      <td>-1.119670</td>\n",
              "      <td>0.175121</td>\n",
              "      <td>-0.451449</td>\n",
              "      <td>-0.237033</td>\n",
              "      <td>-0.038195</td>\n",
              "      <td>0.803487</td>\n",
              "      <td>0.408542</td>\n",
              "      <td>-0.009431</td>\n",
              "      <td>0.798278</td>\n",
              "      <td>-0.137458</td>\n",
              "      <td>0.141267</td>\n",
              "      <td>-0.206010</td>\n",
              "      <td>0.502292</td>\n",
              "      <td>0.219422</td>\n",
              "      <td>0.215153</td>\n",
              "      <td>69.99</td>\n",
              "      <td>1</td>\n",
              "      <td>0</td>\n",
              "    </tr>\n",
              "  </tbody>\n",
              "</table>\n",
              "</div>"
            ],
            "text/plain": [
              "   Time        V1        V2        V3  ...       V28  Amount  night  zero_amount\n",
              "0   0.0 -1.359807 -0.072781  2.536347  ... -0.021053  149.62      1            0\n",
              "1   0.0  1.191857  0.266151  0.166480  ...  0.014724    2.69      1            0\n",
              "2   1.0 -1.358354 -1.340163  1.773209  ... -0.059752  378.66      1            0\n",
              "3   1.0 -0.966272 -0.185226  1.792993  ...  0.061458  123.50      1            0\n",
              "4   2.0 -1.158233  0.877737  1.548718  ...  0.215153   69.99      1            0\n",
              "\n",
              "[5 rows x 32 columns]"
            ]
          },
          "metadata": {
            "tags": []
          },
          "execution_count": 59
        }
      ]
    },
    {
      "cell_type": "code",
      "metadata": {
        "colab": {
          "base_uri": "https://localhost:8080/"
        },
        "id": "vhtzTIjK4MJL",
        "outputId": "8ebb8948-0eee-4551-9ab7-2ec201b19db9"
      },
      "source": [
        "X_train_all_c, X_test_all_c, y_train_all_c, y_test_all_c = train_test_split(X_c, y_c, \n",
        "                                                              test_size = 0.2, random_state = 42)\n",
        "\n",
        "print('percentage 1 label in train: {:.3f}\\npercentage 1 label in test: {:.3f}'.format((y_train_all_c == 1).sum()*100/y_train_all_c.shape[0],\n",
        "                                           (y_test_all_c == 1).sum()*100/y_test_all_c.shape[0]))"
      ],
      "execution_count": null,
      "outputs": [
        {
          "output_type": "stream",
          "text": [
            "percentage 1 label in train: 0.173\n",
            "percentage 1 label in test: 0.172\n"
          ],
          "name": "stdout"
        }
      ]
    },
    {
      "cell_type": "code",
      "metadata": {
        "id": "szXvb_-54MK5"
      },
      "source": [
        ""
      ],
      "execution_count": null,
      "outputs": []
    },
    {
      "cell_type": "code",
      "metadata": {
        "id": "yl07tYkb62gl"
      },
      "source": [
        ""
      ],
      "execution_count": null,
      "outputs": []
    },
    {
      "cell_type": "code",
      "metadata": {
        "id": "jcMAVStu4MM6"
      },
      "source": [
        ""
      ],
      "execution_count": null,
      "outputs": []
    },
    {
      "cell_type": "code",
      "metadata": {
        "id": "ZnaGARuGWdTe"
      },
      "source": [
        "X = df.drop(columns = ['Class'])\n",
        "y = df['Class']"
      ],
      "execution_count": null,
      "outputs": []
    },
    {
      "cell_type": "code",
      "metadata": {
        "colab": {
          "base_uri": "https://localhost:8080/"
        },
        "id": "rwjehju1WnVl",
        "outputId": "f6647097-bf85-436f-de21-8c4bcfe52090"
      },
      "source": [
        "print('Fraud percentage: {:.2f} %, non-Fraud persentage: {:.2f} %'.format((y == 1).sum()*100./y.shape[0], \n",
        "                                                              (y == 0).sum()*100./y.shape[0]))"
      ],
      "execution_count": null,
      "outputs": [
        {
          "output_type": "stream",
          "text": [
            "Fraud percentage: 0.17 %, non-Fraud persentage: 99.83 %\n"
          ],
          "name": "stdout"
        }
      ]
    },
    {
      "cell_type": "code",
      "metadata": {
        "colab": {
          "base_uri": "https://localhost:8080/"
        },
        "id": "-sLRBdNZW8I-",
        "outputId": "a4df9315-af4c-4104-c754-dea4b88697ff"
      },
      "source": [
        "X_train_all, X_test_all, y_train_all, y_test_all = train_test_split(X, y, test_size = 0.2, random_state = 42)\n",
        "print('persantage fraud in train: {:.2f} %,\\npersentage non-fraud in test: {:.2f} %'.format((y_train_all == 0).sum()*100./y.shape[0],\n",
        "                                                  (y_test_all == 0).sum()*100./y.shape[0]))"
      ],
      "execution_count": null,
      "outputs": [
        {
          "output_type": "stream",
          "text": [
            "persantage fraud in train: 79.86 %,\n",
            "persentage non-fraud in test: 19.97 %\n"
          ],
          "name": "stdout"
        }
      ]
    },
    {
      "cell_type": "code",
      "metadata": {
        "id": "BN5GcXK-Xqid"
      },
      "source": [
        "# undersampling technique\n",
        "def return_undersampling_data(X, y, nums = None):\n",
        "  \"\"\"\n",
        "  for binary classification [0, 1]\n",
        "  \"\"\"\n",
        "  assert(X.shape[0] == y.shape[0])\n",
        "  unique, counts = np.unique(y.values, return_counts = True)\n",
        "  assert(all(unique == [0,1])) \n",
        "  label_big = unique[counts.argmax()]\n",
        "  label_small = unique[counts.argmin()]\n",
        "  #print('label {} is disbalance'.format(label_big))\n",
        "  indeces_small = y[y == label_small].index\n",
        "  indeces = np.random.choice(X.index, size = len(indeces_small) if nums is None else nums)\n",
        "  X_copy = X.copy(deep = True)\n",
        "  y_copy = y.copy(deep = True)\n",
        "  indeces = np.concatenate([indeces_small.tolist(), indeces.tolist()])\n",
        "  X_under, y_under = X_copy.loc[indeces, :], y_copy[indeces]\n",
        "  \n",
        "  return X_under, y_under\n",
        "num_of_fraud = len(y_train_all[y_train_all == 1].index)\n",
        "indeces = np.random.choice(X_train_all.index, size = num_of_fraud)"
      ],
      "execution_count": null,
      "outputs": []
    },
    {
      "cell_type": "code",
      "metadata": {
        "id": "PgNVJWVcgYu7"
      },
      "source": [
        "def cross_val_score_my(model, X, y, cv = 5, scoring = 'roc_auc', text = '', return_scores = False):\n",
        "  assert(X.shape[0] == y.shape[0])\n",
        "  cv = StratifiedKFold(n_splits = cv, shuffle = True)\n",
        "  n_scores = cross_val_score(model, X, y, cv = cv, scoring = scoring)\n",
        "\n",
        "  print('cross_val_score {} : {:.3f} +- {:.3f} '.format(text, n_scores.mean(),\n",
        "                                                    n_scores.std()))\n",
        "  \n",
        "  if(return_scores):\n",
        "    return n_scores"
      ],
      "execution_count": null,
      "outputs": []
    },
    {
      "cell_type": "code",
      "metadata": {
        "id": "N20CQ49fYYAC"
      },
      "source": [
        "X_under_train, y_under_train = return_undersampling_data(X_train_all, y_train_all)\n"
      ],
      "execution_count": null,
      "outputs": []
    },
    {
      "cell_type": "code",
      "metadata": {
        "id": "0eF8gR44c9MR"
      },
      "source": [
        "# Должно быть 50\\50\n",
        "assert((y_under_train == 0).sum()/(y_under_train == 1).sum() == 1.)"
      ],
      "execution_count": null,
      "outputs": []
    },
    {
      "cell_type": "code",
      "metadata": {
        "id": "KzzbmgrueUze"
      },
      "source": [
        "from sklearn.metrics import SCORERS, f1_score, accuracy_score, roc_auc_score, recall_score, precision_score, precision_recall_fscore_support\n",
        "keys = set(SCORERS.keys())\n",
        "scorings = ['f1', 'recall', 'precision', 'roc_auc', 'accuracy']\n",
        "for scor in scorings:\n",
        "  if(scor not in keys):\n",
        "    print(scor, ' not exsist!')\n",
        "\n",
        "metrics_all = [f1_score, recall_score, precision_score, roc_auc_score, accuracy_score]\n"
      ],
      "execution_count": null,
      "outputs": []
    },
    {
      "cell_type": "code",
      "metadata": {
        "colab": {
          "base_uri": "https://localhost:8080/"
        },
        "id": "4tKSo1Xub58a",
        "outputId": "a1ec8a7f-3e21-400a-b803-c2cef090238b"
      },
      "source": [
        "from sklearn.pipeline import make_pipeline, Pipeline\n",
        "\n",
        "scaler_rob = RobustScaler()\n",
        "scaler_std = StandardScaler()\n",
        "times = 7\n",
        "best_params = []\n",
        "cross_val_scores = []\n",
        "metric_on_test_data_times = []\n",
        "\n",
        "for idx in tqdm(range(times)):\n",
        "  metrics_on_test_data = {}\n",
        "  print('time: {}\\n {}'.format((idx+1), '-'*30))\n",
        "  pipe = make_pipeline(\n",
        "      scaler_std,\n",
        "      LogisticRegression() # balanced not doing\n",
        "  )\n",
        "  X_under_train, y_under_train = return_undersampling_data(X_train_all, y_train_all)\n",
        "\n",
        "  C = np.arange(0.05, 7, 8)\n",
        "  hyperparam_grid = {\n",
        "                   \"logisticregression__penalty\": [\"l1\", \"l2\"],\n",
        "                   \"logisticregression__C\": C, \n",
        "                   }\n",
        "  cv = StratifiedKFold(n_splits = 4, shuffle = True)\n",
        "  grid = GridSearchCV(pipe, hyperparam_grid, cv = cv, scoring = 'roc_auc') # maybe should be precision_recall_score\n",
        "  grid.fit(X_under_train, y_under_train)\n",
        "  best_model = grid.best_estimator_\n",
        "  best_params.append(grid.best_estimator_.get_params()['logisticregression'])\n",
        "\n",
        "  #----------------- cross_val_score on all undersample for all metrics -----------------#\n",
        "  cross_val = {}\n",
        "  print('cross_val on X_under, y_under\\n')\n",
        "  for scor in scorings:\n",
        "    n_scores = cross_val_score_my(best_model, X_under_train, y_under_train, \n",
        "                                  cv = 5, scoring = scor, text = scor, return_scores = True)\n",
        "    print('------------------------------------------------------------\\n')\n",
        "    cross_val[scor] = n_scores.mean()\n",
        "  cross_val_scores.append(cross_val)\n",
        "  #--------------------------------see on real test data ---------------------------------#\n",
        "\n",
        "  print('Test\\n')\n",
        "  for idx, (scor_f, scor_name) in enumerate(zip(metrics_all, scorings), start = 1):\n",
        "    y_pred = best_model.predict(X_test_all)\n",
        "    y_pred_proba = best_model.predict_proba(X_test_all)\n",
        "    if(scor_name.find('roc_auc') == 0):\n",
        "      print('We calculate ROC_AUC score!')\n",
        "      score = scor_f(y_test_all, y_pred_proba[:, 1])\n",
        "    else:\n",
        "      score = scor_f(y_test_all, y_pred)\n",
        "    print('score {} on test data: {:.3f}'.format(scor_name, score))\n",
        "    metrics_on_test_data[scor_name] = score\n",
        "\n",
        "  metric_on_test_data_times.append(metrics_on_test_data)\n",
        "\n",
        "\n",
        "    \n"
      ],
      "execution_count": null,
      "outputs": [
        {
          "output_type": "stream",
          "text": [
            "\r  0%|          | 0/7 [00:00<?, ?it/s]"
          ],
          "name": "stderr"
        },
        {
          "output_type": "stream",
          "text": [
            "time: 1\n",
            " ------------------------------\n",
            "cross_val on X_under, y_under\n",
            "\n",
            "cross_val_score f1 : 0.918 +- 0.016 \n",
            "------------------------------------------------------------\n",
            "\n",
            "cross_val_score recall : 0.856 +- 0.044 \n",
            "------------------------------------------------------------\n",
            "\n",
            "cross_val_score precision : 0.986 +- 0.015 \n",
            "------------------------------------------------------------\n",
            "\n",
            "cross_val_score roc_auc : 0.974 +- 0.014 \n",
            "------------------------------------------------------------\n",
            "\n",
            "cross_val_score accuracy : 0.923 +- 0.012 \n",
            "------------------------------------------------------------\n",
            "\n",
            "Test\n",
            "\n",
            "score f1 on test data: 0.266\n",
            "score recall on test data: 0.878\n",
            "score precision on test data: 0.157\n",
            "We calculate ROC_AUC score!\n",
            "score roc_auc on test data: 0.986\n"
          ],
          "name": "stdout"
        },
        {
          "output_type": "stream",
          "text": [
            "\r 14%|█▍        | 1/7 [00:00<00:05,  1.19it/s]"
          ],
          "name": "stderr"
        },
        {
          "output_type": "stream",
          "text": [
            "score accuracy on test data: 0.992\n",
            "time: 2\n",
            " ------------------------------\n",
            "cross_val on X_under, y_under\n",
            "\n",
            "cross_val_score f1 : 0.918 +- 0.031 \n",
            "------------------------------------------------------------\n",
            "\n",
            "cross_val_score recall : 0.868 +- 0.035 \n",
            "------------------------------------------------------------\n",
            "\n",
            "cross_val_score precision : 0.994 +- 0.011 \n",
            "------------------------------------------------------------\n",
            "\n",
            "cross_val_score roc_auc : 0.976 +- 0.009 \n",
            "------------------------------------------------------------\n",
            "\n",
            "cross_val_score accuracy : 0.926 +- 0.018 \n",
            "------------------------------------------------------------\n",
            "\n",
            "Test\n",
            "\n",
            "score f1 on test data: 0.230\n",
            "score recall on test data: 0.888\n",
            "score precision on test data: 0.132\n",
            "We calculate ROC_AUC score!\n"
          ],
          "name": "stdout"
        },
        {
          "output_type": "stream",
          "text": [
            "\r 29%|██▊       | 2/7 [00:01<00:04,  1.19it/s]"
          ],
          "name": "stderr"
        },
        {
          "output_type": "stream",
          "text": [
            "score roc_auc on test data: 0.988\n",
            "score accuracy on test data: 0.990\n",
            "time: 3\n",
            " ------------------------------\n",
            "cross_val on X_under, y_under\n",
            "\n",
            "cross_val_score f1 : 0.927 +- 0.017 \n",
            "------------------------------------------------------------\n",
            "\n",
            "cross_val_score recall : 0.871 +- 0.026 \n",
            "------------------------------------------------------------\n",
            "\n",
            "cross_val_score precision : 0.991 +- 0.007 \n",
            "------------------------------------------------------------\n",
            "\n",
            "cross_val_score roc_auc : 0.979 +- 0.008 \n",
            "------------------------------------------------------------\n",
            "\n",
            "cross_val_score accuracy : 0.928 +- 0.018 \n",
            "------------------------------------------------------------\n",
            "\n",
            "Test\n",
            "\n",
            "score f1 on test data: 0.226\n",
            "score recall on test data: 0.888\n",
            "score precision on test data: 0.129\n",
            "We calculate ROC_AUC score!\n",
            "score roc_auc on test data: 0.986\n"
          ],
          "name": "stdout"
        },
        {
          "output_type": "stream",
          "text": [
            "\r 43%|████▎     | 3/7 [00:02<00:03,  1.20it/s]"
          ],
          "name": "stderr"
        },
        {
          "output_type": "stream",
          "text": [
            "score accuracy on test data: 0.990\n",
            "time: 4\n",
            " ------------------------------\n",
            "cross_val on X_under, y_under\n",
            "\n",
            "cross_val_score f1 : 0.921 +- 0.012 \n",
            "------------------------------------------------------------\n",
            "\n",
            "cross_val_score recall : 0.861 +- 0.028 \n",
            "------------------------------------------------------------\n",
            "\n",
            "cross_val_score precision : 0.991 +- 0.007 \n",
            "------------------------------------------------------------\n",
            "\n",
            "cross_val_score roc_auc : 0.973 +- 0.012 \n",
            "------------------------------------------------------------\n",
            "\n",
            "cross_val_score accuracy : 0.925 +- 0.011 \n",
            "------------------------------------------------------------\n",
            "\n",
            "Test\n",
            "\n",
            "score f1 on test data: 0.273\n",
            "score recall on test data: 0.888\n",
            "score precision on test data: 0.161\n",
            "We calculate ROC_AUC score!\n",
            "score roc_auc on test data: 0.984\n"
          ],
          "name": "stdout"
        },
        {
          "output_type": "stream",
          "text": [
            "\r 57%|█████▋    | 4/7 [00:03<00:02,  1.18it/s]"
          ],
          "name": "stderr"
        },
        {
          "output_type": "stream",
          "text": [
            "score accuracy on test data: 0.992\n",
            "time: 5\n",
            " ------------------------------\n",
            "cross_val on X_under, y_under\n",
            "\n",
            "cross_val_score f1 : 0.917 +- 0.027 \n",
            "------------------------------------------------------------\n",
            "\n",
            "cross_val_score recall : 0.856 +- 0.043 \n",
            "------------------------------------------------------------\n",
            "\n",
            "cross_val_score precision : 0.980 +- 0.014 \n",
            "------------------------------------------------------------\n",
            "\n",
            "cross_val_score roc_auc : 0.976 +- 0.013 \n",
            "------------------------------------------------------------\n",
            "\n",
            "cross_val_score accuracy : 0.923 +- 0.025 \n",
            "------------------------------------------------------------\n",
            "\n",
            "Test\n",
            "\n",
            "score f1 on test data: 0.249\n",
            "score recall on test data: 0.867\n",
            "score precision on test data: 0.146\n",
            "We calculate ROC_AUC score!\n",
            "score roc_auc on test data: 0.984\n"
          ],
          "name": "stdout"
        },
        {
          "output_type": "stream",
          "text": [
            "\r 71%|███████▏  | 5/7 [00:04<00:01,  1.19it/s]"
          ],
          "name": "stderr"
        },
        {
          "output_type": "stream",
          "text": [
            "score accuracy on test data: 0.991\n",
            "time: 6\n",
            " ------------------------------\n",
            "cross_val on X_under, y_under\n",
            "\n",
            "cross_val_score f1 : 0.925 +- 0.013 \n",
            "------------------------------------------------------------\n",
            "\n",
            "cross_val_score recall : 0.865 +- 0.028 \n",
            "------------------------------------------------------------\n",
            "\n",
            "cross_val_score precision : 0.997 +- 0.006 \n",
            "------------------------------------------------------------\n",
            "\n",
            "cross_val_score roc_auc : 0.977 +- 0.011 \n",
            "------------------------------------------------------------\n",
            "\n",
            "cross_val_score accuracy : 0.930 +- 0.015 \n",
            "------------------------------------------------------------\n",
            "\n",
            "Test\n",
            "\n",
            "score f1 on test data: 0.260\n",
            "score recall on test data: 0.888\n",
            "score precision on test data: 0.152\n",
            "We calculate ROC_AUC score!\n",
            "score roc_auc on test data: 0.986\n"
          ],
          "name": "stdout"
        },
        {
          "output_type": "stream",
          "text": [
            "\r 86%|████████▌ | 6/7 [00:05<00:00,  1.17it/s]"
          ],
          "name": "stderr"
        },
        {
          "output_type": "stream",
          "text": [
            "score accuracy on test data: 0.991\n",
            "time: 7\n",
            " ------------------------------\n",
            "cross_val on X_under, y_under\n",
            "\n",
            "cross_val_score f1 : 0.916 +- 0.015 \n",
            "------------------------------------------------------------\n",
            "\n",
            "cross_val_score recall : 0.855 +- 0.054 \n",
            "------------------------------------------------------------\n",
            "\n",
            "cross_val_score precision : 0.988 +- 0.011 \n",
            "------------------------------------------------------------\n",
            "\n",
            "cross_val_score roc_auc : 0.973 +- 0.005 \n",
            "------------------------------------------------------------\n",
            "\n",
            "cross_val_score accuracy : 0.919 +- 0.017 \n",
            "------------------------------------------------------------\n",
            "\n",
            "Test\n",
            "\n",
            "score f1 on test data: 0.281\n"
          ],
          "name": "stdout"
        },
        {
          "output_type": "stream",
          "text": [
            "100%|██████████| 7/7 [00:05<00:00,  1.18it/s]"
          ],
          "name": "stderr"
        },
        {
          "output_type": "stream",
          "text": [
            "score recall on test data: 0.857\n",
            "score precision on test data: 0.168\n",
            "We calculate ROC_AUC score!\n",
            "score roc_auc on test data: 0.985\n",
            "score accuracy on test data: 0.992\n"
          ],
          "name": "stdout"
        },
        {
          "output_type": "stream",
          "text": [
            "\n"
          ],
          "name": "stderr"
        }
      ]
    },
    {
      "cell_type": "code",
      "metadata": {
        "colab": {
          "base_uri": "https://localhost:8080/"
        },
        "id": "SFgRMMoAslaT",
        "outputId": "ef432243-10b6-48df-f9a5-d72cea756eb6"
      },
      "source": [
        "\n",
        "def Downsampling_block(X_train_all, y_train_all, X_test_all, y_test_all,\n",
        "                       scaler = 'std', times = 7, cv_nums = 4, scoring = 'roc_auc'):\n",
        "\n",
        "  if(scaler == 'std'):\n",
        "    scaler_std = StandardScaler()\n",
        "  else:\n",
        "    scaler_rob = RobustScaler()\n",
        "  times = times\n",
        "  best_params = []\n",
        "  cross_val_scores = []\n",
        "  metric_on_test_data_times = []\n",
        "\n",
        "  for idx in tqdm(range(times)):\n",
        "    metrics_on_test_data = {}\n",
        "    print('time: {}\\n {}'.format((idx+1), '-'*30))\n",
        "    pipe = make_pipeline(\n",
        "        scaler_std,\n",
        "        LogisticRegression() # balanced not doing\n",
        "    )\n",
        "    X_under_train, y_under_train = return_undersampling_data(X_train_all, y_train_all)\n",
        "\n",
        "    C = np.arange(0.05, 7, 8)\n",
        "    hyperparam_grid = {\n",
        "                    \"logisticregression__penalty\": [\"l1\", \"l2\"],\n",
        "                    \"logisticregression__C\": C, \n",
        "                    }\n",
        "    \n",
        "    cv = StratifiedKFold(n_splits = cv_nums, shuffle = True)\n",
        "    grid = GridSearchCV(pipe, hyperparam_grid, cv = cv, scoring = scoring) # maybe should be precision_recall_score\n",
        "    grid.fit(X_under_train, y_under_train)\n",
        "    best_model = grid.best_estimator_\n",
        "    best_params.append(grid.best_estimator_.get_params()['logisticregression'])\n",
        "\n",
        "    #----------------- cross_val_score on all undersample for all metrics -----------------#\n",
        "    cross_val = {}\n",
        "    print('cross_val on X_under, y_under\\n')\n",
        "    for scor in scorings:\n",
        "      n_scores = cross_val_score_my(best_model, X_under_train, y_under_train, \n",
        "                                    cv = 5, scoring = scor, text = scor, return_scores = True)\n",
        "      print('------------------------------------------------------------\\n')\n",
        "      cross_val[scor] = n_scores.mean()\n",
        "    cross_val_scores.append(cross_val)\n",
        "    #--------------------------------see on real test data ---------------------------------#\n",
        "\n",
        "    print('Test\\n')\n",
        "    for idx, (scor_f, scor_name) in enumerate(zip(metrics_all, scorings), start = 1):\n",
        "      y_pred = best_model.predict(X_test_all)\n",
        "      y_pred_proba = best_model.predict_proba(X_test_all)\n",
        "      if(scor_name.find('roc_auc') == 0):\n",
        "        print('We calculate ROC_AUC score!')\n",
        "        score = scor_f(y_test_all, y_pred_proba[:, 1])\n",
        "      else:\n",
        "        score = scor_f(y_test_all, y_pred)\n",
        "      print('score {} on test data: {:.3f}'.format(scor_name, score))\n",
        "      metrics_on_test_data[scor_name] = score\n",
        "\n",
        "    metric_on_test_data_times.append(metrics_on_test_data)\n",
        "\n",
        "  out = {'best_params' : best_params, \n",
        "         'cross_val_scores' : cross_val_scores,\n",
        "         'metric_on_test_data_times': metric_on_test_data_times,\n",
        "         'best_model': best_model}\n",
        "\n",
        "  return out \n",
        "\n",
        "      \n",
        "out_oversampling = Downsampling_block(X_train_all, y_train_all, X_test_all, y_test_all)"
      ],
      "execution_count": null,
      "outputs": [
        {
          "output_type": "stream",
          "text": [
            "\r  0%|          | 0/7 [00:00<?, ?it/s]"
          ],
          "name": "stderr"
        },
        {
          "output_type": "stream",
          "text": [
            "time: 1\n",
            " ------------------------------\n",
            "cross_val on X_under, y_under\n",
            "\n",
            "cross_val_score f1 : 0.923 +- 0.009 \n",
            "------------------------------------------------------------\n",
            "\n",
            "cross_val_score recall : 0.869 +- 0.051 \n",
            "------------------------------------------------------------\n",
            "\n",
            "cross_val_score precision : 0.994 +- 0.011 \n",
            "------------------------------------------------------------\n",
            "\n",
            "cross_val_score roc_auc : 0.973 +- 0.009 \n",
            "------------------------------------------------------------\n",
            "\n",
            "cross_val_score accuracy : 0.931 +- 0.020 \n",
            "------------------------------------------------------------\n",
            "\n",
            "Test\n",
            "\n",
            "score f1 on test data: 0.283\n"
          ],
          "name": "stdout"
        },
        {
          "output_type": "stream",
          "text": [
            "\r 14%|█▍        | 1/7 [00:00<00:05,  1.20it/s]"
          ],
          "name": "stderr"
        },
        {
          "output_type": "stream",
          "text": [
            "score recall on test data: 0.867\n",
            "score precision on test data: 0.169\n",
            "We calculate ROC_AUC score!\n",
            "score roc_auc on test data: 0.980\n",
            "score accuracy on test data: 0.992\n",
            "time: 2\n",
            " ------------------------------\n",
            "cross_val on X_under, y_under\n",
            "\n",
            "cross_val_score f1 : 0.919 +- 0.028 \n",
            "------------------------------------------------------------\n",
            "\n",
            "cross_val_score recall : 0.858 +- 0.059 \n",
            "------------------------------------------------------------\n",
            "\n",
            "cross_val_score precision : 0.988 +- 0.006 \n",
            "------------------------------------------------------------\n",
            "\n",
            "cross_val_score roc_auc : 0.977 +- 0.006 \n",
            "------------------------------------------------------------\n",
            "\n",
            "cross_val_score accuracy : 0.923 +- 0.020 \n",
            "------------------------------------------------------------\n",
            "\n",
            "Test\n",
            "\n",
            "score f1 on test data: 0.204\n",
            "score recall on test data: 0.867\n",
            "score precision on test data: 0.115\n",
            "We calculate ROC_AUC score!\n",
            "score roc_auc on test data: 0.984\n"
          ],
          "name": "stdout"
        },
        {
          "output_type": "stream",
          "text": [
            "\r 29%|██▊       | 2/7 [00:01<00:04,  1.19it/s]"
          ],
          "name": "stderr"
        },
        {
          "output_type": "stream",
          "text": [
            "score accuracy on test data: 0.988\n",
            "time: 3\n",
            " ------------------------------\n",
            "cross_val on X_under, y_under\n",
            "\n",
            "cross_val_score f1 : 0.918 +- 0.032 \n",
            "------------------------------------------------------------\n",
            "\n",
            "cross_val_score recall : 0.860 +- 0.035 \n",
            "------------------------------------------------------------\n",
            "\n",
            "cross_val_score precision : 0.991 +- 0.007 \n",
            "------------------------------------------------------------\n",
            "\n",
            "cross_val_score roc_auc : 0.974 +- 0.010 \n",
            "------------------------------------------------------------\n",
            "\n",
            "cross_val_score accuracy : 0.926 +- 0.015 \n",
            "------------------------------------------------------------\n",
            "\n",
            "Test\n",
            "\n",
            "score f1 on test data: 0.274\n",
            "score recall on test data: 0.888\n"
          ],
          "name": "stdout"
        },
        {
          "output_type": "stream",
          "text": [
            "\r 43%|████▎     | 3/7 [00:02<00:03,  1.20it/s]"
          ],
          "name": "stderr"
        },
        {
          "output_type": "stream",
          "text": [
            "score precision on test data: 0.162\n",
            "We calculate ROC_AUC score!\n",
            "score roc_auc on test data: 0.985\n",
            "score accuracy on test data: 0.992\n",
            "time: 4\n",
            " ------------------------------\n",
            "cross_val on X_under, y_under\n",
            "\n",
            "cross_val_score f1 : 0.917 +- 0.024 \n",
            "------------------------------------------------------------\n",
            "\n",
            "cross_val_score recall : 0.863 +- 0.035 \n",
            "------------------------------------------------------------\n",
            "\n",
            "cross_val_score precision : 0.986 +- 0.001 \n",
            "------------------------------------------------------------\n",
            "\n",
            "cross_val_score roc_auc : 0.977 +- 0.003 \n",
            "------------------------------------------------------------\n",
            "\n",
            "cross_val_score accuracy : 0.926 +- 0.021 \n",
            "------------------------------------------------------------\n",
            "\n",
            "Test\n",
            "\n",
            "score f1 on test data: 0.295\n",
            "score recall on test data: 0.878\n",
            "score precision on test data: 0.177\n",
            "We calculate ROC_AUC score!\n",
            "score roc_auc on test data: 0.984\n"
          ],
          "name": "stdout"
        },
        {
          "output_type": "stream",
          "text": [
            "\r 57%|█████▋    | 4/7 [00:03<00:02,  1.20it/s]"
          ],
          "name": "stderr"
        },
        {
          "output_type": "stream",
          "text": [
            "score accuracy on test data: 0.993\n",
            "time: 5\n",
            " ------------------------------\n",
            "cross_val on X_under, y_under\n",
            "\n",
            "cross_val_score f1 : 0.923 +- 0.018 \n",
            "------------------------------------------------------------\n",
            "\n",
            "cross_val_score recall : 0.860 +- 0.029 \n",
            "------------------------------------------------------------\n",
            "\n",
            "cross_val_score precision : 0.989 +- 0.010 \n",
            "------------------------------------------------------------\n",
            "\n",
            "cross_val_score roc_auc : 0.978 +- 0.016 \n",
            "------------------------------------------------------------\n",
            "\n",
            "cross_val_score accuracy : 0.925 +- 0.034 \n",
            "------------------------------------------------------------\n",
            "\n",
            "Test\n",
            "\n",
            "score f1 on test data: 0.256\n",
            "score recall on test data: 0.888\n"
          ],
          "name": "stdout"
        },
        {
          "output_type": "stream",
          "text": [
            "\r 71%|███████▏  | 5/7 [00:04<00:01,  1.20it/s]"
          ],
          "name": "stderr"
        },
        {
          "output_type": "stream",
          "text": [
            "score precision on test data: 0.149\n",
            "We calculate ROC_AUC score!\n",
            "score roc_auc on test data: 0.982\n",
            "score accuracy on test data: 0.991\n",
            "time: 6\n",
            " ------------------------------\n",
            "cross_val on X_under, y_under\n",
            "\n",
            "cross_val_score f1 : 0.923 +- 0.018 \n",
            "------------------------------------------------------------\n",
            "\n",
            "cross_val_score recall : 0.868 +- 0.022 \n",
            "------------------------------------------------------------\n",
            "\n",
            "cross_val_score precision : 0.992 +- 0.011 \n",
            "------------------------------------------------------------\n",
            "\n",
            "cross_val_score roc_auc : 0.979 +- 0.008 \n",
            "------------------------------------------------------------\n",
            "\n",
            "cross_val_score accuracy : 0.933 +- 0.023 \n",
            "------------------------------------------------------------\n",
            "\n",
            "Test\n",
            "\n",
            "score f1 on test data: 0.182\n",
            "score recall on test data: 0.888\n",
            "score precision on test data: 0.101\n",
            "We calculate ROC_AUC score!\n",
            "score roc_auc on test data: 0.986\n"
          ],
          "name": "stdout"
        },
        {
          "output_type": "stream",
          "text": [
            "\r 86%|████████▌ | 6/7 [00:05<00:00,  1.19it/s]"
          ],
          "name": "stderr"
        },
        {
          "output_type": "stream",
          "text": [
            "score accuracy on test data: 0.986\n",
            "time: 7\n",
            " ------------------------------\n",
            "cross_val on X_under, y_under\n",
            "\n",
            "cross_val_score f1 : 0.922 +- 0.021 \n",
            "------------------------------------------------------------\n",
            "\n",
            "cross_val_score recall : 0.865 +- 0.019 \n",
            "------------------------------------------------------------\n",
            "\n",
            "cross_val_score precision : 0.986 +- 0.013 \n",
            "------------------------------------------------------------\n",
            "\n",
            "cross_val_score roc_auc : 0.977 +- 0.005 \n",
            "------------------------------------------------------------\n",
            "\n",
            "cross_val_score accuracy : 0.924 +- 0.020 \n",
            "------------------------------------------------------------\n",
            "\n",
            "Test\n",
            "\n",
            "score f1 on test data: 0.248\n",
            "score recall on test data: 0.888\n"
          ],
          "name": "stdout"
        },
        {
          "output_type": "stream",
          "text": [
            "100%|██████████| 7/7 [00:05<00:00,  1.20it/s]"
          ],
          "name": "stderr"
        },
        {
          "output_type": "stream",
          "text": [
            "score precision on test data: 0.144\n",
            "We calculate ROC_AUC score!\n",
            "score roc_auc on test data: 0.984\n",
            "score accuracy on test data: 0.991\n"
          ],
          "name": "stdout"
        },
        {
          "output_type": "stream",
          "text": [
            "\n"
          ],
          "name": "stderr"
        }
      ]
    },
    {
      "cell_type": "code",
      "metadata": {
        "id": "toHbgXmX8RCH"
      },
      "source": [
        "def Oversampling_block(X_train_all, y_train_all, X_test_all, y_test_all, \n",
        "                       scaler = 'std', times = 7,\n",
        "                       cv_nums = 4, scoring = 'roc_auc', \n",
        "                       num = 1000, k_neighbors = 10):\n",
        "  \n",
        "  cross_val_scores = [] \n",
        "  test_scores_times = []\n",
        "  best_params = []\n",
        "\n",
        "  if(scaler == 'std'):\n",
        "    scaler = StandardScaler()\n",
        "  else:\n",
        "    scaler = RobustScaler()\n",
        "  print('times ', times)\n",
        "  for idx, time in enumerate(range(times)):\n",
        "    test_scores = {}\n",
        "    print('time: {}\\n {}'.format((idx+1), '-'*30))\n",
        "    #-------Changes for type of samplings -------#\n",
        "    X_under, y_under = return_undersampling_data(X_train_all, y_train_all, nums = num+1)\n",
        "    smote = SMOTE(k_neighbors = k_neighbors)\n",
        "    X_balanced, y_balanced = smote.fit_sample(X_under, y_under)\n",
        "    \n",
        "    pipe = make_pipeline(\n",
        "          scaler,\n",
        "          LogisticRegression(class_weight = 'balanced') # balanced not doing\n",
        "      )\n",
        "    C = np.arange(0.05, 7, 8)\n",
        "    hyperparam_grid = {\n",
        "                      \"logisticregression__penalty\": [\"l1\", \"l2\"],\n",
        "                      \"logisticregression__C\": C, \n",
        "                      \"logisticregression__fit_intercept\": [True, False],\n",
        "                      }\n",
        "      \n",
        "    cv = StratifiedKFold(n_splits = cv_nums, shuffle = True)\n",
        "    grid = GridSearchCV(pipe, hyperparam_grid, cv = cv, n_jobs = -1, scoring = scoring)\n",
        "    grid.fit(X_balanced, y_balanced)\n",
        "    best_model = grid.best_estimator_\n",
        "    best_params.append(grid.best_estimator_.get_params()['logisticregression'])\n",
        "\n",
        "    #----------------- cross_val_score on all undersample for all metrics -----------------#\n",
        "    cross_val = {}\n",
        "    print('cross_val on X_balanced, y_balanced\\n')\n",
        "    for scor in scorings:\n",
        "      n_scores = cross_val_score_my(best_model, X_balanced, y_balanced, \n",
        "                                      cv = 5, scoring = scor, text = scor, return_scores = True)\n",
        "      print('------------------------------------------------------------\\n')\n",
        "      cross_val[scor] = n_scores.mean()\n",
        "      cross_val_scores.append(cross_val)\n",
        "      #--------------------------------see on real test data ---------------------------------#\n",
        "\n",
        "    print('Test\\n')\n",
        "    for idx, (scor_f, scor_name) in enumerate(zip(metrics_all, scorings), start = 1):\n",
        "      y_pred = best_model.predict(X_test_all)\n",
        "      y_pred_proba = best_model.predict_proba(X_test_all)\n",
        "      if(scor_name.find('roc_auc') == 0):\n",
        "        print('We calculate ROC_AUC score!')\n",
        "        score = scor_f(y_test_all, y_pred_proba[:, 1])\n",
        "      else:\n",
        "        score = scor_f(y_test_all, y_pred)\n",
        "      print('score {} on test data: {:.3f}'.format(scor_name, score))\n",
        "      test_scores[scor_name] = score\n",
        "    \n",
        "    test_scores_times.append(test_scores)\n",
        "\n",
        "    out = {'best_params' : best_params, \n",
        "         'cross_val_scores' : cross_val_scores,\n",
        "         'metric_on_test_data_times': test_scores_times,\n",
        "         'best_model': best_model}\n",
        "\n",
        "  return out\n"
      ],
      "execution_count": null,
      "outputs": []
    },
    {
      "cell_type": "code",
      "metadata": {
        "id": "SrYiBltDtNoD"
      },
      "source": [
        ""
      ],
      "execution_count": null,
      "outputs": []
    },
    {
      "cell_type": "code",
      "metadata": {
        "colab": {
          "base_uri": "https://localhost:8080/"
        },
        "id": "ANXQ-nMbkCS-",
        "outputId": "bc71579d-ffc8-468a-f2a1-0a2d44558b84"
      },
      "source": [
        "best_params"
      ],
      "execution_count": null,
      "outputs": [
        {
          "output_type": "execute_result",
          "data": {
            "text/plain": [
              "[LogisticRegression(C=0.05, class_weight=None, dual=False, fit_intercept=True,\n",
              "                    intercept_scaling=1, l1_ratio=None, max_iter=100,\n",
              "                    multi_class='auto', n_jobs=None, penalty='l2',\n",
              "                    random_state=None, solver='lbfgs', tol=0.0001, verbose=0,\n",
              "                    warm_start=False),\n",
              " LogisticRegression(C=0.05, class_weight=None, dual=False, fit_intercept=True,\n",
              "                    intercept_scaling=1, l1_ratio=None, max_iter=100,\n",
              "                    multi_class='auto', n_jobs=None, penalty='l2',\n",
              "                    random_state=None, solver='lbfgs', tol=0.0001, verbose=0,\n",
              "                    warm_start=False),\n",
              " LogisticRegression(C=0.05, class_weight=None, dual=False, fit_intercept=True,\n",
              "                    intercept_scaling=1, l1_ratio=None, max_iter=100,\n",
              "                    multi_class='auto', n_jobs=None, penalty='l2',\n",
              "                    random_state=None, solver='lbfgs', tol=0.0001, verbose=0,\n",
              "                    warm_start=False),\n",
              " LogisticRegression(C=0.05, class_weight=None, dual=False, fit_intercept=True,\n",
              "                    intercept_scaling=1, l1_ratio=None, max_iter=100,\n",
              "                    multi_class='auto', n_jobs=None, penalty='l2',\n",
              "                    random_state=None, solver='lbfgs', tol=0.0001, verbose=0,\n",
              "                    warm_start=False),\n",
              " LogisticRegression(C=0.05, class_weight=None, dual=False, fit_intercept=True,\n",
              "                    intercept_scaling=1, l1_ratio=None, max_iter=100,\n",
              "                    multi_class='auto', n_jobs=None, penalty='l2',\n",
              "                    random_state=None, solver='lbfgs', tol=0.0001, verbose=0,\n",
              "                    warm_start=False),\n",
              " LogisticRegression(C=0.05, class_weight=None, dual=False, fit_intercept=True,\n",
              "                    intercept_scaling=1, l1_ratio=None, max_iter=100,\n",
              "                    multi_class='auto', n_jobs=None, penalty='l2',\n",
              "                    random_state=None, solver='lbfgs', tol=0.0001, verbose=0,\n",
              "                    warm_start=False),\n",
              " LogisticRegression(C=0.05, class_weight=None, dual=False, fit_intercept=True,\n",
              "                    intercept_scaling=1, l1_ratio=None, max_iter=100,\n",
              "                    multi_class='auto', n_jobs=None, penalty='l2',\n",
              "                    random_state=None, solver='lbfgs', tol=0.0001, verbose=0,\n",
              "                    warm_start=False)]"
            ]
          },
          "metadata": {
            "tags": []
          },
          "execution_count": 72
        }
      ]
    },
    {
      "cell_type": "code",
      "metadata": {
        "colab": {
          "base_uri": "https://localhost:8080/"
        },
        "id": "evnIaWyckuV7",
        "outputId": "8536835b-985e-4cf1-f303-945937512291"
      },
      "source": [
        "# Посмотрим средние метрики на всех times\n",
        "print('cross_validation on X_under, y_under\\n')\n",
        "means_from_cross_val = {}\n",
        "for scor_name in scorings:\n",
        "  score_mean_current = []\n",
        "  for time in range(times):\n",
        "    score_mean_current.append(cross_val_scores[time][scor_name])\n",
        "  score_curr = np.array(score_mean_current)\n",
        "  means_from_cross_val[scor_name] = score_curr.mean()\n",
        "  print('On {} times mean {} : {:.3f} +- {:.3f}'.format(times,scor_name, score_curr.mean(), \n",
        "                                              score_curr.std()))\n",
        "\n"
      ],
      "execution_count": null,
      "outputs": [
        {
          "output_type": "stream",
          "text": [
            "cross_validation on X_under, y_under\n",
            "\n",
            "On 7 times mean f1 : 0.920 +- 0.004\n",
            "On 7 times mean recall : 0.862 +- 0.006\n",
            "On 7 times mean precision : 0.990 +- 0.005\n",
            "On 7 times mean roc_auc : 0.976 +- 0.002\n",
            "On 7 times mean accuracy : 0.925 +- 0.003\n"
          ],
          "name": "stdout"
        }
      ]
    },
    {
      "cell_type": "code",
      "metadata": {
        "colab": {
          "base_uri": "https://localhost:8080/"
        },
        "id": "QSyS5FctmUuE",
        "outputId": "510282cf-9cba-485d-b3a7-298c269af925"
      },
      "source": [
        "# посмотрим на предсказание на фиксированном тесте данных\n",
        "print('test_data on X_test_all, y_test_all\\n')\n",
        "means_from_test_data = {}\n",
        "for scor_name in scorings:\n",
        "  score_mean_current = []\n",
        "  for time in range(times):\n",
        "    score_mean_current.append(metric_on_test_data_times[time][scor_name])\n",
        "  score_curr = np.array(score_mean_current)\n",
        "  means_from_test_data[scor_name] = score_curr.mean()\n",
        "  print('On {} times mean {} : {:.3f} +- {:.3f}'.format(times,scor_name, score_curr.mean(), \n",
        "                                              score_curr.std()))"
      ],
      "execution_count": null,
      "outputs": [
        {
          "output_type": "stream",
          "text": [
            "test_data on X_test_all, y_test_all\n",
            "\n",
            "On 7 times mean f1 : 0.255 +- 0.020\n",
            "On 7 times mean recall : 0.879 +- 0.011\n",
            "On 7 times mean precision : 0.149 +- 0.014\n",
            "On 7 times mean roc_auc : 0.986 +- 0.001\n",
            "On 7 times mean accuracy : 0.991 +- 0.001\n"
          ],
          "name": "stdout"
        }
      ]
    },
    {
      "cell_type": "code",
      "metadata": {
        "id": "RQAkxoyLlFpN"
      },
      "source": [
        "# Теперь на другом подходе, когда необходимо создавать новые данные!(SMOTE)\n",
        "from imblearn.over_sampling import SMOTE\n",
        "\n",
        "# k_neighbours is a hyperparameter\n",
        "smote = SMOTE(k_neighbors = 10)\n",
        "X_new_train_all, y_new_train_all = smote.fit_sample(X_train_all, y_train_all)"
      ],
      "execution_count": null,
      "outputs": []
    },
    {
      "cell_type": "code",
      "metadata": {
        "id": "fj0PdUipugpN"
      },
      "source": [
        "assert((y_new_train_all == 1).sum()/y_new_train_all.shape[0] == 0.5)\n",
        "assert((y_new_train_all == 0).sum()/y_new_train_all.shape[0] == 0.5)"
      ],
      "execution_count": null,
      "outputs": []
    },
    {
      "cell_type": "code",
      "metadata": {
        "colab": {
          "base_uri": "https://localhost:8080/"
        },
        "id": "d_fIknXru_9z",
        "outputId": "a9da9964-6ce5-4833-f00b-f4f4a9d44f15"
      },
      "source": [
        "# Вопрос, а можно ли как-то делать сразу две стратегии и убрать некоторые данные и добавить для баланса \n",
        "nums = [500, 1000, 2000, 4000, 10000]\n",
        "num = nums[4]\n",
        "times = 5\n",
        "cross_val_scores = [] \n",
        "test_scores_times = []\n",
        "best_params = []\n",
        "\n",
        "scaler_std = StandardScaler()\n",
        "rob_scaler = RobustScaler()\n",
        "\n",
        "for time in range(times):\n",
        "  test_scores = {}\n",
        "  print('time: {}\\n {}'.format((idx+1), '-'*30))\n",
        "  #-------Changes for type of samplings -------#\n",
        "  X_under, y_under = return_undersampling_data(X_train_all, y_train_all, nums = num)\n",
        "  smote = SMOTE(k_neighbors = 10)\n",
        "  X_balanced, y_balanced = smote.fit_sample(X_under, y_under)\n",
        "  \n",
        "  pipe = make_pipeline(\n",
        "        scaler_std,\n",
        "        LogisticRegression() # balanced not doing\n",
        "    )\n",
        "  C = np.arange(0.05, 7, 8)\n",
        "  hyperparam_grid = {\n",
        "                    \"logisticregression__penalty\": [\"l1\", \"l2\"],\n",
        "                    \"logisticregression__C\": C, \n",
        "                     \"logisticregression__fit_intercept\": [True, False],\n",
        "                    }\n",
        "    \n",
        "  cv = StratifiedKFold(n_splits = 5, shuffle = True)\n",
        "  grid = GridSearchCV(pipe, hyperparam_grid, cv = cv, n_jobs = -1, scoring = 'roc_auc')\n",
        "  grid.fit(X_balanced, y_balanced)\n",
        "  best_model = grid.best_estimator_\n",
        "  best_params.append(grid.best_estimator_.get_params()['logisticregression'])\n",
        "\n",
        "  #----------------- cross_val_score on all undersample for all metrics -----------------#\n",
        "  cross_val = {}\n",
        "  print('cross_val on X_balanced, y_balanced\\n')\n",
        "  for scor in scorings:\n",
        "    n_scores = cross_val_score_my(best_model, X_balanced, y_balanced, \n",
        "                                    cv = 5, scoring = scor, text = scor, return_scores = True)\n",
        "    print('------------------------------------------------------------\\n')\n",
        "    cross_val[scor] = n_scores.mean()\n",
        "    cross_val_scores.append(cross_val)\n",
        "    #--------------------------------see on real test data ---------------------------------#\n",
        "\n",
        "  print('Test\\n')\n",
        "  for idx, (scor_f, scor_name) in enumerate(zip(metrics_all, scorings), start = 1):\n",
        "    y_pred = best_model.predict(X_test_all)\n",
        "    y_pred_proba = best_model.predict_proba(X_test_all)\n",
        "    if(scor_name.find('roc_auc') == 0):\n",
        "      print('We calculate ROC_AUC score!')\n",
        "      score = scor_f(y_test_all, y_pred_proba[:, 1])\n",
        "    else:\n",
        "      score = scor_f(y_test_all, y_pred)\n",
        "    print('score {} on test data: {:.3f}'.format(scor_name, score))\n",
        "    test_scores[scor_name] = score\n",
        "  \n",
        "  test_scores_times.append(test_scores)\n",
        "\n"
      ],
      "execution_count": null,
      "outputs": [
        {
          "output_type": "stream",
          "text": [
            "time: 6\n",
            " ------------------------------\n",
            "cross_val on X_balanced, y_balanced\n",
            "\n",
            "cross_val_score f1 : 0.969 +- 0.001 \n",
            "------------------------------------------------------------\n",
            "\n",
            "cross_val_score recall : 0.949 +- 0.005 \n",
            "------------------------------------------------------------\n",
            "\n",
            "cross_val_score precision : 0.990 +- 0.001 \n",
            "------------------------------------------------------------\n",
            "\n",
            "cross_val_score roc_auc : 0.995 +- 0.000 \n",
            "------------------------------------------------------------\n",
            "\n",
            "cross_val_score accuracy : 0.970 +- 0.002 \n",
            "------------------------------------------------------------\n",
            "\n",
            "Test\n",
            "\n",
            "score f1 on test data: 0.252\n",
            "score recall on test data: 0.898\n",
            "score precision on test data: 0.146\n",
            "We calculate ROC_AUC score!\n",
            "score roc_auc on test data: 0.985\n",
            "score accuracy on test data: 0.991\n",
            "time: 6\n",
            " ------------------------------\n",
            "cross_val on X_balanced, y_balanced\n",
            "\n",
            "cross_val_score f1 : 0.968 +- 0.001 \n",
            "------------------------------------------------------------\n",
            "\n",
            "cross_val_score recall : 0.948 +- 0.007 \n",
            "------------------------------------------------------------\n",
            "\n",
            "cross_val_score precision : 0.990 +- 0.003 \n",
            "------------------------------------------------------------\n",
            "\n",
            "cross_val_score roc_auc : 0.995 +- 0.001 \n",
            "------------------------------------------------------------\n",
            "\n",
            "cross_val_score accuracy : 0.969 +- 0.002 \n",
            "------------------------------------------------------------\n",
            "\n",
            "Test\n",
            "\n",
            "score f1 on test data: 0.249\n",
            "score recall on test data: 0.888\n",
            "score precision on test data: 0.145\n",
            "We calculate ROC_AUC score!\n",
            "score roc_auc on test data: 0.984\n",
            "score accuracy on test data: 0.991\n",
            "time: 6\n",
            " ------------------------------\n",
            "cross_val on X_balanced, y_balanced\n",
            "\n",
            "cross_val_score f1 : 0.969 +- 0.003 \n",
            "------------------------------------------------------------\n",
            "\n",
            "cross_val_score recall : 0.949 +- 0.001 \n",
            "------------------------------------------------------------\n",
            "\n",
            "cross_val_score precision : 0.991 +- 0.003 \n",
            "------------------------------------------------------------\n",
            "\n",
            "cross_val_score roc_auc : 0.995 +- 0.001 \n",
            "------------------------------------------------------------\n",
            "\n",
            "cross_val_score accuracy : 0.970 +- 0.003 \n",
            "------------------------------------------------------------\n",
            "\n",
            "Test\n",
            "\n",
            "score f1 on test data: 0.238\n",
            "score recall on test data: 0.898\n",
            "score precision on test data: 0.137\n",
            "We calculate ROC_AUC score!\n",
            "score roc_auc on test data: 0.986\n",
            "score accuracy on test data: 0.990\n",
            "time: 6\n",
            " ------------------------------\n",
            "cross_val on X_balanced, y_balanced\n",
            "\n",
            "cross_val_score f1 : 0.969 +- 0.002 \n",
            "------------------------------------------------------------\n",
            "\n",
            "cross_val_score recall : 0.949 +- 0.007 \n",
            "------------------------------------------------------------\n",
            "\n",
            "cross_val_score precision : 0.990 +- 0.003 \n",
            "------------------------------------------------------------\n",
            "\n",
            "cross_val_score roc_auc : 0.996 +- 0.000 \n",
            "------------------------------------------------------------\n",
            "\n",
            "cross_val_score accuracy : 0.970 +- 0.004 \n",
            "------------------------------------------------------------\n",
            "\n",
            "Test\n",
            "\n",
            "score f1 on test data: 0.245\n",
            "score recall on test data: 0.898\n",
            "score precision on test data: 0.142\n",
            "We calculate ROC_AUC score!\n",
            "score roc_auc on test data: 0.985\n",
            "score accuracy on test data: 0.991\n",
            "time: 6\n",
            " ------------------------------\n",
            "cross_val on X_balanced, y_balanced\n",
            "\n",
            "cross_val_score f1 : 0.970 +- 0.002 \n",
            "------------------------------------------------------------\n",
            "\n",
            "cross_val_score recall : 0.951 +- 0.005 \n",
            "------------------------------------------------------------\n",
            "\n",
            "cross_val_score precision : 0.990 +- 0.002 \n",
            "------------------------------------------------------------\n",
            "\n",
            "cross_val_score roc_auc : 0.995 +- 0.001 \n",
            "------------------------------------------------------------\n",
            "\n",
            "cross_val_score accuracy : 0.971 +- 0.003 \n",
            "------------------------------------------------------------\n",
            "\n",
            "Test\n",
            "\n",
            "score f1 on test data: 0.238\n",
            "score recall on test data: 0.898\n",
            "score precision on test data: 0.137\n",
            "We calculate ROC_AUC score!\n",
            "score roc_auc on test data: 0.985\n",
            "score accuracy on test data: 0.990\n"
          ],
          "name": "stdout"
        }
      ]
    },
    {
      "cell_type": "code",
      "metadata": {
        "id": "s3Rm5kl2x7-n"
      },
      "source": [
        ""
      ],
      "execution_count": null,
      "outputs": []
    },
    {
      "cell_type": "code",
      "metadata": {
        "colab": {
          "base_uri": "https://localhost:8080/"
        },
        "id": "_XI9eyqc1FIJ",
        "outputId": "0e85aa69-0cd3-4dca-a514-615ed0fa5c4e"
      },
      "source": [
        "# Посмотрим средние метрики на всех times\n",
        "print('cross_validation on X_under, y_under + SMOTE \\n')\n",
        "means_from_cross_val = {}\n",
        "for scor_name in scorings:\n",
        "  score_mean_current = []\n",
        "  for time in range(times):\n",
        "    score_mean_current.append(cross_val_scores[time][scor_name])\n",
        "  score_curr = np.array(score_mean_current)\n",
        "  means_from_cross_val[scor_name] = score_curr.mean()\n",
        "  print('On {} times mean {} : {:.3f} +- {:.3f}'.format(times,scor_name, score_curr.mean(), \n",
        "                                              score_curr.std()))\n",
        "\n"
      ],
      "execution_count": null,
      "outputs": [
        {
          "output_type": "stream",
          "text": [
            "cross_validation on X_under, y_under + SMOTE \n",
            "\n",
            "On 5 times mean f1 : 0.969 +- 0.000\n",
            "On 5 times mean recall : 0.949 +- 0.000\n",
            "On 5 times mean precision : 0.990 +- 0.000\n",
            "On 5 times mean roc_auc : 0.995 +- 0.000\n",
            "On 5 times mean accuracy : 0.970 +- 0.000\n"
          ],
          "name": "stdout"
        }
      ]
    },
    {
      "cell_type": "code",
      "metadata": {
        "colab": {
          "base_uri": "https://localhost:8080/"
        },
        "id": "onwccVjx1FIS",
        "outputId": "75ce07aa-be46-4a38-b313-46aeee230891"
      },
      "source": [
        "# посмотрим на предсказание на фиксированном тесте данных\n",
        "print('test_data on X_test_all, y_test_all\\n for size on each class {}\\n'.format(num))\n",
        "means_from_test_data = {}\n",
        "for scor_name in scorings:\n",
        "  score_mean_current = []\n",
        "  for time in range(times):\n",
        "    score_mean_current.append(test_scores_times[time][scor_name])\n",
        "  score_curr = np.array(score_mean_current)\n",
        "  means_from_test_data[scor_name] = score_curr.mean()\n",
        "  print('On {} times mean {} : {:.3f} +- {:.3f}'.format(times,scor_name, score_curr.mean(), \n",
        "                                              score_curr.std()))"
      ],
      "execution_count": null,
      "outputs": [
        {
          "output_type": "stream",
          "text": [
            "test_data on X_test_all, y_test_all\n",
            " for size on each class 10000\n",
            "\n",
            "On 5 times mean f1 : 0.244 +- 0.006\n",
            "On 5 times mean recall : 0.896 +- 0.004\n",
            "On 5 times mean precision : 0.142 +- 0.004\n",
            "On 5 times mean roc_auc : 0.985 +- 0.001\n",
            "On 5 times mean accuracy : 0.990 +- 0.000\n"
          ],
          "name": "stdout"
        }
      ]
    },
    {
      "cell_type": "code",
      "metadata": {
        "id": "pWB92Gkb1Uzk"
      },
      "source": [
        ""
      ],
      "execution_count": null,
      "outputs": []
    },
    {
      "cell_type": "code",
      "metadata": {
        "id": "pEgCVavE66Mn"
      },
      "source": [
        ""
      ],
      "execution_count": null,
      "outputs": []
    },
    {
      "cell_type": "markdown",
      "metadata": {
        "id": "UdTK9_O_69My"
      },
      "source": [
        "### Тоже самое, только для X_c, y_c - немгого преобразованные данные"
      ]
    },
    {
      "cell_type": "code",
      "metadata": {
        "colab": {
          "base_uri": "https://localhost:8080/"
        },
        "id": "Qyu7MVCo7Ec5",
        "outputId": "2f26a96d-1246-4cd3-b539-3d13a475d0a3"
      },
      "source": [
        "out = Downsampling_block(X_train_all_c, y_train_all_c, X_test_all_c, y_test_all)"
      ],
      "execution_count": null,
      "outputs": [
        {
          "output_type": "stream",
          "text": [
            "\r  0%|          | 0/7 [00:00<?, ?it/s]"
          ],
          "name": "stderr"
        },
        {
          "output_type": "stream",
          "text": [
            "time: 1\n",
            " ------------------------------\n",
            "cross_val on X_under, y_under\n",
            "\n",
            "cross_val_score f1 : 0.920 +- 0.020 \n",
            "------------------------------------------------------------\n",
            "\n",
            "cross_val_score recall : 0.861 +- 0.018 \n",
            "------------------------------------------------------------\n",
            "\n",
            "cross_val_score precision : 0.986 +- 0.013 \n",
            "------------------------------------------------------------\n",
            "\n",
            "cross_val_score roc_auc : 0.979 +- 0.014 \n",
            "------------------------------------------------------------\n",
            "\n",
            "cross_val_score accuracy : 0.925 +- 0.022 \n",
            "------------------------------------------------------------\n",
            "\n",
            "Test\n",
            "\n",
            "score f1 on test data: 0.251\n",
            "score recall on test data: 0.888\n",
            "score precision on test data: 0.146\n",
            "We calculate ROC_AUC score!\n"
          ],
          "name": "stdout"
        },
        {
          "output_type": "stream",
          "text": [
            "\r 14%|█▍        | 1/7 [00:00<00:05,  1.04it/s]"
          ],
          "name": "stderr"
        },
        {
          "output_type": "stream",
          "text": [
            "score roc_auc on test data: 0.986\n",
            "score accuracy on test data: 0.991\n",
            "time: 2\n",
            " ------------------------------\n",
            "cross_val on X_under, y_under\n",
            "\n",
            "cross_val_score f1 : 0.923 +- 0.031 \n",
            "------------------------------------------------------------\n",
            "\n",
            "cross_val_score recall : 0.866 +- 0.044 \n",
            "------------------------------------------------------------\n",
            "\n",
            "cross_val_score precision : 0.994 +- 0.007 \n",
            "------------------------------------------------------------\n",
            "\n",
            "cross_val_score roc_auc : 0.976 +- 0.011 \n",
            "------------------------------------------------------------\n",
            "\n",
            "cross_val_score accuracy : 0.933 +- 0.017 \n",
            "------------------------------------------------------------\n",
            "\n",
            "Test\n",
            "\n",
            "score f1 on test data: 0.235\n",
            "score recall on test data: 0.888\n",
            "score precision on test data: 0.135\n",
            "We calculate ROC_AUC score!\n",
            "score roc_auc on test data: 0.986\n"
          ],
          "name": "stdout"
        },
        {
          "output_type": "stream",
          "text": [
            "\r 29%|██▊       | 2/7 [00:01<00:04,  1.07it/s]"
          ],
          "name": "stderr"
        },
        {
          "output_type": "stream",
          "text": [
            "score accuracy on test data: 0.990\n",
            "time: 3\n",
            " ------------------------------\n",
            "cross_val on X_under, y_under\n",
            "\n",
            "cross_val_score f1 : 0.919 +- 0.028 \n",
            "------------------------------------------------------------\n",
            "\n",
            "cross_val_score recall : 0.855 +- 0.024 \n",
            "------------------------------------------------------------\n",
            "\n",
            "cross_val_score precision : 0.986 +- 0.009 \n",
            "------------------------------------------------------------\n",
            "\n",
            "cross_val_score roc_auc : 0.975 +- 0.016 \n",
            "------------------------------------------------------------\n",
            "\n",
            "cross_val_score accuracy : 0.924 +- 0.021 \n",
            "------------------------------------------------------------\n",
            "\n",
            "Test\n",
            "\n",
            "score f1 on test data: 0.322\n"
          ],
          "name": "stdout"
        },
        {
          "output_type": "stream",
          "text": [
            "\r 43%|████▎     | 3/7 [00:02<00:03,  1.09it/s]"
          ],
          "name": "stderr"
        },
        {
          "output_type": "stream",
          "text": [
            "score recall on test data: 0.888\n",
            "score precision on test data: 0.196\n",
            "We calculate ROC_AUC score!\n",
            "score roc_auc on test data: 0.983\n",
            "score accuracy on test data: 0.994\n",
            "time: 4\n",
            " ------------------------------\n",
            "cross_val on X_under, y_under\n",
            "\n",
            "cross_val_score f1 : 0.919 +- 0.039 \n",
            "------------------------------------------------------------\n",
            "\n",
            "cross_val_score recall : 0.861 +- 0.032 \n",
            "------------------------------------------------------------\n",
            "\n",
            "cross_val_score precision : 0.994 +- 0.007 \n",
            "------------------------------------------------------------\n",
            "\n",
            "cross_val_score roc_auc : 0.975 +- 0.006 \n",
            "------------------------------------------------------------\n",
            "\n",
            "cross_val_score accuracy : 0.929 +- 0.019 \n",
            "------------------------------------------------------------\n",
            "\n",
            "Test\n",
            "\n",
            "score f1 on test data: 0.233\n",
            "score recall on test data: 0.888\n",
            "score precision on test data: 0.134\n",
            "We calculate ROC_AUC score!\n",
            "score roc_auc on test data: 0.984\n"
          ],
          "name": "stdout"
        },
        {
          "output_type": "stream",
          "text": [
            "\r 57%|█████▋    | 4/7 [00:03<00:02,  1.11it/s]"
          ],
          "name": "stderr"
        },
        {
          "output_type": "stream",
          "text": [
            "score accuracy on test data: 0.990\n",
            "time: 5\n",
            " ------------------------------\n",
            "cross_val on X_under, y_under\n",
            "\n",
            "cross_val_score f1 : 0.922 +- 0.047 \n",
            "------------------------------------------------------------\n",
            "\n",
            "cross_val_score recall : 0.866 +- 0.037 \n",
            "------------------------------------------------------------\n",
            "\n",
            "cross_val_score precision : 0.994 +- 0.011 \n",
            "------------------------------------------------------------\n",
            "\n",
            "cross_val_score roc_auc : 0.981 +- 0.010 \n",
            "------------------------------------------------------------\n",
            "\n",
            "cross_val_score accuracy : 0.926 +- 0.025 \n",
            "------------------------------------------------------------\n",
            "\n",
            "Test\n",
            "\n",
            "score f1 on test data: 0.184\n"
          ],
          "name": "stdout"
        },
        {
          "output_type": "stream",
          "text": [
            "\r 71%|███████▏  | 5/7 [00:04<00:01,  1.13it/s]"
          ],
          "name": "stderr"
        },
        {
          "output_type": "stream",
          "text": [
            "score recall on test data: 0.888\n",
            "score precision on test data: 0.102\n",
            "We calculate ROC_AUC score!\n",
            "score roc_auc on test data: 0.985\n",
            "score accuracy on test data: 0.986\n",
            "time: 6\n",
            " ------------------------------\n",
            "cross_val on X_under, y_under\n",
            "\n",
            "cross_val_score f1 : 0.922 +- 0.020 \n",
            "------------------------------------------------------------\n",
            "\n",
            "cross_val_score recall : 0.860 +- 0.014 \n",
            "------------------------------------------------------------\n",
            "\n",
            "cross_val_score precision : 0.994 +- 0.007 \n",
            "------------------------------------------------------------\n",
            "\n",
            "cross_val_score roc_auc : 0.976 +- 0.007 \n",
            "------------------------------------------------------------\n",
            "\n",
            "cross_val_score accuracy : 0.930 +- 0.017 \n",
            "------------------------------------------------------------\n",
            "\n",
            "Test\n",
            "\n",
            "score f1 on test data: 0.241\n",
            "score recall on test data: 0.888\n",
            "score precision on test data: 0.139\n",
            "We calculate ROC_AUC score!\n",
            "score roc_auc on test data: 0.979\n"
          ],
          "name": "stdout"
        },
        {
          "output_type": "stream",
          "text": [
            "\r 86%|████████▌ | 6/7 [00:05<00:00,  1.13it/s]"
          ],
          "name": "stderr"
        },
        {
          "output_type": "stream",
          "text": [
            "score accuracy on test data: 0.990\n",
            "time: 7\n",
            " ------------------------------\n",
            "cross_val on X_under, y_under\n",
            "\n",
            "cross_val_score f1 : 0.915 +- 0.022 \n",
            "------------------------------------------------------------\n",
            "\n",
            "cross_val_score recall : 0.861 +- 0.056 \n",
            "------------------------------------------------------------\n",
            "\n",
            "cross_val_score precision : 0.983 +- 0.014 \n",
            "------------------------------------------------------------\n",
            "\n",
            "cross_val_score roc_auc : 0.978 +- 0.011 \n",
            "------------------------------------------------------------\n",
            "\n",
            "cross_val_score accuracy : 0.923 +- 0.030 \n",
            "------------------------------------------------------------\n",
            "\n",
            "Test\n",
            "\n",
            "score f1 on test data: 0.223\n"
          ],
          "name": "stdout"
        },
        {
          "output_type": "stream",
          "text": [
            "100%|██████████| 7/7 [00:06<00:00,  1.13it/s]"
          ],
          "name": "stderr"
        },
        {
          "output_type": "stream",
          "text": [
            "score recall on test data: 0.888\n",
            "score precision on test data: 0.127\n",
            "We calculate ROC_AUC score!\n",
            "score roc_auc on test data: 0.986\n",
            "score accuracy on test data: 0.989\n"
          ],
          "name": "stdout"
        },
        {
          "output_type": "stream",
          "text": [
            "\n"
          ],
          "name": "stderr"
        }
      ]
    },
    {
      "cell_type": "code",
      "metadata": {
        "colab": {
          "base_uri": "https://localhost:8080/"
        },
        "id": "WAwQ__RW7NCa",
        "outputId": "a8f2866b-6294-4115-89ae-15a1e27a60a4"
      },
      "source": [
        "# Посмотрим средние метрики на всех times\n",
        "\n",
        "cross_cal_scores = out['cross_val_scores']\n",
        "print('cross_validation on X_under, y_under\\n')\n",
        "means_from_cross_val = {}\n",
        "for scor_name in scorings:\n",
        "  score_mean_current = []\n",
        "  for time in range(times):\n",
        "    score_mean_current.append(cross_val_scores[time][scor_name])\n",
        "  score_curr = np.array(score_mean_current)\n",
        "  means_from_cross_val[scor_name] = score_curr.mean()\n",
        "  print('On {} times mean {} : {:.3f} +- {:.3f}'.format(times,scor_name, score_curr.mean(), \n",
        "                                              score_curr.std()))"
      ],
      "execution_count": null,
      "outputs": [
        {
          "output_type": "stream",
          "text": [
            "cross_validation on X_under, y_under\n",
            "\n",
            "On 5 times mean f1 : 0.969 +- 0.000\n",
            "On 5 times mean recall : 0.949 +- 0.000\n",
            "On 5 times mean precision : 0.990 +- 0.000\n",
            "On 5 times mean roc_auc : 0.995 +- 0.000\n",
            "On 5 times mean accuracy : 0.970 +- 0.000\n"
          ],
          "name": "stdout"
        }
      ]
    },
    {
      "cell_type": "code",
      "metadata": {
        "colab": {
          "base_uri": "https://localhost:8080/"
        },
        "id": "n9swO2RV7rxe",
        "outputId": "9596c91f-b7a0-4aa0-a646-567cd14e916d"
      },
      "source": [
        "# посмотрим на предсказание на фиксированном тесте данных\n",
        "test_scores_times = out['metric_on_test_data_times']\n",
        "#print('test_data on X_test_all, y_test_all\\n for size on each class {}\\n'.format(num))\n",
        "means_from_test_data = {}\n",
        "for scor_name in scorings:\n",
        "  score_mean_current = []\n",
        "  for time in range(times):\n",
        "    score_mean_current.append(test_scores_times[time][scor_name])\n",
        "  score_curr = np.array(score_mean_current)\n",
        "  means_from_test_data[scor_name] = score_curr.mean()\n",
        "  print('On {} times mean {} : {:.3f} +- {:.3f}'.format(times,scor_name, score_curr.mean(), \n",
        "                                              score_curr.std()))"
      ],
      "execution_count": null,
      "outputs": [
        {
          "output_type": "stream",
          "text": [
            "On 5 times mean f1 : 0.245 +- 0.045\n",
            "On 5 times mean recall : 0.888 +- 0.000\n",
            "On 5 times mean precision : 0.143 +- 0.030\n",
            "On 5 times mean roc_auc : 0.985 +- 0.001\n",
            "On 5 times mean accuracy : 0.990 +- 0.002\n"
          ],
          "name": "stdout"
        }
      ]
    },
    {
      "cell_type": "code",
      "metadata": {
        "id": "GkIFQPJ672hn"
      },
      "source": [
        ""
      ],
      "execution_count": null,
      "outputs": []
    },
    {
      "cell_type": "code",
      "metadata": {
        "colab": {
          "base_uri": "https://localhost:8080/"
        },
        "id": "n2dajo6v__Ji",
        "outputId": "fe061f31-1b56-441d-bc76-916a8bac61d8"
      },
      "source": [
        "# Oversampling\n",
        "out_balanced = Oversampling_block(X_train_all_c, y_train_all_c,\n",
        "                                  X_test_all_c, y_test_all_c, num = 10000,\n",
        "                                  scoring = 'recall')"
      ],
      "execution_count": null,
      "outputs": [
        {
          "output_type": "stream",
          "text": [
            "times  7\n",
            "time: 1\n",
            " ------------------------------\n",
            "cross_val on X_balanced, y_balanced\n",
            "\n",
            "cross_val_score f1 : 0.972 +- 0.004 \n",
            "------------------------------------------------------------\n",
            "\n",
            "cross_val_score recall : 0.954 +- 0.005 \n",
            "------------------------------------------------------------\n",
            "\n",
            "cross_val_score precision : 0.991 +- 0.002 \n",
            "------------------------------------------------------------\n",
            "\n",
            "cross_val_score roc_auc : 0.997 +- 0.001 \n",
            "------------------------------------------------------------\n",
            "\n",
            "cross_val_score accuracy : 0.972 +- 0.003 \n",
            "------------------------------------------------------------\n",
            "\n",
            "Test\n",
            "\n",
            "score f1 on test data: 0.249\n",
            "score recall on test data: 0.898\n",
            "score precision on test data: 0.144\n",
            "We calculate ROC_AUC score!\n",
            "score roc_auc on test data: 0.987\n",
            "score accuracy on test data: 0.991\n",
            "time: 2\n",
            " ------------------------------\n",
            "cross_val on X_balanced, y_balanced\n",
            "\n",
            "cross_val_score f1 : 0.970 +- 0.002 \n",
            "------------------------------------------------------------\n",
            "\n",
            "cross_val_score recall : 0.950 +- 0.005 \n",
            "------------------------------------------------------------\n",
            "\n",
            "cross_val_score precision : 0.991 +- 0.003 \n",
            "------------------------------------------------------------\n",
            "\n",
            "cross_val_score roc_auc : 0.996 +- 0.000 \n",
            "------------------------------------------------------------\n",
            "\n",
            "cross_val_score accuracy : 0.971 +- 0.003 \n",
            "------------------------------------------------------------\n",
            "\n",
            "Test\n",
            "\n",
            "score f1 on test data: 0.253\n",
            "score recall on test data: 0.898\n",
            "score precision on test data: 0.147\n",
            "We calculate ROC_AUC score!\n",
            "score roc_auc on test data: 0.985\n",
            "score accuracy on test data: 0.991\n",
            "time: 3\n",
            " ------------------------------\n",
            "cross_val on X_balanced, y_balanced\n",
            "\n",
            "cross_val_score f1 : 0.969 +- 0.002 \n",
            "------------------------------------------------------------\n",
            "\n",
            "cross_val_score recall : 0.950 +- 0.004 \n",
            "------------------------------------------------------------\n",
            "\n",
            "cross_val_score precision : 0.990 +- 0.003 \n",
            "------------------------------------------------------------\n",
            "\n",
            "cross_val_score roc_auc : 0.996 +- 0.001 \n",
            "------------------------------------------------------------\n",
            "\n",
            "cross_val_score accuracy : 0.970 +- 0.002 \n",
            "------------------------------------------------------------\n",
            "\n",
            "Test\n",
            "\n",
            "score f1 on test data: 0.250\n",
            "score recall on test data: 0.898\n",
            "score precision on test data: 0.145\n",
            "We calculate ROC_AUC score!\n",
            "score roc_auc on test data: 0.986\n",
            "score accuracy on test data: 0.991\n",
            "time: 4\n",
            " ------------------------------\n",
            "cross_val on X_balanced, y_balanced\n",
            "\n",
            "cross_val_score f1 : 0.969 +- 0.002 \n",
            "------------------------------------------------------------\n",
            "\n",
            "cross_val_score recall : 0.950 +- 0.004 \n",
            "------------------------------------------------------------\n",
            "\n",
            "cross_val_score precision : 0.988 +- 0.003 \n",
            "------------------------------------------------------------\n",
            "\n",
            "cross_val_score roc_auc : 0.996 +- 0.000 \n",
            "------------------------------------------------------------\n",
            "\n",
            "cross_val_score accuracy : 0.969 +- 0.002 \n",
            "------------------------------------------------------------\n",
            "\n",
            "Test\n",
            "\n",
            "score f1 on test data: 0.241\n",
            "score recall on test data: 0.908\n",
            "score precision on test data: 0.139\n",
            "We calculate ROC_AUC score!\n",
            "score roc_auc on test data: 0.989\n",
            "score accuracy on test data: 0.990\n",
            "time: 5\n",
            " ------------------------------\n",
            "cross_val on X_balanced, y_balanced\n",
            "\n",
            "cross_val_score f1 : 0.968 +- 0.002 \n",
            "------------------------------------------------------------\n",
            "\n",
            "cross_val_score recall : 0.948 +- 0.005 \n",
            "------------------------------------------------------------\n",
            "\n",
            "cross_val_score precision : 0.990 +- 0.002 \n",
            "------------------------------------------------------------\n",
            "\n",
            "cross_val_score roc_auc : 0.996 +- 0.001 \n",
            "------------------------------------------------------------\n",
            "\n",
            "cross_val_score accuracy : 0.970 +- 0.003 \n",
            "------------------------------------------------------------\n",
            "\n",
            "Test\n",
            "\n",
            "score f1 on test data: 0.236\n",
            "score recall on test data: 0.898\n",
            "score precision on test data: 0.136\n",
            "We calculate ROC_AUC score!\n",
            "score roc_auc on test data: 0.986\n",
            "score accuracy on test data: 0.990\n",
            "time: 6\n",
            " ------------------------------\n",
            "cross_val on X_balanced, y_balanced\n",
            "\n",
            "cross_val_score f1 : 0.969 +- 0.004 \n",
            "------------------------------------------------------------\n",
            "\n",
            "cross_val_score recall : 0.949 +- 0.005 \n",
            "------------------------------------------------------------\n",
            "\n",
            "cross_val_score precision : 0.991 +- 0.002 \n",
            "------------------------------------------------------------\n",
            "\n",
            "cross_val_score roc_auc : 0.996 +- 0.000 \n",
            "------------------------------------------------------------\n",
            "\n",
            "cross_val_score accuracy : 0.970 +- 0.004 \n",
            "------------------------------------------------------------\n",
            "\n",
            "Test\n",
            "\n",
            "score f1 on test data: 0.256\n",
            "score recall on test data: 0.908\n",
            "score precision on test data: 0.149\n",
            "We calculate ROC_AUC score!\n",
            "score roc_auc on test data: 0.985\n",
            "score accuracy on test data: 0.991\n",
            "time: 7\n",
            " ------------------------------\n",
            "cross_val on X_balanced, y_balanced\n",
            "\n",
            "cross_val_score f1 : 0.969 +- 0.003 \n",
            "------------------------------------------------------------\n",
            "\n",
            "cross_val_score recall : 0.948 +- 0.004 \n",
            "------------------------------------------------------------\n",
            "\n",
            "cross_val_score precision : 0.990 +- 0.002 \n",
            "------------------------------------------------------------\n",
            "\n",
            "cross_val_score roc_auc : 0.996 +- 0.000 \n",
            "------------------------------------------------------------\n",
            "\n",
            "cross_val_score accuracy : 0.970 +- 0.001 \n",
            "------------------------------------------------------------\n",
            "\n",
            "Test\n",
            "\n",
            "score f1 on test data: 0.254\n",
            "score recall on test data: 0.908\n",
            "score precision on test data: 0.148\n",
            "We calculate ROC_AUC score!\n",
            "score roc_auc on test data: 0.986\n",
            "score accuracy on test data: 0.991\n"
          ],
          "name": "stdout"
        }
      ]
    },
    {
      "cell_type": "code",
      "metadata": {
        "id": "sfO4fjhBAF-E"
      },
      "source": [
        ""
      ],
      "execution_count": null,
      "outputs": []
    },
    {
      "cell_type": "code",
      "metadata": {
        "colab": {
          "base_uri": "https://localhost:8080/"
        },
        "id": "cT7aUq3pAKBl",
        "outputId": "b4233e93-89a8-4131-c2d4-e923500f0f8f"
      },
      "source": [
        "# Посмотрим средние метрики на всех times\n",
        "\n",
        "cross_cal_scores = out_balanced['cross_val_scores']\n",
        "print('cross_validation on X_under, y_under\\n')\n",
        "means_from_cross_val = {}\n",
        "for scor_name in scorings:\n",
        "  score_mean_current = []\n",
        "  for time in range(times):\n",
        "    score_mean_current.append(cross_val_scores[time][scor_name])\n",
        "  score_curr = np.array(score_mean_current)\n",
        "  means_from_cross_val[scor_name] = score_curr.mean()\n",
        "  print('On {} times mean {} : {:.3f} +- {:.3f}'.format(times,scor_name, score_curr.mean(), \n",
        "                                              score_curr.std()))"
      ],
      "execution_count": null,
      "outputs": [
        {
          "output_type": "stream",
          "text": [
            "cross_validation on X_under, y_under\n",
            "\n",
            "On 5 times mean f1 : 0.969 +- 0.000\n",
            "On 5 times mean recall : 0.949 +- 0.000\n",
            "On 5 times mean precision : 0.990 +- 0.000\n",
            "On 5 times mean roc_auc : 0.995 +- 0.000\n",
            "On 5 times mean accuracy : 0.970 +- 0.000\n"
          ],
          "name": "stdout"
        }
      ]
    },
    {
      "cell_type": "code",
      "metadata": {
        "colab": {
          "base_uri": "https://localhost:8080/"
        },
        "id": "yul0pkrlAKBt",
        "outputId": "926c15a7-9990-47b6-8725-77aaa02e3691"
      },
      "source": [
        "# посмотрим на предсказание на фиксированном тесте данных\n",
        "test_scores_times = out_balanced['metric_on_test_data_times']\n",
        "#print('test_data on X_test_all, y_test_all\\n for size on each class {}\\n'.format(num))\n",
        "means_from_test_data = {}\n",
        "for scor_name in scorings:\n",
        "  score_mean_current = []\n",
        "  for time in range(times):\n",
        "    score_mean_current.append(test_scores_times[time][scor_name])\n",
        "  score_curr = np.array(score_mean_current)\n",
        "  means_from_test_data[scor_name] = score_curr.mean()\n",
        "  print('On {} times mean {} : {:.3f} +- {:.3f}'.format(times,scor_name, score_curr.mean(), \n",
        "                                              score_curr.std()))"
      ],
      "execution_count": null,
      "outputs": [
        {
          "output_type": "stream",
          "text": [
            "On 5 times mean f1 : 0.246 +- 0.006\n",
            "On 5 times mean recall : 0.900 +- 0.004\n",
            "On 5 times mean precision : 0.142 +- 0.004\n",
            "On 5 times mean roc_auc : 0.987 +- 0.001\n",
            "On 5 times mean accuracy : 0.990 +- 0.000\n"
          ],
          "name": "stdout"
        }
      ]
    },
    {
      "cell_type": "code",
      "metadata": {
        "id": "VMjllh2NAO8b"
      },
      "source": [
        "model = out_balanced['best_model']"
      ],
      "execution_count": null,
      "outputs": []
    },
    {
      "cell_type": "code",
      "metadata": {
        "id": "FRTXbgtUBnVB"
      },
      "source": [
        "\n",
        "def confusion_matrix_my(y_pred, y):\n",
        "  # we have 0-1 labels\n",
        "  # TP FP\n",
        "  # FN TN\n",
        "  TP = ((y == y_pred) & (y == 0)).astype(int).sum()\n",
        "  FP = ((y != y_pred) & (y == 1)).astype(int).sum()\n",
        "  FN = ((y != y_pred) & (y == 0)).astype(int).sum()\n",
        "  TN = ((y == y_pred) & (y == 1)).astype(int).sum()\n",
        "  conf_m = np.array([[TP, FP], [FN, TN]])\n",
        "  return pd.DataFrame(data = conf_m, columns = ['true 0', 'true 1'], index = ['a 0', 'a 1'])"
      ],
      "execution_count": null,
      "outputs": []
    },
    {
      "cell_type": "code",
      "metadata": {
        "id": "T1bfNw-pBuRT"
      },
      "source": [
        "def built_roc_auc(y_test, y_pred_proba):\n",
        "  fpr_s, tpr_s, _  = roc_curve(y_test, y_pred_proba[:, 1])\n",
        "  #plt.plot(fpr/n, tpr/m, c = 'r')\n",
        "  plt.plot(fpr_s, tpr_s, c = 'b', label = 'logistic regression')\n",
        "  plt.plot(np.linspace(0, 1, 100), np.linspace(0, 1, 100), c = 'g', linestyle = '--')\n",
        "  plt.plot(np.linspace(0, 1, 100), [1] * 100, c = 'y', linestyle = '--')\n",
        "  plt.plot([1] * 100,np.linspace(0, 1, 100) , c = 'y', linestyle = '--')\n",
        "  plt.plot(np.linspace(0, 1, 100), [0] * 100 , c = 'y', linestyle = '--')\n",
        "  plt.plot([0] * 100, np.linspace(0, 1,100), c = 'y', linestyle = '--')\n",
        "  plt.legend()\n",
        "  plt.show()\n",
        "  return fpr_s, tpr_s"
      ],
      "execution_count": null,
      "outputs": []
    },
    {
      "cell_type": "code",
      "metadata": {
        "id": "6RVBpy6uB0HX"
      },
      "source": [
        "def built_conf_matr(y_test, y_pred):\n",
        "  matr = confusion_matrix_my(y_pred, y_test)\n",
        "  sns.heatmap(confusion_matrix(y_test, y_pred), square = True,\n",
        "            xticklabels = matr.T.columns, yticklabels = matr.T.index, \n",
        "            annot = True)\n",
        "  plt.show()\n",
        "  return matr"
      ],
      "execution_count": null,
      "outputs": []
    },
    {
      "cell_type": "code",
      "metadata": {
        "colab": {
          "base_uri": "https://localhost:8080/",
          "height": 356
        },
        "id": "wbpSwSiuB21I",
        "outputId": "41f6f67a-2c97-425b-91ed-f1172c9fa77b"
      },
      "source": [
        "y_pred_prob = model.predict_proba(X_test_all_c)\n",
        "y_pred = model.predict(X_test_all_c)\n",
        "\n",
        "built_conf_matr(y_test_all_c, y_pred)"
      ],
      "execution_count": null,
      "outputs": [
        {
          "output_type": "display_data",
          "data": {
            "image/png": "[encoded data removed]",
            "text/plain": [
              "<Figure size 432x288 with 2 Axes>"
            ]
          },
          "metadata": {
            "tags": [],
            "needs_background": "light"
          }
        },
        {
          "output_type": "execute_result",
          "data": {
            "text/html": [
              "<div>\n",
              "<style scoped>\n",
              "    .dataframe tbody tr th:only-of-type {\n",
              "        vertical-align: middle;\n",
              "    }\n",
              "\n",
              "    .dataframe tbody tr th {\n",
              "        vertical-align: top;\n",
              "    }\n",
              "\n",
              "    .dataframe thead th {\n",
              "        text-align: right;\n",
              "    }\n",
              "</style>\n",
              "<table border=\"1\" class=\"dataframe\">\n",
              "  <thead>\n",
              "    <tr style=\"text-align: right;\">\n",
              "      <th></th>\n",
              "      <th>true 0</th>\n",
              "      <th>true 1</th>\n",
              "    </tr>\n",
              "  </thead>\n",
              "  <tbody>\n",
              "    <tr>\n",
              "      <th>a 0</th>\n",
              "      <td>56350</td>\n",
              "      <td>9</td>\n",
              "    </tr>\n",
              "    <tr>\n",
              "      <th>a 1</th>\n",
              "      <td>514</td>\n",
              "      <td>89</td>\n",
              "    </tr>\n",
              "  </tbody>\n",
              "</table>\n",
              "</div>"
            ],
            "text/plain": [
              "     true 0  true 1\n",
              "a 0   56350       9\n",
              "a 1     514      89"
            ]
          },
          "metadata": {
            "tags": []
          },
          "execution_count": 90
        }
      ]
    },
    {
      "cell_type": "code",
      "metadata": {
        "colab": {
          "base_uri": "https://localhost:8080/",
          "height": 282
        },
        "id": "7EJ65puLCDug",
        "outputId": "1e8c5e7f-a6fc-40b4-e7f0-c0218d34c4c4"
      },
      "source": [
        "fpr_, tpr_ = built_roc_auc(y_test_all_c, y_pred_proba);\n",
        "print('roc_auc after normalization:',  auc(fpr_, tpr_))\n"
      ],
      "execution_count": null,
      "outputs": [
        {
          "output_type": "display_data",
          "data": {
            "image/png": "[encoded data removed]",
            "text/plain": [
              "<Figure size 432x288 with 1 Axes>"
            ]
          },
          "metadata": {
            "tags": [],
            "needs_background": "light"
          }
        },
        {
          "output_type": "stream",
          "text": [
            "roc_auc after normalization: 0.984970854197053\n"
          ],
          "name": "stdout"
        }
      ]
    }
  ]
}