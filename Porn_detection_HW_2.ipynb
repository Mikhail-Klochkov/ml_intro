{
 "cells": [
  {
   "cell_type": "code",
   "execution_count": 16,
   "metadata": {},
   "outputs": [],
   "source": [
    "from sklearn.linear_model import LogisticRegression\n",
    "from sklearn.feature_extraction.text import CountVectorizer, TfidfVectorizer\n",
    "from sklearn.model_selection import train_test_split\n",
    "import numpy as np\n",
    "import pandas as pd\n",
    "from sklearn.metrics import f1_score\n",
    "\n",
    "from nltk.tokenize import word_tokenize\n",
    "import nltk\n",
    "import warnings\n",
    "import string\n",
    "warnings.filterwarnings('ignore')\n",
    "from nltk.corpus import stopwords\n",
    "from nltk.stem.porter import PorterStemmer\n",
    "from nltk.stem.snowball import SnowballStemmer \n",
    "from sklearn.model_selection import GridSearchCV\n",
    "\n",
    "import matplotlib.pyplot as plt"
   ]
  },
  {
   "cell_type": "code",
   "execution_count": 45,
   "metadata": {},
   "outputs": [],
   "source": [
    "def prepare_url(df):\n",
    "    \"\"\"\n",
    "    -Принимает на вход pd.DataFrame.\n",
    "    -Возвращает pd.Series содержащее названия сайтов url\n",
    "    \n",
    "    P.S Добавляет информацию в исходный dataset от названия сайтов их ulr,\n",
    "    так как после предобработки данных имеются пустые title и соответсовенно сделать предсказание сложно,\n",
    "    ну и вообще стоит использовать все данные. \n",
    "    \"\"\"\n",
    "    series_url = df['url'].str.split('.').str[:-1]\n",
    "    new_dict = {}\n",
    "    for ind, value in series_url.to_dict().items():\n",
    "        if len(value) > 1:\n",
    "            if('www' in value[0]):\n",
    "                new_dict.update({ind: value[1: ]})\n",
    "            else:\n",
    "                new_dict.update({ind: value})\n",
    "            \n",
    "        else:\n",
    "            new_dict.update({ind: value})\n",
    "    series_url = pd.Series(new_dict)\n",
    "    series_url = series_url.apply(lambda r: r if len(r) > 0 else [])\n",
    "    return series_url\n",
    "\n",
    "def prepare_text_data_new(filename, text_column, list_prepare_func, series_add):\n",
    "    \"\"\"\n",
    "    Принимает на вход название файла с данными (filename) train.csv/test.csv, название колонки(text_column), которую нужно предобработать (title)\n",
    "    list функций(list_prepare_func), которые убирают всё лишнее из title и организуют список валидный слов, содержащиеся в названии сайта,\n",
    "    series_add - добавляет в наш title слова из url каждого сайта.\n",
    "    P.S series_add получается с помощью prepare_url.\n",
    "    \"\"\"\n",
    "    df = pd.read_csv(filename)\n",
    "    df['title_url'] = series_add\n",
    "    df['title'] = df.apply(lambda r: r['title'] +  \" \" + \" \".join(r['title_url']), axis = 1)\n",
    "    assert(df[text_column].dtypes == np.object)\n",
    "    for func in list_prepare_func:\n",
    "        df[text_column] = df[text_column].apply(func)\n",
    "    \n",
    "    return df\n",
    "\n",
    "def best_treshold(y_pred_prob, y_true):\n",
    "    \"\"\"\n",
    "    По y_pred_prob - вероятности предсказаний модели, y_true - ответы модели.\n",
    "    Ищет наилучший порог с точки зрения f1 - меры для получения ответов модели, по которой построен y_pred_prob.\n",
    "    \n",
    "    Возвращает лучший f1_score и лучший порог для валидационной выборки.\n",
    "    \"\"\"\n",
    "    thresholds = np.linspace(0., 1., 100)\n",
    "    the_best_thres = thresholds[0]\n",
    "    max_score = f1_score(y_true, (y_pred_prob[:, 1] > thresholds[0]).astype(np.int8))\n",
    "    for thres in thresholds[1:]:\n",
    "        ans = (y_pred_prob[:, 1] > thres).astype(np.int8)\n",
    "        if(f1_score(y_true, ans) > max_score):\n",
    "            the_best_thres = thres\n",
    "            max_score = f1_score(y_true, ans)\n",
    "    return max_score, the_best_thres\n",
    "\n",
    "def cv_emb(data):\n",
    "    count_vectorizer = CountVectorizer()\n",
    "    emb = count_vectorizer.fit_transform(data)\n",
    "    return emb, count_vectorizer\n",
    "\n",
    "def plot_score(optimizer):\n",
    "    \"\"\"\n",
    "    по переданному оптимизатору optimizer\n",
    "    Строит кривую f1_score в зависимости от списка параметров C - как гиперпараметр модели LogisticRegression\n",
    "    \"\"\"\n",
    "    split_score = []\n",
    "    for key, item in zip(optimizer.cv_results_.keys(), optimizer.cv_results_.values()):\n",
    "        if \"split\" in key:\n",
    "            split_score.append(item)\n",
    "    split_score = np.array(split_score, dtype = np.float32)\n",
    "    mean, std = split_score.mean(axis = 0), split_score.std(axis = 0)\n",
    "    C_array = optimizer.get_params()['param_grid'][\"C\"]\n",
    "    plt.semilogx(C_array, mean)\n",
    "    plt.fill_between(C_array, mean - std, mean + std, alpha = 0.3)\n",
    "    plt.plot(optimizer.best_params_['C'] * np.ones((100, )), np.linspace(mean.min() - std.max(), mean.max() + std.max(), 100), color = 'black')\n",
    "    plt.show();"
   ]
  },
  {
   "cell_type": "code",
   "execution_count": 46,
   "metadata": {},
   "outputs": [],
   "source": [
    "import string\n",
    "table = str.maketrans('', '', string.punctuation)\n",
    "stop_words = set(stopwords.words('russian')) \n",
    "\n",
    "clean_punctuation = lambda raw: [w.translate(table) for w in raw] # убирает пунктуацию\n",
    "clean_not_alpha = lambda raw: [word for word in raw if word.isalpha()] # только alphabetic слова\n",
    "clean_one_symb = lambda raw: [word for word in raw if word.__len__() != 1] # убрать односимвольные конструкции \n",
    "clean_stop_words = lambda raw: [w for w in raw if w not in stop_words] # Убрать стоп слова (правда я тут убрал только русские)\n",
    "lower_case = lambda raw: [w.lower() for w in raw] # привести к нижнему регистру\n",
    "\n",
    "steammed_words = lambda raw: [SnowballStemmer('russian').stem(w) for w in raw] # на всякий слусай произвести стимминг слов  \n",
    "\n",
    "list_func = [word_tokenize, lower_case, clean_punctuation, clean_not_alpha, clean_stop_words, clean_one_symb]\n",
    "\n",
    "\n",
    "train_df = pd.read_csv('train.csv')\n",
    "train_df_prepare = prepare_text_data_new('train.csv', 'title', list_func, prepare_url(train_df))"
   ]
  },
  {
   "cell_type": "code",
   "execution_count": 47,
   "metadata": {},
   "outputs": [
    {
     "data": {
      "text/plain": [
       "array([list(['эксминистр', 'экономики', 'молдовы', 'главе', 'мидэи', 'цель', 'которого', 'сделать', 'республики', 'просителя', 'донора', 'избегать', 'долгого', 'нахождения', 'kp']),\n",
       "       list(['эта', 'песня', 'стала', 'известна', 'многим', 'телезрителям', 'благодаря', 'сериалу', 'kp']),\n",
       "       list(['банши', 'сезон', 'серия', 'бремя', 'красоты', 'смотреть', 'онлайн', 'fanserials']),\n",
       "       list(['беси', 'картинки', 'colorbox', 'spb']),\n",
       "       list(['новомосковске', 'сыграют', 'следжхоккеисты', 'алексинской', 'звезды', 'сборной', 'китая', 'tulasport']),\n",
       "       list(['салат', 'корейская', 'морковь', 'копченая', 'курица', 'кукуруза', 'сухарики', 'калорийность', 'белки', 'жиры', 'углеводы', 'beregifiguru']),\n",
       "       list(['угловой', 'пневмогайковерт', 'fubag', 'rwc', 'екатеринбурге', 'купить', 'цены', 'отзывы', 'характеристики', 'фото', 'инструкция', 'ekb', 'vseinstrumenti']),\n",
       "       list(['табачный', 'магазин', 'мир', 'табака', 'курительные', 'трубки', 'stanwell', 'курительная', 'труб', 'mirtabaka']),\n",
       "       list(['league', 'of', 'legends', 'page', 'porn', 'comics', 'free', 'online', 'xlecx']),\n",
       "       list(['одесса', 'ростовнадону', 'сентября', 'фаворит', 'чп', 'bus', 'biletyplus'])],\n",
       "      dtype=object)"
      ]
     },
     "execution_count": 47,
     "metadata": {},
     "output_type": "execute_result"
    }
   ],
   "source": [
    "train_df_prepare.title.values[:10] # Примеры как выглядят списки слов из наших title"
   ]
  },
  {
   "cell_type": "code",
   "execution_count": 48,
   "metadata": {},
   "outputs": [
    {
     "data": {
      "text/plain": [
       "0                  [m, kp]\n",
       "1                     [kp]\n",
       "2             [fanserials]\n",
       "3          [colorbox, spb]\n",
       "4             [tula-sport]\n",
       "5           [beregifiguru]\n",
       "6    [ekb, vseinstrumenti]\n",
       "7              [mirtabaka]\n",
       "8                  [xlecx]\n",
       "9        [bus, biletyplus]\n",
       "dtype: object"
      ]
     },
     "execution_count": 48,
     "metadata": {},
     "output_type": "execute_result"
    }
   ],
   "source": [
    "prepare_url(train_df)[:10] # Списки слов полученных из url объектов "
   ]
  },
  {
   "cell_type": "code",
   "execution_count": 49,
   "metadata": {},
   "outputs": [],
   "source": [
    "train_df_prepare['title_new'] = train_df_prepare.title.apply(lambda raw: \" \".join(raw))\n",
    "\n",
    "list_title = train_df_prepare.title_new.tolist()\n",
    "list_labels = train_df_prepare.target.tolist()\n",
    "\n",
    "# стратифицированное разделение на train и val\n",
    "X_train, X_val, y_train, y_val = train_test_split(list_title, list_labels, test_size=0.2,\n",
    "                                                   random_state = 40, stratify = list_labels)\n",
    "\n",
    "# Будем делать частотную векторизацию наших слов (чаще всего лучше, чем CountVectorized)\n",
    "def tf_idf_vectorized(data):\n",
    "    tf_vectorized = TfidfVectorizer()\n",
    "    emb = tf_vectorized.fit_transform(data)\n",
    "    return emb, tf_vectorized\n",
    "\n",
    "X_train_tfvectorized, tf_vectorized = tf_idf_vectorized(X_train)\n",
    "X_val_vectorized = tf_vectorized.transform(X_val)"
   ]
  },
  {
   "cell_type": "code",
   "execution_count": 50,
   "metadata": {},
   "outputs": [
    {
     "data": {
      "text/plain": [
       "GridSearchCV(cv=3, error_score='raise-deprecating',\n",
       "             estimator=LogisticRegression(C=1.0, class_weight='balanced',\n",
       "                                          dual=False, fit_intercept=True,\n",
       "                                          intercept_scaling=1, l1_ratio=None,\n",
       "                                          max_iter=100, multi_class='warn',\n",
       "                                          n_jobs=None, penalty='l2',\n",
       "                                          random_state=None, solver='warn',\n",
       "                                          tol=0.0001, verbose=0,\n",
       "                                          warm_start=False),\n",
       "             iid='warn', n_jobs=-1,\n",
       "             param_grid={'C': [10, 30, 50, 100, 200, 300, 400, 500]},\n",
       "             pre_dispatch='2*n_jobs', refit=True, return_train_score=False,\n",
       "             scoring=None, verbose=0)"
      ]
     },
     "execution_count": 50,
     "metadata": {},
     "output_type": "execute_result"
    }
   ],
   "source": [
    "# непосредственно обучение модели по сетке с учётом весовой балансировки классов \n",
    "param_grid = {'C': [10, 30, 50, 100, 200, 300, 400, 500]}\n",
    "grid_new = GridSearchCV(LogisticRegression(class_weight = 'balanced'), param_grid = param_grid,\n",
    "                                           cv = 3, n_jobs=-1)\n",
    "grid_new.fit(X_train_tfvectorized, y_train)"
   ]
  },
  {
   "cell_type": "code",
   "execution_count": 51,
   "metadata": {},
   "outputs": [
    {
     "data": {
      "image/png": "[encoded data removed]",
      "text/plain": [
       "<Figure size 432x288 with 1 Axes>"
      ]
     },
     "metadata": {
      "needs_background": "light"
     },
     "output_type": "display_data"
    }
   ],
   "source": [
    "plot_score(grid_new)"
   ]
  },
  {
   "cell_type": "code",
   "execution_count": 52,
   "metadata": {},
   "outputs": [
    {
     "name": "stdout",
     "output_type": "stream",
     "text": [
      "f_1 score без рассчёта лучшего порогового значения :  0.9735228122662678\n"
     ]
    }
   ],
   "source": [
    "y_pred_tf = grid_new.predict(X_val_vectorized)\n",
    "y_pred_prob_tf = grid_new.predict_proba(X_val_vectorized)\n",
    "print('f_1 score без рассчёта лучшего порогового значения : ',  f1_score(y_val, y_pred_tf))"
   ]
  },
  {
   "cell_type": "code",
   "execution_count": 53,
   "metadata": {},
   "outputs": [
    {
     "name": "stdout",
     "output_type": "stream",
     "text": [
      "f_1 score c рассчётом лучшего порогового значения :  0.9741353383458646\n"
     ]
    }
   ],
   "source": [
    "best_f1, the_best_thres = best_treshold(y_pred_prob_tf, y_val)\n",
    "y_best_thres = (y_pred_prob_tf[:, 1] > the_best_thres).astype(bool)\n",
    "print('f_1 score c рассчётом лучшего порогового значения : ', f1_score(y_val, y_best_thres))"
   ]
  },
  {
   "cell_type": "code",
   "execution_count": 54,
   "metadata": {},
   "outputs": [],
   "source": [
    "test_df = pd.read_csv('test.csv') # тоже самое для теста\n",
    "test_new = prepare_text_data_new('test.csv', 'title', list_func, prepare_url(test_df))"
   ]
  },
  {
   "cell_type": "code",
   "execution_count": 55,
   "metadata": {},
   "outputs": [],
   "source": [
    "test_new['title_new'] = test_new.title.apply(lambda raw: \" \".join(raw))\n",
    "list_title_test = test_new.title_new.tolist()\n",
    "X_test = list_title_test\n",
    "X_test_tfvect = tf_vectorized.transform(X_test)\n",
    "y_test_proba = grid_new.predict_proba(X_test_tfvect)\n",
    "\n",
    "y_test_best = (y_test_proba[:, 1] > the_best_thres).astype(bool)"
   ]
  },
  {
   "cell_type": "code",
   "execution_count": 56,
   "metadata": {},
   "outputs": [
    {
     "name": "stdout",
     "output_type": "stream",
     "text": [
      "id,target\r\n",
      "135309,False\r\n",
      "135310,False\r\n",
      "135311,False\r\n",
      "135312,True\r\n",
      "135313,False\r\n",
      "135314,False\r\n",
      "135315,False\r\n",
      "135316,False\r\n",
      "135317,False\r\n",
      "cat: write error: Broken pipe\r\n"
     ]
    },
    {
     "data": {
      "text/plain": [
       "(165378, 4)"
      ]
     },
     "execution_count": 56,
     "metadata": {},
     "output_type": "execute_result"
    }
   ],
   "source": [
    "test_df = pd.read_csv('test.csv')\n",
    "test_df[\"target\"] = y_test_best\n",
    "test_df[[\"id\", \"target\"]].to_csv(\"my_solve_final_1.csv\", index = False)\n",
    "\n",
    "!cat my_solve_final_1.csv | head\n",
    "test_df.shape"
   ]
  },
  {
   "cell_type": "code",
   "execution_count": null,
   "metadata": {},
   "outputs": [],
   "source": []
  }
 ],
 "metadata": {
  "kernelspec": {
   "display_name": "Python 3",
   "language": "python",
   "name": "python3"
  },
  "language_info": {
   "codemirror_mode": {
    "name": "ipython",
    "version": 3
   },
   "file_extension": ".py",
   "mimetype": "text/x-python",
   "name": "python",
   "nbconvert_exporter": "python",
   "pygments_lexer": "ipython3",
   "version": "3.7.3"
  }
 },
 "nbformat": 4,
 "nbformat_minor": 2
}
